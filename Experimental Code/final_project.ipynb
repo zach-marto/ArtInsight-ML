{
 "cells": [
  {
   "cell_type": "markdown",
   "metadata": {},
   "source": [
    "### Imports ###"
   ]
  },
  {
   "cell_type": "code",
   "execution_count": 1,
   "metadata": {},
   "outputs": [],
   "source": [
    "from datasets import load_dataset #need to pip install datsets\n",
    "\n",
    "import torch\n",
    "from torch.utils.data import Dataset, DataLoader"
   ]
  },
  {
   "cell_type": "markdown",
   "metadata": {},
   "source": [
    "### Dataset and Dataloader ###"
   ]
  },
  {
   "cell_type": "code",
   "execution_count": 3,
   "metadata": {},
   "outputs": [
    {
     "name": "stderr",
     "output_type": "stream",
     "text": [
      "Downloading data: 100%|██████████| 257M/257M [00:08<00:00, 29.9MB/s] \n",
      "Downloading data: 100%|██████████| 257M/257M [00:08<00:00, 30.3MB/s] \n",
      "Downloading data: 100%|██████████| 259M/259M [00:07<00:00, 34.9MB/s] \n",
      "Downloading data: 100%|██████████| 34.7M/34.7M [00:01<00:00, 23.1MB/s]\n",
      "Downloading data: 100%|██████████| 30.0M/30.0M [00:01<00:00, 27.2MB/s]\n",
      "Generating train split: 100%|██████████| 287113/287113 [00:09<00:00, 31263.89 examples/s]\n",
      "Generating validation split: 100%|██████████| 13368/13368 [00:02<00:00, 5895.63 examples/s]\n",
      "Generating test split: 100%|██████████| 11490/11490 [00:00<00:00, 66589.41 examples/s]\n"
     ]
    }
   ],
   "source": [
    "dataset = load_dataset(\"cnn_dailymail\", '3.0.0')"
   ]
  },
  {
   "cell_type": "code",
   "execution_count": 6,
   "metadata": {},
   "outputs": [],
   "source": [
    "# Define a custom PyTorch Dataset class\n",
    "class MyDataset(Dataset):\n",
    "    def __init__(self, dataset):\n",
    "        self.dataset = dataset\n",
    "\n",
    "    def __len__(self):\n",
    "        return len(self.dataset)\n",
    "\n",
    "    def __getitem__(self, idx):\n",
    "        # Extract the article and summary from the dataset\n",
    "        article = self.dataset['train']['article'][idx]\n",
    "        summary = self.dataset['train']['highlights'][idx]\n",
    "        return article, summary\n",
    "\n",
    "# Instantiate your custom dataset\n",
    "custom_dataset = MyDataset(dataset)\n",
    "\n",
    "# Create a PyTorch DataLoader\n",
    "batch_size = 32\n",
    "dataloader = DataLoader(custom_dataset, batch_size=batch_size, shuffle=True)\n",
    "\n",
    "print(len(dataloader))"
   ]
  }
 ],
 "metadata": {
  "kernelspec": {
   "display_name": "Python 3",
   "language": "python",
   "name": "python3"
  },
  "language_info": {
   "codemirror_mode": {
    "name": "ipython",
    "version": 3
   },
   "file_extension": ".py",
   "mimetype": "text/x-python",
   "name": "python",
   "nbconvert_exporter": "python",
   "pygments_lexer": "ipython3",
   "version": "3.9.13"
  }
 },
 "nbformat": 4,
 "nbformat_minor": 2
}

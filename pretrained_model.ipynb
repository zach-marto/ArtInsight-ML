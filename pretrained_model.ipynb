{
 "cells": [
  {
   "cell_type": "code",
   "execution_count": 30,
   "metadata": {},
   "outputs": [],
   "source": [
    "import openai"
   ]
  },
  {
   "cell_type": "code",
   "execution_count": 31,
   "metadata": {},
   "outputs": [],
   "source": [
    "from openai import OpenAI"
   ]
  },
  {
   "cell_type": "code",
   "execution_count": 32,
   "metadata": {},
   "outputs": [],
   "source": [
    "client = OpenAI(api_key=\"sk-OPEN_AI_API_KEY\")"
   ]
  },
  {
   "cell_type": "markdown",
   "metadata": {},
   "source": [
    "# Image-to-text pre-trained model"
   ]
  },
  {
   "cell_type": "code",
   "execution_count": 62,
   "metadata": {},
   "outputs": [
    {
     "name": "stdout",
     "output_type": "stream",
     "text": [
      "descriptions: {\n",
      "    \"https://upload.wikimedia.org/wikipedia/commons/thumb/d/dd/Gfp-wisconsin-madison-the-nature-boardwalk.jpg/2560px-Gfp-wisconsin-madison-the-nature-boardwalk.jpg\": \"This image features a scenic wooden boardwalk extending through a lush green meadow under a vibrant blue sky with sparse clouds. The meadow is dotted with tall grasses and shrubs, and in the distance, there is a line of trees marking the horizon. The setting appears calm and serene, ideal for a leisurely walk or a peaceful escape into nature. The lighting suggests it might be late afternoon, providing a warm glow that enhances the natural beauty of the landscape.\",\n",
      "    \"https://cdn.pixabay.com/photo/2017/08/25/18/48/watercolor-2681039_1280.jpg\": \"This image features vibrant and colorful abstract art, created by blending various liquid colors that appear to be alcohol ink. The hues range dramatically from deep reds and pinks to brighter shades of turquoise and yellow, merging into each other with a fluid, organic quality. The formations of colors create patterns that resemble cells or natural geographic features found in aerial photographs. The splotchy areas and the way the colors gradient into each other contribute to a dynamic and visually intriguing composition. This type of art is often used for decorative purposes because of its mesmerizing and often unique patterns.\",\n",
      "    \"https://cdn.pixabay.com/photo/2017/03/12/13/41/colorful-2137080_1280.jpg\": \"The image shows a series of colored pencils submerged in water, which creates a sparkling effect due to the air bubbles clinging to the pencils. The bubbles outline the pencils and accentuate their vibrant colors including blue, green, red, yellow, purple, and orange. The photo's background appears to be black, which enhances the visibility and contrast of these colorful submerged pencils and bubbles.\",\n",
      "    \"https://cdn.pixabay.com/photo/2018/03/30/15/11/deer-3275594_1280.jpg\": \"The image features a stylized, geometric representation of a deer's head. It is composed of numerous polygonal shapes that generate a 3D effect, using a gradient of colors ranging from purple to orange, which adds a vibrant and modern aesthetic to the depiction. This type of artwork is typical of low-poly art, a technique that uses polygon meshes to create sculptures or renderings that have a faceted appearance.\"\n",
      "}\n"
     ]
    }
   ],
   "source": [
    "'''\n",
    "This code uses the OpenAI client object to make a chat completion request using the GPT-4 Turbo model.\n",
    "It sends a user message asking \"What’s in this image?\" along with an image URL. The response from the\n",
    "model is stored in the response variable. The code then prints the assistant's response, which can be \n",
    "accessed using response.choices[0].\n",
    "''' \n",
    "image_urls = [\n",
    "    \"https://upload.wikimedia.org/wikipedia/commons/thumb/d/dd/Gfp-wisconsin-madison-the-nature-boardwalk.jpg/2560px-Gfp-wisconsin-madison-the-nature-boardwalk.jpg\",\n",
    "    \"https://cdn.pixabay.com/photo/2017/08/25/18/48/watercolor-2681039_1280.jpg\",\n",
    "    \"https://cdn.pixabay.com/photo/2017/03/12/13/41/colorful-2137080_1280.jpg\",\n",
    "    \"https://cdn.pixabay.com/photo/2018/03/30/15/11/deer-3275594_1280.jpg\"\n",
    "    # Add more image URLs as needed\n",
    "]\n",
    "\n",
    "descriptions = {}\n",
    "\n",
    "for url in image_urls:\n",
    "  response = client.chat.completions.create(\n",
    "    model=\"gpt-4-turbo\",\n",
    "    messages=[\n",
    "      {\n",
    "        \"role\": \"user\",\n",
    "        \"content\": [\n",
    "          {\"type\": \"text\", \"text\": \"What’s in this image?\"},\n",
    "          {\n",
    "            \"type\": \"image_url\",\n",
    "            \"image_url\": {\n",
    "              \"url\": url,\n",
    "            },\n",
    "          },\n",
    "        ],\n",
    "      }\n",
    "    ],\n",
    "    max_tokens=300,\n",
    "  )\n",
    "\n",
    "  # print(response.choices[0])\n",
    "  description = response.choices[0].message.content\n",
    "  descriptions[url] = description\n",
    "\n",
    "print('descriptions:', json.dumps(descriptions, indent=4))"
   ]
  },
  {
   "cell_type": "markdown",
   "metadata": {},
   "source": [
    "# Creating a predefined set of attributes to extract from images"
   ]
  },
  {
   "cell_type": "code",
   "execution_count": 60,
   "metadata": {},
   "outputs": [
    {
     "name": "stdout",
     "output_type": "stream",
     "text": [
      "Image - Attributes Dictionary:\n",
      " {\n",
      "    \"https://upload.wikimedia.org/wikipedia/commons/thumb/d/dd/Gfp-wisconsin-madison-the-nature-boardwalk.jpg/2560px-Gfp-wisconsin-madison-the-nature-boardwalk.jpg\": {\n",
      "        \"Color Palette\": \"vibrant green, vivid blue\",\n",
      "        \"Subject Matter\": \"natural landscape\",\n",
      "        \"Mood/Emotion\": \"peace, tranquility\",\n",
      "        \"Style/Aesthetic\": \"picturesque\",\n",
      "        \"Setting/Location\": \"nature reserve\",\n",
      "        \"Time Period\": \"contemporary\",\n",
      "        \"Cultural/Symbolic Representation\": \"environmental appreciation\"\n",
      "    },\n",
      "    \"https://cdn.pixabay.com/photo/2017/08/25/18/48/watercolor-2681039_1280.jpg\": {\n",
      "        \"Color Palette\": \"vibrant, colorful\",\n",
      "        \"Subject Matter\": \"abstract art\",\n",
      "        \"Mood/Emotion\": \"dynamic, fluid\",\n",
      "        \"Style/Aesthetic\": \"alcohol ink\",\n",
      "        \"Setting/Location\": \"imaginary\",\n",
      "        \"Time Period\": \"contemporary\",\n",
      "        \"Cultural/Symbolic Representation\": \"organic\"\n",
      "    },\n",
      "    \"https://cdn.pixabay.com/photo/2017/03/12/13/41/colorful-2137080_1280.jpg\": {\n",
      "        \"Color Palette\": \"vibrant, colorful\",\n",
      "        \"Subject Matter\": \"colored pencils\",\n",
      "        \"Mood/Emotion\": \"vivid, artistic\",\n",
      "        \"Style/Aesthetic\": \"artistic, contrasting\",\n",
      "        \"Setting/Location\": \"underwater\",\n",
      "        \"Time Period\": \"contemporary\",\n",
      "        \"Cultural/Symbolic Representation\": \"creativity, playfulness\"\n",
      "    },\n",
      "    \"https://cdn.pixabay.com/photo/2018/03/30/15/11/deer-3275594_1280.jpg\": {\n",
      "        \"Color Palette\": \"vibrant, multicolor\",\n",
      "        \"Subject Matter\": \"deer head\",\n",
      "        \"Mood/Emotion\": \"abstract, modern\",\n",
      "        \"Style/Aesthetic\": \"low poly, geometric\",\n",
      "        \"Setting/Location\": \"stylized\",\n",
      "        \"Time Period\": \"contemporary\",\n",
      "        \"Cultural/Symbolic Representation\": \"artistic expression\"\n",
      "    }\n",
      "}\n"
     ]
    }
   ],
   "source": [
    "import json\n",
    "\n",
    "'''\n",
    "This code uses the OpenAI client object to make a chat completion request using the GPT-4 Turbo model.\n",
    "It prompts the GPT to extract 7 pre-defined attributes from the description of the image input into \n",
    "the image-to-text response above. Then it converts the formatted string object into an object of attributes\n",
    "that we can utilize further using json.\n",
    "''' \n",
    "\n",
    "attributes = {}\n",
    "\n",
    "for url, description in descriptions.items():\n",
    "  response = client.chat.completions.create(\n",
    "    model=\"gpt-4-turbo\",\n",
    "    messages=[\n",
    "      {\n",
    "        \"role\": \"user\",\n",
    "        \"content\": [\n",
    "          {\"type\": \"text\", \n",
    "          # prompt to extract 7 key pre-defined attributes: color palette, subject matter, mood/emotion, style/aesthetic, setting/location, time period, cultural/symbolic representation\n",
    "          \"text\": \"You are a machine learning model trained to extract specific attributes from a detailed description of an image. Your task is to identify the following seven attributes from the given text and represent them as key-value pairs in a Python dictionary: 1. Color Palette: Identify the dominant colors or color schemes present in the image. 2. Subject Matter: Identify the main subject, object, or theme depicted in the image. 3. Mood/Emotion: Identify the overall mood, emotion, or feeling conveyed by the image. 4. Style/Aesthetic: Identify the artistic style, aesthetic, or visual characteristics of the image. 5. Setting/Location: Identify the physical setting, location, or environment depicted in the image. 6. Time Period: Identify the time period, era, or historical context represented in the image. 7. Cultural/Symbolic Representation: Identify any cultural, symbolic, or metaphorical representations present in the image. Please provide your output in the following format: {'Color Palette': 'one or two word adjectives', 'Subject Matter': 'one or two word adjectives', 'Mood/Emotion': 'one or two word adjectives', 'Style/Aesthetic': 'one or two word adjectives', 'Setting/Location': 'one or two word adjectives', 'Time Period': 'one or two word adjectives', 'Cultural/Symbolic Representation': 'one or two word adjectives'}; if an attribute is not obvious, infer from the context of the description an attribute, don't use 'none' or 'not specified' as an attribute. Format the output in double quotations so I can convert it into an object with json.\"\n",
    "  },\n",
    "          {\n",
    "            \"type\": \"text\",\n",
    "            \"text\" : json.dumps(description)\n",
    "          },\n",
    "        ],\n",
    "      }\n",
    "    ],\n",
    "    max_tokens=500,\n",
    "  )\n",
    "\n",
    "  # string reponse from prompt\n",
    "  attributes_content = response.choices[0].message.content\n",
    "\n",
    "  # object to work with data\n",
    "  attributes_dict = json.loads(attributes_content)\n",
    "\n",
    "  # append to attributes dictionary\n",
    "  attributes[url] = attributes_dict\n",
    "\n",
    "print('Image - Attributes Dictionary:\\n', json.dumps(attributes, indent=4))"
   ]
  },
  {
   "cell_type": "code",
   "execution_count": null,
   "metadata": {},
   "outputs": [],
   "source": []
  }
 ],
 "metadata": {
  "kernelspec": {
   "display_name": "Python 3",
   "language": "python",
   "name": "python3"
  },
  "language_info": {
   "codemirror_mode": {
    "name": "ipython",
    "version": 3
   },
   "file_extension": ".py",
   "mimetype": "text/x-python",
   "name": "python",
   "nbconvert_exporter": "python",
   "pygments_lexer": "ipython3",
   "version": "3.9.13"
  }
 },
 "nbformat": 4,
 "nbformat_minor": 2
}

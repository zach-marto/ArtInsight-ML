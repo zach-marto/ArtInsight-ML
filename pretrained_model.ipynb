{
 "cells": [
  {
   "cell_type": "code",
   "execution_count": 121,
   "metadata": {},
   "outputs": [],
   "source": [
    "import openai"
   ]
  },
  {
   "cell_type": "code",
   "execution_count": 122,
   "metadata": {},
   "outputs": [],
   "source": [
    "from openai import OpenAI\n",
    "import json"
   ]
  },
  {
   "cell_type": "code",
   "execution_count": 123,
   "metadata": {},
   "outputs": [],
   "source": [
    "client = OpenAI(api_key=\"sk-OPEN_AI_API_KEY\")"
   ]
  },
  {
   "cell_type": "markdown",
   "metadata": {},
   "source": [
    "# Image-to-text pre-trained model"
   ]
  },
  {
   "cell_type": "code",
   "execution_count": 264,
   "metadata": {},
   "outputs": [
    {
     "name": "stdout",
     "output_type": "stream",
     "text": [
      "descriptions: {\n",
      "    \"https://datasets-server.huggingface.co/assets/huggan/wikiart/--/default/train/23/image/image.jpg?Expires=1714420378&Signature=C7u8ou-gbJFTG5HkMcrfC77xMgQCDVUD9jhfs9yI16ywtXymVGOHPp1PMt4yF0zUB4di-79OmWOzBAA9ZFAXyTQdaCeLglzbw7D~m0yNm8zgAMkZvwIXL1MsbfaWznfF8DZ4dLE~udhJ2MkPTvcat-Mmn3srwlXMLNL90AYnFtyzBjS~35fiap3A9pdFsILdM6qIyZbq8x1hq0jbAox9LGRqf1SRBrOuE-etNM53lqf31UynPHYNOzksfuOjSQ7QQoAtRbQGRk59sjoVsQHK8Ph-V9flvXExlylVUXODn~wf14PWhDRUU4vhPr70KsCgLd5ebzQU05xPXI0o-VTyYw__&Key-Pair-Id=K3EI6M078Z3AC3\": \"This image is a pencil sketch depicting a rural or pastoral scene. There is a large tree with detailed, textural leaves dominating the upper left part of the composition. Underneath and around the tree, various activities are illustrated:\\n\\n1. To the left and slightly below the center, there appears to be a person wearing a hat and overalls, busy with an activity that involves a barrel or tub\\u2014possibly washing clothes or preparing food.\\n\\n2. In the background and to the right, there are multiple animals that appear to be bovines, possibly cows or buffaloes, grazing in a field.\\n\\n3. There are also several roughly sketched structures, possibly haystacks or equipment, scattered throughout the scene.\\n\\nOverall, the sketch portrays a serene, bucolic setting, capturing a moment of daily life in a rural environment. The artist has focused on detail in the foreground while using more abstract, minimal strokes for the background elements, creating a sense of depth and activity.\"\n",
      "}\n"
     ]
    }
   ],
   "source": [
    "'''\n",
    "This code uses the OpenAI client object to make a chat completion request using the GPT-4 Turbo model.\n",
    "It sends a user message asking \"What’s in this image?\" along with an image URL. The response from the\n",
    "model is stored in the response variable. The code then prints the assistant's response, which can be \n",
    "accessed using response.choices[0].\n",
    "''' \n",
    "image_urls = [\n",
    "    \"https://upload.wikimedia.org/wikipedia/commons/thumb/d/dd/Gfp-wisconsin-madison-the-nature-boardwalk.jpg/2560px-Gfp-wisconsin-madison-the-nature-boardwalk.jpg\",\n",
    "    \"https://cdn.pixabay.com/photo/2017/08/25/18/48/watercolor-2681039_1280.jpg\",\n",
    "    \"https://cdn.pixabay.com/photo/2017/03/12/13/41/colorful-2137080_1280.jpg\",\n",
    "    \"https://cdn.pixabay.com/photo/2018/03/30/15/11/deer-3275594_1280.jpg\"\n",
    "    # Add more image URLs as needed\n",
    "]\n",
    "\n",
    "image_urls = ['https://datasets-server.huggingface.co/assets/huggan/wikiart/--/default/train/23/image/image.jpg?Expires=1714420378&Signature=C7u8ou-gbJFTG5HkMcrfC77xMgQCDVUD9jhfs9yI16ywtXymVGOHPp1PMt4yF0zUB4di-79OmWOzBAA9ZFAXyTQdaCeLglzbw7D~m0yNm8zgAMkZvwIXL1MsbfaWznfF8DZ4dLE~udhJ2MkPTvcat-Mmn3srwlXMLNL90AYnFtyzBjS~35fiap3A9pdFsILdM6qIyZbq8x1hq0jbAox9LGRqf1SRBrOuE-etNM53lqf31UynPHYNOzksfuOjSQ7QQoAtRbQGRk59sjoVsQHK8Ph-V9flvXExlylVUXODn~wf14PWhDRUU4vhPr70KsCgLd5ebzQU05xPXI0o-VTyYw__&Key-Pair-Id=K3EI6M078Z3AC3']\n",
    "\n",
    "descriptions = {}\n",
    "\n",
    "for url in image_urls:\n",
    "  response = client.chat.completions.create(\n",
    "    model=\"gpt-4-turbo\",\n",
    "    messages=[\n",
    "      {\n",
    "        \"role\": \"user\",\n",
    "        \"content\": [\n",
    "          {\"type\": \"text\", \"text\": \"What’s in this image?\"},\n",
    "          {\n",
    "            \"type\": \"image_url\",\n",
    "            \"image_url\": {\n",
    "              \"url\": url,\n",
    "            },\n",
    "          },\n",
    "        ],\n",
    "      }\n",
    "    ],\n",
    "    max_tokens=300,\n",
    "  )\n",
    "\n",
    "  # print(response.choices[0])\n",
    "  description = response.choices[0].message.content\n",
    "  descriptions[url] = description\n",
    "\n",
    "print('descriptions:', json.dumps(descriptions, indent=4))"
   ]
  },
  {
   "cell_type": "markdown",
   "metadata": {},
   "source": [
    "# Creating a predefined set of attributes to extract from images"
   ]
  },
  {
   "cell_type": "code",
   "execution_count": 60,
   "metadata": {},
   "outputs": [
    {
     "name": "stdout",
     "output_type": "stream",
     "text": [
      "Image - Attributes Dictionary:\n",
      " {\n",
      "    \"https://upload.wikimedia.org/wikipedia/commons/thumb/d/dd/Gfp-wisconsin-madison-the-nature-boardwalk.jpg/2560px-Gfp-wisconsin-madison-the-nature-boardwalk.jpg\": {\n",
      "        \"Color Palette\": \"vibrant green, vivid blue\",\n",
      "        \"Subject Matter\": \"natural landscape\",\n",
      "        \"Mood/Emotion\": \"peace, tranquility\",\n",
      "        \"Style/Aesthetic\": \"picturesque\",\n",
      "        \"Setting/Location\": \"nature reserve\",\n",
      "        \"Time Period\": \"contemporary\",\n",
      "        \"Cultural/Symbolic Representation\": \"environmental appreciation\"\n",
      "    },\n",
      "    \"https://cdn.pixabay.com/photo/2017/08/25/18/48/watercolor-2681039_1280.jpg\": {\n",
      "        \"Color Palette\": \"vibrant, colorful\",\n",
      "        \"Subject Matter\": \"abstract art\",\n",
      "        \"Mood/Emotion\": \"dynamic, fluid\",\n",
      "        \"Style/Aesthetic\": \"alcohol ink\",\n",
      "        \"Setting/Location\": \"imaginary\",\n",
      "        \"Time Period\": \"contemporary\",\n",
      "        \"Cultural/Symbolic Representation\": \"organic\"\n",
      "    },\n",
      "    \"https://cdn.pixabay.com/photo/2017/03/12/13/41/colorful-2137080_1280.jpg\": {\n",
      "        \"Color Palette\": \"vibrant, colorful\",\n",
      "        \"Subject Matter\": \"colored pencils\",\n",
      "        \"Mood/Emotion\": \"vivid, artistic\",\n",
      "        \"Style/Aesthetic\": \"artistic, contrasting\",\n",
      "        \"Setting/Location\": \"underwater\",\n",
      "        \"Time Period\": \"contemporary\",\n",
      "        \"Cultural/Symbolic Representation\": \"creativity, playfulness\"\n",
      "    },\n",
      "    \"https://cdn.pixabay.com/photo/2018/03/30/15/11/deer-3275594_1280.jpg\": {\n",
      "        \"Color Palette\": \"vibrant, multicolor\",\n",
      "        \"Subject Matter\": \"deer head\",\n",
      "        \"Mood/Emotion\": \"abstract, modern\",\n",
      "        \"Style/Aesthetic\": \"low poly, geometric\",\n",
      "        \"Setting/Location\": \"stylized\",\n",
      "        \"Time Period\": \"contemporary\",\n",
      "        \"Cultural/Symbolic Representation\": \"artistic expression\"\n",
      "    }\n",
      "}\n"
     ]
    }
   ],
   "source": [
    "\n",
    "'''\n",
    "This code uses the OpenAI client object to make a chat completion request using the GPT-4 Turbo model.\n",
    "It prompts the GPT to extract 7 pre-defined attributes from the description of the image input into \n",
    "the image-to-text response above. Then it converts the formatted string object into an object of attributes\n",
    "that we can utilize further using json.\n",
    "''' \n",
    "\n",
    "attributes = {}\n",
    "\n",
    "for url, description in descriptions.items():\n",
    "  response = client.chat.completions.create(\n",
    "    model=\"gpt-4-turbo\",\n",
    "    messages=[\n",
    "      {\n",
    "        \"role\": \"user\",\n",
    "        \"content\": [\n",
    "          {\"type\": \"text\", \n",
    "          # prompt to extract 7 key pre-defined attributes: color palette, subject matter, mood/emotion, style/aesthetic, setting/location, time period, cultural/symbolic representation\n",
    "          \"text\": \"You are a machine learning model trained to extract specific attributes from a detailed description of an image. Your task is to identify the following seven attributes from the given text and represent them as key-value pairs in a Python dictionary: 1. Color Palette: Identify the dominant colors or color schemes present in the image. 2. Subject Matter: Identify the main subject, object, or theme depicted in the image. 3. Mood/Emotion: Identify the overall mood, emotion, or feeling conveyed by the image. 4. Style/Aesthetic: Identify the artistic style, aesthetic, or visual characteristics of the image. 5. Setting/Location: Identify the physical setting, location, or environment depicted in the image. 6. Time Period: Identify the time period, era, or historical context represented in the image. 7. Cultural/Symbolic Representation: Identify any cultural, symbolic, or metaphorical representations present in the image. Please provide your output in the following format: {'Color Palette': 'one or two word adjectives', 'Subject Matter': 'one or two word adjectives', 'Mood/Emotion': 'one or two word adjectives', 'Style/Aesthetic': 'one or two word adjectives', 'Setting/Location': 'one or two word adjectives', 'Time Period': 'one or two word adjectives', 'Cultural/Symbolic Representation': 'one or two word adjectives'}; if an attribute is not obvious, infer from the context of the description an attribute, don't use 'none' or 'not specified' as an attribute. Format the output in double quotations so I can convert it into an object with json. The description is as follows:\" + description,\n",
    "  },\n",
    "          {\n",
    "            \"type\": \"text\",\n",
    "            \"text\" : json.dumps(description)\n",
    "          },\n",
    "        ],\n",
    "      }\n",
    "    ],\n",
    "    max_tokens=500,\n",
    "  )\n",
    "\n",
    "  # string reponse from prompt\n",
    "  attributes_content = response.choices[0].message.content\n",
    "\n",
    "  # object to work with data\n",
    "  attributes_dict = json.loads(attributes_content)\n",
    "\n",
    "  # append to attributes dictionary\n",
    "  attributes[url] = attributes_dict\n",
    "\n",
    "print('Image - Attributes Dictionary:\\n', json.dumps(attributes, indent=4))"
   ]
  },
  {
   "cell_type": "markdown",
   "metadata": {},
   "source": [
    "## Rigorous Version of Pre-trained Model"
   ]
  },
  {
   "cell_type": "code",
   "execution_count": 115,
   "metadata": {},
   "outputs": [],
   "source": [
    "def image_to_text(image_url):\n",
    "\n",
    "    response = client.chat.completions.create(\n",
    "        model=\"gpt-4-turbo\",\n",
    "        messages=[\n",
    "            {\n",
    "                \"role\": \"system\",\n",
    "                \"content\": \"Please provide a thorough, detailed, and artistic description of the image in the following URL: \" + image_url,\n",
    "            }\n",
    "        ],\n",
    "        max_tokens=300,\n",
    "    )\n",
    "    \n",
    "    return response.choices[0].message.content"
   ]
  },
  {
   "cell_type": "code",
   "execution_count": 19,
   "metadata": {},
   "outputs": [
    {
     "name": "stdout",
     "output_type": "stream",
     "text": [
      "The image presents a serene and picturesque scene from a nature boardwalk in Madison, Wisconsin. The focus of the composition is an elegant, curved wooden walkway that invites viewers on a tranquil journey through a lush wetland environment. This gently winding pathway serves not only as a functional element allowing visitors to explore the natural beauty without disturbing the ecosystem but also as a visual guide leading the eye through the varied textures and shades of green of the landscape.\n",
      "\n",
      "The setting is rich with an array of native plants, vivid in various greens that suggest a healthy, vibrant ecosystem. The foliage includes tall grasses which sway slightly, suggesting a gentle breeze. These grasses, interspersed with broader-leaved plants and punctuated occasionally by flowering blooms, create a tapestry of textures and shapes. The diversity of the plant life forms a dense, almost untamed layer that covers the ground and enriches the scene’s depth.\n",
      "\n",
      "Overhead, a sky of mixed clouds — possibly cumulus — softens the light, allowing for a diffuse illumination that enhances colors and reduces harsh shadows. This sky reflects a perfect day for a walk, offering a pleasant climate and ideally soft lighting conditions. The cloud cover also conveys a sense of expansiveness and freedom, adding an airy, open quality to the landscape.\n",
      "\n",
      "The boardwalk itself is crafted of wood with a warm, natural tone that conveys an organic, earthy feel. This choice of material complements the surrounding environment and highlights human intervention designed in harmony with nature. It\n"
     ]
    }
   ],
   "source": [
    "description = image_to_text(\"https://upload.wikimedia.org/wikipedia/commons/thumb/d/dd/Gfp-wisconsin-madison-the-nature-boardwalk.jpg/2560px-Gfp-wisconsin-madison-the-nature-boardwalk.jpg\")\n",
    "\n",
    "print(description)"
   ]
  },
  {
   "cell_type": "code",
   "execution_count": 65,
   "metadata": {},
   "outputs": [],
   "source": [
    "def description_to_attributes(description):\n",
    "\n",
    "    response = client.chat.completions.create(\n",
    "        model = \"gpt-4-turbo\",\n",
    "        messages=[\n",
    "            {\n",
    "                \"role\": \"system\",\n",
    "                \"content\": \"You are a machine learning model trained to extract specific attributes from a detailed description of an image. Your task is to identify the following seven attributes from the given text and represent them as key-value pairs in a Python dictionary: 1. Color Palette: Identify the dominant colors or color schemes present in the image. 2. Subject Matter: Identify the main subject, object, or theme depicted in the image. 3. Mood/Emotion: Identify the overall mood, emotion, or feeling conveyed by the image. 4. Style/Aesthetic: Identify the artistic style, aesthetic, or visual characteristics of the image. 5. Setting/Location: Identify the physical setting, location, or environment depicted in the image. 6. Time Period: Identify the time period, era, or historical context represented in the image. 7. Cultural/Symbolic Representation: Identify any cultural, symbolic, or metaphorical representations present in the image. Please provide your output in the following format: {'Color Palette': 'one or two word adjectives', 'Subject Matter': 'one or two word adjectives', 'Mood/Emotion': 'one or two word adjectives', 'Style/Aesthetic': 'one or two word adjectives', 'Setting/Location': 'one or two word adjectives', 'Time Period': 'one or two word adjectives', 'Cultural/Symbolic Representation': 'one or two word adjectives'}; if an attribute is not obvious, infer from the context of the description an attribute, don't use 'none' or 'not specified' as an attribute. Format the output in double quotations so I can convert it into an object with json. The description is as follows:\" + description,\n",
    "            }\n",
    "        ],\n",
    "        max_tokens=300,\n",
    "    )\n",
    "\n",
    "    attributes_content = response.choices[0].message.content\n",
    "    attributes_dict = json.loads(attributes_content)\n",
    "\n",
    "    return attributes_dict"
   ]
  },
  {
   "cell_type": "code",
   "execution_count": 67,
   "metadata": {},
   "outputs": [
    {
     "name": "stdout",
     "output_type": "stream",
     "text": [
      "{\n",
      "    \"Color Palette\": \"purples, reds, browns\",\n",
      "    \"Subject Matter\": \"deer's head\",\n",
      "    \"Mood/Emotion\": \"vibrant\",\n",
      "    \"Style/Aesthetic\": \"low-poly, geometric\",\n",
      "    \"Setting/Location\": \"abstract\",\n",
      "    \"Time Period\": \"contemporary\",\n",
      "    \"Cultural/Symbolic Representation\": \"nature symbolism\"\n",
      "}\n"
     ]
    }
   ],
   "source": [
    "print(json.dumps(description_to_attributes(description), indent=4))"
   ]
  },
  {
   "cell_type": "markdown",
   "metadata": {},
   "source": [
    "## Rigorous Version of Pre-Defined Model with specific set of labels"
   ]
  },
  {
   "cell_type": "code",
   "execution_count": 176,
   "metadata": {},
   "outputs": [],
   "source": [
    "def description_to_attributes_predefined_labels(description):\n",
    "\n",
    "    response = client.chat.completions.create(\n",
    "        model = \"gpt-4-turbo\",\n",
    "        messages=[\n",
    "            {\n",
    "                \"role\": \"system\",\n",
    "                \"content\": \"You are a machine learning model trained to extract specific attributes from a detailed description of an image. Your task is to identify and select the most appropriate label from the following pre-defined set of attributes for each of the seven categories given below, and represent them as key-value pairs in a Python dictionary: 1. Color Palette: Select the dominant colors or color schemes present in the image from the following options: [Vibrant, Monochromatic, Pastel, Earthy, Neon, Muted, Bold, Subdued, Contrasting, Harmonious, Warm, Cool, Saturated, Desaturated, Primary, Secondary, Tertiary]. 2. Subject Matter: Choose the main subject, object, or theme depicted in the image from the following options: [Landscape, Portrait, Still life, Abstract, Urban, Nature, Architecture, Human figure, Animals, Plants, Buildings, Interiors, Vehicles, Food, Technology, Fantasy, Surreal, Mythological, Historical event, Everyday objects]. 3. Mood/Emotion: Pick the overall mood, emotion, or feeling conveyed by the image from the following options: [Serene, Energetic, Melancholic, Joyful, Mysterious, Peaceful, Dramatic, Whimsical, Intense, Reflective, Nostalgic, Romantic, Foreboding, Playful, Thoughtful, Soothing, Chaotic, Hopeful]. 4. Style/Aesthetic: Select the artistic style, aesthetic, or visual characteristics of the image from the following options: [Realism, Impressionism, Surrealism, Minimalism, Expressionism, Cubism, Romanticism, Baroque, Renaissance, Gothic, Modernism, Postmodernism, Abstract expressionism, Fauvism, Dadaism, Pop art, Conceptual art]. 5. Setting/Location: Choose the physical setting, location, or environment depicted in the image from the following options: [Cityscape, Countryside, Beach, Forest, Mountains, Urban, Rural, Suburban, Indoor, Outdoor, Coastal, Desert, Arctic, Tropical, Industrial, Historical, Futuristic, Mythical, Extraterrestrial]. 6. Time Period: Pick the time period, era, or historical context represented in the image from the following options: [Contemporary, Renaissance, Medieval, Modern, Ancient, Futuristic, Victorian, Industrial revolution, Middle Ages, Renaissance, Prehistoric, Classical, Baroque, Gothic, Romantic, Edwardian, Roaring twenties, Art Deco, Post-war]. 7. Cultural/Symbolic Representation: Select any cultural, symbolic, or metaphorical representations present in the image from the following options: [Religious, Political, Mythological, Historical, Indigenous, Pop culture, Folklore, Literary, Ethnic, National, International, Gender, Social class, Environmental, Technological, Symbolic, Ritualistic, Iconic, Allegorical, Abstract]. Please provide your output in the following format: {'Color Palette': 'selected option', 'Subject Matter': 'selected option', 'Mood/Emotion': 'selected option', 'Style/Aesthetic': 'selected option', 'Setting/Location': 'selected option', 'Time Period': 'selected option', 'Cultural/Symbolic Representation': 'selected option'}; if an attribute is not obvious, infer from the context of the description an attribute, don't use 'none' or 'not specified' as an attribute. Format the output in double quotations so I can convert it into an object with json. The description is as follows:\" + description\n",
    "            }\n",
    "        ],\n",
    "        max_tokens=300,\n",
    "    )\n",
    "\n",
    "    attributes_content = response.choices[0].message.content\n",
    "    attributes_dict = json.loads(attributes_content)\n",
    "\n",
    "    return attributes_dict"
   ]
  },
  {
   "cell_type": "code",
   "execution_count": 126,
   "metadata": {},
   "outputs": [
    {
     "name": "stdout",
     "output_type": "stream",
     "text": [
      "{\n",
      "    \"Color Palette\": \"Vibrant\",\n",
      "    \"Subject Matter\": \"Animals\",\n",
      "    \"Mood/Emotion\": \"Dramatic\",\n",
      "    \"Style/Aesthetic\": \"Minimalism\",\n",
      "    \"Setting/Location\": \"Outdoor\",\n",
      "    \"Time Period\": \"Contemporary\",\n",
      "    \"Cultural/Symbolic Representation\": \"Symbolic\"\n",
      "}\n"
     ]
    }
   ],
   "source": [
    "print(json.dumps(description_to_attributes_predefined_labels(description), indent=4))"
   ]
  },
  {
   "cell_type": "markdown",
   "metadata": {},
   "source": [
    "## Modification of Pre-defined Model with Specific Set of Attributes to provide the 2 best options"
   ]
  },
  {
   "cell_type": "code",
   "execution_count": 351,
   "metadata": {},
   "outputs": [],
   "source": [
    "def description_to_attributes_predefined_two(description):\n",
    "\n",
    "    response = client.chat.completions.create(\n",
    "        model = \"gpt-4-turbo\",\n",
    "        messages=[\n",
    "            {\n",
    "                \"role\": \"system\",\n",
    "                 \"content\": \"\"\"\n",
    "                You are a machine learning model trained to extract specific attributes from a detailed description of an image. \n",
    "                Your task is to identify and select the most appropriate label from the following pre-defined set of attributes for each of the seven categories given below, and represent them as key-value pairs in a Python dictionary: \n",
    "                1. Color Palette: Select up to 7 labels without repetition from only the following options, ordered from the most closely associated to the least associated with the image: [Vibrant, Monochromatic, Pastel, Earthy, Neon, Muted, Bold]. \n",
    "                2. Subject Matter: Choose up to 7 labels without repetition from only the following options, ordered from the most closely associated to the least associated with the image: [Landscape, Portrait, Still life, Abstract, Urban, Nature, Architecture]. \n",
    "                3. Mood/Emotion: Pick up to 7 labels without repetition from only the following options, ordered from the most closely associated to the least associated with the image: [Serene, Energetic, Melancholic, Joyful, Mysterious, Peaceful, Dramatic]. \n",
    "                4. Style/Aesthetic: Select up to 7 labels without repetition from only the following options, ordered from the most closely associated to the least associated with the image: [Realism, Impressionism, Surrealism, Minimalism, Expressionism, Cubism, Romanticism]. \n",
    "                5. Setting/Location: Choose up to 7 labels without repetition from only the following options, ordered from the most closely associated to the least associated with the image: [Cityscape, Countryside, Beach, Forest, Mountains, Urban, Rural]. \n",
    "                6. Time Period: Pick up to 7 labels without repetition from only the following options, ordered from the most closely associated to the least associated with the image: [Contemporary, Renaissance, Medieval, Modern, Ancient, Futuristic, Victorian]. \n",
    "                7. Cultural/Symbolic Representation: Select up to 7 labels without repetition from only the following options, ordered from the most closely associated to the least associated with the image: [Religious, Political, Mythological, Historical, Indigenous, Pop culture, Folklore]. \n",
    "                Please provide your output in the following format:  {'Color Palette': ['most associated label', ..., 'least associated label'],  'Subject Matter': ['most associated label', ..., 'least associated label'],  'Mood/Emotion': ['most associated label', ..., 'least associated label'], 'Style/Aesthetic': ['most associated label', ..., 'least associated label'],  'Setting/Location': ['most associated label', ..., 'least associated label'],  'Time Period': ['most associated label', ..., 'least associated label'],  'Cultural/Symbolic Representation': ['most associated label', ..., 'least associated label']}. \n",
    "                If an attribute is not obvious, infer from the context of the description an attribute, don't use 'none' or 'not specified' as an attribute. Only select attribute values from the provided list of options. PLEASE DO NOT Assign any attribute that is not present in the pre-defined attributes. Format the output in double quotations so it can be converted into an object with json. The description is as follows:\n",
    "                \"\"\" + description\n",
    "            }\n",
    "        ],\n",
    "        max_tokens=500,\n",
    "    )\n",
    "\n",
    "    attributes_content = response.choices[0].message.content\n",
    "    attributes_dict = json.loads(attributes_content)\n",
    "\n",
    "    return attributes_dict"
   ]
  },
  {
   "cell_type": "code",
   "execution_count": 180,
   "metadata": {},
   "outputs": [
    {
     "name": "stdout",
     "output_type": "stream",
     "text": [
      "{\n",
      "    \"Color Palette\": [\n",
      "        \"Vibrant\",\n",
      "        \"Bold\",\n",
      "        \"Earthy\"\n",
      "    ],\n",
      "    \"Subject Matter\": [\n",
      "        \"Abstract\",\n",
      "        \"Nature\"\n",
      "    ],\n",
      "    \"Mood/Emotion\": [\n",
      "        \"Peaceful\",\n",
      "        \"Serene\"\n",
      "    ],\n",
      "    \"Style/Aesthetic\": [\n",
      "        \"Minimalism\",\n",
      "        \"Surrealism\"\n",
      "    ],\n",
      "    \"Setting/Location\": [\n",
      "        \"Forest\"\n",
      "    ],\n",
      "    \"Time Period\": [\n",
      "        \"Contemporary\",\n",
      "        \"Modern\"\n",
      "    ],\n",
      "    \"Cultural/Symbolic Representation\": [\n",
      "        \"Mythological\"\n",
      "    ]\n",
      "}\n"
     ]
    }
   ],
   "source": [
    "print(json.dumps(description_to_attributes_predefined_two(description), indent=4))"
   ]
  },
  {
   "cell_type": "markdown",
   "metadata": {},
   "source": [
    "## Code to Quantify Comparison between two images to see which ones are closer"
   ]
  },
  {
   "cell_type": "markdown",
   "metadata": {},
   "source": [
    "### Function to determine Images that are overall closer"
   ]
  },
  {
   "cell_type": "code",
   "execution_count": 320,
   "metadata": {},
   "outputs": [],
   "source": [
    "# def validate_attributes(attributes_dict, predefined_list):\n",
    "#     for key, values in attributes_dict.items():\n",
    "#         valid_values = [value for value in values if value in predefined_list[key]]\n",
    "#         while len(valid_values) < len(values):\n",
    "#             for predefined_value in predefined_list[key]:\n",
    "#                 if predefined_value not in valid_values:\n",
    "#                     valid_values.append(predefined_value) \n",
    "#                     break\n",
    "#         attributes_dict[key] = valid_values\n",
    "\n",
    "def validate_attributes(attributes_dict, predefined_list):\n",
    "    for key, values in attributes_dict.items():\n",
    "        # Filter out invalid values\n",
    "        valid_values = [value for value in values if value in predefined_list[key]]\n",
    "        \n",
    "        # If there are missing values, append predefined values at the end\n",
    "        if len(valid_values) < len(values):\n",
    "            # Get the predefined values that are not in valid_values\n",
    "            missing_values = [value for value in predefined_list[key] if value not in valid_values]\n",
    "            \n",
    "            # Append the missing values at the end of valid_values\n",
    "            valid_values.extend(missing_values[:len(values)-len(valid_values)])\n",
    "        \n",
    "        # Replace the original values with the valid values\n",
    "        attributes_dict[key] = valid_values\n",
    "\n",
    "def description_to_all_attributes(description):\n",
    "\n",
    "    predefined_list = {\n",
    "        'Color Palette': ['Vibrant', 'Monochromatic', 'Pastel', 'Earthy', 'Neon', 'Muted', 'Bold'],\n",
    "        'Subject Matter': ['Landscape', 'Portrait', 'Still life', 'Abstract', 'Urban', 'Nature', 'Architecture'],\n",
    "        'Mood/Emotion': ['Serene', 'Energetic', 'Melancholic', 'Joyful', 'Mysterious', 'Peaceful', 'Dramatic'],\n",
    "        'Style/Aesthetic': ['Realism', 'Impressionism', 'Surrealism', 'Minimalism', 'Expressionism', 'Cubism', 'Romanticism'],\n",
    "        'Setting/Location': ['Cityscape', 'Countryside', 'Beach', 'Forest', 'Mountains', 'Urban', 'Rural'],\n",
    "        'Time Period': ['Contemporary', 'Renaissance', 'Medieval', 'Modern', 'Ancient', 'Futuristic', 'Victorian'],\n",
    "        'Cultural/Symbolic Representation': ['Religious', 'Political', 'Mythological', 'Historical', 'Indigenous', 'Pop culture', 'Folklore']\n",
    "    }\n",
    "\n",
    "\n",
    "    response = client.chat.completions.create(\n",
    "        model = \"gpt-4-turbo\",\n",
    "        messages=[\n",
    "            {\n",
    "                \"role\": \"system\",\n",
    "                \"content\": f\"\"\"\n",
    "                You are a machine learning model trained to extract specific attributes from a detailed \n",
    "                description of an image. Your task is to identify and select the most appropriate label from \n",
    "                the following pre-defined set of attributes for each of the seven categories given below, and\n",
    "                represent them as key-value pairs in a Python dictionary: \n",
    "\n",
    "                1. Color Palette: Select exactly 7 labels without repetition from only the following options, \n",
    "                ordered from the most closely associated to the least associated with the image: \n",
    "                {predefined_list['Color Palette']}. \n",
    "\n",
    "                2. Subject Matter: Select exactly 7 labels without repetition from only the following options, \n",
    "                ordered from the most closely associated to the least associated with the image: \n",
    "                {predefined_list['Subject Matter']}. \n",
    "\n",
    "                3. Mood/Emotion: Select exactly 7 labels without repetition from only the following options, \n",
    "                ordered from the most closely associated to the least associated with the image: \n",
    "                {predefined_list['Mood/Emotion']}. \n",
    "\n",
    "                4. Style/Aesthetic: Select exactly 7 labels without repetition from ONLY the following options, \n",
    "                ordered from the most closely associated to the least associated with the image: \n",
    "                {predefined_list['Style/Aesthetic']}. \n",
    "\n",
    "                5. Setting/Location: Select exactly 7 labels without repetition from only the following options, \n",
    "                ordered from the most closely associated to the least associated with the image: \n",
    "                {predefined_list['Setting/Location']}. \n",
    "\n",
    "                6. Time Period: Select exactly 7 labels without repetition from only the following options, \n",
    "                ordered from the most closely associated to the least associated with the image: \n",
    "                {predefined_list['Time Period']}.\n",
    "\n",
    "                7. Cultural/Symbolic Representation: Select Exactly 7 labels without repetition from only the \n",
    "                following options, ordered from the most closely associated to the least associated with the image: \n",
    "                {predefined_list['Cultural/Symbolic Representation']}\n",
    "\n",
    "                Please provide your output in the following format:  \n",
    "                {{'Color Palette': ['most associated label', ..., 'least associated label'],  \n",
    "                'Subject Matter': ['most associated label', ..., 'least associated label'],  \n",
    "                'Mood/Emotion': ['most associated label', ..., 'least associated label'], \n",
    "                'Style/Aesthetic': ['most associated label', ..., 'least associated label'],  \n",
    "                'Setting/Location': ['most associated label', ..., 'least associated label'],  \n",
    "                'Time Period': ['most associated label', ..., 'least associated label'],  \n",
    "                'Cultural/Symbolic Representation': ['most associated label', ..., 'least associated label']}}. \n",
    "\n",
    "                If an attribute is not obvious, infer from the context of the description an attribute, \n",
    "                don't use 'none' or 'not specified' as an attribute. Remember, you MUST ONLY select attribute values from the provided\n",
    "                list of options. DO NOT assign any attribute that is not present in the pre-defined attributes. I repeat - no label in the result should be outside the predefined \n",
    "                set of labels for each attribute. Format the output in double quotations so it can be \n",
    "                converted into an object with json. The description is as follows:\"\"\" + description\n",
    "            }\n",
    "        ],\n",
    "        max_tokens=500,\n",
    "    )\n",
    "\n",
    "    attributes_content = response.choices[0].message.content\n",
    "    attributes_dict = json.loads(attributes_content)\n",
    "    \n",
    "    validate_attributes(attributes_dict, predefined_list)\n",
    "\n",
    "\n",
    "    return attributes_dict"
   ]
  },
  {
   "cell_type": "code",
   "execution_count": 182,
   "metadata": {},
   "outputs": [
    {
     "name": "stdout",
     "output_type": "stream",
     "text": [
      "{\n",
      "    \"Color Palette\": [\n",
      "        \"Vibrant\",\n",
      "        \"Bold\",\n",
      "        \"Earthy\",\n",
      "        \"Muted\",\n",
      "        \"Monochromatic\",\n",
      "        \"Pastel\",\n",
      "        \"Neon\"\n",
      "    ],\n",
      "    \"Subject Matter\": [\n",
      "        \"Abstract\",\n",
      "        \"Nature\",\n",
      "        \"Portrait\",\n",
      "        \"Still life\",\n",
      "        \"Landscape\",\n",
      "        \"Urban\",\n",
      "        \"Architecture\"\n",
      "    ],\n",
      "    \"Mood/Emotion\": [\n",
      "        \"Energetic\",\n",
      "        \"Dramatic\",\n",
      "        \"Serene\",\n",
      "        \"Mysterious\",\n",
      "        \"Peaceful\",\n",
      "        \"Joyful\",\n",
      "        \"Melancholic\"\n",
      "    ],\n",
      "    \"Style/Aesthetic\": [\n",
      "        \"Minimalism\",\n",
      "        \"Surrealism\",\n",
      "        \"Realism\",\n",
      "        \"Impressionism\",\n",
      "        \"Expressionism\",\n",
      "        \"Cubism\",\n",
      "        \"Romanticism\"\n",
      "    ],\n",
      "    \"Setting/Location\": [\n",
      "        \"Forest\",\n",
      "        \"Rural\",\n",
      "        \"Countryside\",\n",
      "        \"Mountains\",\n",
      "        \"Cityscape\",\n",
      "        \"Urban\",\n",
      "        \"Beach\"\n",
      "    ],\n",
      "    \"Time Period\": [\n",
      "        \"Modern\",\n",
      "        \"Contemporary\",\n",
      "        \"Futuristic\",\n",
      "        \"Victorian\",\n",
      "        \"Renaissance\",\n",
      "        \"Medieval\",\n",
      "        \"Ancient\"\n",
      "    ],\n",
      "    \"Cultural/Symbolic Representation\": [\n",
      "        \"Pop culture\",\n",
      "        \"Folklore\",\n",
      "        \"Mythological\",\n",
      "        \"Historical\",\n",
      "        \"Indigenous\",\n",
      "        \"Religious\",\n",
      "        \"Political\"\n",
      "    ]\n",
      "}\n",
      "Color Palette 7\n",
      "Subject Matter 7\n",
      "Mood/Emotion 7\n",
      "Style/Aesthetic 7\n",
      "Setting/Location 7\n",
      "Time Period 7\n",
      "Cultural/Symbolic Representation 7\n"
     ]
    }
   ],
   "source": [
    "obj = description_to_all_attributes(description)\n",
    "print(json.dumps(obj, indent=4))\n",
    "\n",
    "# print the length of the array for each attribute in the object\n",
    "\n",
    "for key, value in obj.items():\n",
    "    print(key, len(value))\n"
   ]
  },
  {
   "cell_type": "markdown",
   "metadata": {},
   "source": [
    "## Implementing Manhattan Distance Based Method to quantify discimilarity between image labels"
   ]
  },
  {
   "cell_type": "code",
   "execution_count": 211,
   "metadata": {},
   "outputs": [],
   "source": [
    "def array_ordering_discimilarity(arr1, arr2):\n",
    "    print(arr1)\n",
    "    index_dict = {element: i for i, element in enumerate(arr2)}\n",
    "\n",
    "    # Calculate the sum of absolute distances\n",
    "    total_distance = 0\n",
    "    for i, element in enumerate(arr1):\n",
    "        if element in index_dict:\n",
    "            index_in_array2 = index_dict[element]\n",
    "            distance = abs(i - index_in_array2)\n",
    "            total_distance += distance\n",
    "        else: \n",
    "            print(f\"Warning '{element}' not found in .\")\n",
    "    return total_distance"
   ]
  },
  {
   "cell_type": "code",
   "execution_count": 171,
   "metadata": {},
   "outputs": [
    {
     "name": "stdout",
     "output_type": "stream",
     "text": [
      "index_dict: {'b': 0, 'a': 1, 'c': 2, 'd': 3}\n",
      "Similarity Score: 2\n"
     ]
    }
   ],
   "source": [
    "array1 = ['a', 'b', 'c', 'd']\n",
    "array2 = ['b', 'a', 'c', 'd']\n",
    "similarity_score = array_ordering_discimilarity(array1, array2)\n",
    "print(\"Similarity Score:\", similarity_score)"
   ]
  },
  {
   "cell_type": "code",
   "execution_count": 184,
   "metadata": {},
   "outputs": [
    {
     "name": "stdout",
     "output_type": "stream",
     "text": [
      "Color Palette 7\n",
      "Subject Matter 7\n",
      "Mood/Emotion 7\n",
      "Style/Aesthetic 7\n",
      "Setting/Location 7\n",
      "Time Period 7\n",
      "Cultural/Symbolic Representation 7\n"
     ]
    }
   ],
   "source": [
    "test_obj = {\n",
    "  \"Color Palette\": [\"Vibrant\", \"Monochromatic\", \"Pastel\", \"Earthy\", \"Neon\", \"Muted\", \"Bold\"],\n",
    "  \"Subject Matter\": [\"Landscape\", \"Portrait\", \"Still life\", \"Abstract\", \"Urban\", \"Nature\", \"Architecture\"],\n",
    "  \"Mood/Emotion\": [\"Serene\", \"Energetic\", \"Melancholic\", \"Joyful\", \"Mysterious\", \"Peaceful\", \"Dramatic\"],\n",
    "  \"Style/Aesthetic\": [\"Realism\", \"Impressionism\", \"Surrealism\", \"Minimalism\", \"Expressionism\", \"Cubism\", \"Romanticism\"],\n",
    "  \"Setting/Location\": [\"Cityscape\", \"Countryside\", \"Beach\", \"Forest\", \"Mountains\", \"Urban\", \"Rural\"],\n",
    "  \"Time Period\": [\"Contemporary\", \"Renaissance\", \"Medieval\", \"Modern\", \"Ancient\", \"Futuristic\", \"Victorian\"],\n",
    "  \"Cultural/Symbolic Representation\": [\"Religious\", \"Political\", \"Mythological\", \"Historical\", \"Indigenous\", \"Pop culture\", \"Folklore\"]\n",
    "}\n",
    "\n",
    "for key, value in test_obj.items():\n",
    "    print(key, len(value))"
   ]
  },
  {
   "cell_type": "code",
   "execution_count": 185,
   "metadata": {},
   "outputs": [],
   "source": [
    "def image_labels_discimilarity(image_attributes, user_attributes):\n",
    "\n",
    "    total_distance = 0\n",
    "    \n",
    "    for key, value in image_attributes.items():\n",
    "\n",
    "        user_value = user_attributes[key]\n",
    "        distance = array_ordering_discimilarity(value, user_value)\n",
    "        total_distance += distance\n",
    "    \n",
    "    return total_distance"
   ]
  },
  {
   "cell_type": "code",
   "execution_count": 187,
   "metadata": {},
   "outputs": [
    {
     "name": "stdout",
     "output_type": "stream",
     "text": [
      "index_dict: {'Vibrant': 0, 'Bold': 1, 'Earthy': 2, 'Muted': 3, 'Monochromatic': 4, 'Pastel': 5, 'Neon': 6}\n",
      "index_dict: {'Abstract': 0, 'Nature': 1, 'Portrait': 2, 'Still life': 3, 'Landscape': 4, 'Urban': 5, 'Architecture': 6}\n",
      "index_dict: {'Energetic': 0, 'Dramatic': 1, 'Serene': 2, 'Mysterious': 3, 'Peaceful': 4, 'Joyful': 5, 'Melancholic': 6}\n",
      "index_dict: {'Minimalism': 0, 'Surrealism': 1, 'Realism': 2, 'Impressionism': 3, 'Expressionism': 4, 'Cubism': 5, 'Romanticism': 6}\n",
      "index_dict: {'Forest': 0, 'Rural': 1, 'Countryside': 2, 'Mountains': 3, 'Cityscape': 4, 'Urban': 5, 'Beach': 6}\n",
      "index_dict: {'Modern': 0, 'Contemporary': 1, 'Futuristic': 2, 'Victorian': 3, 'Renaissance': 4, 'Medieval': 5, 'Ancient': 6}\n",
      "index_dict: {'Pop culture': 0, 'Folklore': 1, 'Mythological': 2, 'Historical': 3, 'Indigenous': 4, 'Religious': 5, 'Political': 6}\n",
      "Test Distance: 110\n"
     ]
    }
   ],
   "source": [
    "test_distance = image_labels_discimilarity(test_obj, obj)\n",
    "print(\"Test Distance:\", test_distance)"
   ]
  },
  {
   "cell_type": "code",
   "execution_count": 188,
   "metadata": {},
   "outputs": [
    {
     "name": "stdout",
     "output_type": "stream",
     "text": [
      "{\n",
      "    \"Color Palette\": [\n",
      "        \"Vibrant\",\n",
      "        \"Bold\",\n",
      "        \"Earthy\",\n",
      "        \"Muted\",\n",
      "        \"Pastel\",\n",
      "        \"Monochromatic\",\n",
      "        \"Neon\"\n",
      "    ],\n",
      "    \"Subject Matter\": [\n",
      "        \"Landscape\",\n",
      "        \"Nature\",\n",
      "        \"Still life\",\n",
      "        \"Abstract\",\n",
      "        \"Urban\",\n",
      "        \"Architecture\",\n",
      "        \"Portrait\"\n",
      "    ],\n",
      "    \"Mood/Emotion\": [\n",
      "        \"Serene\",\n",
      "        \"Peaceful\",\n",
      "        \"Dramatic\",\n",
      "        \"Mysterious\",\n",
      "        \"Energetic\",\n",
      "        \"Joyful\",\n",
      "        \"Melancholic\"\n",
      "    ],\n",
      "    \"Style/Aesthetic\": [\n",
      "        \"Realism\",\n",
      "        \"Impressionism\",\n",
      "        \"Minimalism\",\n",
      "        \"Romanticism\",\n",
      "        \"Expressionism\",\n",
      "        \"Surrealism\",\n",
      "        \"Cubism\"\n",
      "    ],\n",
      "    \"Setting/Location\": [\n",
      "        \"Mountains\",\n",
      "        \"Countryside\",\n",
      "        \"Forest\",\n",
      "        \"Rural\",\n",
      "        \"Beach\",\n",
      "        \"Cityscape\",\n",
      "        \"Urban\"\n",
      "    ],\n",
      "    \"Time Period\": [\n",
      "        \"Contemporary\",\n",
      "        \"Modern\",\n",
      "        \"Futuristic\",\n",
      "        \"Ancient\",\n",
      "        \"Medieval\",\n",
      "        \"Renaissance\",\n",
      "        \"Victorian\"\n",
      "    ],\n",
      "    \"Cultural/Symbolic Representation\": [\n",
      "        \"Historical\",\n",
      "        \"Indigenous\",\n",
      "        \"Mythological\",\n",
      "        \"Folklore\",\n",
      "        \"Religious\",\n",
      "        \"Political\",\n",
      "        \"Pop culture\"\n",
      "    ]\n",
      "}\n"
     ]
    }
   ],
   "source": [
    "test_url1 = \"https://upload.wikimedia.org/wikipedia/commons/e/e2/Lake_Tekapo_01.jpg\"\n",
    "test_url1_attributes = description_to_all_attributes(image_to_text(test_url1))\n",
    "print(json.dumps(test_url1_attributes, indent=4))"
   ]
  },
  {
   "cell_type": "code",
   "execution_count": 190,
   "metadata": {},
   "outputs": [
    {
     "name": "stdout",
     "output_type": "stream",
     "text": [
      "index_dict: {'Vibrant': 0, 'Monochromatic': 1, 'Pastel': 2, 'Earthy': 3, 'Neon': 4, 'Muted': 5, 'Bold': 6}\n",
      "index_dict: {'Landscape': 0, 'Portrait': 1, 'Still life': 2, 'Abstract': 3, 'Urban': 4, 'Nature': 5, 'Architecture': 6}\n",
      "index_dict: {'Serene': 0, 'Energetic': 1, 'Melancholic': 2, 'Joyful': 3, 'Mysterious': 4, 'Peaceful': 5, 'Dramatic': 6}\n",
      "index_dict: {'Realism': 0, 'Impressionism': 1, 'Surrealism': 2, 'Minimalism': 3, 'Expressionism': 4, 'Cubism': 5, 'Romanticism': 6}\n",
      "index_dict: {'Cityscape': 0, 'Countryside': 1, 'Beach': 2, 'Forest': 3, 'Mountains': 4, 'Urban': 5, 'Rural': 6}\n",
      "index_dict: {'Contemporary': 0, 'Renaissance': 1, 'Medieval': 2, 'Modern': 3, 'Ancient': 4, 'Futuristic': 5, 'Victorian': 6}\n",
      "index_dict: {'Religious': 0, 'Political': 1, 'Mythological': 2, 'Historical': 3, 'Indigenous': 4, 'Pop culture': 5, 'Folklore': 6}\n",
      "Test Distance URL1: 98\n"
     ]
    }
   ],
   "source": [
    "test_distance_url1 = image_labels_discimilarity(test_url1_attributes, test_obj)\n",
    "print(\"Test Distance URL1:\", test_distance_url1)"
   ]
  },
  {
   "cell_type": "code",
   "execution_count": 195,
   "metadata": {},
   "outputs": [
    {
     "name": "stdout",
     "output_type": "stream",
     "text": [
      "{'Color Palette': ['Vibrant', 'Earthy', 'Pastel', 'Muted', 'Bold', 'Neon', 'Monochromatic'], 'Subject Matter': ['Portrait', 'Landscape', 'Nature', 'Still life', 'Urban', 'Abstract', 'Architecture'], 'Mood/Emotion': ['Joyful', 'Serene', 'Peaceful', 'Energetic', 'Dramatic', 'Mysterious', 'Melancholic'], 'Style/Aesthetic': ['Realism', 'Impressionism', 'Romanticism', 'Expressionism', 'Minimalism', 'Surrealism', 'Cubism'], 'Setting/Location': ['Rural', 'Forest', 'Countryside', 'Mountains', 'Beach', 'Cityscape', 'Urban'], 'Time Period': ['Contemporary', 'Modern', 'Victorian', 'Renaissance', 'Medieval', 'Ancient', 'Futuristic'], 'Cultural/Symbolic Representation': ['Folklore', 'Historical', 'Indigenous', 'Mythological', 'Political', 'Religious', 'Pop culture']}\n"
     ]
    }
   ],
   "source": [
    "test_url2 = \"https://upload.wikimedia.org/wikipedia/commons/8/82/Найкращі_миті_життя.jpg\"\n",
    "test_url2_attributes = description_to_all_attributes(image_to_text(test_url2))\n",
    "print(test_url2_attributes)"
   ]
  },
  {
   "cell_type": "code",
   "execution_count": 196,
   "metadata": {},
   "outputs": [
    {
     "name": "stdout",
     "output_type": "stream",
     "text": [
      "index_dict: {'Vibrant': 0, 'Monochromatic': 1, 'Pastel': 2, 'Earthy': 3, 'Neon': 4, 'Muted': 5, 'Bold': 6}\n",
      "index_dict: {'Landscape': 0, 'Portrait': 1, 'Still life': 2, 'Abstract': 3, 'Urban': 4, 'Nature': 5, 'Architecture': 6}\n",
      "index_dict: {'Serene': 0, 'Energetic': 1, 'Melancholic': 2, 'Joyful': 3, 'Mysterious': 4, 'Peaceful': 5, 'Dramatic': 6}\n",
      "index_dict: {'Realism': 0, 'Impressionism': 1, 'Surrealism': 2, 'Minimalism': 3, 'Expressionism': 4, 'Cubism': 5, 'Romanticism': 6}\n",
      "index_dict: {'Cityscape': 0, 'Countryside': 1, 'Beach': 2, 'Forest': 3, 'Mountains': 4, 'Urban': 5, 'Rural': 6}\n",
      "index_dict: {'Contemporary': 0, 'Renaissance': 1, 'Medieval': 2, 'Modern': 3, 'Ancient': 4, 'Futuristic': 5, 'Victorian': 6}\n",
      "index_dict: {'Religious': 0, 'Political': 1, 'Mythological': 2, 'Historical': 3, 'Indigenous': 4, 'Pop culture': 5, 'Folklore': 6}\n",
      "Test Distance URL2: 96\n"
     ]
    }
   ],
   "source": [
    "test_distance_url2 = image_labels_discimilarity(test_url2_attributes, test_obj)\n",
    "print(\"Test Distance URL2:\", test_distance_url2)"
   ]
  },
  {
   "cell_type": "code",
   "execution_count": 241,
   "metadata": {},
   "outputs": [
    {
     "name": "stdout",
     "output_type": "stream",
     "text": [
      "{'Color Palette': ['Earthy', 'Muted', 'Bold', 'Monochromatic', 'Vibrant', 'Pastel', 'Neon'], 'Subject Matter': ['Architecture', 'Urban', 'Nature', 'Abstract', 'Landscape', 'Portrait', 'Still life'], 'Mood/Emotion': ['Dramatic', 'Melancholic', 'Mysterious', 'Serene', 'Energetic', 'Peaceful', 'Joyful'], 'Style/Aesthetic': ['Realism', 'Expressionism', 'Surrealism', 'Minimalism', 'Impressionism', 'Cubism', 'Romanticism'], 'Setting/Location': ['Urban', 'Rural', 'Cityscape', 'Countryside', 'Forest', 'Mountains', 'Beach'], 'Time Period': ['Modern', 'Contemporary', 'Victorian', 'Renaissance', 'Medieval', 'Ancient', 'Futuristic'], 'Cultural/Symbolic Representation': ['Historical', 'Political', 'Mythological', 'Religious', 'Indigenous', 'Pop culture', 'Folklore']}\n"
     ]
    }
   ],
   "source": [
    "test_url3 = \"https://upload.wikimedia.org/wikipedia/commons/6/69/Russia._Industry_Orekhovo-Zuevo._img-004.jpg\"\n",
    "test_url3_attributes = description_to_all_attributes(image_to_text(test_url3))\n",
    "print(test_url3_attributes)"
   ]
  },
  {
   "cell_type": "code",
   "execution_count": 325,
   "metadata": {},
   "outputs": [
    {
     "name": "stdout",
     "output_type": "stream",
     "text": [
      "['Earthy', 'Muted', 'Bold', 'Monochromatic', 'Vibrant', 'Pastel', 'Neon']\n",
      "['Architecture', 'Urban', 'Nature', 'Abstract', 'Landscape', 'Portrait', 'Still life']\n",
      "['Dramatic', 'Melancholic', 'Mysterious', 'Serene', 'Energetic', 'Peaceful', 'Joyful']\n",
      "['Realism', 'Expressionism', 'Surrealism', 'Minimalism', 'Impressionism', 'Cubism', 'Romanticism']\n",
      "['Urban', 'Rural', 'Cityscape', 'Countryside', 'Forest', 'Mountains', 'Beach']\n",
      "['Modern', 'Contemporary', 'Victorian', 'Renaissance', 'Medieval', 'Ancient', 'Futuristic']\n",
      "['Historical', 'Political', 'Mythological', 'Religious', 'Indigenous', 'Pop culture', 'Folklore']\n",
      "Test Distance URL3: 110\n"
     ]
    }
   ],
   "source": [
    "test_distance_url3 = image_labels_discimilarity(test_url3_attributes, test_obj)\n",
    "print(\"Test Distance URL3:\", test_distance_url3)"
   ]
  },
  {
   "cell_type": "code",
   "execution_count": 326,
   "metadata": {},
   "outputs": [
    {
     "name": "stdout",
     "output_type": "stream",
     "text": [
      "['Vibrant', 'Bold', 'Earthy', 'Muted', 'Pastel', 'Monochromatic', 'Neon']\n",
      "['Landscape', 'Nature', 'Still life', 'Abstract', 'Urban', 'Architecture', 'Portrait']\n",
      "['Serene', 'Peaceful', 'Dramatic', 'Mysterious', 'Energetic', 'Joyful', 'Melancholic']\n",
      "['Realism', 'Impressionism', 'Minimalism', 'Romanticism', 'Expressionism', 'Surrealism', 'Cubism']\n",
      "['Mountains', 'Countryside', 'Forest', 'Rural', 'Beach', 'Cityscape', 'Urban']\n",
      "['Contemporary', 'Modern', 'Futuristic', 'Ancient', 'Medieval', 'Renaissance', 'Victorian']\n",
      "['Historical', 'Indigenous', 'Mythological', 'Folklore', 'Religious', 'Political', 'Pop culture']\n",
      "['Vibrant', 'Bold', 'Earthy', 'Muted', 'Pastel', 'Monochromatic', 'Neon']\n",
      "['Landscape', 'Nature', 'Still life', 'Abstract', 'Urban', 'Architecture', 'Portrait']\n",
      "['Serene', 'Peaceful', 'Dramatic', 'Mysterious', 'Energetic', 'Joyful', 'Melancholic']\n",
      "['Realism', 'Impressionism', 'Minimalism', 'Romanticism', 'Expressionism', 'Surrealism', 'Cubism']\n",
      "['Mountains', 'Countryside', 'Forest', 'Rural', 'Beach', 'Cityscape', 'Urban']\n",
      "['Contemporary', 'Modern', 'Futuristic', 'Ancient', 'Medieval', 'Renaissance', 'Victorian']\n",
      "['Historical', 'Indigenous', 'Mythological', 'Folklore', 'Religious', 'Political', 'Pop culture']\n",
      "['Vibrant', 'Earthy', 'Pastel', 'Muted', 'Bold', 'Neon', 'Monochromatic']\n",
      "['Portrait', 'Landscape', 'Nature', 'Still life', 'Urban', 'Abstract', 'Architecture']\n",
      "['Joyful', 'Serene', 'Peaceful', 'Energetic', 'Dramatic', 'Mysterious', 'Melancholic']\n",
      "['Realism', 'Impressionism', 'Romanticism', 'Expressionism', 'Minimalism', 'Surrealism', 'Cubism']\n",
      "['Rural', 'Forest', 'Countryside', 'Mountains', 'Beach', 'Cityscape', 'Urban']\n",
      "['Contemporary', 'Modern', 'Victorian', 'Renaissance', 'Medieval', 'Ancient', 'Futuristic']\n",
      "['Folklore', 'Historical', 'Indigenous', 'Mythological', 'Political', 'Religious', 'Pop culture']\n",
      "Disimilarity between test_url1 and test_url2: 64\n",
      "Disimilarity between test_url1 and test_url3: 108\n",
      "Disimilarity between test_url2 and test_url3: 112\n"
     ]
    }
   ],
   "source": [
    "dis_12 = image_labels_discimilarity(test_url1_attributes, test_url2_attributes)\n",
    "dis_13 = image_labels_discimilarity(test_url1_attributes, test_url3_attributes)\n",
    "dis_23 = image_labels_discimilarity(test_url2_attributes, test_url3_attributes)\n",
    "\n",
    "print(\"Disimilarity between test_url1 and test_url2:\", dis_12)\n",
    "print(\"Disimilarity between test_url1 and test_url3:\", dis_13)\n",
    "print(\"Disimilarity between test_url2 and test_url3:\", dis_23)"
   ]
  },
  {
   "cell_type": "markdown",
   "metadata": {},
   "source": [
    "## Putting the above code into a function that does it all\n",
    "\n",
    "- Takes various images and calculates and plots them on a graph based on their dissimilairty distance.\n",
    "- Is able to take in uploaded images - not just wiki media URL - specifically the art images from our dataset.\n",
    "- It is able to calculate total dissimilarity and specific label discimilairty between images\n",
    "- more trouble-shooting so that the image-to-text to json works every time."
   ]
  },
  {
   "cell_type": "markdown",
   "metadata": {},
   "source": [
    "### Function to calculate dissimilarity for a specific label"
   ]
  },
  {
   "cell_type": "code",
   "execution_count": 327,
   "metadata": {},
   "outputs": [],
   "source": [
    "def label_dissimilarity(image_attributes, user_attributes, label):\n",
    "    \n",
    "    image_value = image_attributes.get(label)\n",
    "    user_value = user_attributes.get(label)\n",
    "    \n",
    "    \n",
    "    # Calculate the dissimilarity score between the two arrays\n",
    "    distance = array_ordering_discimilarity(image_value, user_value)\n",
    "    \n",
    "    return distance\n"
   ]
  },
  {
   "cell_type": "code",
   "execution_count": 328,
   "metadata": {},
   "outputs": [
    {
     "name": "stdout",
     "output_type": "stream",
     "text": [
      "['Vibrant', 'Bold', 'Earthy', 'Muted', 'Pastel', 'Monochromatic', 'Neon']\n",
      "['Landscape', 'Nature', 'Still life', 'Abstract', 'Urban', 'Architecture', 'Portrait']\n",
      "Disimilarity between test_url1 and test_url2 for Color Palette: 8\n",
      "Disimilarity between test_url1 and test_url2 for Subject Matter: 12\n"
     ]
    }
   ],
   "source": [
    "dis_12_color = label_dissimilarity(test_url1_attributes, test_url2_attributes, \"Color Palette\")\n",
    "dis_12_subject = label_dissimilarity(test_url1_attributes, test_url2_attributes, \"Subject Matter\")\n",
    "\n",
    "print(\"Disimilarity between test_url1 and test_url2 for Color Palette:\", dis_12_color)\n",
    "print(\"Disimilarity between test_url1 and test_url2 for Subject Matter:\", dis_12_subject)"
   ]
  },
  {
   "cell_type": "markdown",
   "metadata": {},
   "source": [
    "### Enhanced Image dissimilarity functino with least dissimilar label"
   ]
  },
  {
   "cell_type": "code",
   "execution_count": 246,
   "metadata": {},
   "outputs": [],
   "source": [
    "def image_labels_discimilarity_mod(image_attributes, user_attributes):\n",
    "    \n",
    "    distances = {}\n",
    "    total_distance = 0\n",
    "    \n",
    "    for key, value in image_attributes.items():\n",
    "        user_value = user_attributes.get(key)\n",
    "        \n",
    "        # If the user attribute is missing, skip\n",
    "        if user_value is None:\n",
    "            continue\n",
    "        \n",
    "        distance = array_ordering_discimilarity(value, user_value)\n",
    "        total_distance += distance\n",
    "        distances[key] = distance\n",
    "    \n",
    "    # Sort labels based on distances in ascending order\n",
    "    ordered_labels = sorted(distances, key=distances.get)\n",
    "    \n",
    "    return total_distance, ordered_labels"
   ]
  },
  {
   "cell_type": "code",
   "execution_count": 247,
   "metadata": {},
   "outputs": [
    {
     "name": "stdout",
     "output_type": "stream",
     "text": [
      "['Vibrant', 'Bold', 'Earthy', 'Muted', 'Pastel', 'Monochromatic', 'Neon']\n",
      "['Landscape', 'Nature', 'Still life', 'Abstract', 'Urban', 'Architecture', 'Portrait']\n",
      "['Serene', 'Peaceful', 'Dramatic', 'Mysterious', 'Energetic', 'Joyful', 'Melancholic']\n",
      "['Realism', 'Impressionism', 'Minimalism', 'Romanticism', 'Expressionism', 'Surrealism', 'Cubism']\n",
      "['Mountains', 'Countryside', 'Forest', 'Rural', 'Beach', 'Cityscape', 'Urban']\n",
      "['Contemporary', 'Modern', 'Futuristic', 'Ancient', 'Medieval', 'Renaissance', 'Victorian']\n",
      "['Historical', 'Indigenous', 'Mythological', 'Folklore', 'Religious', 'Political', 'Pop culture']\n",
      "Disimilarity between test_url1 and test_url2 (Modified): 64\n",
      "Ordered Labels: ['Style/Aesthetic', 'Color Palette', 'Setting/Location', 'Cultural/Symbolic Representation', 'Subject Matter', 'Mood/Emotion', 'Time Period']\n"
     ]
    }
   ],
   "source": [
    "dis_12_mod, label_12 = image_labels_discimilarity_mod(test_url1_attributes, test_url2_attributes)\n",
    "\n",
    "print(\"Disimilarity between test_url1 and test_url2 (Modified):\", dis_12_mod)\n",
    "print(\"Ordered Labels:\", label_12)"
   ]
  },
  {
   "cell_type": "markdown",
   "metadata": {},
   "source": [
    "### Look into other metrics to quantify similairty between image labels\n",
    "### Potentially enhance attribute list for images"
   ]
  },
  {
   "cell_type": "code",
   "execution_count": 248,
   "metadata": {},
   "outputs": [],
   "source": [
    "art_url_1 = \"https://upload.wikimedia.org/wikipedia/commons/0/0d/Great_Wave_off_Kanagawa2.jpg\"\n",
    "art_url_2 = \"https://upload.wikimedia.org/wikipedia/commons/9/94/The_Nightwatch_by_Rembrandt_-_Rijksmuseum.jpg\"\n",
    "art_url_3 = \"https://upload.wikimedia.org/wikipedia/commons/b/b6/Sebastiano_Ricci_002.jpg\""
   ]
  },
  {
   "cell_type": "code",
   "execution_count": 249,
   "metadata": {},
   "outputs": [
    {
     "name": "stdout",
     "output_type": "stream",
     "text": [
      "Attributes for Art URL 1: {'Color Palette': ['Bold', 'Vibrant', 'Monochromatic', 'Muted', 'Neon', 'Pastel', 'Earthy'], 'Subject Matter': ['Nature', 'Landscape', 'Abstract', 'Still life', 'Portrait', 'Urban', 'Architecture'], 'Mood/Emotion': ['Dramatic', 'Mysterious', 'Serene', 'Energetic', 'Melancholic', 'Peaceful', 'Joyful'], 'Style/Aesthetic': ['Realism', 'Impressionism', 'Romanticism', 'Surrealism', 'Minimalism', 'Expressionism', 'Cubism'], 'Setting/Location': ['Beach', 'Mountains', 'Countryside', 'Forest', 'Cityscape', 'Rural', 'Urban'], 'Time Period': ['Modern', 'Contemporary', 'Ancient', 'Renaissance', 'Medieval', 'Victorian', 'Futuristic'], 'Cultural/Symbolic Representation': ['Mythological', 'Historical', 'Folklore', 'Religious', 'Pop culture', 'Political', 'Indigenous']}\n"
     ]
    }
   ],
   "source": [
    "text_1 = image_to_text(art_url_1)\n",
    "attributes_1 = description_to_all_attributes(text_1)\n",
    "\n",
    "print(\"Attributes for Art URL 1:\", attributes_1)"
   ]
  },
  {
   "cell_type": "code",
   "execution_count": 102,
   "metadata": {},
   "outputs": [
    {
     "name": "stdout",
     "output_type": "stream",
     "text": [
      "Disimilarity between Art URL 1 and test object: 104\n"
     ]
    }
   ],
   "source": [
    "# testing against test object\n",
    "\n",
    "dis_1 = image_labels_discimilarity(attributes_1, test_obj)\n",
    "print(\"Disimilarity between Art URL 1 and test object:\", dis_1)"
   ]
  },
  {
   "cell_type": "code",
   "execution_count": 250,
   "metadata": {},
   "outputs": [
    {
     "name": "stdout",
     "output_type": "stream",
     "text": [
      "Attributes for Art URL 2: {'Color Palette': ['Bold', 'Vibrant', 'Muted', 'Earthy', 'Monochromatic', 'Pastel', 'Neon'], 'Subject Matter': ['Portrait', 'Urban', 'Still life', 'Abstract', 'Landscape', 'Nature', 'Architecture'], 'Mood/Emotion': ['Dramatic', 'Energetic', 'Serene', 'Mysterious', 'Melancholic', 'Joyful', 'Peaceful'], 'Style/Aesthetic': ['Realism', 'Romanticism', 'Expressionism', 'Impressionism', 'Surrealism', 'Minimalism', 'Cubism'], 'Setting/Location': ['Cityscape', 'Urban', 'Forest', 'Countryside', 'Beach', 'Mountains', 'Rural'], 'Time Period': ['Renaissance', 'Medieval', 'Modern', 'Ancient', 'Contemporary', 'Victorian', 'Futuristic'], 'Cultural/Symbolic Representation': ['Historical', 'Political', 'Religious', 'Folklore', 'Mythological', 'Pop culture', 'Indigenous']}\n"
     ]
    }
   ],
   "source": [
    "text_2 = image_to_text(art_url_2)\n",
    "attributes_2 = description_to_all_attributes(text_2)\n",
    "\n",
    "print(\"Attributes for Art URL 2:\", attributes_2)"
   ]
  },
  {
   "cell_type": "code",
   "execution_count": 251,
   "metadata": {},
   "outputs": [
    {
     "name": "stdout",
     "output_type": "stream",
     "text": [
      "['Bold', 'Vibrant', 'Muted', 'Earthy', 'Monochromatic', 'Pastel', 'Neon']\n",
      "['Portrait', 'Urban', 'Still life', 'Abstract', 'Landscape', 'Nature', 'Architecture']\n",
      "['Dramatic', 'Energetic', 'Serene', 'Mysterious', 'Melancholic', 'Joyful', 'Peaceful']\n",
      "['Realism', 'Romanticism', 'Expressionism', 'Impressionism', 'Surrealism', 'Minimalism', 'Cubism']\n",
      "['Cityscape', 'Urban', 'Forest', 'Countryside', 'Beach', 'Mountains', 'Rural']\n",
      "['Renaissance', 'Medieval', 'Modern', 'Ancient', 'Contemporary', 'Victorian', 'Futuristic']\n",
      "['Historical', 'Political', 'Religious', 'Folklore', 'Mythological', 'Pop culture', 'Indigenous']\n",
      "Disimilarity between Art URL 2 and test object: 86\n"
     ]
    }
   ],
   "source": [
    "# testing against test object\n",
    "\n",
    "dis_2 = image_labels_discimilarity(attributes_2, test_obj)\n",
    "print(\"Disimilarity between Art URL 2 and test object:\", dis_2)"
   ]
  },
  {
   "cell_type": "code",
   "execution_count": 252,
   "metadata": {},
   "outputs": [
    {
     "name": "stdout",
     "output_type": "stream",
     "text": [
      "Attributes for Art URL 3: {'Color Palette': ['Vibrant', 'Bold', 'Muted', 'Earthy', 'Monochromatic', 'Pastel', 'Neon'], 'Subject Matter': ['Portrait', 'Nature', 'Landscape', 'Abstract', 'Architecture', 'Urban', 'Still life'], 'Mood/Emotion': ['Dramatic', 'Joyful', 'Energetic', 'Peaceful', 'Mysterious', 'Serene', 'Melancholic'], 'Style/Aesthetic': ['Romanticism', 'Realism', 'Impressionism', 'Expressionism', 'Surrealism', 'Cubism', 'Minimalism'], 'Setting/Location': ['Countryside', 'Forest', 'Beach', 'Urban', 'Cityscape', 'Rural', 'Mountains'], 'Time Period': ['Ancient', 'Renaissance', 'Contemporary', 'Modern', 'Medieval', 'Victorian', 'Futuristic'], 'Cultural/Symbolic Representation': ['Mythological', 'Historical', 'Religious', 'Political', 'Folklore', 'Indigenous', 'Pop culture']}\n"
     ]
    }
   ],
   "source": [
    "text_3 = image_to_text(art_url_3)\n",
    "attributes_3 = description_to_all_attributes(text_3)\n",
    "\n",
    "print(\"Attributes for Art URL 3:\", attributes_3)"
   ]
  },
  {
   "cell_type": "code",
   "execution_count": 253,
   "metadata": {},
   "outputs": [
    {
     "name": "stdout",
     "output_type": "stream",
     "text": [
      "['Vibrant', 'Bold', 'Muted', 'Earthy', 'Monochromatic', 'Pastel', 'Neon']\n",
      "['Portrait', 'Nature', 'Landscape', 'Abstract', 'Architecture', 'Urban', 'Still life']\n",
      "['Dramatic', 'Joyful', 'Energetic', 'Peaceful', 'Mysterious', 'Serene', 'Melancholic']\n",
      "['Romanticism', 'Realism', 'Impressionism', 'Expressionism', 'Surrealism', 'Cubism', 'Minimalism']\n",
      "['Countryside', 'Forest', 'Beach', 'Urban', 'Cityscape', 'Rural', 'Mountains']\n",
      "['Ancient', 'Renaissance', 'Contemporary', 'Modern', 'Medieval', 'Victorian', 'Futuristic']\n",
      "['Mythological', 'Historical', 'Religious', 'Political', 'Folklore', 'Indigenous', 'Pop culture']\n",
      "Disimilarity between Art URL 3 and test object: 98\n"
     ]
    }
   ],
   "source": [
    "# testing against test object\n",
    "\n",
    "dis_3 = image_labels_discimilarity(attributes_3, test_obj)\n",
    "print(\"Disimilarity between Art URL 3 and test object:\", dis_3)"
   ]
  },
  {
   "cell_type": "code",
   "execution_count": 254,
   "metadata": {},
   "outputs": [
    {
     "name": "stdout",
     "output_type": "stream",
     "text": [
      "['Bold', 'Vibrant', 'Monochromatic', 'Muted', 'Neon', 'Pastel', 'Earthy']\n",
      "['Nature', 'Landscape', 'Abstract', 'Still life', 'Portrait', 'Urban', 'Architecture']\n",
      "['Dramatic', 'Mysterious', 'Serene', 'Energetic', 'Melancholic', 'Peaceful', 'Joyful']\n",
      "['Realism', 'Impressionism', 'Romanticism', 'Surrealism', 'Minimalism', 'Expressionism', 'Cubism']\n",
      "['Beach', 'Mountains', 'Countryside', 'Forest', 'Cityscape', 'Rural', 'Urban']\n",
      "['Modern', 'Contemporary', 'Ancient', 'Renaissance', 'Medieval', 'Victorian', 'Futuristic']\n",
      "['Mythological', 'Historical', 'Folklore', 'Religious', 'Pop culture', 'Political', 'Indigenous']\n",
      "['Bold', 'Vibrant', 'Monochromatic', 'Muted', 'Neon', 'Pastel', 'Earthy']\n",
      "['Nature', 'Landscape', 'Abstract', 'Still life', 'Portrait', 'Urban', 'Architecture']\n",
      "['Dramatic', 'Mysterious', 'Serene', 'Energetic', 'Melancholic', 'Peaceful', 'Joyful']\n",
      "['Realism', 'Impressionism', 'Romanticism', 'Surrealism', 'Minimalism', 'Expressionism', 'Cubism']\n",
      "['Beach', 'Mountains', 'Countryside', 'Forest', 'Cityscape', 'Rural', 'Urban']\n",
      "['Modern', 'Contemporary', 'Ancient', 'Renaissance', 'Medieval', 'Victorian', 'Futuristic']\n",
      "['Mythological', 'Historical', 'Folklore', 'Religious', 'Pop culture', 'Political', 'Indigenous']\n",
      "['Bold', 'Vibrant', 'Muted', 'Earthy', 'Monochromatic', 'Pastel', 'Neon']\n",
      "['Portrait', 'Urban', 'Still life', 'Abstract', 'Landscape', 'Nature', 'Architecture']\n",
      "['Dramatic', 'Energetic', 'Serene', 'Mysterious', 'Melancholic', 'Joyful', 'Peaceful']\n",
      "['Realism', 'Romanticism', 'Expressionism', 'Impressionism', 'Surrealism', 'Minimalism', 'Cubism']\n",
      "['Cityscape', 'Urban', 'Forest', 'Countryside', 'Beach', 'Mountains', 'Rural']\n",
      "['Renaissance', 'Medieval', 'Modern', 'Ancient', 'Contemporary', 'Victorian', 'Futuristic']\n",
      "['Historical', 'Political', 'Religious', 'Folklore', 'Mythological', 'Pop culture', 'Indigenous']\n",
      "Disimilarity between Art URL 1 and Art URL 2: 84\n",
      "Disimilarity between Art URL 1 and Art URL 3: 78\n",
      "Disimilarity between Art URL 2 and Art URL 3: 72\n",
      "['Bold', 'Vibrant', 'Monochromatic', 'Muted', 'Neon', 'Pastel', 'Earthy']\n",
      "['Nature', 'Landscape', 'Abstract', 'Still life', 'Portrait', 'Urban', 'Architecture']\n",
      "['Dramatic', 'Mysterious', 'Serene', 'Energetic', 'Melancholic', 'Peaceful', 'Joyful']\n",
      "['Realism', 'Impressionism', 'Romanticism', 'Surrealism', 'Minimalism', 'Expressionism', 'Cubism']\n",
      "['Beach', 'Mountains', 'Countryside', 'Forest', 'Cityscape', 'Rural', 'Urban']\n",
      "['Modern', 'Contemporary', 'Ancient', 'Renaissance', 'Medieval', 'Victorian', 'Futuristic']\n",
      "['Mythological', 'Historical', 'Folklore', 'Religious', 'Pop culture', 'Political', 'Indigenous']\n",
      "Disimilarity between Art URL 1 and Art URL 2 (Modified): 84\n",
      "Ordered Labels: ['Mood/Emotion', 'Color Palette', 'Style/Aesthetic', 'Time Period', 'Cultural/Symbolic Representation', 'Subject Matter', 'Setting/Location']\n",
      "['Bold', 'Vibrant', 'Muted', 'Earthy', 'Monochromatic', 'Pastel', 'Neon']\n",
      "['Portrait', 'Urban', 'Still life', 'Abstract', 'Landscape', 'Nature', 'Architecture']\n",
      "['Dramatic', 'Energetic', 'Serene', 'Mysterious', 'Melancholic', 'Joyful', 'Peaceful']\n",
      "['Realism', 'Romanticism', 'Expressionism', 'Impressionism', 'Surrealism', 'Minimalism', 'Cubism']\n",
      "['Cityscape', 'Urban', 'Forest', 'Countryside', 'Beach', 'Mountains', 'Rural']\n",
      "['Renaissance', 'Medieval', 'Modern', 'Ancient', 'Contemporary', 'Victorian', 'Futuristic']\n",
      "['Historical', 'Political', 'Religious', 'Folklore', 'Mythological', 'Pop culture', 'Indigenous']\n",
      "Disimilarity between Art URL 2 and Art URL 3 (Modified): 72\n",
      "Ordered Labels: ['Color Palette', 'Style/Aesthetic', 'Time Period', 'Cultural/Symbolic Representation', 'Mood/Emotion', 'Setting/Location', 'Subject Matter']\n"
     ]
    }
   ],
   "source": [
    "dis_art1_art2 = image_labels_discimilarity(attributes_1, attributes_2)\n",
    "dis_art1_art3 = image_labels_discimilarity(attributes_1, attributes_3)\n",
    "dis_art2_art3 = image_labels_discimilarity(attributes_2, attributes_3)\n",
    "\n",
    "print(\"Disimilarity between Art URL 1 and Art URL 2:\", dis_art1_art2)\n",
    "print(\"Disimilarity between Art URL 1 and Art URL 3:\", dis_art1_art3)\n",
    "print(\"Disimilarity between Art URL 2 and Art URL 3:\", dis_art2_art3)\n",
    "\n",
    "dis_art1_art2_mod, label_art1_art2 = image_labels_discimilarity_mod(attributes_1, attributes_2)\n",
    "\n",
    "print(\"Disimilarity between Art URL 1 and Art URL 2 (Modified):\", dis_art1_art2_mod)\n",
    "print(\"Ordered Labels:\", label_art1_art2)\n",
    "\n",
    "dis_art2_art3_mod, label_art2_art3 = image_labels_discimilarity_mod(attributes_2, attributes_3)\n",
    "\n",
    "print(\"Disimilarity between Art URL 2 and Art URL 3 (Modified):\", dis_art2_art3_mod)\n",
    "print(\"Ordered Labels:\", label_art2_art3)"
   ]
  },
  {
   "cell_type": "markdown",
   "metadata": {},
   "source": [
    "# VERY IMPORTANT: ENSURING THAT THE LABEL ORDERING FOR EACH IMAGE ONLY CONTAINS LABELS FROM PRE_DEFINED SET OF LABELS. RUN ABOVE CODE CELL TO UNDERSATND MORE ABOUT THIS ERROR."
   ]
  },
  {
   "cell_type": "markdown",
   "metadata": {},
   "source": []
  },
  {
   "cell_type": "markdown",
   "metadata": {},
   "source": []
  },
  {
   "cell_type": "markdown",
   "metadata": {},
   "source": [
    "# Pulling Image data from wikiart"
   ]
  },
  {
   "cell_type": "code",
   "execution_count": 348,
   "metadata": {},
   "outputs": [
    {
     "name": "stdout",
     "output_type": "stream",
     "text": [
      "{'nuvens': 'https://uploads1.wikiart.org/images/john-constable/nuvens.jpg!Large.jpg', 'mumified-frog': 'https://uploads4.wikiart.org/images/m-c-escher/mumified-frog.jpg!Large.jpg', 'easter-chimes-awaken-nature-1896': 'https://uploads0.wikiart.org/images/alphonse-mucha/easter-chimes-awaken-nature-1896.jpg!Large.jpg', 'a-rooster-1938-1': 'https://uploads1.wikiart.org/images/pablo-picasso/a-rooster-1938-1.jpg!Large.jpg', '1915-2': 'https://uploads8.wikiart.org/00209/images/kazimir-malevich/1915-2.png!Large.png'}\n",
      "5\n"
     ]
    }
   ],
   "source": [
    "import requests\n",
    "import random\n",
    "import time\n",
    "from urllib.parse import urlparse\n",
    "\n",
    "def is_url_valid(url):\n",
    "    \"\"\"\n",
    "    Check if a URL returns a 200 (OK) status code.\n",
    "    \"\"\"\n",
    "    response = requests.head(url)\n",
    "    return response.status_code == 200\n",
    "\n",
    "\n",
    "def get_images():\n",
    "\n",
    "   # Define the base URL for the WikiArt API\n",
    "    base_url = \"https://www.wikiart.org/en/App/Painting/MostViewedPaintings\"\n",
    "\n",
    "\n",
    "    # Define the parameters for the API request\n",
    "    params = {\n",
    "        \"randomSeed\": int(time.time()),\n",
    "        \"json\": 2,\n",
    "        \"inPublicDomain\": True,\n",
    "    }\n",
    "\n",
    "    # Send a GET request to the WikiArt API\n",
    "    response = requests.get(base_url, params=params)\n",
    "\n",
    "    # Check that the request was successful\n",
    "    if response.status_code == 200:\n",
    "        # Parse the JSON response\n",
    "        data = response.json()\n",
    "\n",
    "        # Extract a small sample of art image URLs\n",
    "        sample_size = 5  # Change this to the number of samples you want\n",
    "        \n",
    "        # URLs\n",
    "        image_urls = []\n",
    "\n",
    "        # Randomly select paintings from the data list\n",
    "        for painting in random.sample(data, sample_size):\n",
    "            # Check if the image URL is valid\n",
    "            if is_url_valid(painting[\"image\"]):\n",
    "                # If the URL is valid, add it to the list\n",
    "                image_urls.append(painting[\"image\"])\n",
    "\n",
    "\n",
    "        # Shuffle the list of image URLs\n",
    "        random.shuffle(image_urls)\n",
    "\n",
    "        # Now you can use the image_urls list in your OpenAI API call\n",
    "    else:\n",
    "        print(f\"Failed to get data from WikiArt API: {response.status_code}\")\n",
    "\n",
    "\n",
    "    # Create a dictionary of URLs with their corresponding names\n",
    "    url_dict = {urlparse(url).path.split('/')[-1].split('.')[0]: url for url in image_urls}\n",
    "    \n",
    "    return url_dict\n",
    "\n",
    "print(get_images())\n",
    "\n",
    "images = get_images()\n",
    "print(len(images))"
   ]
  },
  {
   "cell_type": "markdown",
   "metadata": {},
   "source": [
    "# comparing images + plotting function"
   ]
  },
  {
   "cell_type": "code",
   "execution_count": 349,
   "metadata": {},
   "outputs": [],
   "source": [
    "import matplotlib.pyplot as plt\n",
    "from urllib.parse import urlparse\n",
    "from itertools import combinations\n",
    "\n",
    "\n",
    "def compare_images(images):\n",
    "    print('images: ', json.dumps(images, indent=4))\n",
    "    image_descriptions = {}\n",
    "    for image_name, image_url in images.items():\n",
    "        print(image_name)\n",
    "        print(image_url)\n",
    "        description = image_to_text(image_url)\n",
    "        attributes = description_to_all_attributes(description)\n",
    "        image_descriptions[image_name] = attributes\n",
    "\n",
    "    comparisons = []\n",
    "    for image1, image2 in combinations(image_descriptions.keys(), 2):\n",
    "        difference = image_labels_discimilarity(image_descriptions[image1], image_descriptions[image2])\n",
    "        comparisons.append((f\"{image1} vs {image2}\", difference))\n",
    "\n",
    "    comparisons.sort(key=lambda x: x[1])\n",
    "\n",
    "    plt.figure(figsize=(10, 5))\n",
    "    plt.plot([c[0] for c in comparisons], [c[1] for c in comparisons])\n",
    "    plt.xticks(rotation=90)\n",
    "    plt.ylabel('Difference')\n",
    "    plt.title('Image Comparisons')\n",
    "    plt.show()"
   ]
  },
  {
   "cell_type": "code",
   "execution_count": 350,
   "metadata": {},
   "outputs": [
    {
     "name": "stdout",
     "output_type": "stream",
     "text": [
      "images:  {\n",
      "    \"conference-at-night\": \"https://uploads4.wikiart.org/images/edward-hopper/conference-at-night.jpg!Large.jpg\",\n",
      "    \"self-portrait-1914\": \"https://uploads2.wikiart.org/images/marc-chagall/self-portrait-1914.jpg!Large.jpg\",\n",
      "    \"to-the-parnassus-1932(2)\": \"https://uploads5.wikiart.org/images/paul-klee/to-the-parnassus-1932(2).jpg!Large.jpg\",\n",
      "    \"untitled-1937-8\": \"https://uploads0.wikiart.org/images/pablo-picasso/untitled-1937-8.jpg!Large.jpg\",\n",
      "    \"morning-sun\": \"https://uploads5.wikiart.org/images/edward-hopper/morning-sun.jpg!Large.jpg\"\n",
      "}\n",
      "conference-at-night\n",
      "https://uploads4.wikiart.org/images/edward-hopper/conference-at-night.jpg!Large.jpg\n",
      "self-portrait-1914\n",
      "https://uploads2.wikiart.org/images/marc-chagall/self-portrait-1914.jpg!Large.jpg\n",
      "to-the-parnassus-1932(2)\n",
      "https://uploads5.wikiart.org/images/paul-klee/to-the-parnassus-1932(2).jpg!Large.jpg\n",
      "untitled-1937-8\n",
      "https://uploads0.wikiart.org/images/pablo-picasso/untitled-1937-8.jpg!Large.jpg\n",
      "morning-sun\n",
      "https://uploads5.wikiart.org/images/edward-hopper/morning-sun.jpg!Large.jpg\n",
      "['Muted', 'Vibrant', 'Monochromatic', 'Bold', 'Neon', 'Pastel', 'Earthy']\n",
      "['Portrait', 'Urban', 'Still life', 'Abstract', 'Architecture', 'Landscape', 'Nature']\n",
      "['Serene', 'Mysterious', 'Dramatic', 'Melancholic', 'Peaceful', 'Energetic', 'Joyful']\n",
      "['Realism', 'Minimalism', 'Expressionism', 'Surrealism', 'Romanticism', 'Cubism', 'Impressionism']\n",
      "['Urban', 'Cityscape', 'Rural', 'Countryside', 'Mountains', 'Forest', 'Beach']\n",
      "['Modern', 'Contemporary', 'Victorian', 'Renaissance', 'Medieval', 'Ancient', 'Futuristic']\n",
      "['Political', 'Historical', 'Pop culture', 'Indigenous', 'Religious', 'Mythological', 'Folklore']\n",
      "['Muted', 'Vibrant', 'Monochromatic', 'Bold', 'Neon', 'Pastel', 'Earthy']\n",
      "['Portrait', 'Urban', 'Still life', 'Abstract', 'Architecture', 'Landscape', 'Nature']\n",
      "['Serene', 'Mysterious', 'Dramatic', 'Melancholic', 'Peaceful', 'Energetic', 'Joyful']\n",
      "['Realism', 'Minimalism', 'Expressionism', 'Surrealism', 'Romanticism', 'Cubism', 'Impressionism']\n",
      "['Urban', 'Cityscape', 'Rural', 'Countryside', 'Mountains', 'Forest', 'Beach']\n",
      "['Modern', 'Contemporary', 'Victorian', 'Renaissance', 'Medieval', 'Ancient', 'Futuristic']\n",
      "['Political', 'Historical', 'Pop culture', 'Indigenous', 'Religious', 'Mythological', 'Folklore']\n",
      "['Muted', 'Vibrant', 'Monochromatic', 'Bold', 'Neon', 'Pastel', 'Earthy']\n",
      "['Portrait', 'Urban', 'Still life', 'Abstract', 'Architecture', 'Landscape', 'Nature']\n",
      "['Serene', 'Mysterious', 'Dramatic', 'Melancholic', 'Peaceful', 'Energetic', 'Joyful']\n",
      "['Realism', 'Minimalism', 'Expressionism', 'Surrealism', 'Romanticism', 'Cubism', 'Impressionism']\n",
      "['Urban', 'Cityscape', 'Rural', 'Countryside', 'Mountains', 'Forest', 'Beach']\n",
      "['Modern', 'Contemporary', 'Victorian', 'Renaissance', 'Medieval', 'Ancient', 'Futuristic']\n",
      "['Political', 'Historical', 'Pop culture', 'Indigenous', 'Religious', 'Mythological', 'Folklore']\n",
      "['Muted', 'Vibrant', 'Monochromatic', 'Bold', 'Neon', 'Pastel', 'Earthy']\n",
      "['Portrait', 'Urban', 'Still life', 'Abstract', 'Architecture', 'Landscape', 'Nature']\n",
      "['Serene', 'Mysterious', 'Dramatic', 'Melancholic', 'Peaceful', 'Energetic', 'Joyful']\n",
      "['Realism', 'Minimalism', 'Expressionism', 'Surrealism', 'Romanticism', 'Cubism', 'Impressionism']\n",
      "['Urban', 'Cityscape', 'Rural', 'Countryside', 'Mountains', 'Forest', 'Beach']\n",
      "['Modern', 'Contemporary', 'Victorian', 'Renaissance', 'Medieval', 'Ancient', 'Futuristic']\n",
      "['Political', 'Historical', 'Pop culture', 'Indigenous', 'Religious', 'Mythological', 'Folklore']\n",
      "['Vibrant', 'Muted', 'Bold', 'Pastel', 'Monochromatic', 'Earthy', 'Neon']\n",
      "['Portrait', 'Abstract', 'Still life', 'Urban', 'Nature', 'Landscape', 'Architecture']\n",
      "['Mysterious', 'Melancholic', 'Serene', 'Dramatic', 'Peaceful', 'Joyful', 'Energetic']\n",
      "['Expressionism', 'Surrealism', 'Realism', 'Romanticism', 'Impressionism', 'Minimalism', 'Cubism']\n",
      "['Urban', 'Cityscape', 'Rural', 'Countryside', 'Forest', 'Mountains', 'Beach']\n",
      "['Modern', 'Contemporary', 'Medieval', 'Renaissance', 'Victorian', 'Ancient', 'Futuristic']\n",
      "['Historical', 'Political', 'Religious', 'Mythological', 'Indigenous', 'Pop culture', 'Folklore']\n",
      "['Vibrant', 'Muted', 'Bold', 'Pastel', 'Monochromatic', 'Earthy', 'Neon']\n",
      "['Portrait', 'Abstract', 'Still life', 'Urban', 'Nature', 'Landscape', 'Architecture']\n",
      "['Mysterious', 'Melancholic', 'Serene', 'Dramatic', 'Peaceful', 'Joyful', 'Energetic']\n",
      "['Expressionism', 'Surrealism', 'Realism', 'Romanticism', 'Impressionism', 'Minimalism', 'Cubism']\n",
      "['Urban', 'Cityscape', 'Rural', 'Countryside', 'Forest', 'Mountains', 'Beach']\n",
      "['Modern', 'Contemporary', 'Medieval', 'Renaissance', 'Victorian', 'Ancient', 'Futuristic']\n",
      "['Historical', 'Political', 'Religious', 'Mythological', 'Indigenous', 'Pop culture', 'Folklore']\n",
      "['Vibrant', 'Muted', 'Bold', 'Pastel', 'Monochromatic', 'Earthy', 'Neon']\n",
      "['Portrait', 'Abstract', 'Still life', 'Urban', 'Nature', 'Landscape', 'Architecture']\n",
      "['Mysterious', 'Melancholic', 'Serene', 'Dramatic', 'Peaceful', 'Joyful', 'Energetic']\n",
      "['Expressionism', 'Surrealism', 'Realism', 'Romanticism', 'Impressionism', 'Minimalism', 'Cubism']\n",
      "['Urban', 'Cityscape', 'Rural', 'Countryside', 'Forest', 'Mountains', 'Beach']\n",
      "['Modern', 'Contemporary', 'Medieval', 'Renaissance', 'Victorian', 'Ancient', 'Futuristic']\n",
      "['Historical', 'Political', 'Religious', 'Mythological', 'Indigenous', 'Pop culture', 'Folklore']\n",
      "['Muted', 'Earthy', 'Bold', 'Monochromatic', 'Pastel', 'Vibrant', 'Neon']\n",
      "['Abstract', 'Architecture', 'Landscape', 'Still life', 'Nature', 'Portrait', 'Urban']\n",
      "['Mysterious', 'Peaceful', 'Dramatic', 'Serene', 'Energetic', 'Joyful', 'Melancholic']\n",
      "['Surrealism', 'Minimalism', 'Expressionism', 'Realism', 'Cubism', 'Romanticism', 'Impressionism']\n",
      "['Mountains', 'Rural', 'Forest', 'Countryside', 'Cityscape', 'Beach', 'Urban']\n",
      "['Ancient', 'Modern', 'Contemporary', 'Medieval', 'Renaissance', 'Victorian', 'Futuristic']\n",
      "['Mythological', 'Historical', 'Religious', 'Indigenous', 'Political', 'Folklore', 'Pop culture']\n",
      "['Muted', 'Earthy', 'Bold', 'Monochromatic', 'Pastel', 'Vibrant', 'Neon']\n",
      "['Abstract', 'Architecture', 'Landscape', 'Still life', 'Nature', 'Portrait', 'Urban']\n",
      "['Mysterious', 'Peaceful', 'Dramatic', 'Serene', 'Energetic', 'Joyful', 'Melancholic']\n",
      "['Surrealism', 'Minimalism', 'Expressionism', 'Realism', 'Cubism', 'Romanticism', 'Impressionism']\n",
      "['Mountains', 'Rural', 'Forest', 'Countryside', 'Cityscape', 'Beach', 'Urban']\n",
      "['Ancient', 'Modern', 'Contemporary', 'Medieval', 'Renaissance', 'Victorian', 'Futuristic']\n",
      "['Mythological', 'Historical', 'Religious', 'Indigenous', 'Political', 'Folklore', 'Pop culture']\n",
      "['Earthy', 'Muted', 'Bold', 'Monochromatic', 'Pastel', 'Vibrant', 'Neon']\n",
      "['Abstract', 'Portrait', 'Still life', 'Nature', 'Urban', 'Landscape', 'Architecture']\n",
      "['Melancholic', 'Mysterious', 'Serene', 'Dramatic', 'Peaceful', 'Energetic', 'Joyful']\n",
      "['Cubism', 'Surrealism', 'Expressionism', 'Minimalism', 'Realism', 'Impressionism', 'Romanticism']\n",
      "['Urban', 'Cityscape', 'Countryside', 'Beach', 'Forest', 'Mountains', 'Rural']\n",
      "['Modern', 'Contemporary', 'Medieval', 'Renaissance', 'Ancient', 'Victorian', 'Futuristic']\n",
      "['Historical', 'Political', 'Mythological', 'Religious', 'Folklore', 'Indigenous', 'Pop culture']\n"
     ]
    },
    {
     "data": {
      "image/png": "[encoded data removed]",
      "text/plain": [
       "<Figure size 1000x500 with 1 Axes>"
      ]
     },
     "metadata": {},
     "output_type": "display_data"
    },
    {
     "name": "stdout",
     "output_type": "stream",
     "text": [
      "None\n"
     ]
    }
   ],
   "source": [
    "print(compare_images(images))"
   ]
  }
 ],
 "metadata": {
  "kernelspec": {
   "display_name": "Python 3",
   "language": "python",
   "name": "python3"
  },
  "language_info": {
   "codemirror_mode": {
    "name": "ipython",
    "version": 3
   },
   "file_extension": ".py",
   "mimetype": "text/x-python",
   "name": "python",
   "nbconvert_exporter": "python",
   "pygments_lexer": "ipython3",
   "version": "3.12.2"
  }
 },
 "nbformat": 4,
 "nbformat_minor": 2
}

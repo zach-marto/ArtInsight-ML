{
 "cells": [
  {
   "cell_type": "code",
   "execution_count": 45,
   "metadata": {},
   "outputs": [],
   "source": [
    "import requests\n",
    "\n",
    "# Define the base URL for the WikiArt API\n",
    "base_url = \"https://www.wikiart.org/en/App/Painting/MostViewedPaintings\"\n",
    "\n",
    "\n",
    "# Define the parameters for the API request\n",
    "params = {\n",
    "    \"randomSeed\": 123,\n",
    "    \"json\": 2,\n",
    "    \"inPublicDomain\": True,\n",
    "}\n",
    "\n",
    "# Send a GET request to the WikiArt API\n",
    "response = requests.get(base_url, params=params)\n",
    "\n",
    "# Check that the request was successful\n",
    "if response.status_code == 200:\n",
    "    # Parse the JSON response\n",
    "    data = response.json()\n",
    "\n",
    "    # Extract a small sample of art image URLs\n",
    "    sample_size = 30  # Change this to the number of samples you want\n",
    "    image_urls = [painting[\"image\"] for painting in data[:sample_size]]\n",
    "\n",
    "    # Now you can use the image_urls list in your OpenAI API call\n",
    "else:\n",
    "    print(f\"Failed to get data from WikiArt API: {response.status_code}\")"
   ]
  },
  {
   "cell_type": "code",
   "execution_count": 46,
   "metadata": {},
   "outputs": [
    {
     "name": "stdout",
     "output_type": "stream",
     "text": [
      "['https://uploads5.wikiart.org/00475/images/leonardo-da-vinci/0000136308-og.JPG!Large.JPG', 'https://uploads3.wikiart.org/00475/images/vincent-van-gogh/the-starry-night-1889.jpg!Large.jpg', 'https://uploads1.wikiart.org/00475/images/salvador-dali/w1siziisijm4njq3mcjdlfsiccisimnvbnzlcnqilcitcxvhbgl0esa5mcatcmvzaxplidiwmdb4mjawmfx1mdazzsjdxq.jpg!Large.jpg', 'https://uploads8.wikiart.org/images/henri-de-toulouse-lautrec/in-bed-the-kiss-1892.jpg!Large.jpg', 'https://uploads6.wikiart.org/images/sandro-botticelli/the-birth-of-venus-1485(1).jpg!Large.jpg', 'https://uploads5.wikiart.org/images/magdalena-carmen-frieda-kahlo-y-calderón-de-rivera/the-two-fridas-1939.jpg!Large.jpg', 'https://uploads6.wikiart.org/00475/images/raphael/1-xvkpn0qm3eiqpzivkggfea.jpg!Large.jpg', 'https://uploads3.wikiart.org/images/rene-magritte/son-of-man-1964(1).jpg!Large.jpg', 'https://uploads0.wikiart.org/images/claude-monet/madame-monet-and-child(1).jpg!Large.jpg', 'https://uploads3.wikiart.org/images/pablo-picasso/self-portrait-1907.jpg!Large.jpg', 'https://uploads3.wikiart.org/images/piet-mondrian/composition-a-1923.jpg!Large.jpg', 'https://uploads3.wikiart.org/images/salvador-dali/ballerina-in-a-death-s-head.jpg!Large.jpg', 'https://uploads7.wikiart.org/00142/images/57726d7eedc2cb3880b47e13/the-kiss-gustav-klimt-google-cultural-institute.jpg!Large.jpg', 'https://uploads3.wikiart.org/images/jean-michel-basquiat/philistines.jpg!Large.jpg', 'https://uploads2.wikiart.org/images/lucian-freud/woman-in-a-white-shirt-1957.jpg!Large.jpg', 'https://uploads1.wikiart.org/images/andy-warhol/flowers-4.jpg!Large.jpg', 'https://uploads0.wikiart.org/00129/images/claude-monet/impression-sunrise.jpg!Large.jpg', 'https://uploads8.wikiart.org/00475/images/gustav-klimt/dame-mit-f-cher-lady-with-a-fan-1917-18.jpg!Large.jpg', 'https://uploads4.wikiart.org/images/leonardo-da-vinci/study-of-horses.jpg!Large.jpg', 'https://uploads1.wikiart.org/images/paul-cezanne/still-life-with-bottle-and-apple-basket-1894.jpg!Large.jpg', 'https://uploads0.wikiart.org/images/henri-matisse/portrait-of-l-n-delekorskaya-1947.jpg!Large.jpg', 'https://uploads0.wikiart.org/images/rene-magritte/the-false-mirror-1928(1).jpg!Large.jpg', 'https://uploads1.wikiart.org/images/mark-rothko/no-8-1952.jpg!Large.jpg', 'https://uploads5.wikiart.org/images/alphonse-mucha/fruit-1897.jpg!Large.jpg', 'https://uploads3.wikiart.org/images/m-c-escher/eye.jpg!Large.jpg', 'https://uploads3.wikiart.org/images/alphonse-mucha/job-1896.jpg!Large.jpg', 'https://uploads7.wikiart.org/images/magdalena-carmen-frieda-kahlo-y-calderón-de-rivera/the-wounded-deer-1946.jpg!Large.jpg', 'https://uploads0.wikiart.org/images/leonardo-da-vinci/female-head.jpg!Large.jpg', 'https://uploads1.wikiart.org/images/joan-miro/the-flight-of-the-dragonfly-in-front-of-the-sun.jpg!Large.jpg', 'https://uploads4.wikiart.org/images/max-ernst/the-eye-of-silence-1943.jpg!Large.jpg']\n",
      "['0000136308-og', 'the-starry-night-1889', 'w1siziisijm4njq3mcjdlfsiccisimnvbnzlcnqilcitcxvhbgl0esa5mcatcmvzaxplidiwmdb4mjawmfx1mdazzsjdxq', 'in-bed-the-kiss-1892', 'the-birth-of-venus-1485(1)', 'the-two-fridas-1939', '1-xvkpn0qm3eiqpzivkggfea', 'son-of-man-1964(1)', 'madame-monet-and-child(1)', 'self-portrait-1907', 'composition-a-1923', 'ballerina-in-a-death-s-head', 'the-kiss-gustav-klimt-google-cultural-institute', 'philistines', 'woman-in-a-white-shirt-1957', 'flowers-4', 'impression-sunrise', 'dame-mit-f-cher-lady-with-a-fan-1917-18', 'study-of-horses', 'still-life-with-bottle-and-apple-basket-1894', 'portrait-of-l-n-delekorskaya-1947', 'the-false-mirror-1928(1)', 'no-8-1952', 'fruit-1897', 'eye', 'job-1896', 'the-wounded-deer-1946', 'female-head', 'the-flight-of-the-dragonfly-in-front-of-the-sun', 'the-eye-of-silence-1943']\n"
     ]
    }
   ],
   "source": [
    "print(image_urls)\n",
    "\n",
    "from urllib.parse import urlparse\n",
    "\n",
    "# Extract the names from the URLs\n",
    "names = [urlparse(url).path.split('/')[-1].split('.')[0] for url in image_urls]\n",
    "\n",
    "print(names)"
   ]
  }
 ],
 "metadata": {
  "kernelspec": {
   "display_name": "base",
   "language": "python",
   "name": "python3"
  },
  "language_info": {
   "codemirror_mode": {
    "name": "ipython",
    "version": 3
   },
   "file_extension": ".py",
   "mimetype": "text/x-python",
   "name": "python",
   "nbconvert_exporter": "python",
   "pygments_lexer": "ipython3",
   "version": "3.9.13"
  }
 },
 "nbformat": 4,
 "nbformat_minor": 2
}

{
 "cells": [
  {
   "cell_type": "markdown",
   "metadata": {},
   "source": [
    "### Importing All Necessary Dependencies"
   ]
  },
  {
   "cell_type": "code",
   "execution_count": 67,
   "metadata": {},
   "outputs": [],
   "source": [
    "import openai\n",
    "from openai import OpenAI\n",
    "\n",
    "import numpy as np\n",
    "\n",
    "import json\n",
    "\n",
    "import matplotlib.pyplot as plt\n",
    "from urllib.parse import urlparse\n",
    "from itertools import combinations\n",
    "\n",
    "import copy\n",
    "import math\n",
    "\n",
    "import requests\n",
    "import random\n",
    "import time\n",
    "\n",
    "from scipy.spatial.distance import cosine\n",
    "import gensim.downloader as api\n",
    "\n",
    "from transformers import BertModel, BertTokenizer\n",
    "import torch\n",
    "\n",
    "import matplotlib.pyplot as plt\n",
    "from sklearn.cluster import KMeans"
   ]
  },
  {
   "cell_type": "markdown",
   "metadata": {},
   "source": [
    "### Establishing Access to OPEN AI API"
   ]
  },
  {
   "cell_type": "code",
   "execution_count": 4,
   "metadata": {},
   "outputs": [],
   "source": [
    "client = OpenAI(api_key=\"sk-OPEN_AI_API_KEY\")"
   ]
  },
  {
   "cell_type": "markdown",
   "metadata": {},
   "source": [
    "### Setting up Word2Vec Model for Later Use"
   ]
  },
  {
   "cell_type": "code",
   "execution_count": 22,
   "metadata": {},
   "outputs": [],
   "source": [
    "word2vec_model = api.load(\"word2vec-google-news-300\")"
   ]
  },
  {
   "cell_type": "markdown",
   "metadata": {},
   "source": [
    "### Setting up BERT Model for Later Use"
   ]
  },
  {
   "cell_type": "code",
   "execution_count": 30,
   "metadata": {},
   "outputs": [],
   "source": [
    "model_name = \"bert-base-uncased\"  \n",
    "bert_model = BertModel.from_pretrained(model_name)\n",
    "bert_tokenizer = BertTokenizer.from_pretrained(model_name)"
   ]
  },
  {
   "cell_type": "markdown",
   "metadata": {},
   "source": [
    "### Function to Convert Image to Large Text Description"
   ]
  },
  {
   "cell_type": "markdown",
   "metadata": {},
   "source": [
    "*Function*"
   ]
  },
  {
   "cell_type": "code",
   "execution_count": 5,
   "metadata": {},
   "outputs": [],
   "source": [
    "def image_to_text(image_url):\n",
    "\n",
    "    response = client.chat.completions.create(\n",
    "        model=\"gpt-4-turbo\",\n",
    "        messages=[\n",
    "            {\n",
    "                \"role\": \"system\",\n",
    "                \"content\": \"Please provide a thorough, detailed, and artistic description of the image in the following URL: \" + image_url + \"Imagine you're painting a vivid picture with words, capturing every detail.\",\n",
    "            }\n",
    "        ],\n",
    "        max_tokens=500,\n",
    "    )\n",
    "    \n",
    "    return response.choices[0].message.content"
   ]
  },
  {
   "cell_type": "markdown",
   "metadata": {},
   "source": [
    "*Testing*"
   ]
  },
  {
   "cell_type": "code",
   "execution_count": 11,
   "metadata": {},
   "outputs": [
    {
     "name": "stdout",
     "output_type": "stream",
     "text": [
      "The scene opens onto a serene slice of nature amidst the bustle of Madison, Wisconsin. A wooden boardwalk, weathered yet sturdy, serves as the pathway inviting us further into this tranquil landscape. It meanders gently, curving toward a distant focal point, flanked by lush, dense tufts of tall, emerald green grass and other verdant plants that crowd close to its edges, almost spilling over onto the walkway.\n",
      "\n",
      "On this clear day, the sky arches overhead, a vast expanse of an almost surreal, azure blue, speckled sporadically with soft, wispy clouds, whiter than snow. The sunlight is bright but gentle, casting a golden hue across the scene, highlighting the vibrant greens of the vegetation and lending the atmosphere an almost ethereal quality.\n",
      "\n",
      "To the left of the boardwalk, a body of water lies still, mirroring the sky above with a precision that makes the surface appear more like glass than liquid. The reflections are a mesmerizing mix of blue and the verdant shades from the surrounding foliage, disturbed only occasionally by the soft landing of a dragonfly or the ripple from a fish swimming leisurely below.\n",
      "\n",
      "Throughout this composition, an array of plants contributes various textures and shades of green. Some stand tall, straight, and proud, while others bow gently as if in reverence to the beauty around them. Small wildflowers pepper the green with bursts of yellow, white, and the occasional pink, like delicate brush strokes of paint on a verdant canvas.\n",
      "\n",
      "The air is filled with a symphony of nature’s sounds: the soft rustling of leaves, the gentle gurgle of water, and the chirping of birds hidden within the foliage. It is a melody that speaks of peace, solitude, and the inherent beauty of the natural world.\n",
      "\n",
      "As the boardwalk winds ahead, it promises more discoveries, more serenity, inviting every walker to continue on their journey through this naturally framed passage—a corridor through nature's own art gallery, each step a reveal of more wonders, hidden just a bend away. The entire setting is not just a visual delight but an experience, wrapping all who enter in its serene, picturesque embrace.\n"
     ]
    }
   ],
   "source": [
    "test_description = image_to_text(\"https://upload.wikimedia.org/wikipedia/commons/thumb/d/dd/Gfp-wisconsin-madison-the-nature-boardwalk.jpg/2560px-Gfp-wisconsin-madison-the-nature-boardwalk.jpg\")\n",
    "\n",
    "print(test_description)"
   ]
  },
  {
   "cell_type": "markdown",
   "metadata": {},
   "source": [
    "### Target Pre-defined Labels"
   ]
  },
  {
   "cell_type": "markdown",
   "metadata": {},
   "source": [
    "*predefined labels list*"
   ]
  },
  {
   "cell_type": "code",
   "execution_count": 8,
   "metadata": {},
   "outputs": [],
   "source": [
    "predefined_labels_list = {\n",
    "        'Color Palette': ['Vibrant', 'Monochromatic', 'Pastel', 'Earthy', 'Neon', 'Muted', 'Bold'],\n",
    "        'Subject Matter': ['Landscape', 'Portrait', 'Still life', 'Abstract', 'Urban', 'Nature', 'Architecture'],\n",
    "        'Mood/Emotion': ['Serene', 'Energetic', 'Melancholic', 'Joyful', 'Mysterious', 'Peaceful', 'Dramatic'],\n",
    "        'Style/Aesthetic': ['Realism', 'Impressionism', 'Surrealism', 'Minimalism', 'Expressionism', 'Cubism', 'Romanticism'],\n",
    "        'Setting/Location': ['Cityscape', 'Countryside', 'Beach', 'Forest', 'Mountains', 'Urban', 'Rural'],\n",
    "        'Time Period': ['Contemporary', 'Renaissance', 'Medieval', 'Modern', 'Ancient', 'Futuristic', 'Victorian'],\n",
    "        'Cultural/Symbolic Representation': ['Religious', 'Political', 'Mythological', 'Historical', 'Indigenous', 'Pop culture', 'Folklore']\n",
    "    }"
   ]
  },
  {
   "cell_type": "markdown",
   "metadata": {},
   "source": [
    "*creating bert vocab for later use on these predefined labels*"
   ]
  },
  {
   "cell_type": "code",
   "execution_count": 32,
   "metadata": {},
   "outputs": [],
   "source": [
    "bert_vocab = {}\n",
    "\n",
    "# Generate BERT embeddings for each label\n",
    "for attribute, labels in predefined_labels_list.items():\n",
    "    for label in labels:\n",
    "        # Tokenize the label\n",
    "        inputs = bert_tokenizer(label, return_tensors=\"pt\")\n",
    "        \n",
    "        # Pass tokenized sequence through BERT model to obtain embeddings\n",
    "        with torch.no_grad():\n",
    "            outputs = bert_model(**inputs)\n",
    "            embeddings = outputs.last_hidden_state.mean(dim=1).squeeze().numpy()  # Mean pooling of token embeddings\n",
    "            \n",
    "        # Store embeddings in bert_vocab dictionary\n",
    "        bert_vocab[label] = embeddings"
   ]
  },
  {
   "cell_type": "code",
   "execution_count": 40,
   "metadata": {},
   "outputs": [],
   "source": [
    "# Initialize dictionary to store BERT embeddings for each label\n",
    "bert_vocab = {}\n",
    "\n",
    "# Generate BERT embeddings for each label\n",
    "for attribute, labels in predefined_labels_list.items():\n",
    "    \n",
    "    # tokenizing all the labels in labels list and passing them all together into BERT\n",
    "    inputs = bert_tokenizer(labels, return_tensors=\"pt\", padding=True, truncation=True)\n",
    "\n",
    "    # Pass tokenized sequence through BERT model to obtain embeddings\n",
    "    with torch.no_grad():\n",
    "        outputs = bert_model(**inputs)\n",
    "        # map each label to its corresponding embeddings in the output\n",
    "        for i, label in enumerate(labels):\n",
    "            embeddings = outputs.last_hidden_state[i].mean(dim=0).numpy()\n",
    "            bert_vocab[label] = embeddings\n"
   ]
  },
  {
   "cell_type": "markdown",
   "metadata": {},
   "source": [
    "*testing bert vocab*"
   ]
  },
  {
   "cell_type": "code",
   "execution_count": 41,
   "metadata": {},
   "outputs": [
    {
     "name": "stdout",
     "output_type": "stream",
     "text": [
      "(768,)\n",
      "(768,)\n",
      "(768,)\n",
      "(768,)\n",
      "(768,)\n",
      "(768,)\n",
      "(768,)\n"
     ]
    }
   ],
   "source": [
    "print(bert_vocab['Vibrant'].shape)\n",
    "print(bert_vocab['Landscape'].shape)\n",
    "print(bert_vocab['Melancholic'].shape)\n",
    "print(bert_vocab['Cubism'].shape)\n",
    "print(bert_vocab['Cityscape'].shape)\n",
    "print(bert_vocab['Ancient'].shape)\n",
    "print(bert_vocab['Religious'].shape)"
   ]
  },
  {
   "cell_type": "markdown",
   "metadata": {},
   "source": [
    "### Function to Convert Description of Image to Pre-Defined Labels"
   ]
  },
  {
   "cell_type": "markdown",
   "metadata": {},
   "source": [
    "*Method to Troubleshoot Creation of non pre-defined labels when converting description to labels list*"
   ]
  },
  {
   "cell_type": "code",
   "execution_count": 7,
   "metadata": {},
   "outputs": [],
   "source": [
    "def validate_attributes(attributes_dict, predefined_list):\n",
    "\n",
    "    validated_attributes = {}\n",
    "\n",
    "    for key, values in attributes_dict.items():\n",
    "        valid_values = [value for value in values if value in predefined_list[key]]\n",
    "        \n",
    "        if len(valid_values) < len(values):\n",
    "            missing_values = [value for value in predefined_list[key] if value not in valid_values]\n",
    "            valid_values.extend(missing_values[:len(values)-len(valid_values)])\n",
    "        \n",
    "        validated_attributes[key] = valid_values\n",
    "    \n",
    "    return validated_attributes\n"
   ]
  },
  {
   "cell_type": "markdown",
   "metadata": {},
   "source": [
    "*Method to convert description of an image to ordered predefined labels*"
   ]
  },
  {
   "cell_type": "code",
   "execution_count": 123,
   "metadata": {},
   "outputs": [],
   "source": [
    "def description_to_all_attributes(description, predefined_input_list):\n",
    "\n",
    "    predefined_list = copy.deepcopy(predefined_input_list)\n",
    "\n",
    "    response = client.chat.completions.create(\n",
    "        model = \"gpt-4-turbo\",\n",
    "        messages=[\n",
    "            {\n",
    "                \"role\": \"system\",\n",
    "                \"content\": f\"\"\"\n",
    "                You are a machine learning model trained to extract specific attributes from a detailed \n",
    "                description of an image. Your task is to identify and select the most appropriate label from \n",
    "                the following pre-defined set of attributes for each of the seven categories given below, and\n",
    "                represent them as key-value pairs in a Python dictionary: \n",
    "\n",
    "                1. Color Palette: Select exactly 7 labels without repetition from only the following options, \n",
    "                ordered from the most closely associated to the least associated with the image: \n",
    "                {predefined_list['Color Palette']}. \n",
    "\n",
    "                2. Subject Matter: Select exactly 7 labels without repetition from only the following options, \n",
    "                ordered from the most closely associated to the least associated with the image: \n",
    "                {predefined_list['Subject Matter']}. \n",
    "\n",
    "                3. Mood/Emotion: Select exactly 7 labels without repetition from only the following options, \n",
    "                ordered from the most closely associated to the least associated with the image: \n",
    "                {predefined_list['Mood/Emotion']}. \n",
    "\n",
    "                4. Style/Aesthetic: Select exactly 7 labels without repetition from ONLY the following options, \n",
    "                ordered from the most closely associated to the least associated with the image: \n",
    "                {predefined_list['Style/Aesthetic']}. \n",
    "\n",
    "                5. Setting/Location: Select exactly 7 labels without repetition from only the following options, \n",
    "                ordered from the most closely associated to the least associated with the image: \n",
    "                {predefined_list['Setting/Location']}. \n",
    "\n",
    "                6. Time Period: Select exactly 7 labels without repetition from only the following options, \n",
    "                ordered from the most closely associated to the least associated with the image: \n",
    "                {predefined_list['Time Period']}.\n",
    "\n",
    "                7. Cultural/Symbolic Representation: Select Exactly 7 labels without repetition from only the \n",
    "                following options, ordered from the most closely associated to the least associated with the image: \n",
    "                {predefined_list['Cultural/Symbolic Representation']}\n",
    "\n",
    "                Please provide your output in the following format:  \n",
    "                {{'Color Palette': ['most associated label', ..., 'least associated label'],  \n",
    "                'Subject Matter': ['most associated label', ..., 'least associated label'],  \n",
    "                'Mood/Emotion': ['most associated label', ..., 'least associated label'], \n",
    "                'Style/Aesthetic': ['most associated label', ..., 'least associated label'],  \n",
    "                'Setting/Location': ['most associated label', ..., 'least associated label'],  \n",
    "                'Time Period': ['most associated label', ..., 'least associated label'],  \n",
    "                'Cultural/Symbolic Representation': ['most associated label', ..., 'least associated label']}}. \n",
    "\n",
    "                If an attribute is not obvious, infer from the context of the description an attribute, \n",
    "                don't use 'none' or 'not specified' as an attribute. Remember, you MUST ONLY select attribute values from the provided\n",
    "                list of options. DO NOT assign any attribute that is not present in the pre-defined attributes. I repeat - no label in the result should be outside the predefined \n",
    "                set of labels for each attribute. Format the output in double quotations so it can be \n",
    "                converted into an object with json. The description is as follows:\"\"\" + description\n",
    "            }\n",
    "        ],\n",
    "        max_tokens=500,\n",
    "    )\n",
    "\n",
    "    attributes_content = response.choices[0].message.content\n",
    "    print(attributes_content)\n",
    "\n",
    "    # Remove leading and trailing whitespace\n",
    "    json_data = attributes_content.strip()\n",
    "\n",
    "    attributes_dict = json.loads(json_data)\n",
    "    \n",
    "    validated_attributes_dict = validate_attributes(attributes_dict, predefined_list)\n",
    "\n",
    "    return validated_attributes_dict"
   ]
  },
  {
   "cell_type": "markdown",
   "metadata": {},
   "source": [
    "*Testing the description to all attributes function*"
   ]
  },
  {
   "cell_type": "code",
   "execution_count": 15,
   "metadata": {},
   "outputs": [
    {
     "name": "stdout",
     "output_type": "stream",
     "text": [
      "{\n",
      "    \"Color Palette\": [\n",
      "        \"Vibrant\",\n",
      "        \"Earthy\",\n",
      "        \"Muted\",\n",
      "        \"Pastel\",\n",
      "        \"Bold\",\n",
      "        \"Monochromatic\",\n",
      "        \"Neon\"\n",
      "    ],\n",
      "    \"Subject Matter\": [\n",
      "        \"Landscape\",\n",
      "        \"Nature\",\n",
      "        \"Still life\",\n",
      "        \"Abstract\",\n",
      "        \"Portrait\",\n",
      "        \"Urban\",\n",
      "        \"Architecture\"\n",
      "    ],\n",
      "    \"Mood/Emotion\": [\n",
      "        \"Serene\",\n",
      "        \"Peaceful\",\n",
      "        \"Joyful\",\n",
      "        \"Mysterious\",\n",
      "        \"Energetic\",\n",
      "        \"Melancholic\",\n",
      "        \"Dramatic\"\n",
      "    ],\n",
      "    \"Style/Aesthetic\": [\n",
      "        \"Realism\",\n",
      "        \"Impressionism\",\n",
      "        \"Romanticism\",\n",
      "        \"Expressionism\",\n",
      "        \"Surrealism\",\n",
      "        \"Minimalism\",\n",
      "        \"Cubism\"\n",
      "    ],\n",
      "    \"Setting/Location\": [\n",
      "        \"Countryside\",\n",
      "        \"Forest\",\n",
      "        \"Beach\",\n",
      "        \"Mountains\",\n",
      "        \"Cityscape\",\n",
      "        \"Urban\",\n",
      "        \"Rural\"\n",
      "    ],\n",
      "    \"Time Period\": [\n",
      "        \"Contemporary\",\n",
      "        \"Modern\",\n",
      "        \"Victorian\",\n",
      "        \"Renaissance\",\n",
      "        \"Medieval\",\n",
      "        \"Ancient\",\n",
      "        \"Futuristic\"\n",
      "    ],\n",
      "    \"Cultural/Symbolic Representation\": [\n",
      "        \"Folklore\",\n",
      "        \"Historical\",\n",
      "        \"Religious\",\n",
      "        \"Pop culture\",\n",
      "        \"Mythological\",\n",
      "        \"Political\",\n",
      "        \"Indigenous\"\n",
      "    ]\n",
      "}\n",
      "Color Palette 7\n",
      "Subject Matter 7\n",
      "Mood/Emotion 7\n",
      "Style/Aesthetic 7\n",
      "Setting/Location 7\n",
      "Time Period 7\n",
      "Cultural/Symbolic Representation 7\n"
     ]
    }
   ],
   "source": [
    "obj = description_to_all_attributes(test_description, predefined_labels_list)\n",
    "print(json.dumps(obj, indent=4))\n",
    "\n",
    "# print the length of the array for each attribute in the object\n",
    "\n",
    "for key, value in obj.items():\n",
    "    print(key, len(value))"
   ]
  },
  {
   "cell_type": "markdown",
   "metadata": {},
   "source": [
    "### Metric Based Comparison Functions for comparing labels for a single attribute"
   ]
  },
  {
   "cell_type": "markdown",
   "metadata": {},
   "source": [
    "*Manhattan Distance - Absolute Distance between indices*"
   ]
  },
  {
   "cell_type": "code",
   "execution_count": 16,
   "metadata": {},
   "outputs": [],
   "source": [
    "def manhattan_discimilarity(arr1, arr2):\n",
    "    \n",
    "    index_dict = {element: i for i, element in enumerate(arr2)}\n",
    "\n",
    "    # Calculate the sum of absolute distances\n",
    "    total_distance = 0\n",
    "\n",
    "    for i, element in enumerate(arr1):\n",
    "\n",
    "        if element in index_dict:\n",
    "            index_in_array2 = index_dict[element]\n",
    "            distance = abs(i - index_in_array2)\n",
    "            total_distance += distance\n",
    "        else: \n",
    "            print(f\"Warning '{element}' not found in .\")\n",
    "\n",
    "    return total_distance"
   ]
  },
  {
   "cell_type": "markdown",
   "metadata": {},
   "source": [
    "*Eucladian Distance - Square of Absolute Distance between indices*"
   ]
  },
  {
   "cell_type": "code",
   "execution_count": 17,
   "metadata": {},
   "outputs": [],
   "source": [
    "def eucladian_discimilarity(arr1, arr2):\n",
    "    \n",
    "    index_dict = {element: i for i, element in enumerate(arr2)}\n",
    "\n",
    "    # Calculate the sum of absolute distances\n",
    "    total_distance = 0\n",
    "\n",
    "    for i, element in enumerate(arr1):\n",
    "\n",
    "        if element in index_dict:\n",
    "            index_in_array2 = index_dict[element]\n",
    "            distance = abs(i - index_in_array2)\n",
    "            total_distance += distance ** 2\n",
    "        else: \n",
    "            print(f\"Warning '{element}' not found in .\")\n",
    "\n",
    "    return total_distance"
   ]
  },
  {
   "cell_type": "markdown",
   "metadata": {},
   "source": [
    "*Modified Manhattan Distance - taking into consideration the indices for only 1 list*"
   ]
  },
  {
   "cell_type": "code",
   "execution_count": 20,
   "metadata": {},
   "outputs": [],
   "source": [
    "def modified_manhattan_discimilarity(arr1, arr2):\n",
    "    \n",
    "    index_dict = {element: i for i, element in enumerate(arr2)}\n",
    "\n",
    "    # Calculate the sum of absolute distances\n",
    "    total_distance = 0\n",
    "\n",
    "    for i, element in enumerate(arr1):\n",
    "\n",
    "        if element in index_dict:\n",
    "            index_in_array2 = index_dict[element]\n",
    "            distance = abs(i - index_in_array2) \n",
    "            weighted_distance = distance / math.log2(i + 2)\n",
    "            total_distance += weighted_distance\n",
    "        else: \n",
    "            print(f\"Warning '{element}' not found in .\")\n",
    "\n",
    "    return total_distance"
   ]
  },
  {
   "cell_type": "markdown",
   "metadata": {},
   "source": [
    "*Word2Vec Based Dissimilairty Function*"
   ]
  },
  {
   "cell_type": "code",
   "execution_count": 54,
   "metadata": {},
   "outputs": [],
   "source": [
    "def word2vec_discimilarity(arr1, arr2, manhattan_weight=1.0, cosine_weight=0.5):\n",
    "    \n",
    "    index_dict = {element: i for i, element in enumerate(arr2)}\n",
    "\n",
    "    total_distance_manhattan = 0\n",
    "    total_distance_cosine = 0\n",
    "\n",
    "    for i, element in enumerate(arr1):\n",
    "        if element in index_dict:\n",
    "            index_in_array2 = index_dict[element]\n",
    "            distance1 = abs(i - index_in_array2)\n",
    "            total_distance_manhattan += distance1\n",
    "        else: \n",
    "            print(f\"Warning '{element}' not found in arr2.\")\n",
    "\n",
    "    for i, element in enumerate(arr1):\n",
    "        parallel_element = arr2[i]\n",
    "        if element in word2vec_model and parallel_element in word2vec_model:\n",
    "            word1_embedding = word2vec_model[element]\n",
    "            word2_embedding = word2vec_model[parallel_element]\n",
    "            cosine_similarity = 1 - cosine(word1_embedding, word2_embedding)\n",
    "            total_distance_cosine += cosine_similarity\n",
    "        else:\n",
    "            print(f\"Warning: '{element}' or '{parallel_element}' not found in Word2Vec model vocabulary.\")\n",
    "    \n",
    "    # Scale the Manhattan distance and cosine distance with the respective weights\n",
    "    scaled_manhattan_distance = manhattan_weight * total_distance_manhattan\n",
    "    scaled_cosine_distance = cosine_weight * total_distance_cosine\n",
    "\n",
    "    # Calculate the total distance as a combination of the scaled distances\n",
    "    total_distance = scaled_manhattan_distance + scaled_cosine_distance\n",
    "\n",
    "    return total_distance\n"
   ]
  },
  {
   "cell_type": "markdown",
   "metadata": {},
   "source": [
    "*BERT Based Dissimilarity Function*"
   ]
  },
  {
   "cell_type": "code",
   "execution_count": 42,
   "metadata": {},
   "outputs": [],
   "source": [
    "def bert_discimilarity(arr1, arr2, manhattan_weight=1.0, cosine_weight=0.5):\n",
    "    \n",
    "    index_dict = {element: i for i, element in enumerate(arr2)}\n",
    "\n",
    "    total_distance_manhattan = 0\n",
    "    total_distance_cosine = 0\n",
    "\n",
    "    for i, element in enumerate(arr1):\n",
    "        if element in index_dict:\n",
    "            index_in_array2 = index_dict[element]\n",
    "            distance1 = abs(i - index_in_array2)\n",
    "            total_distance_manhattan += distance1\n",
    "        else: \n",
    "            print(f\"Warning '{element}' not found in arr2.\")\n",
    "\n",
    "    for i, element in enumerate(arr1):\n",
    "        parallel_element = arr2[i]\n",
    "        if element in bert_vocab and parallel_element in bert_vocab:\n",
    "            word1_embedding = bert_vocab[element]\n",
    "            word2_embedding = bert_vocab[parallel_element]\n",
    "            cosine_similarity = 1 - cosine(word1_embedding, word2_embedding)\n",
    "            total_distance_cosine += cosine_similarity\n",
    "        else:\n",
    "            print(f\"Warning: '{element}' or '{parallel_element}' not found in Word2Vec model vocabulary.\")\n",
    "    \n",
    "    # Scale the Manhattan distance and cosine distance with the respective weights\n",
    "    scaled_manhattan_distance = manhattan_weight * total_distance_manhattan\n",
    "    scaled_cosine_distance = cosine_weight * total_distance_cosine\n",
    "\n",
    "    # Calculate the total distance as a combination of the scaled distances\n",
    "    total_distance = scaled_manhattan_distance + scaled_cosine_distance\n",
    "\n",
    "    return total_distance\n"
   ]
  },
  {
   "cell_type": "markdown",
   "metadata": {},
   "source": [
    "### Functions to Compare all Labels and Specific Labels for Images"
   ]
  },
  {
   "cell_type": "markdown",
   "metadata": {},
   "source": [
    "*function to calcuate total similarity across all attributes*"
   ]
  },
  {
   "cell_type": "code",
   "execution_count": 47,
   "metadata": {},
   "outputs": [],
   "source": [
    "def calculate_total_similarity(attributes_image_1, attributes_image_2, metric=\"word2vec\", manhattan_weight=1.0, cosine_weight=0.5):\n",
    "    \n",
    "    # Initialize the total similarity score\n",
    "    total_similarity = 0\n",
    "    \n",
    "    # Calculate the similarity score for each attribute\n",
    "    for attribute1, value1 in attributes_image_1.items():\n",
    "        \n",
    "        value2 = attributes_image_2[attribute1]\n",
    "        \n",
    "        if metric == \"word2vec\":\n",
    "            similarity_score = word2vec_discimilarity(value1, value2, manhattan_weight, cosine_weight)\n",
    "        elif metric == \"bert\":\n",
    "            similarity_score = bert_discimilarity(value1, value2, manhattan_weight, cosine_weight)\n",
    "        elif metric == \"manhattan\":\n",
    "            similarity_score = manhattan_discimilarity(value1, value2)\n",
    "        elif metric == \"eucladian\":\n",
    "            similarity_score = eucladian_discimilarity(value1, value2)\n",
    "        elif metric == \"modified_manhattan\":\n",
    "            similarity_score = modified_manhattan_discimilarity(value1, value2)\n",
    "        else:\n",
    "            print(\"Invalid model name. Please choose either 'word2vec' or 'bert'.\")\n",
    "            return None\n",
    "        \n",
    "        total_similarity += similarity_score\n",
    "    \n",
    "    return total_similarity"
   ]
  },
  {
   "cell_type": "markdown",
   "metadata": {},
   "source": [
    "*function to calculate similairty across specific attribute*"
   ]
  },
  {
   "cell_type": "code",
   "execution_count": 102,
   "metadata": {},
   "outputs": [],
   "source": [
    "def calculate_label_dissimilarity(attributes_image_1, attributes_image_2, label, metric=\"word2vec\", manhattan_weight=1.0, cosine_weight=0.5):\n",
    "\n",
    "    similarity_score = 0\n",
    "    \n",
    "    value1 = attributes_image_1.get(label)\n",
    "    value2 = attributes_image_2.get(label)\n",
    "\n",
    "    if metric == \"word2vec\":\n",
    "        similarity_score = word2vec_discimilarity(value1, value2, manhattan_weight, cosine_weight)\n",
    "    elif metric == \"bert\":\n",
    "        similarity_score = bert_discimilarity(value1, value2, manhattan_weight, cosine_weight)\n",
    "    elif metric == \"manhattan\":\n",
    "        similarity_score = manhattan_discimilarity(value1, value2)\n",
    "    elif metric == \"eucladian\":\n",
    "        similarity_score = eucladian_discimilarity(value1, value2)\n",
    "    elif metric == \"modified_manhattan\":\n",
    "        similarity_score = modified_manhattan_discimilarity(value1, value2)\n",
    "    else:\n",
    "        print(\"Invalid model name. Please choose either 'word2vec' or 'bert'.\")\n",
    "        return None\n",
    "    \n",
    "    return similarity_score"
   ]
  },
  {
   "cell_type": "markdown",
   "metadata": {},
   "source": [
    "### Testing our various metric systems on Generic Example"
   ]
  },
  {
   "cell_type": "markdown",
   "metadata": {},
   "source": [
    "*Creating list attributes for 3 images*"
   ]
  },
  {
   "cell_type": "code",
   "execution_count": 46,
   "metadata": {},
   "outputs": [],
   "source": [
    "art_url_1 = \"https://upload.wikimedia.org/wikipedia/commons/0/0d/Great_Wave_off_Kanagawa2.jpg\"\n",
    "art_url_2 = \"https://upload.wikimedia.org/wikipedia/commons/9/94/The_Nightwatch_by_Rembrandt_-_Rijksmuseum.jpg\"\n",
    "art_url_3 = \"https://upload.wikimedia.org/wikipedia/commons/b/b6/Sebastiano_Ricci_002.jpg\"\n",
    "\n",
    "text_1 = image_to_text(art_url_1)\n",
    "attributes_1 = description_to_all_attributes(text_1, predefined_labels_list)\n",
    "\n",
    "text_2 = image_to_text(art_url_2)\n",
    "attributes_2 = description_to_all_attributes(text_2, predefined_labels_list)\n",
    "\n",
    "text_3 = image_to_text(art_url_3)\n",
    "attributes_3 = description_to_all_attributes(text_3, predefined_labels_list)"
   ]
  },
  {
   "cell_type": "code",
   "execution_count": 49,
   "metadata": {},
   "outputs": [
    {
     "name": "stdout",
     "output_type": "stream",
     "text": [
      "{\n",
      "    \"Color Palette\": [\n",
      "        \"Bold\",\n",
      "        \"Vibrant\",\n",
      "        \"Muted\",\n",
      "        \"Monochromatic\",\n",
      "        \"Earthy\",\n",
      "        \"Pastel\",\n",
      "        \"Neon\"\n",
      "    ],\n",
      "    \"Subject Matter\": [\n",
      "        \"Nature\",\n",
      "        \"Abstract\",\n",
      "        \"Landscape\",\n",
      "        \"Portrait\",\n",
      "        \"Still life\",\n",
      "        \"Urban\",\n",
      "        \"Architecture\"\n",
      "    ],\n",
      "    \"Mood/Emotion\": [\n",
      "        \"Dramatic\",\n",
      "        \"Peaceful\",\n",
      "        \"Mysterious\",\n",
      "        \"Serene\",\n",
      "        \"Energetic\",\n",
      "        \"Melancholic\",\n",
      "        \"Joyful\"\n",
      "    ],\n",
      "    \"Style/Aesthetic\": [\n",
      "        \"Realism\",\n",
      "        \"Impressionism\",\n",
      "        \"Surrealism\",\n",
      "        \"Romanticism\",\n",
      "        \"Expressionism\",\n",
      "        \"Minimalism\",\n",
      "        \"Cubism\"\n",
      "    ],\n",
      "    \"Setting/Location\": [\n",
      "        \"Beach\",\n",
      "        \"Mountains\",\n",
      "        \"Forest\",\n",
      "        \"Countryside\",\n",
      "        \"Cityscape\",\n",
      "        \"Rural\",\n",
      "        \"Urban\"\n",
      "    ],\n",
      "    \"Time Period\": [\n",
      "        \"Modern\",\n",
      "        \"Contemporary\",\n",
      "        \"Ancient\",\n",
      "        \"Medieval\",\n",
      "        \"Renaissance\",\n",
      "        \"Futuristic\",\n",
      "        \"Victorian\"\n",
      "    ],\n",
      "    \"Cultural/Symbolic Representation\": [\n",
      "        \"Historical\",\n",
      "        \"Mythological\",\n",
      "        \"Religious\",\n",
      "        \"Indigenous\",\n",
      "        \"Political\",\n",
      "        \"Folklore\",\n",
      "        \"Pop culture\"\n",
      "    ]\n",
      "}\n",
      "{\n",
      "    \"Color Palette\": [\n",
      "        \"Muted\",\n",
      "        \"Earthy\",\n",
      "        \"Bold\",\n",
      "        \"Vibrant\",\n",
      "        \"Monochromatic\",\n",
      "        \"Pastel\",\n",
      "        \"Neon\"\n",
      "    ],\n",
      "    \"Subject Matter\": [\n",
      "        \"Portrait\",\n",
      "        \"Urban\",\n",
      "        \"Still life\",\n",
      "        \"Architecture\",\n",
      "        \"Abstract\",\n",
      "        \"Nature\",\n",
      "        \"Landscape\"\n",
      "    ],\n",
      "    \"Mood/Emotion\": [\n",
      "        \"Dramatic\",\n",
      "        \"Energetic\",\n",
      "        \"Mysterious\",\n",
      "        \"Serene\",\n",
      "        \"Melancholic\",\n",
      "        \"Joyful\",\n",
      "        \"Peaceful\"\n",
      "    ],\n",
      "    \"Style/Aesthetic\": [\n",
      "        \"Realism\",\n",
      "        \"Impressionism\",\n",
      "        \"Expressionism\",\n",
      "        \"Cubism\",\n",
      "        \"Romanticism\",\n",
      "        \"Surrealism\",\n",
      "        \"Minimalism\"\n",
      "    ],\n",
      "    \"Setting/Location\": [\n",
      "        \"Urban\",\n",
      "        \"Cityscape\",\n",
      "        \"Countryside\",\n",
      "        \"Mountains\",\n",
      "        \"Forest\",\n",
      "        \"Beach\",\n",
      "        \"Rural\"\n",
      "    ],\n",
      "    \"Time Period\": [\n",
      "        \"Renaissance\",\n",
      "        \"Medieval\",\n",
      "        \"Modern\",\n",
      "        \"Contemporary\",\n",
      "        \"Victorian\",\n",
      "        \"Ancient\",\n",
      "        \"Futuristic\"\n",
      "    ],\n",
      "    \"Cultural/Symbolic Representation\": [\n",
      "        \"Historical\",\n",
      "        \"Political\",\n",
      "        \"Folklore\",\n",
      "        \"Religious\",\n",
      "        \"Pop culture\",\n",
      "        \"Mythological\",\n",
      "        \"Indigenous\"\n",
      "    ]\n",
      "}\n",
      "{\n",
      "    \"Color Palette\": [\n",
      "        \"Vibrant\",\n",
      "        \"Bold\",\n",
      "        \"Muted\",\n",
      "        \"Neon\",\n",
      "        \"Earthy\",\n",
      "        \"Pastel\",\n",
      "        \"Monochromatic\"\n",
      "    ],\n",
      "    \"Subject Matter\": [\n",
      "        \"Nature\",\n",
      "        \"Portrait\",\n",
      "        \"Abstract\",\n",
      "        \"Landscape\",\n",
      "        \"Still life\",\n",
      "        \"Urban\",\n",
      "        \"Architecture\"\n",
      "    ],\n",
      "    \"Mood/Emotion\": [\n",
      "        \"Dramatic\",\n",
      "        \"Energetic\",\n",
      "        \"Mysterious\",\n",
      "        \"Joyful\",\n",
      "        \"Peaceful\",\n",
      "        \"Serene\",\n",
      "        \"Melancholic\"\n",
      "    ],\n",
      "    \"Style/Aesthetic\": [\n",
      "        \"Romanticism\",\n",
      "        \"Realism\",\n",
      "        \"Expressionism\",\n",
      "        \"Surrealism\",\n",
      "        \"Impressionism\",\n",
      "        \"Minimalism\",\n",
      "        \"Cubism\"\n",
      "    ],\n",
      "    \"Setting/Location\": [\n",
      "        \"Rural\",\n",
      "        \"Forest\",\n",
      "        \"Countryside\",\n",
      "        \"Mountains\",\n",
      "        \"Cityscape\",\n",
      "        \"Beach\",\n",
      "        \"Urban\"\n",
      "    ],\n",
      "    \"Time Period\": [\n",
      "        \"Ancient\",\n",
      "        \"Contemporary\",\n",
      "        \"Renaissance\",\n",
      "        \"Medieval\",\n",
      "        \"Modern\",\n",
      "        \"Victorian\",\n",
      "        \"Futuristic\"\n",
      "    ],\n",
      "    \"Cultural/Symbolic Representation\": [\n",
      "        \"Mythological\",\n",
      "        \"Historical\",\n",
      "        \"Religious\",\n",
      "        \"Folklore\",\n",
      "        \"Indigenous\",\n",
      "        \"Political\",\n",
      "        \"Pop culture\"\n",
      "    ]\n",
      "}\n"
     ]
    }
   ],
   "source": [
    "print(json.dumps(attributes_1, indent=4))\n",
    "print(json.dumps(attributes_2, indent=4))\n",
    "print(json.dumps(attributes_3, indent=4))"
   ]
  },
  {
   "cell_type": "markdown",
   "metadata": {},
   "source": [
    "*testing various dissimilairty functions on the 3 attributes*"
   ]
  },
  {
   "cell_type": "code",
   "execution_count": 48,
   "metadata": {},
   "outputs": [
    {
     "name": "stdout",
     "output_type": "stream",
     "text": [
      "Manhattan Disimilarity between Art URL 1 and Art URL 2: 106\n",
      "Manhattan Disimilarity between Art URL 1 and Art URL 3: 64\n",
      "Manhattan Disimilarity between Art URL 2 and Art URL 3: 104\n"
     ]
    }
   ],
   "source": [
    "dis_art1_art2 = calculate_total_similarity(attributes_1, attributes_2, \"manhattan\")\n",
    "dis_art1_art3 = calculate_total_similarity(attributes_1, attributes_3, \"manhattan\")\n",
    "dis_art2_art3 = calculate_total_similarity(attributes_2, attributes_3, \"manhattan\")\n",
    "\n",
    "print(\"Manhattan Disimilarity between Art URL 1 and Art URL 2:\", dis_art1_art2)\n",
    "print(\"Manhattan Disimilarity between Art URL 1 and Art URL 3:\", dis_art1_art3)\n",
    "print(\"Manhattan Disimilarity between Art URL 2 and Art URL 3:\", dis_art2_art3)"
   ]
  },
  {
   "cell_type": "code",
   "execution_count": 50,
   "metadata": {},
   "outputs": [
    {
     "name": "stdout",
     "output_type": "stream",
     "text": [
      "Eucladian Disimilarity between Art URL 1 and Art URL 2: 340\n",
      "Eucladian Disimilarity between Art URL 1 and Art URL 3: 172\n",
      "Eucladian Disimilarity between Art URL 2 and Art URL 3: 344\n"
     ]
    }
   ],
   "source": [
    "dis_art1_art2 = calculate_total_similarity(attributes_1, attributes_2, \"eucladian\")\n",
    "dis_art1_art3 = calculate_total_similarity(attributes_1, attributes_3, \"eucladian\")\n",
    "dis_art2_art3 = calculate_total_similarity(attributes_2, attributes_3, \"eucladian\")\n",
    "\n",
    "print(\"Eucladian Disimilarity between Art URL 1 and Art URL 2:\", dis_art1_art2)\n",
    "print(\"Eucladian Disimilarity between Art URL 1 and Art URL 3:\", dis_art1_art3)\n",
    "print(\"Eucladian Disimilarity between Art URL 2 and Art URL 3:\", dis_art2_art3)"
   ]
  },
  {
   "cell_type": "code",
   "execution_count": 51,
   "metadata": {},
   "outputs": [
    {
     "name": "stdout",
     "output_type": "stream",
     "text": [
      "Modified Manhattan Disimilarity between Art URL 1 and Art URL 2: 54.91617957263931\n",
      "Modified Manhattan Disimilarity between Art URL 1 and Art URL 3: 35.24236646134862\n",
      "Modified Manhattan Disimilarity between Art URL 2 and Art URL 3: 52.641385268356956\n"
     ]
    }
   ],
   "source": [
    "dis_art1_art2 = calculate_total_similarity(attributes_1, attributes_2, \"modified_manhattan\")\n",
    "dis_art1_art3 = calculate_total_similarity(attributes_1, attributes_3, \"modified_manhattan\")\n",
    "dis_art2_art3 = calculate_total_similarity(attributes_2, attributes_3, \"modified_manhattan\")\n",
    "\n",
    "print(\"Modified Manhattan Disimilarity between Art URL 1 and Art URL 2:\", dis_art1_art2)\n",
    "print(\"Modified Manhattan Disimilarity between Art URL 1 and Art URL 3:\", dis_art1_art3)\n",
    "print(\"Modified Manhattan Disimilarity between Art URL 2 and Art URL 3:\", dis_art2_art3)"
   ]
  },
  {
   "cell_type": "code",
   "execution_count": 55,
   "metadata": {},
   "outputs": [
    {
     "name": "stdout",
     "output_type": "stream",
     "text": [
      "Warning: 'Landscape' or 'Still life' not found in Word2Vec model vocabulary.\n",
      "Warning: 'Still life' or 'Abstract' not found in Word2Vec model vocabulary.\n",
      "Warning: 'Political' or 'Pop culture' not found in Word2Vec model vocabulary.\n",
      "Warning: 'Pop culture' or 'Indigenous' not found in Word2Vec model vocabulary.\n",
      "Warning: 'Still life' or 'Still life' not found in Word2Vec model vocabulary.\n",
      "Warning: 'Pop culture' or 'Pop culture' not found in Word2Vec model vocabulary.\n",
      "Warning: 'Still life' or 'Abstract' not found in Word2Vec model vocabulary.\n",
      "Warning: 'Abstract' or 'Still life' not found in Word2Vec model vocabulary.\n",
      "Warning: 'Pop culture' or 'Indigenous' not found in Word2Vec model vocabulary.\n",
      "Warning: 'Indigenous' or 'Pop culture' not found in Word2Vec model vocabulary.\n",
      "Word2Vec Disimilarity between Art URL 1 and Art URL 2: 115.85569156195116\n",
      "Word2Vec Disimilarity between Art URL 1 and Art URL 3: 76.80501157543127\n",
      "Word2Vec Disimilarity between Art URL 2 and Art URL 3: 114.64557622699982\n"
     ]
    }
   ],
   "source": [
    "dis_art1_art2 = calculate_total_similarity(attributes_1, attributes_2, \"word2vec\")\n",
    "dis_art1_art3 = calculate_total_similarity(attributes_1, attributes_3, \"word2vec\")\n",
    "dis_art2_art3 = calculate_total_similarity(attributes_2, attributes_3, \"word2vec\")\n",
    "\n",
    "print(\"Word2Vec Disimilarity between Art URL 1 and Art URL 2:\", dis_art1_art2)\n",
    "print(\"Word2Vec Disimilarity between Art URL 1 and Art URL 3:\", dis_art1_art3)\n",
    "print(\"Word2Vec Disimilarity between Art URL 2 and Art URL 3:\", dis_art2_art3)"
   ]
  },
  {
   "cell_type": "code",
   "execution_count": 56,
   "metadata": {},
   "outputs": [
    {
     "name": "stdout",
     "output_type": "stream",
     "text": [
      "Bert Disimilarity between Art URL 1 and Art URL 2: 124.93912362750332\n",
      "Bert Disimilarity between Art URL 1 and Art URL 3: 84.38904585600166\n",
      "Bert Disimilarity between Art URL 2 and Art URL 3: 123.02547662086326\n"
     ]
    }
   ],
   "source": [
    "dis_art1_art2 = calculate_total_similarity(attributes_1, attributes_2, \"bert\")\n",
    "dis_art1_art3 = calculate_total_similarity(attributes_1, attributes_3, \"bert\")\n",
    "dis_art2_art3 = calculate_total_similarity(attributes_2, attributes_3, \"bert\")\n",
    "\n",
    "print(\"Bert Disimilarity between Art URL 1 and Art URL 2:\", dis_art1_art2)\n",
    "print(\"Bert Disimilarity between Art URL 1 and Art URL 3:\", dis_art1_art3)\n",
    "print(\"Bert Disimilarity between Art URL 2 and Art URL 3:\", dis_art2_art3)"
   ]
  },
  {
   "cell_type": "markdown",
   "metadata": {},
   "source": [
    "### Function to Load N Random Art Images from WikiArt"
   ]
  },
  {
   "cell_type": "markdown",
   "metadata": {},
   "source": [
    "*Trouble Shooting URL Checking Function*"
   ]
  },
  {
   "cell_type": "code",
   "execution_count": 57,
   "metadata": {},
   "outputs": [],
   "source": [
    "def is_url_valid(url):\n",
    "    \"\"\"\n",
    "    Check if a URL returns a 200 (OK) status code.\n",
    "    \"\"\"\n",
    "    response = requests.head(url)\n",
    "    return response.status_code == 200"
   ]
  },
  {
   "cell_type": "markdown",
   "metadata": {},
   "source": [
    "*function to randomly pull n image urls*"
   ]
  },
  {
   "cell_type": "code",
   "execution_count": 119,
   "metadata": {},
   "outputs": [],
   "source": [
    "def get_images():\n",
    "\n",
    "   # Define the base URL for the WikiArt API\n",
    "    base_url = \"https://www.wikiart.org/en/App/Painting/MostViewedPaintings\"\n",
    "\n",
    "\n",
    "    # Define the parameters for the API request\n",
    "    params = {\n",
    "        \"randomSeed\": int(time.time()),\n",
    "        \"json\": 2,\n",
    "        \"inPublicDomain\": True,\n",
    "    }\n",
    "\n",
    "    # Send a GET request to the WikiArt API\n",
    "    response = requests.get(base_url, params=params)\n",
    "\n",
    "    # Check that the request was successful\n",
    "    if response.status_code == 200:\n",
    "        # Parse the JSON response\n",
    "        data = response.json()\n",
    "\n",
    "        # Extract a small sample of art image URLs\n",
    "        sample_size = 6  # Change this to the number of samples you want\n",
    "        \n",
    "        # URLs\n",
    "        image_urls = []\n",
    "\n",
    "        # Randomly select paintings from the data list\n",
    "        for painting in random.sample(data, sample_size):\n",
    "            # Check if the image URL is valid\n",
    "            if is_url_valid(painting[\"image\"]):\n",
    "                # If the URL is valid, add it to the list\n",
    "                image_urls.append(painting[\"image\"])\n",
    "\n",
    "\n",
    "        # Shuffle the list of image URLs\n",
    "        random.shuffle(image_urls)\n",
    "\n",
    "        # Now you can use the image_urls list in your OpenAI API call\n",
    "    else:\n",
    "        print(f\"Failed to get data from WikiArt API: {response.status_code}\")\n",
    "\n",
    "\n",
    "    # Create a dictionary of URLs with their corresponding names\n",
    "    url_dict = {urlparse(url).path.split('/')[-1].split('.')[0]: url for url in image_urls}\n",
    "    \n",
    "    return url_dict"
   ]
  },
  {
   "cell_type": "markdown",
   "metadata": {},
   "source": [
    "*testing this function to pull 10 random image urls*"
   ]
  },
  {
   "cell_type": "code",
   "execution_count": 59,
   "metadata": {},
   "outputs": [
    {
     "name": "stdout",
     "output_type": "stream",
     "text": [
      "{'light-of-iris': 'https://uploads1.wikiart.org/images/georgia-o-keeffe/light-of-iris.jpg!Large.jpg', 'the-bather-1879': 'https://uploads4.wikiart.org/images/william-adolphe-bouguereau/the-bather-1879.jpg!Large.jpg', 'house-of-parliament-sun': 'https://uploads7.wikiart.org/images/claude-monet/house-of-parliament-sun.jpg!Large.jpg', 'emerald': 'https://uploads2.wikiart.org/images/alphonse-mucha/emerald.jpg!Large.jpg', 'the-disintegration-of-the-persistence-of-memory': 'https://uploads5.wikiart.org/images/salvador-dali/the-disintegration-of-the-persistence-of-memory.jpg!Large.jpg', 'girl-in-front-of-mirror-1932': 'https://uploads4.wikiart.org/images/pablo-picasso/girl-in-front-of-mirror-1932.jpg!Large.jpg', 'galatea-detail-of-mermen-and-dolphins-1506': 'https://uploads3.wikiart.org/images/raphael/galatea-detail-of-mermen-and-dolphins-1506.jpg!Large.jpg', 'hygeia-detail-of-medicine-1907': 'https://uploads5.wikiart.org/images/gustav-klimt/hygeia-detail-of-medicine-1907.jpg!Large.jpg', 'summer-evening': 'https://uploads8.wikiart.org/images/edward-hopper/summer-evening.jpg!Large.jpg', 'the-triumph-of-death': 'https://uploads7.wikiart.org/images/pieter-bruegel-the-elder/the-triumph-of-death.jpg!Large.jpg'}\n"
     ]
    }
   ],
   "source": [
    "image_urls = get_images()\n",
    "print(image_urls)"
   ]
  },
  {
   "cell_type": "markdown",
   "metadata": {},
   "source": [
    "### Comparing Image from their URLS "
   ]
  },
  {
   "cell_type": "markdown",
   "metadata": {},
   "source": [
    "*function to calculate total similarity between images given the urls*"
   ]
  },
  {
   "cell_type": "code",
   "execution_count": 63,
   "metadata": {},
   "outputs": [],
   "source": [
    "def compare_images_total_similarity(images):\n",
    "\n",
    "    print('images: ', json.dumps(image_urls, indent=4))\n",
    "\n",
    "    image_description_labels = {}\n",
    "\n",
    "    for image_name, image_url in image_urls.items():\n",
    "        description = image_to_text(image_url)\n",
    "        attributes = description_to_all_attributes(description, predefined_labels_list)\n",
    "        image_description_labels[image_name] = attributes\n",
    "\n",
    "    comparisons = []\n",
    "    for image1, image2 in combinations(image_description_labels.keys(), 2):\n",
    "        difference = calculate_total_similarity(image_description_labels[image1], image_description_labels[image2], \"bert\")\n",
    "        comparisons.append((f\"{image1} vs {image2}\", difference))\n",
    "\n",
    "    return comparisons"
   ]
  },
  {
   "cell_type": "markdown",
   "metadata": {},
   "source": [
    "*testing the comparisons result of the above function*"
   ]
  },
  {
   "cell_type": "code",
   "execution_count": 64,
   "metadata": {},
   "outputs": [
    {
     "name": "stdout",
     "output_type": "stream",
     "text": [
      "images:  {\n",
      "    \"light-of-iris\": \"https://uploads1.wikiart.org/images/georgia-o-keeffe/light-of-iris.jpg!Large.jpg\",\n",
      "    \"the-bather-1879\": \"https://uploads4.wikiart.org/images/william-adolphe-bouguereau/the-bather-1879.jpg!Large.jpg\",\n",
      "    \"house-of-parliament-sun\": \"https://uploads7.wikiart.org/images/claude-monet/house-of-parliament-sun.jpg!Large.jpg\",\n",
      "    \"emerald\": \"https://uploads2.wikiart.org/images/alphonse-mucha/emerald.jpg!Large.jpg\",\n",
      "    \"the-disintegration-of-the-persistence-of-memory\": \"https://uploads5.wikiart.org/images/salvador-dali/the-disintegration-of-the-persistence-of-memory.jpg!Large.jpg\",\n",
      "    \"girl-in-front-of-mirror-1932\": \"https://uploads4.wikiart.org/images/pablo-picasso/girl-in-front-of-mirror-1932.jpg!Large.jpg\",\n",
      "    \"galatea-detail-of-mermen-and-dolphins-1506\": \"https://uploads3.wikiart.org/images/raphael/galatea-detail-of-mermen-and-dolphins-1506.jpg!Large.jpg\",\n",
      "    \"hygeia-detail-of-medicine-1907\": \"https://uploads5.wikiart.org/images/gustav-klimt/hygeia-detail-of-medicine-1907.jpg!Large.jpg\",\n",
      "    \"summer-evening\": \"https://uploads8.wikiart.org/images/edward-hopper/summer-evening.jpg!Large.jpg\",\n",
      "    \"the-triumph-of-death\": \"https://uploads7.wikiart.org/images/pieter-bruegel-the-elder/the-triumph-of-death.jpg!Large.jpg\"\n",
      "}\n",
      "[('light-of-iris vs the-bather-1879', 73.77305420685259), ('light-of-iris vs house-of-parliament-sun', 105.04209118589634), ('light-of-iris vs emerald', 81.4376242680697), ('light-of-iris vs the-disintegration-of-the-persistence-of-memory', 79.83945222987559), ('light-of-iris vs girl-in-front-of-mirror-1932', 101.3704868002971), ('light-of-iris vs galatea-detail-of-mermen-and-dolphins-1506', 108.87752155187951), ('light-of-iris vs hygeia-detail-of-medicine-1907', 86.49232136686655), ('light-of-iris vs summer-evening', 111.3559309418354), ('light-of-iris vs the-triumph-of-death', 108.82223462490998), ('the-bather-1879 vs house-of-parliament-sun', 103.40320013989712), ('the-bather-1879 vs emerald', 47.637255639868386), ('the-bather-1879 vs the-disintegration-of-the-persistence-of-memory', 107.49546265318082), ('the-bather-1879 vs girl-in-front-of-mirror-1932', 115.69291616954432), ('the-bather-1879 vs galatea-detail-of-mermen-and-dolphins-1506', 109.53951131185386), ('the-bather-1879 vs hygeia-detail-of-medicine-1907', 91.80243764705402), ('the-bather-1879 vs summer-evening', 73.14196061983442), ('the-bather-1879 vs the-triumph-of-death', 110.8547661755325), ('house-of-parliament-sun vs emerald', 101.86091231324114), ('house-of-parliament-sun vs the-disintegration-of-the-persistence-of-memory', 116.75800031405043), ('house-of-parliament-sun vs girl-in-front-of-mirror-1932', 111.027294722943), ('house-of-parliament-sun vs galatea-detail-of-mermen-and-dolphins-1506', 132.4355906494159), ('house-of-parliament-sun vs hygeia-detail-of-medicine-1907', 109.02821379034552), ('house-of-parliament-sun vs summer-evening', 95.34945473973714), ('house-of-parliament-sun vs the-triumph-of-death', 118.91197630347934), ('emerald vs the-disintegration-of-the-persistence-of-memory', 102.81537331337758), ('emerald vs girl-in-front-of-mirror-1932', 107.60702169555994), ('emerald vs galatea-detail-of-mermen-and-dolphins-1506', 109.21811553210541), ('emerald vs hygeia-detail-of-medicine-1907', 87.29764171366875), ('emerald vs summer-evening', 76.41603238394002), ('emerald vs the-triumph-of-death', 112.6947380234537), ('the-disintegration-of-the-persistence-of-memory vs girl-in-front-of-mirror-1932', 87.6919366323804), ('the-disintegration-of-the-persistence-of-memory vs galatea-detail-of-mermen-and-dolphins-1506', 115.36300262839983), ('the-disintegration-of-the-persistence-of-memory vs hygeia-detail-of-medicine-1907', 91.33329345209921), ('the-disintegration-of-the-persistence-of-memory vs summer-evening', 122.8803122620545), ('the-disintegration-of-the-persistence-of-memory vs the-triumph-of-death', 89.01508824654056), ('girl-in-front-of-mirror-1932 vs galatea-detail-of-mermen-and-dolphins-1506', 117.1887123842688), ('girl-in-front-of-mirror-1932 vs hygeia-detail-of-medicine-1907', 72.23246269027237), ('girl-in-front-of-mirror-1932 vs summer-evening', 113.04846630835831), ('girl-in-front-of-mirror-1932 vs the-triumph-of-death', 79.92015165723296), ('galatea-detail-of-mermen-and-dolphins-1506 vs hygeia-detail-of-medicine-1907', 100.78436739578605), ('galatea-detail-of-mermen-and-dolphins-1506 vs summer-evening', 133.29093818386204), ('galatea-detail-of-mermen-and-dolphins-1506 vs the-triumph-of-death', 110.74801059988194), ('hygeia-detail-of-medicine-1907 vs summer-evening', 113.54204202591123), ('hygeia-detail-of-medicine-1907 vs the-triumph-of-death', 80.23747293260719), ('summer-evening vs the-triumph-of-death', 124.9927075799458)]\n"
     ]
    }
   ],
   "source": [
    "comparisons = compare_images_total_similarity(image_urls)\n",
    "print(comparisons)"
   ]
  },
  {
   "cell_type": "code",
   "execution_count": 87,
   "metadata": {},
   "outputs": [
    {
     "name": "stdout",
     "output_type": "stream",
     "text": [
      "45\n",
      "[\n",
      "    [\n",
      "        \"1 vs 2\",\n",
      "        73.77305420685259\n",
      "    ],\n",
      "    [\n",
      "        \"1 vs 3\",\n",
      "        105.04209118589634\n",
      "    ],\n",
      "    [\n",
      "        \"1 vs 4\",\n",
      "        81.4376242680697\n",
      "    ],\n",
      "    [\n",
      "        \"1 vs 5\",\n",
      "        79.83945222987559\n",
      "    ],\n",
      "    [\n",
      "        \"1 vs 6\",\n",
      "        101.3704868002971\n",
      "    ],\n",
      "    [\n",
      "        \"1 vs 7\",\n",
      "        108.87752155187951\n",
      "    ],\n",
      "    [\n",
      "        \"1 vs 8\",\n",
      "        86.49232136686655\n",
      "    ],\n",
      "    [\n",
      "        \"1 vs 9\",\n",
      "        111.3559309418354\n",
      "    ],\n",
      "    [\n",
      "        \"1 vs 10\",\n",
      "        108.82223462490998\n",
      "    ],\n",
      "    [\n",
      "        \"2 vs 3\",\n",
      "        103.40320013989712\n",
      "    ],\n",
      "    [\n",
      "        \"2 vs 4\",\n",
      "        47.637255639868386\n",
      "    ],\n",
      "    [\n",
      "        \"2 vs 5\",\n",
      "        107.49546265318082\n",
      "    ],\n",
      "    [\n",
      "        \"2 vs 6\",\n",
      "        115.69291616954432\n",
      "    ],\n",
      "    [\n",
      "        \"2 vs 7\",\n",
      "        109.53951131185386\n",
      "    ],\n",
      "    [\n",
      "        \"2 vs 8\",\n",
      "        91.80243764705402\n",
      "    ],\n",
      "    [\n",
      "        \"2 vs 9\",\n",
      "        73.14196061983442\n",
      "    ],\n",
      "    [\n",
      "        \"2 vs 10\",\n",
      "        110.8547661755325\n",
      "    ],\n",
      "    [\n",
      "        \"3 vs 4\",\n",
      "        101.86091231324114\n",
      "    ],\n",
      "    [\n",
      "        \"3 vs 5\",\n",
      "        116.75800031405043\n",
      "    ],\n",
      "    [\n",
      "        \"3 vs 6\",\n",
      "        111.027294722943\n",
      "    ],\n",
      "    [\n",
      "        \"3 vs 7\",\n",
      "        132.4355906494159\n",
      "    ],\n",
      "    [\n",
      "        \"3 vs 8\",\n",
      "        109.02821379034552\n",
      "    ],\n",
      "    [\n",
      "        \"3 vs 9\",\n",
      "        95.34945473973714\n",
      "    ],\n",
      "    [\n",
      "        \"3 vs 10\",\n",
      "        118.91197630347934\n",
      "    ],\n",
      "    [\n",
      "        \"4 vs 5\",\n",
      "        102.81537331337758\n",
      "    ],\n",
      "    [\n",
      "        \"4 vs 6\",\n",
      "        107.60702169555994\n",
      "    ],\n",
      "    [\n",
      "        \"4 vs 7\",\n",
      "        109.21811553210541\n",
      "    ],\n",
      "    [\n",
      "        \"4 vs 8\",\n",
      "        87.29764171366875\n",
      "    ],\n",
      "    [\n",
      "        \"4 vs 9\",\n",
      "        76.41603238394002\n",
      "    ],\n",
      "    [\n",
      "        \"4 vs 10\",\n",
      "        112.6947380234537\n",
      "    ],\n",
      "    [\n",
      "        \"5 vs 6\",\n",
      "        87.6919366323804\n",
      "    ],\n",
      "    [\n",
      "        \"5 vs 7\",\n",
      "        115.36300262839983\n",
      "    ],\n",
      "    [\n",
      "        \"5 vs 8\",\n",
      "        91.33329345209921\n",
      "    ],\n",
      "    [\n",
      "        \"5 vs 9\",\n",
      "        122.8803122620545\n",
      "    ],\n",
      "    [\n",
      "        \"5 vs 10\",\n",
      "        89.01508824654056\n",
      "    ],\n",
      "    [\n",
      "        \"6 vs 7\",\n",
      "        117.1887123842688\n",
      "    ],\n",
      "    [\n",
      "        \"6 vs 8\",\n",
      "        72.23246269027237\n",
      "    ],\n",
      "    [\n",
      "        \"6 vs 9\",\n",
      "        113.04846630835831\n",
      "    ],\n",
      "    [\n",
      "        \"6 vs 10\",\n",
      "        79.92015165723296\n",
      "    ],\n",
      "    [\n",
      "        \"7 vs 8\",\n",
      "        100.78436739578605\n",
      "    ],\n",
      "    [\n",
      "        \"7 vs 9\",\n",
      "        133.29093818386204\n",
      "    ],\n",
      "    [\n",
      "        \"7 vs 10\",\n",
      "        110.74801059988194\n",
      "    ],\n",
      "    [\n",
      "        \"8 vs 9\",\n",
      "        113.54204202591123\n",
      "    ],\n",
      "    [\n",
      "        \"8 vs 10\",\n",
      "        80.23747293260719\n",
      "    ],\n",
      "    [\n",
      "        \"9 vs 10\",\n",
      "        124.9927075799458\n",
      "    ]\n",
      "]\n"
     ]
    }
   ],
   "source": [
    "new_comparisons = []\n",
    "\n",
    "for comparison in comparisons:\n",
    "    # seperate the first image name and the second image name\n",
    "    image1, image2 = comparison[0].split(' vs ')\n",
    "    # create a new key with the two image names based on their indices in the image_urls dictionary\n",
    "    new_key = f\"{list(image_urls.keys()).index(image1) + 1} vs {list(image_urls.keys()).index(image2) + 1}\"\n",
    "    new_comparisons.append((new_key, comparison[1]))\n",
    "\n",
    "print(len(new_comparisons))\n",
    "print(json.dumps(new_comparisons, indent=4))"
   ]
  },
  {
   "cell_type": "markdown",
   "metadata": {},
   "source": [
    "### Implementing K-Means Clustering on our Comparisons to Visualize Them"
   ]
  },
  {
   "cell_type": "code",
   "execution_count": 100,
   "metadata": {},
   "outputs": [],
   "source": [
    "def visualize_comparisons(comparisons):\n",
    "    # Extract the image names and differences from the comparisons\n",
    "    image_pairs = [comparison[0] for comparison in comparisons]\n",
    "    differences = [comparison[1] for comparison in comparisons]\n",
    "\n",
    "    # Reshape differences for KMeans clustering\n",
    "    differences_array = [[diff] for diff in differences]\n",
    "\n",
    "    # Perform KMeans clustering\n",
    "    kmeans = KMeans(n_clusters=1)\n",
    "    kmeans.fit(differences_array)\n",
    "    centroids = kmeans.cluster_centers_\n",
    "    labels = kmeans.labels_\n",
    "\n",
    "    # Plot the differences\n",
    "    plt.figure(figsize=(10, 6))\n",
    "    plt.scatter(range(len(differences)), differences, c=labels, cmap='viridis', alpha=0.5)\n",
    "    plt.scatter(range(len(centroids)), centroids, marker='x', color='red')\n",
    "\n",
    "    # Draw horizontal lines passing through each centroid\n",
    "    for centroid in centroids:\n",
    "        plt.axhline(y=centroid, color='gray', linestyle='--')\n",
    "\n",
    "    # Annotate points with image comparison labels\n",
    "    for i, (pair, diff) in enumerate(zip(image_pairs, differences)):\n",
    "        plt.annotate(pair, (i, diff), textcoords=\"offset points\", xytext=(0, -10), ha='center', fontsize=6)  # Adjust fontsize here\n",
    "\n",
    "    plt.title('Image Comparisons')\n",
    "    plt.xlabel('Comparison Index')\n",
    "    plt.ylabel('Difference')\n",
    "    plt.xticks(rotation=90)  # Rotate x-axis labels for better readability\n",
    "    plt.show()\n",
    "\n",
    "    print(\"Centroids:\", centroids)\n"
   ]
  },
  {
   "cell_type": "code",
   "execution_count": 101,
   "metadata": {},
   "outputs": [
    {
     "data": {
      "image/png": "[encoded data removed]",
      "text/plain": [
       "<Figure size 1000x600 with 1 Axes>"
      ]
     },
     "metadata": {},
     "output_type": "display_data"
    },
    {
     "name": "stdout",
     "output_type": "stream",
     "text": [
      "Centroids: [[101.11705684]]\n"
     ]
    }
   ],
   "source": [
    "visualize_comparisons(new_comparisons)"
   ]
  },
  {
   "cell_type": "markdown",
   "metadata": {},
   "source": [
    "*The above graph quantifies the similarity amongst all the images in our dataset. The line passing through the centroid represents the average similarity between any two arbitrary images in our dataset. Images below this threshold show more similarity while Images above this threshold show higher similarity*"
   ]
  },
  {
   "cell_type": "markdown",
   "metadata": {},
   "source": [
    "*function to determine comparison for a specific label*"
   ]
  },
  {
   "cell_type": "code",
   "execution_count": 120,
   "metadata": {},
   "outputs": [
    {
     "name": "stdout",
     "output_type": "stream",
     "text": [
      "{'portrait-of-ginevra-benci': 'https://uploads5.wikiart.org/images/leonardo-da-vinci/portrait-of-ginevra-benci.jpg!Large.jpg', 'the-barefoot-girl-1895': 'https://uploads7.wikiart.org/images/pablo-picasso/the-barefoot-girl-1895.jpg!Large.jpg', 'branches-with-almond-blossom-1890(1)': 'https://uploads6.wikiart.org/images/vincent-van-gogh/branches-with-almond-blossom-1890(1).jpg!Large.jpg', 'poison-oasis': 'https://uploads4.wikiart.org/images/jean-michel-basquiat/poison-oasis.jpg!Large.jpg', 'the-scream-1893(2)': 'https://uploads2.wikiart.org/images/edvard-munch/the-scream-1893(2).jpg!Large.jpg', 'girl-on-the-ball-1905': 'https://uploads6.wikiart.org/images/pablo-picasso/girl-on-the-ball-1905.jpg!Large.jpg'}\n"
     ]
    }
   ],
   "source": [
    "image_urls_2 = get_images()\n",
    "print(image_urls_2)"
   ]
  },
  {
   "cell_type": "code",
   "execution_count": 121,
   "metadata": {},
   "outputs": [],
   "source": [
    "def compare_images_label_similarity(images, label):\n",
    "\n",
    "    print('images: ', json.dumps(image_urls_2, indent=4))\n",
    "\n",
    "    image_description_labels = {}\n",
    "    i = 0\n",
    "\n",
    "    for image_name, image_url in image_urls_2.items():\n",
    "        description = image_to_text(image_url)\n",
    "        attributes = description_to_all_attributes(description, predefined_labels_list)\n",
    "        image_description_labels[image_name] = attributes\n",
    "        i += 1\n",
    "        print(i)\n",
    "\n",
    "    comparisons = []\n",
    "    for image1, image2 in combinations(image_description_labels.keys(), 2):\n",
    "        difference = calculate_label_dissimilarity(image_description_labels[image1], image_description_labels[image2], label, \"bert\")\n",
    "        comparisons.append((f\"{image1} vs {image2}\", difference))\n",
    "\n",
    "    return comparisons"
   ]
  },
  {
   "cell_type": "code",
   "execution_count": 124,
   "metadata": {},
   "outputs": [
    {
     "name": "stdout",
     "output_type": "stream",
     "text": [
      "images:  {\n",
      "    \"portrait-of-ginevra-benci\": \"https://uploads5.wikiart.org/images/leonardo-da-vinci/portrait-of-ginevra-benci.jpg!Large.jpg\",\n",
      "    \"the-barefoot-girl-1895\": \"https://uploads7.wikiart.org/images/pablo-picasso/the-barefoot-girl-1895.jpg!Large.jpg\",\n",
      "    \"branches-with-almond-blossom-1890(1)\": \"https://uploads6.wikiart.org/images/vincent-van-gogh/branches-with-almond-blossom-1890(1).jpg!Large.jpg\",\n",
      "    \"poison-oasis\": \"https://uploads4.wikiart.org/images/jean-michel-basquiat/poison-oasis.jpg!Large.jpg\",\n",
      "    \"the-scream-1893(2)\": \"https://uploads2.wikiart.org/images/edvard-munch/the-scream-1893(2).jpg!Large.jpg\",\n",
      "    \"girl-on-the-ball-1905\": \"https://uploads6.wikiart.org/images/pablo-picasso/girl-on-the-ball-1905.jpg!Large.jpg\"\n",
      "}\n",
      "{\n",
      "    \"Color Palette\": [\"Muted\", \"Earthy\", \"Pastel\", \"Monochromatic\", \"Vibrant\", \"Bold\", \"Neon\"],\n",
      "    \"Subject Matter\": [\"Portrait\", \"Abstract\", \"Nature\", \"Landscape\", \"Still life\", \"Urban\", \"Architecture\"],\n",
      "    \"Mood/Emotion\": [\"Serene\", \"Mysterious\", \"Peaceful\", \"Melancholic\", \"Dramatic\", \"Joyful\", \"Energetic\"],\n",
      "    \"Style/Aesthetic\": [\"Realism\", \"Romanticism\", \"Surrealism\", \"Impressionism\", \"Expressionism\", \"Minimalism\", \"Cubism\"],\n",
      "    \"Setting/Location\": [\"Countryside\", \"Forest\", \"Cityscape\", \"Mountains\", \"Urban\", \"Beach\", \"Rural\"],\n",
      "    \"Time Period\": [\"Renaissance\", \"Medieval\", \"Modern\", \"Contemporary\", \"Victorian\", \"Ancient\", \"Futuristic\"],\n",
      "    \"Cultural/Symbolic Representation\": [\"Religious\", \"Historical\", \"Mythological\", \"Political\", \"Folklore\", \"Pop culture\", \"Indigenous\"]\n",
      "}\n",
      "1\n",
      "{\n",
      "    \"Color Palette\": [\"Earthy\", \"Muted\", \"Pastel\", \"Monochromatic\", \"Vibrant\", \"Bold\", \"Neon\"],\n",
      "    \"Subject Matter\": [\"Portrait\", \"Still life\", \"Abstract\", \"Nature\", \"Landscape\", \"Urban\", \"Architecture\"],\n",
      "    \"Mood/Emotion\": [\"Melancholic\", \"Serene\", \"Mysterious\", \"Peaceful\", \"Dramatic\", \"Joyful\", \"Energetic\"],\n",
      "    \"Style/Aesthetic\": [\"Realism\", \"Impressionism\", \"Romanticism\", \"Expressionism\", \"Minimalism\", \"Surrealism\", \"Cubism\"],\n",
      "    \"Setting/Location\": [\"Urban\", \"Countryside\", \"Cityscape\", \"Rural\", \"Forest\", \"Mountains\", \"Beach\"],\n",
      "    \"Time Period\": [\"Modern\", \"Contemporary\", \"Victorian\", \"Renaissance\", \"Medieval\", \"Ancient\", \"Futuristic\"],\n",
      "    \"Cultural/Symbolic Representation\": [\"Historical\", \"Political\", \"Folklore\", \"Religious\", \"Mythological\", \"Indigenous\", \"Pop culture\"]\n",
      "}\n",
      "2\n",
      "{\n",
      "    \"Color Palette\": [\"Vibrant\", \"Pastel\", \"Muted\", \"Bold\", \"Monochromatic\", \"Earthy\", \"Neon\"],\n",
      "    \"Subject Matter\": [\"Nature\", \"Still life\", \"Abstract\", \"Landscape\", \"Portrait\", \"Urban\", \"Architecture\"],\n",
      "    \"Mood/Emotion\": [\"Serene\", \"Peaceful\", \"Joyful\", \"Dramatic\", \"Energetic\", \"Melancholic\", \"Mysterious\"],\n",
      "    \"Style/Aesthetic\": [\"Impressionism\", \"Realism\", \"Romanticism\", \"Expressionism\", \"Surrealism\", \"Minimalism\", \"Cubism\"],\n",
      "    \"Setting/Location\": [\"Countryside\", \"Forest\", \"Rural\", \"Mountains\", \"Cityscape\", \"Urban\", \"Beach\"],\n",
      "    \"Time Period\": [\"Modern\", \"Contemporary\", \"Renaissance\", \"Victorian\", \"Medieval\", \"Ancient\", \"Futuristic\"],\n",
      "    \"Cultural/Symbolic Representation\": [\"Historical\", \"Folklore\", \"Religious\", \"Indigenous\", \"Political\", \"Pop culture\", \"Mythological\"]\n",
      "}\n",
      "3\n",
      "{\n",
      "    \"Color Palette\": [\"Bold\", \"Vibrant\", \"Muted\", \"Monochromatic\", \"Neon\", \"Pastel\", \"Earthy\"],\n",
      "    \"Subject Matter\": [\"Abstract\", \"Portrait\", \"Urban\", \"Still life\", \"Architecture\", \"Nature\", \"Landscape\"],\n",
      "    \"Mood/Emotion\": [\"Dramatic\", \"Mysterious\", \"Energetic\", \"Melancholic\", \"Peaceful\", \"Serene\", \"Joyful\"],\n",
      "    \"Style/Aesthetic\": [\"Expressionism\", \"Surrealism\", \"Realism\", \"Impressionism\", \"Cubism\", \"Minimalism\", \"Romanticism\"],\n",
      "    \"Setting/Location\": [\"Urban\", \"Cityscape\", \"Countryside\", \"Beach\", \"Forest\", \"Mountains\", \"Rural\"],\n",
      "    \"Time Period\": [\"Contemporary\", \"Modern\", \"Victorian\", \"Renaissance\", \"Medieval\", \"Ancient\", \"Futuristic\"],\n",
      "    \"Cultural/Symbolic Representation\": [\"Political\", \"Historical\", \"Mythological\", \"Religious\", \"Pop culture\", \"Indigenous\", \"Folklore\"]\n",
      "}\n",
      "4\n",
      "{\n",
      "    \"Color Palette\": [\"Vibrant\", \"Bold\", \"Muted\", \"Monochromatic\", \"Earthy\", \"Pastel\", \"Neon\"],\n",
      "    \"Subject Matter\": [\"Abstract\", \"Portrait\", \"Landscape\", \"Nature\", \"Still life\", \"Urban\", \"Architecture\"],\n",
      "    \"Mood/Emotion\": [\"Dramatic\", \"Mysterious\", \"Melancholic\", \"Energetic\", \"Serene\", \"Peaceful\", \"Joyful\"],\n",
      "    \"Style/Aesthetic\": [\"Expressionism\", \"Surrealism\", \"Romanticism\", \"Realism\", \"Impressionism\", \"Cubism\", \"Minimalism\"],\n",
      "    \"Setting/Location\": [\"Countryside\", \"Cityscape\", \"Forest\", \"Beach\", \"Mountains\", \"Urban\", \"Rural\"],\n",
      "    \"Time Period\": [\"Modern\", \"Contemporary\", \"Victorian\", \"Renaissance\", \"Medieval\", \"Ancient\", \"Futuristic\"],\n",
      "    \"Cultural/Symbolic Representation\": [\"Historical\", \"Mythological\", \"Folklore\", \"Religious\", \"Political\", \"Pop culture\", \"Indigenous\"]\n",
      "}\n",
      "5\n",
      "{\n",
      "    \"Color Palette\": [\"Muted\", \"Pastel\", \"Earthy\", \"Vibrant\", \"Monochromatic\", \"Bold\", \"Neon\"],\n",
      "    \"Subject Matter\": [\"Portrait\", \"Abstract\", \"Still life\", \"Nature\", \"Landscape\", \"Architecture\", \"Urban\"],\n",
      "    \"Mood/Emotion\": [\"Melancholic\", \"Serene\", \"Mysterious\", \"Peaceful\", \"Dramatic\", \"Joyful\", \"Energetic\"],\n",
      "    \"Style/Aesthetic\": [\"Romanticism\", \"Cubism\", \"Realism\", \"Expressionism\", \"Minimalism\", \"Impressionism\", \"Surrealism\"],\n",
      "    \"Setting/Location\": [\"Countryside\", \"Cityscape\", \"Forest\", \"Beach\", \"Mountains\", \"Rural\", \"Urban\"],\n",
      "    \"Time Period\": [\"Modern\", \"Victorian\", \"Contemporary\", \"Renaissance\", \"Medieval\", \"Ancient\", \"Futuristic\"],\n",
      "    \"Cultural/Symbolic Representation\": [\"Folklore\", \"Historical\", \"Mythological\", \"Indigenous\", \"Religious\", \"Political\", \"Pop culture\"]\n",
      "}\n",
      "6\n",
      "[('portrait-of-ginevra-benci vs the-barefoot-girl-1895', 5.039948288106981), ('portrait-of-ginevra-benci vs branches-with-almond-blossom-1890(1)', 16.33697201343942), ('portrait-of-ginevra-benci vs poison-oasis', 22.4025930417305), ('portrait-of-ginevra-benci vs the-scream-1893(2)', 18.52097760749216), ('portrait-of-ginevra-benci vs girl-on-the-ball-1905', 6.681499338991745), ('the-barefoot-girl-1895 vs branches-with-almond-blossom-1890(1)', 16.164678486940403), ('the-barefoot-girl-1895 vs poison-oasis', 22.472820653270475), ('the-barefoot-girl-1895 vs the-scream-1893(2)', 18.450749995952187), ('the-barefoot-girl-1895 vs girl-on-the-ball-1905', 8.456697018248079), ('branches-with-almond-blossom-1890(1) vs poison-oasis', 14.2463500053261), ('branches-with-almond-blossom-1890(1) vs the-scream-1893(2)', 10.602776468663833), ('branches-with-almond-blossom-1890(1) vs girl-on-the-ball-1905', 12.752317372890118), ('poison-oasis vs the-scream-1893(2)', 8.656505277335334), ('poison-oasis vs girl-on-the-ball-1905', 22.008557435147786), ('the-scream-1893(2) vs girl-on-the-ball-1905', 18.30610272612793)]\n"
     ]
    }
   ],
   "source": [
    "label_comparison = compare_images_label_similarity(image_urls_2, \"Color Palette\")\n",
    "print(label_comparison)"
   ]
  },
  {
   "cell_type": "code",
   "execution_count": 128,
   "metadata": {},
   "outputs": [
    {
     "name": "stdout",
     "output_type": "stream",
     "text": [
      "15\n",
      "[\n",
      "    [\n",
      "        \"1 vs 2\",\n",
      "        5.039948288106981\n",
      "    ],\n",
      "    [\n",
      "        \"1 vs 3\",\n",
      "        16.33697201343942\n",
      "    ],\n",
      "    [\n",
      "        \"1 vs 4\",\n",
      "        22.4025930417305\n",
      "    ],\n",
      "    [\n",
      "        \"1 vs 5\",\n",
      "        18.52097760749216\n",
      "    ],\n",
      "    [\n",
      "        \"1 vs 6\",\n",
      "        6.681499338991745\n",
      "    ],\n",
      "    [\n",
      "        \"2 vs 3\",\n",
      "        16.164678486940403\n",
      "    ],\n",
      "    [\n",
      "        \"2 vs 4\",\n",
      "        22.472820653270475\n",
      "    ],\n",
      "    [\n",
      "        \"2 vs 5\",\n",
      "        18.450749995952187\n",
      "    ],\n",
      "    [\n",
      "        \"2 vs 6\",\n",
      "        8.456697018248079\n",
      "    ],\n",
      "    [\n",
      "        \"3 vs 4\",\n",
      "        14.2463500053261\n",
      "    ],\n",
      "    [\n",
      "        \"3 vs 5\",\n",
      "        10.602776468663833\n",
      "    ],\n",
      "    [\n",
      "        \"3 vs 6\",\n",
      "        12.752317372890118\n",
      "    ],\n",
      "    [\n",
      "        \"4 vs 5\",\n",
      "        8.656505277335334\n",
      "    ],\n",
      "    [\n",
      "        \"4 vs 6\",\n",
      "        22.008557435147786\n",
      "    ],\n",
      "    [\n",
      "        \"5 vs 6\",\n",
      "        18.30610272612793\n",
      "    ]\n",
      "]\n"
     ]
    }
   ],
   "source": [
    "new_label_comparisons = []\n",
    "\n",
    "for comparison in label_comparison:\n",
    "    # seperate the first image name and the second image name\n",
    "    image1, image2 = comparison[0].split(' vs ')\n",
    "    # create a new key with the two image names based on their indices in the image_urls dictionary\n",
    "    new_key = f\"{list(image_urls_2.keys()).index(image1) + 1} vs {list(image_urls_2.keys()).index(image2) + 1}\"\n",
    "    new_label_comparisons.append((new_key, comparison[1]))\n",
    "\n",
    "print(len(new_label_comparisons))\n",
    "print(json.dumps(new_label_comparisons, indent=4))"
   ]
  },
  {
   "cell_type": "code",
   "execution_count": 129,
   "metadata": {},
   "outputs": [
    {
     "data": {
      "image/png": "[encoded data removed]",
      "text/plain": [
       "<Figure size 1000x600 with 1 Axes>"
      ]
     },
     "metadata": {},
     "output_type": "display_data"
    },
    {
     "name": "stdout",
     "output_type": "stream",
     "text": [
      "Centroids: [[14.73996972]]\n"
     ]
    }
   ],
   "source": [
    "visualize_comparisons(new_label_comparisons)"
   ]
  },
  {
   "cell_type": "markdown",
   "metadata": {},
   "source": []
  }
 ],
 "metadata": {
  "kernelspec": {
   "display_name": "Python 3",
   "language": "python",
   "name": "python3"
  },
  "language_info": {
   "codemirror_mode": {
    "name": "ipython",
    "version": 3
   },
   "file_extension": ".py",
   "mimetype": "text/x-python",
   "name": "python",
   "nbconvert_exporter": "python",
   "pygments_lexer": "ipython3",
   "version": "3.12.2"
  }
 },
 "nbformat": 4,
 "nbformat_minor": 2
}

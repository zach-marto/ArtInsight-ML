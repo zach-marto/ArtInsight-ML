{
 "cells": [
  {
   "cell_type": "markdown",
   "metadata": {},
   "source": [
    "### Importing All Necessary Dependencies"
   ]
  },
  {
   "cell_type": "code",
   "execution_count": 1,
   "metadata": {},
   "outputs": [
    {
     "name": "stderr",
     "output_type": "stream",
     "text": [
      "/Library/Frameworks/Python.framework/Versions/3.12/lib/python3.12/site-packages/tqdm/auto.py:21: TqdmWarning: IProgress not found. Please update jupyter and ipywidgets. See https://ipywidgets.readthedocs.io/en/stable/user_install.html\n",
      "  from .autonotebook import tqdm as notebook_tqdm\n"
     ]
    }
   ],
   "source": [
    "import openai\n",
    "from openai import OpenAI\n",
    "\n",
    "import numpy as np\n",
    "\n",
    "import json\n",
    "\n",
    "import matplotlib.pyplot as plt\n",
    "from urllib.parse import urlparse\n",
    "from itertools import combinations\n",
    "\n",
    "import copy\n",
    "import math\n",
    "\n",
    "import requests\n",
    "import random\n",
    "import time\n",
    "\n",
    "from scipy.spatial.distance import cosine\n",
    "import gensim.downloader as api\n",
    "\n",
    "from transformers import BertModel, BertTokenizer\n",
    "import torch\n",
    "\n",
    "import matplotlib.pyplot as plt\n",
    "from sklearn.cluster import KMeans"
   ]
  },
  {
   "cell_type": "markdown",
   "metadata": {},
   "source": [
    "### Establishing Access to OPEN AI API"
   ]
  },
  {
   "cell_type": "code",
   "execution_count": 2,
   "metadata": {},
   "outputs": [],
   "source": [
    "client = OpenAI(api_key=\"sk-OPEN_AI_API_KEY\")"
   ]
  },
  {
   "cell_type": "markdown",
   "metadata": {},
   "source": [
    "### Setting up Word2Vec Model for Later Use"
   ]
  },
  {
   "cell_type": "code",
   "execution_count": 3,
   "metadata": {},
   "outputs": [],
   "source": [
    "word2vec_model = api.load(\"word2vec-google-news-300\")"
   ]
  },
  {
   "cell_type": "markdown",
   "metadata": {},
   "source": [
    "### Setting up BERT Model for Later Use"
   ]
  },
  {
   "cell_type": "code",
   "execution_count": 4,
   "metadata": {},
   "outputs": [],
   "source": [
    "model_name = \"bert-base-uncased\"  \n",
    "bert_model = BertModel.from_pretrained(model_name)\n",
    "bert_tokenizer = BertTokenizer.from_pretrained(model_name)"
   ]
  },
  {
   "cell_type": "markdown",
   "metadata": {},
   "source": [
    "### Function to Convert Image to Large Text Description"
   ]
  },
  {
   "cell_type": "markdown",
   "metadata": {},
   "source": [
    "*Function*"
   ]
  },
  {
   "cell_type": "code",
   "execution_count": 5,
   "metadata": {},
   "outputs": [],
   "source": [
    "def image_to_text(image_url):\n",
    "\n",
    "    response = client.chat.completions.create(\n",
    "        model=\"gpt-4-turbo\",\n",
    "        messages=[\n",
    "            {\n",
    "                \"role\": \"system\",\n",
    "                \"content\": \"Please provide a thorough, detailed, and artistic description of the image in the following URL: \" + image_url + \"Imagine you're painting a vivid picture with words, capturing every detail.\",\n",
    "            }\n",
    "        ],\n",
    "        max_tokens=500,\n",
    "    )\n",
    "    \n",
    "    return response.choices[0].message.content"
   ]
  },
  {
   "cell_type": "markdown",
   "metadata": {},
   "source": [
    "*Testing*"
   ]
  },
  {
   "cell_type": "code",
   "execution_count": 11,
   "metadata": {},
   "outputs": [
    {
     "name": "stdout",
     "output_type": "stream",
     "text": [
      "The scene opens onto a serene slice of nature amidst the bustle of Madison, Wisconsin. A wooden boardwalk, weathered yet sturdy, serves as the pathway inviting us further into this tranquil landscape. It meanders gently, curving toward a distant focal point, flanked by lush, dense tufts of tall, emerald green grass and other verdant plants that crowd close to its edges, almost spilling over onto the walkway.\n",
      "\n",
      "On this clear day, the sky arches overhead, a vast expanse of an almost surreal, azure blue, speckled sporadically with soft, wispy clouds, whiter than snow. The sunlight is bright but gentle, casting a golden hue across the scene, highlighting the vibrant greens of the vegetation and lending the atmosphere an almost ethereal quality.\n",
      "\n",
      "To the left of the boardwalk, a body of water lies still, mirroring the sky above with a precision that makes the surface appear more like glass than liquid. The reflections are a mesmerizing mix of blue and the verdant shades from the surrounding foliage, disturbed only occasionally by the soft landing of a dragonfly or the ripple from a fish swimming leisurely below.\n",
      "\n",
      "Throughout this composition, an array of plants contributes various textures and shades of green. Some stand tall, straight, and proud, while others bow gently as if in reverence to the beauty around them. Small wildflowers pepper the green with bursts of yellow, white, and the occasional pink, like delicate brush strokes of paint on a verdant canvas.\n",
      "\n",
      "The air is filled with a symphony of nature’s sounds: the soft rustling of leaves, the gentle gurgle of water, and the chirping of birds hidden within the foliage. It is a melody that speaks of peace, solitude, and the inherent beauty of the natural world.\n",
      "\n",
      "As the boardwalk winds ahead, it promises more discoveries, more serenity, inviting every walker to continue on their journey through this naturally framed passage—a corridor through nature's own art gallery, each step a reveal of more wonders, hidden just a bend away. The entire setting is not just a visual delight but an experience, wrapping all who enter in its serene, picturesque embrace.\n"
     ]
    }
   ],
   "source": [
    "test_description = image_to_text(\"https://upload.wikimedia.org/wikipedia/commons/thumb/d/dd/Gfp-wisconsin-madison-the-nature-boardwalk.jpg/2560px-Gfp-wisconsin-madison-the-nature-boardwalk.jpg\")\n",
    "\n",
    "print(test_description)"
   ]
  },
  {
   "cell_type": "markdown",
   "metadata": {},
   "source": [
    "### Target Pre-defined Labels"
   ]
  },
  {
   "cell_type": "markdown",
   "metadata": {},
   "source": [
    "*predefined labels list*"
   ]
  },
  {
   "cell_type": "code",
   "execution_count": 6,
   "metadata": {},
   "outputs": [],
   "source": [
    "predefined_labels_list = {\n",
    "        'Color Palette': ['Vibrant', 'Monochromatic', 'Pastel', 'Earthy', 'Neon', 'Muted', 'Bold'],\n",
    "        'Subject Matter': ['Landscape', 'Portrait', 'Still life', 'Abstract', 'Urban', 'Nature', 'Architecture'],\n",
    "        'Mood/Emotion': ['Serene', 'Energetic', 'Melancholic', 'Joyful', 'Mysterious', 'Peaceful', 'Dramatic'],\n",
    "        'Style/Aesthetic': ['Realism', 'Impressionism', 'Surrealism', 'Minimalism', 'Expressionism', 'Cubism', 'Romanticism'],\n",
    "        'Setting/Location': ['Cityscape', 'Countryside', 'Beach', 'Forest', 'Mountains', 'Urban', 'Rural'],\n",
    "        'Time Period': ['Contemporary', 'Renaissance', 'Medieval', 'Modern', 'Ancient', 'Futuristic', 'Victorian'],\n",
    "        'Cultural/Symbolic Representation': ['Religious', 'Political', 'Mythological', 'Historical', 'Indigenous', 'Pop culture', 'Folklore']\n",
    "    }"
   ]
  },
  {
   "cell_type": "markdown",
   "metadata": {},
   "source": [
    "*creating bert vocab for later use on these predefined labels*"
   ]
  },
  {
   "cell_type": "code",
   "execution_count": 7,
   "metadata": {},
   "outputs": [],
   "source": [
    "bert_vocab = {}\n",
    "\n",
    "# Generate BERT embeddings for each label\n",
    "for attribute, labels in predefined_labels_list.items():\n",
    "    for label in labels:\n",
    "        # Tokenize the label\n",
    "        inputs = bert_tokenizer(label, return_tensors=\"pt\")\n",
    "        \n",
    "        # Pass tokenized sequence through BERT model to obtain embeddings\n",
    "        with torch.no_grad():\n",
    "            outputs = bert_model(**inputs)\n",
    "            embeddings = outputs.last_hidden_state.mean(dim=1).squeeze().numpy()  # Mean pooling of token embeddings\n",
    "            \n",
    "        # Store embeddings in bert_vocab dictionary\n",
    "        bert_vocab[label] = embeddings"
   ]
  },
  {
   "cell_type": "code",
   "execution_count": 8,
   "metadata": {},
   "outputs": [],
   "source": [
    "# Initialize dictionary to store BERT embeddings for each label\n",
    "bert_vocab = {}\n",
    "\n",
    "# Generate BERT embeddings for each label\n",
    "for attribute, labels in predefined_labels_list.items():\n",
    "    \n",
    "    # tokenizing all the labels in labels list and passing them all together into BERT\n",
    "    inputs = bert_tokenizer(labels, return_tensors=\"pt\", padding=True, truncation=True)\n",
    "\n",
    "    # Pass tokenized sequence through BERT model to obtain embeddings\n",
    "    with torch.no_grad():\n",
    "        outputs = bert_model(**inputs)\n",
    "        # map each label to its corresponding embeddings in the output\n",
    "        for i, label in enumerate(labels):\n",
    "            embeddings = outputs.last_hidden_state[i].mean(dim=0).numpy()\n",
    "            bert_vocab[label] = embeddings\n"
   ]
  },
  {
   "cell_type": "markdown",
   "metadata": {},
   "source": [
    "*testing bert vocab*"
   ]
  },
  {
   "cell_type": "code",
   "execution_count": 41,
   "metadata": {},
   "outputs": [
    {
     "name": "stdout",
     "output_type": "stream",
     "text": [
      "(768,)\n",
      "(768,)\n",
      "(768,)\n",
      "(768,)\n",
      "(768,)\n",
      "(768,)\n",
      "(768,)\n"
     ]
    }
   ],
   "source": [
    "print(bert_vocab['Vibrant'].shape)\n",
    "print(bert_vocab['Landscape'].shape)\n",
    "print(bert_vocab['Melancholic'].shape)\n",
    "print(bert_vocab['Cubism'].shape)\n",
    "print(bert_vocab['Cityscape'].shape)\n",
    "print(bert_vocab['Ancient'].shape)\n",
    "print(bert_vocab['Religious'].shape)"
   ]
  },
  {
   "cell_type": "markdown",
   "metadata": {},
   "source": [
    "### Function to Convert Description of Image to Pre-Defined Labels"
   ]
  },
  {
   "cell_type": "markdown",
   "metadata": {},
   "source": [
    "*Method to Troubleshoot Creation of non pre-defined labels when converting description to labels list*"
   ]
  },
  {
   "cell_type": "code",
   "execution_count": 9,
   "metadata": {},
   "outputs": [],
   "source": [
    "def validate_attributes(attributes_dict, predefined_list):\n",
    "\n",
    "    validated_attributes = {}\n",
    "\n",
    "    for key, values in attributes_dict.items():\n",
    "        valid_values = [value for value in values if value in predefined_list[key]]\n",
    "        \n",
    "        if len(valid_values) < len(values):\n",
    "            missing_values = [value for value in predefined_list[key] if value not in valid_values]\n",
    "            valid_values.extend(missing_values[:len(values)-len(valid_values)])\n",
    "        \n",
    "        validated_attributes[key] = valid_values\n",
    "    \n",
    "    return validated_attributes\n"
   ]
  },
  {
   "cell_type": "markdown",
   "metadata": {},
   "source": [
    "*Method to convert description of an image to ordered predefined labels*"
   ]
  },
  {
   "cell_type": "code",
   "execution_count": 11,
   "metadata": {},
   "outputs": [],
   "source": [
    "def description_to_all_attributes(description, predefined_input_list):\n",
    "\n",
    "    predefined_list = copy.deepcopy(predefined_input_list)\n",
    "\n",
    "    response = client.chat.completions.create(\n",
    "        model = \"gpt-4-turbo\",\n",
    "        messages=[\n",
    "            {\n",
    "                \"role\": \"system\",\n",
    "                \"content\": f\"\"\"\n",
    "                You are a machine learning model trained to extract specific attributes from a detailed \n",
    "                description of an image. Your task is to identify and select the most appropriate label from \n",
    "                the following pre-defined set of attributes for each of the seven categories given below, and\n",
    "                represent them as key-value pairs in a Python dictionary: \n",
    "\n",
    "                1. Color Palette: Select exactly 7 labels without repetition from only the following options, \n",
    "                ordered from the most closely associated to the least associated with the image: \n",
    "                {predefined_list['Color Palette']}. \n",
    "\n",
    "                2. Subject Matter: Select exactly 7 labels without repetition from only the following options, \n",
    "                ordered from the most closely associated to the least associated with the image: \n",
    "                {predefined_list['Subject Matter']}. \n",
    "\n",
    "                3. Mood/Emotion: Select exactly 7 labels without repetition from only the following options, \n",
    "                ordered from the most closely associated to the least associated with the image: \n",
    "                {predefined_list['Mood/Emotion']}. \n",
    "\n",
    "                4. Style/Aesthetic: Select exactly 7 labels without repetition from ONLY the following options, \n",
    "                ordered from the most closely associated to the least associated with the image: \n",
    "                {predefined_list['Style/Aesthetic']}. \n",
    "\n",
    "                5. Setting/Location: Select exactly 7 labels without repetition from only the following options, \n",
    "                ordered from the most closely associated to the least associated with the image: \n",
    "                {predefined_list['Setting/Location']}. \n",
    "\n",
    "                6. Time Period: Select exactly 7 labels without repetition from only the following options, \n",
    "                ordered from the most closely associated to the least associated with the image: \n",
    "                {predefined_list['Time Period']}.\n",
    "\n",
    "                7. Cultural/Symbolic Representation: Select Exactly 7 labels without repetition from only the \n",
    "                following options, ordered from the most closely associated to the least associated with the image: \n",
    "                {predefined_list['Cultural/Symbolic Representation']}\n",
    "\n",
    "                Please provide your output in the following format:  \n",
    "                {{'Color Palette': ['most associated label', ..., 'least associated label'],  \n",
    "                'Subject Matter': ['most associated label', ..., 'least associated label'],  \n",
    "                'Mood/Emotion': ['most associated label', ..., 'least associated label'], \n",
    "                'Style/Aesthetic': ['most associated label', ..., 'least associated label'],  \n",
    "                'Setting/Location': ['most associated label', ..., 'least associated label'],  \n",
    "                'Time Period': ['most associated label', ..., 'least associated label'],  \n",
    "                'Cultural/Symbolic Representation': ['most associated label', ..., 'least associated label']}}. \n",
    "\n",
    "                If an attribute is not obvious, infer from the context of the description an attribute, \n",
    "                don't use 'none' or 'not specified' as an attribute. Remember, you MUST ONLY select attribute values from the provided\n",
    "                list of options. DO NOT assign any attribute that is not present in the pre-defined attributes. I repeat - no label in the result should be outside the predefined \n",
    "                set of labels for each attribute. Format the output in double quotations so it can be \n",
    "                converted into an object with json. The description is as follows:\"\"\" + description\n",
    "            }\n",
    "        ],\n",
    "        max_tokens=500,\n",
    "    )\n",
    "\n",
    "    attributes_content = response.choices[0].message.content\n",
    "    print(attributes_content)\n",
    "\n",
    "    # Remove leading and trailing whitespace\n",
    "    json_data = attributes_content.strip()\n",
    "\n",
    "    attributes_dict = json.loads(json_data)\n",
    "    \n",
    "    validated_attributes_dict = validate_attributes(attributes_dict, predefined_list)\n",
    "\n",
    "    return validated_attributes_dict"
   ]
  },
  {
   "cell_type": "markdown",
   "metadata": {},
   "source": [
    "*Testing the description to all attributes function*"
   ]
  },
  {
   "cell_type": "code",
   "execution_count": 11,
   "metadata": {},
   "outputs": [
    {
     "ename": "NameError",
     "evalue": "name 'test_description' is not defined",
     "output_type": "error",
     "traceback": [
      "\u001b[0;31m---------------------------------------------------------------------------\u001b[0m",
      "\u001b[0;31mNameError\u001b[0m                                 Traceback (most recent call last)",
      "Cell \u001b[0;32mIn[11], line 1\u001b[0m\n\u001b[0;32m----> 1\u001b[0m obj \u001b[38;5;241m=\u001b[39m description_to_all_attributes(\u001b[43mtest_description\u001b[49m, predefined_labels_list)\n\u001b[1;32m      2\u001b[0m \u001b[38;5;28mprint\u001b[39m(json\u001b[38;5;241m.\u001b[39mdumps(obj, indent\u001b[38;5;241m=\u001b[39m\u001b[38;5;241m4\u001b[39m))\n\u001b[1;32m      4\u001b[0m \u001b[38;5;66;03m# print the length of the array for each attribute in the object\u001b[39;00m\n",
      "\u001b[0;31mNameError\u001b[0m: name 'test_description' is not defined"
     ]
    }
   ],
   "source": [
    "obj = description_to_all_attributes(test_description, predefined_labels_list)\n",
    "print(json.dumps(obj, indent=4))\n",
    "\n",
    "# print the length of the array for each attribute in the object\n",
    "\n",
    "for key, value in obj.items():\n",
    "    print(key, len(value))"
   ]
  },
  {
   "cell_type": "markdown",
   "metadata": {},
   "source": [
    "### Metric Based Comparison Functions for comparing labels for a single attribute"
   ]
  },
  {
   "cell_type": "markdown",
   "metadata": {},
   "source": [
    "*Manhattan Distance - Absolute Distance between indices*"
   ]
  },
  {
   "cell_type": "code",
   "execution_count": 12,
   "metadata": {},
   "outputs": [],
   "source": [
    "def manhattan_discimilarity(arr1, arr2):\n",
    "    \n",
    "    index_dict = {element: i for i, element in enumerate(arr2)}\n",
    "\n",
    "    # Calculate the sum of absolute distances\n",
    "    total_distance = 0\n",
    "\n",
    "    for i, element in enumerate(arr1):\n",
    "\n",
    "        if element in index_dict:\n",
    "            index_in_array2 = index_dict[element]\n",
    "            distance = abs(i - index_in_array2)\n",
    "            total_distance += distance\n",
    "        else: \n",
    "            print(f\"Warning '{element}' not found in .\")\n",
    "\n",
    "    return total_distance"
   ]
  },
  {
   "cell_type": "markdown",
   "metadata": {},
   "source": [
    "*Eucladian Distance - Square of Absolute Distance between indices*"
   ]
  },
  {
   "cell_type": "code",
   "execution_count": 13,
   "metadata": {},
   "outputs": [],
   "source": [
    "def eucladian_discimilarity(arr1, arr2):\n",
    "    \n",
    "    index_dict = {element: i for i, element in enumerate(arr2)}\n",
    "\n",
    "    # Calculate the sum of absolute distances\n",
    "    total_distance = 0\n",
    "\n",
    "    for i, element in enumerate(arr1):\n",
    "\n",
    "        if element in index_dict:\n",
    "            index_in_array2 = index_dict[element]\n",
    "            distance = abs(i - index_in_array2)\n",
    "            total_distance += distance ** 2\n",
    "        else: \n",
    "            print(f\"Warning '{element}' not found in .\")\n",
    "\n",
    "    return total_distance"
   ]
  },
  {
   "cell_type": "markdown",
   "metadata": {},
   "source": [
    "*Modified Manhattan Distance - taking into consideration the indices for only 1 list*"
   ]
  },
  {
   "cell_type": "code",
   "execution_count": 14,
   "metadata": {},
   "outputs": [],
   "source": [
    "def modified_manhattan_discimilarity(arr1, arr2):\n",
    "    \n",
    "    index_dict = {element: i for i, element in enumerate(arr2)}\n",
    "\n",
    "    # Calculate the sum of absolute distances\n",
    "    total_distance = 0\n",
    "\n",
    "    for i, element in enumerate(arr1):\n",
    "\n",
    "        if element in index_dict:\n",
    "            index_in_array2 = index_dict[element]\n",
    "            distance = abs(i - index_in_array2) \n",
    "            weighted_distance = distance / math.log2(i + 2)\n",
    "            total_distance += weighted_distance\n",
    "        else: \n",
    "            print(f\"Warning '{element}' not found in .\")\n",
    "\n",
    "    return total_distance"
   ]
  },
  {
   "cell_type": "markdown",
   "metadata": {},
   "source": [
    "*Word2Vec Based Dissimilairty Function*"
   ]
  },
  {
   "cell_type": "code",
   "execution_count": 15,
   "metadata": {},
   "outputs": [],
   "source": [
    "def word2vec_discimilarity(arr1, arr2, manhattan_weight=1.0, cosine_weight=0.5):\n",
    "    \n",
    "    index_dict = {element: i for i, element in enumerate(arr2)}\n",
    "\n",
    "    total_distance_manhattan = 0\n",
    "    total_distance_cosine = 0\n",
    "\n",
    "    for i, element in enumerate(arr1):\n",
    "        if element in index_dict:\n",
    "            index_in_array2 = index_dict[element]\n",
    "            distance1 = abs(i - index_in_array2)\n",
    "            total_distance_manhattan += distance1\n",
    "        else: \n",
    "            print(f\"Warning '{element}' not found in arr2.\")\n",
    "\n",
    "    for i, element in enumerate(arr1):\n",
    "        parallel_element = arr2[i]\n",
    "        if element in word2vec_model and parallel_element in word2vec_model:\n",
    "            word1_embedding = word2vec_model[element]\n",
    "            word2_embedding = word2vec_model[parallel_element]\n",
    "            cosine_similarity = 1 - cosine(word1_embedding, word2_embedding)\n",
    "            total_distance_cosine += cosine_similarity\n",
    "        else:\n",
    "            print(f\"Warning: '{element}' or '{parallel_element}' not found in Word2Vec model vocabulary.\")\n",
    "    \n",
    "    # Scale the Manhattan distance and cosine distance with the respective weights\n",
    "    scaled_manhattan_distance = manhattan_weight * total_distance_manhattan\n",
    "    scaled_cosine_distance = cosine_weight * total_distance_cosine\n",
    "\n",
    "    # Calculate the total distance as a combination of the scaled distances\n",
    "    total_distance = scaled_manhattan_distance + scaled_cosine_distance\n",
    "\n",
    "    return total_distance\n"
   ]
  },
  {
   "cell_type": "markdown",
   "metadata": {},
   "source": [
    "*BERT Based Dissimilarity Function*"
   ]
  },
  {
   "cell_type": "code",
   "execution_count": 16,
   "metadata": {},
   "outputs": [],
   "source": [
    "def bert_discimilarity(arr1, arr2, manhattan_weight=1.0, cosine_weight=0.5):\n",
    "    \n",
    "    index_dict = {element: i for i, element in enumerate(arr2)}\n",
    "\n",
    "    total_distance_manhattan = 0\n",
    "    total_distance_cosine = 0\n",
    "\n",
    "    for i, element in enumerate(arr1):\n",
    "        if element in index_dict:\n",
    "            index_in_array2 = index_dict[element]\n",
    "            distance1 = abs(i - index_in_array2)\n",
    "            total_distance_manhattan += distance1\n",
    "        else: \n",
    "            print(f\"Warning '{element}' not found in arr2.\")\n",
    "\n",
    "    for i, element in enumerate(arr1):\n",
    "        parallel_element = arr2[i]\n",
    "        if element in bert_vocab and parallel_element in bert_vocab:\n",
    "            word1_embedding = bert_vocab[element]\n",
    "            word2_embedding = bert_vocab[parallel_element]\n",
    "            cosine_similarity = 1 - cosine(word1_embedding, word2_embedding)\n",
    "            total_distance_cosine += cosine_similarity\n",
    "        else:\n",
    "            print(f\"Warning: '{element}' or '{parallel_element}' not found in Word2Vec model vocabulary.\")\n",
    "    \n",
    "    # Scale the Manhattan distance and cosine distance with the respective weights\n",
    "    scaled_manhattan_distance = manhattan_weight * total_distance_manhattan\n",
    "    scaled_cosine_distance = cosine_weight * total_distance_cosine\n",
    "\n",
    "    # Calculate the total distance as a combination of the scaled distances\n",
    "    total_distance = scaled_manhattan_distance + scaled_cosine_distance\n",
    "\n",
    "    return total_distance\n"
   ]
  },
  {
   "cell_type": "markdown",
   "metadata": {},
   "source": [
    "### Functions to Compare all Labels and Specific Labels for Images"
   ]
  },
  {
   "cell_type": "markdown",
   "metadata": {},
   "source": [
    "*function to calcuate total similarity across all attributes*"
   ]
  },
  {
   "cell_type": "code",
   "execution_count": 17,
   "metadata": {},
   "outputs": [],
   "source": [
    "def calculate_total_similarity(attributes_image_1, attributes_image_2, metric=\"word2vec\", manhattan_weight=1.0, cosine_weight=0.5):\n",
    "    \n",
    "    # Initialize the total similarity score\n",
    "    total_similarity = 0\n",
    "    \n",
    "    # Calculate the similarity score for each attribute\n",
    "    for attribute1, value1 in attributes_image_1.items():\n",
    "        \n",
    "        value2 = attributes_image_2[attribute1]\n",
    "        \n",
    "        if metric == \"word2vec\":\n",
    "            similarity_score = word2vec_discimilarity(value1, value2, manhattan_weight, cosine_weight)\n",
    "        elif metric == \"bert\":\n",
    "            similarity_score = bert_discimilarity(value1, value2, manhattan_weight, cosine_weight)\n",
    "        elif metric == \"manhattan\":\n",
    "            similarity_score = manhattan_discimilarity(value1, value2)\n",
    "        elif metric == \"eucladian\":\n",
    "            similarity_score = eucladian_discimilarity(value1, value2)\n",
    "        elif metric == \"modified_manhattan\":\n",
    "            similarity_score = modified_manhattan_discimilarity(value1, value2)\n",
    "        else:\n",
    "            print(\"Invalid model name. Please choose either 'word2vec' or 'bert'.\")\n",
    "            return None\n",
    "        \n",
    "        total_similarity += similarity_score\n",
    "    \n",
    "    return total_similarity"
   ]
  },
  {
   "cell_type": "markdown",
   "metadata": {},
   "source": [
    "*function to calculate similairty across specific attribute*"
   ]
  },
  {
   "cell_type": "code",
   "execution_count": 18,
   "metadata": {},
   "outputs": [],
   "source": [
    "def calculate_label_dissimilarity(attributes_image_1, attributes_image_2, label, metric=\"word2vec\", manhattan_weight=1.0, cosine_weight=0.5):\n",
    "\n",
    "    similarity_score = 0\n",
    "    \n",
    "    value1 = attributes_image_1.get(label)\n",
    "    value2 = attributes_image_2.get(label)\n",
    "\n",
    "    if metric == \"word2vec\":\n",
    "        similarity_score = word2vec_discimilarity(value1, value2, manhattan_weight, cosine_weight)\n",
    "    elif metric == \"bert\":\n",
    "        similarity_score = bert_discimilarity(value1, value2, manhattan_weight, cosine_weight)\n",
    "    elif metric == \"manhattan\":\n",
    "        similarity_score = manhattan_discimilarity(value1, value2)\n",
    "    elif metric == \"eucladian\":\n",
    "        similarity_score = eucladian_discimilarity(value1, value2)\n",
    "    elif metric == \"modified_manhattan\":\n",
    "        similarity_score = modified_manhattan_discimilarity(value1, value2)\n",
    "    else:\n",
    "        print(\"Invalid model name. Please choose either 'word2vec' or 'bert'.\")\n",
    "        return None\n",
    "    \n",
    "    return similarity_score"
   ]
  },
  {
   "cell_type": "markdown",
   "metadata": {},
   "source": [
    "### Testing our various metric systems on Generic Example"
   ]
  },
  {
   "cell_type": "markdown",
   "metadata": {},
   "source": [
    "*Creating list attributes for 3 images*"
   ]
  },
  {
   "cell_type": "code",
   "execution_count": 46,
   "metadata": {},
   "outputs": [],
   "source": [
    "art_url_1 = \"https://upload.wikimedia.org/wikipedia/commons/0/0d/Great_Wave_off_Kanagawa2.jpg\"\n",
    "art_url_2 = \"https://upload.wikimedia.org/wikipedia/commons/9/94/The_Nightwatch_by_Rembrandt_-_Rijksmuseum.jpg\"\n",
    "art_url_3 = \"https://upload.wikimedia.org/wikipedia/commons/b/b6/Sebastiano_Ricci_002.jpg\"\n",
    "\n",
    "text_1 = image_to_text(art_url_1)\n",
    "attributes_1 = description_to_all_attributes(text_1, predefined_labels_list)\n",
    "\n",
    "text_2 = image_to_text(art_url_2)\n",
    "attributes_2 = description_to_all_attributes(text_2, predefined_labels_list)\n",
    "\n",
    "text_3 = image_to_text(art_url_3)\n",
    "attributes_3 = description_to_all_attributes(text_3, predefined_labels_list)"
   ]
  },
  {
   "cell_type": "code",
   "execution_count": 49,
   "metadata": {},
   "outputs": [
    {
     "name": "stdout",
     "output_type": "stream",
     "text": [
      "{\n",
      "    \"Color Palette\": [\n",
      "        \"Bold\",\n",
      "        \"Vibrant\",\n",
      "        \"Muted\",\n",
      "        \"Monochromatic\",\n",
      "        \"Earthy\",\n",
      "        \"Pastel\",\n",
      "        \"Neon\"\n",
      "    ],\n",
      "    \"Subject Matter\": [\n",
      "        \"Nature\",\n",
      "        \"Abstract\",\n",
      "        \"Landscape\",\n",
      "        \"Portrait\",\n",
      "        \"Still life\",\n",
      "        \"Urban\",\n",
      "        \"Architecture\"\n",
      "    ],\n",
      "    \"Mood/Emotion\": [\n",
      "        \"Dramatic\",\n",
      "        \"Peaceful\",\n",
      "        \"Mysterious\",\n",
      "        \"Serene\",\n",
      "        \"Energetic\",\n",
      "        \"Melancholic\",\n",
      "        \"Joyful\"\n",
      "    ],\n",
      "    \"Style/Aesthetic\": [\n",
      "        \"Realism\",\n",
      "        \"Impressionism\",\n",
      "        \"Surrealism\",\n",
      "        \"Romanticism\",\n",
      "        \"Expressionism\",\n",
      "        \"Minimalism\",\n",
      "        \"Cubism\"\n",
      "    ],\n",
      "    \"Setting/Location\": [\n",
      "        \"Beach\",\n",
      "        \"Mountains\",\n",
      "        \"Forest\",\n",
      "        \"Countryside\",\n",
      "        \"Cityscape\",\n",
      "        \"Rural\",\n",
      "        \"Urban\"\n",
      "    ],\n",
      "    \"Time Period\": [\n",
      "        \"Modern\",\n",
      "        \"Contemporary\",\n",
      "        \"Ancient\",\n",
      "        \"Medieval\",\n",
      "        \"Renaissance\",\n",
      "        \"Futuristic\",\n",
      "        \"Victorian\"\n",
      "    ],\n",
      "    \"Cultural/Symbolic Representation\": [\n",
      "        \"Historical\",\n",
      "        \"Mythological\",\n",
      "        \"Religious\",\n",
      "        \"Indigenous\",\n",
      "        \"Political\",\n",
      "        \"Folklore\",\n",
      "        \"Pop culture\"\n",
      "    ]\n",
      "}\n",
      "{\n",
      "    \"Color Palette\": [\n",
      "        \"Muted\",\n",
      "        \"Earthy\",\n",
      "        \"Bold\",\n",
      "        \"Vibrant\",\n",
      "        \"Monochromatic\",\n",
      "        \"Pastel\",\n",
      "        \"Neon\"\n",
      "    ],\n",
      "    \"Subject Matter\": [\n",
      "        \"Portrait\",\n",
      "        \"Urban\",\n",
      "        \"Still life\",\n",
      "        \"Architecture\",\n",
      "        \"Abstract\",\n",
      "        \"Nature\",\n",
      "        \"Landscape\"\n",
      "    ],\n",
      "    \"Mood/Emotion\": [\n",
      "        \"Dramatic\",\n",
      "        \"Energetic\",\n",
      "        \"Mysterious\",\n",
      "        \"Serene\",\n",
      "        \"Melancholic\",\n",
      "        \"Joyful\",\n",
      "        \"Peaceful\"\n",
      "    ],\n",
      "    \"Style/Aesthetic\": [\n",
      "        \"Realism\",\n",
      "        \"Impressionism\",\n",
      "        \"Expressionism\",\n",
      "        \"Cubism\",\n",
      "        \"Romanticism\",\n",
      "        \"Surrealism\",\n",
      "        \"Minimalism\"\n",
      "    ],\n",
      "    \"Setting/Location\": [\n",
      "        \"Urban\",\n",
      "        \"Cityscape\",\n",
      "        \"Countryside\",\n",
      "        \"Mountains\",\n",
      "        \"Forest\",\n",
      "        \"Beach\",\n",
      "        \"Rural\"\n",
      "    ],\n",
      "    \"Time Period\": [\n",
      "        \"Renaissance\",\n",
      "        \"Medieval\",\n",
      "        \"Modern\",\n",
      "        \"Contemporary\",\n",
      "        \"Victorian\",\n",
      "        \"Ancient\",\n",
      "        \"Futuristic\"\n",
      "    ],\n",
      "    \"Cultural/Symbolic Representation\": [\n",
      "        \"Historical\",\n",
      "        \"Political\",\n",
      "        \"Folklore\",\n",
      "        \"Religious\",\n",
      "        \"Pop culture\",\n",
      "        \"Mythological\",\n",
      "        \"Indigenous\"\n",
      "    ]\n",
      "}\n",
      "{\n",
      "    \"Color Palette\": [\n",
      "        \"Vibrant\",\n",
      "        \"Bold\",\n",
      "        \"Muted\",\n",
      "        \"Neon\",\n",
      "        \"Earthy\",\n",
      "        \"Pastel\",\n",
      "        \"Monochromatic\"\n",
      "    ],\n",
      "    \"Subject Matter\": [\n",
      "        \"Nature\",\n",
      "        \"Portrait\",\n",
      "        \"Abstract\",\n",
      "        \"Landscape\",\n",
      "        \"Still life\",\n",
      "        \"Urban\",\n",
      "        \"Architecture\"\n",
      "    ],\n",
      "    \"Mood/Emotion\": [\n",
      "        \"Dramatic\",\n",
      "        \"Energetic\",\n",
      "        \"Mysterious\",\n",
      "        \"Joyful\",\n",
      "        \"Peaceful\",\n",
      "        \"Serene\",\n",
      "        \"Melancholic\"\n",
      "    ],\n",
      "    \"Style/Aesthetic\": [\n",
      "        \"Romanticism\",\n",
      "        \"Realism\",\n",
      "        \"Expressionism\",\n",
      "        \"Surrealism\",\n",
      "        \"Impressionism\",\n",
      "        \"Minimalism\",\n",
      "        \"Cubism\"\n",
      "    ],\n",
      "    \"Setting/Location\": [\n",
      "        \"Rural\",\n",
      "        \"Forest\",\n",
      "        \"Countryside\",\n",
      "        \"Mountains\",\n",
      "        \"Cityscape\",\n",
      "        \"Beach\",\n",
      "        \"Urban\"\n",
      "    ],\n",
      "    \"Time Period\": [\n",
      "        \"Ancient\",\n",
      "        \"Contemporary\",\n",
      "        \"Renaissance\",\n",
      "        \"Medieval\",\n",
      "        \"Modern\",\n",
      "        \"Victorian\",\n",
      "        \"Futuristic\"\n",
      "    ],\n",
      "    \"Cultural/Symbolic Representation\": [\n",
      "        \"Mythological\",\n",
      "        \"Historical\",\n",
      "        \"Religious\",\n",
      "        \"Folklore\",\n",
      "        \"Indigenous\",\n",
      "        \"Political\",\n",
      "        \"Pop culture\"\n",
      "    ]\n",
      "}\n"
     ]
    }
   ],
   "source": [
    "print(json.dumps(attributes_1, indent=4))\n",
    "print(json.dumps(attributes_2, indent=4))\n",
    "print(json.dumps(attributes_3, indent=4))"
   ]
  },
  {
   "cell_type": "markdown",
   "metadata": {},
   "source": [
    "*testing various dissimilairty functions on the 3 attributes*"
   ]
  },
  {
   "cell_type": "code",
   "execution_count": 48,
   "metadata": {},
   "outputs": [
    {
     "name": "stdout",
     "output_type": "stream",
     "text": [
      "Manhattan Disimilarity between Art URL 1 and Art URL 2: 106\n",
      "Manhattan Disimilarity between Art URL 1 and Art URL 3: 64\n",
      "Manhattan Disimilarity between Art URL 2 and Art URL 3: 104\n"
     ]
    }
   ],
   "source": [
    "dis_art1_art2 = calculate_total_similarity(attributes_1, attributes_2, \"manhattan\")\n",
    "dis_art1_art3 = calculate_total_similarity(attributes_1, attributes_3, \"manhattan\")\n",
    "dis_art2_art3 = calculate_total_similarity(attributes_2, attributes_3, \"manhattan\")\n",
    "\n",
    "print(\"Manhattan Disimilarity between Art URL 1 and Art URL 2:\", dis_art1_art2)\n",
    "print(\"Manhattan Disimilarity between Art URL 1 and Art URL 3:\", dis_art1_art3)\n",
    "print(\"Manhattan Disimilarity between Art URL 2 and Art URL 3:\", dis_art2_art3)"
   ]
  },
  {
   "cell_type": "code",
   "execution_count": 50,
   "metadata": {},
   "outputs": [
    {
     "name": "stdout",
     "output_type": "stream",
     "text": [
      "Eucladian Disimilarity between Art URL 1 and Art URL 2: 340\n",
      "Eucladian Disimilarity between Art URL 1 and Art URL 3: 172\n",
      "Eucladian Disimilarity between Art URL 2 and Art URL 3: 344\n"
     ]
    }
   ],
   "source": [
    "dis_art1_art2 = calculate_total_similarity(attributes_1, attributes_2, \"eucladian\")\n",
    "dis_art1_art3 = calculate_total_similarity(attributes_1, attributes_3, \"eucladian\")\n",
    "dis_art2_art3 = calculate_total_similarity(attributes_2, attributes_3, \"eucladian\")\n",
    "\n",
    "print(\"Eucladian Disimilarity between Art URL 1 and Art URL 2:\", dis_art1_art2)\n",
    "print(\"Eucladian Disimilarity between Art URL 1 and Art URL 3:\", dis_art1_art3)\n",
    "print(\"Eucladian Disimilarity between Art URL 2 and Art URL 3:\", dis_art2_art3)"
   ]
  },
  {
   "cell_type": "code",
   "execution_count": 51,
   "metadata": {},
   "outputs": [
    {
     "name": "stdout",
     "output_type": "stream",
     "text": [
      "Modified Manhattan Disimilarity between Art URL 1 and Art URL 2: 54.91617957263931\n",
      "Modified Manhattan Disimilarity between Art URL 1 and Art URL 3: 35.24236646134862\n",
      "Modified Manhattan Disimilarity between Art URL 2 and Art URL 3: 52.641385268356956\n"
     ]
    }
   ],
   "source": [
    "dis_art1_art2 = calculate_total_similarity(attributes_1, attributes_2, \"modified_manhattan\")\n",
    "dis_art1_art3 = calculate_total_similarity(attributes_1, attributes_3, \"modified_manhattan\")\n",
    "dis_art2_art3 = calculate_total_similarity(attributes_2, attributes_3, \"modified_manhattan\")\n",
    "\n",
    "print(\"Modified Manhattan Disimilarity between Art URL 1 and Art URL 2:\", dis_art1_art2)\n",
    "print(\"Modified Manhattan Disimilarity between Art URL 1 and Art URL 3:\", dis_art1_art3)\n",
    "print(\"Modified Manhattan Disimilarity between Art URL 2 and Art URL 3:\", dis_art2_art3)"
   ]
  },
  {
   "cell_type": "code",
   "execution_count": 55,
   "metadata": {},
   "outputs": [
    {
     "name": "stdout",
     "output_type": "stream",
     "text": [
      "Warning: 'Landscape' or 'Still life' not found in Word2Vec model vocabulary.\n",
      "Warning: 'Still life' or 'Abstract' not found in Word2Vec model vocabulary.\n",
      "Warning: 'Political' or 'Pop culture' not found in Word2Vec model vocabulary.\n",
      "Warning: 'Pop culture' or 'Indigenous' not found in Word2Vec model vocabulary.\n",
      "Warning: 'Still life' or 'Still life' not found in Word2Vec model vocabulary.\n",
      "Warning: 'Pop culture' or 'Pop culture' not found in Word2Vec model vocabulary.\n",
      "Warning: 'Still life' or 'Abstract' not found in Word2Vec model vocabulary.\n",
      "Warning: 'Abstract' or 'Still life' not found in Word2Vec model vocabulary.\n",
      "Warning: 'Pop culture' or 'Indigenous' not found in Word2Vec model vocabulary.\n",
      "Warning: 'Indigenous' or 'Pop culture' not found in Word2Vec model vocabulary.\n",
      "Word2Vec Disimilarity between Art URL 1 and Art URL 2: 115.85569156195116\n",
      "Word2Vec Disimilarity between Art URL 1 and Art URL 3: 76.80501157543127\n",
      "Word2Vec Disimilarity between Art URL 2 and Art URL 3: 114.64557622699982\n"
     ]
    }
   ],
   "source": [
    "dis_art1_art2 = calculate_total_similarity(attributes_1, attributes_2, \"word2vec\")\n",
    "dis_art1_art3 = calculate_total_similarity(attributes_1, attributes_3, \"word2vec\")\n",
    "dis_art2_art3 = calculate_total_similarity(attributes_2, attributes_3, \"word2vec\")\n",
    "\n",
    "print(\"Word2Vec Disimilarity between Art URL 1 and Art URL 2:\", dis_art1_art2)\n",
    "print(\"Word2Vec Disimilarity between Art URL 1 and Art URL 3:\", dis_art1_art3)\n",
    "print(\"Word2Vec Disimilarity between Art URL 2 and Art URL 3:\", dis_art2_art3)"
   ]
  },
  {
   "cell_type": "code",
   "execution_count": 56,
   "metadata": {},
   "outputs": [
    {
     "name": "stdout",
     "output_type": "stream",
     "text": [
      "Bert Disimilarity between Art URL 1 and Art URL 2: 124.93912362750332\n",
      "Bert Disimilarity between Art URL 1 and Art URL 3: 84.38904585600166\n",
      "Bert Disimilarity between Art URL 2 and Art URL 3: 123.02547662086326\n"
     ]
    }
   ],
   "source": [
    "dis_art1_art2 = calculate_total_similarity(attributes_1, attributes_2, \"bert\")\n",
    "dis_art1_art3 = calculate_total_similarity(attributes_1, attributes_3, \"bert\")\n",
    "dis_art2_art3 = calculate_total_similarity(attributes_2, attributes_3, \"bert\")\n",
    "\n",
    "print(\"Bert Disimilarity between Art URL 1 and Art URL 2:\", dis_art1_art2)\n",
    "print(\"Bert Disimilarity between Art URL 1 and Art URL 3:\", dis_art1_art3)\n",
    "print(\"Bert Disimilarity between Art URL 2 and Art URL 3:\", dis_art2_art3)"
   ]
  },
  {
   "cell_type": "markdown",
   "metadata": {},
   "source": [
    "### Function to Load N Random Art Images from WikiArt"
   ]
  },
  {
   "cell_type": "markdown",
   "metadata": {},
   "source": [
    "*Trouble Shooting URL Checking Function*"
   ]
  },
  {
   "cell_type": "code",
   "execution_count": 19,
   "metadata": {},
   "outputs": [],
   "source": [
    "def is_url_valid(url):\n",
    "    \"\"\"\n",
    "    Check if a URL returns a 200 (OK) status code.\n",
    "    \"\"\"\n",
    "    response = requests.head(url)\n",
    "    return response.status_code == 200"
   ]
  },
  {
   "cell_type": "markdown",
   "metadata": {},
   "source": [
    "*function to randomly pull n image urls*"
   ]
  },
  {
   "cell_type": "code",
   "execution_count": 20,
   "metadata": {},
   "outputs": [],
   "source": [
    "def get_images():\n",
    "\n",
    "   # Define the base URL for the WikiArt API\n",
    "    base_url = \"https://www.wikiart.org/en/App/Painting/MostViewedPaintings\"\n",
    "\n",
    "\n",
    "    # Define the parameters for the API request\n",
    "    params = {\n",
    "        \"randomSeed\": int(time.time()),\n",
    "        \"json\": 2,\n",
    "        \"inPublicDomain\": True,\n",
    "    }\n",
    "\n",
    "    # Send a GET request to the WikiArt API\n",
    "    response = requests.get(base_url, params=params)\n",
    "\n",
    "    # Check that the request was successful\n",
    "    if response.status_code == 200:\n",
    "        # Parse the JSON response\n",
    "        data = response.json()\n",
    "\n",
    "        # Extract a small sample of art image URLs\n",
    "        sample_size = 6  # Change this to the number of samples you want\n",
    "        \n",
    "        # URLs\n",
    "        image_urls = []\n",
    "\n",
    "        # Randomly select paintings from the data list\n",
    "        for painting in random.sample(data, sample_size):\n",
    "            # Check if the image URL is valid\n",
    "            if is_url_valid(painting[\"image\"]):\n",
    "                # If the URL is valid, add it to the list\n",
    "                image_urls.append(painting[\"image\"])\n",
    "\n",
    "\n",
    "        # Shuffle the list of image URLs\n",
    "        random.shuffle(image_urls)\n",
    "\n",
    "        # Now you can use the image_urls list in your OpenAI API call\n",
    "    else:\n",
    "        print(f\"Failed to get data from WikiArt API: {response.status_code}\")\n",
    "\n",
    "\n",
    "    # Create a dictionary of URLs with their corresponding names\n",
    "    url_dict = {urlparse(url).path.split('/')[-1].split('.')[0]: url for url in image_urls}\n",
    "    \n",
    "    return url_dict"
   ]
  },
  {
   "cell_type": "markdown",
   "metadata": {},
   "source": [
    "*testing this function to pull 10 random image urls*"
   ]
  },
  {
   "cell_type": "code",
   "execution_count": 59,
   "metadata": {},
   "outputs": [
    {
     "name": "stdout",
     "output_type": "stream",
     "text": [
      "{'light-of-iris': 'https://uploads1.wikiart.org/images/georgia-o-keeffe/light-of-iris.jpg!Large.jpg', 'the-bather-1879': 'https://uploads4.wikiart.org/images/william-adolphe-bouguereau/the-bather-1879.jpg!Large.jpg', 'house-of-parliament-sun': 'https://uploads7.wikiart.org/images/claude-monet/house-of-parliament-sun.jpg!Large.jpg', 'emerald': 'https://uploads2.wikiart.org/images/alphonse-mucha/emerald.jpg!Large.jpg', 'the-disintegration-of-the-persistence-of-memory': 'https://uploads5.wikiart.org/images/salvador-dali/the-disintegration-of-the-persistence-of-memory.jpg!Large.jpg', 'girl-in-front-of-mirror-1932': 'https://uploads4.wikiart.org/images/pablo-picasso/girl-in-front-of-mirror-1932.jpg!Large.jpg', 'galatea-detail-of-mermen-and-dolphins-1506': 'https://uploads3.wikiart.org/images/raphael/galatea-detail-of-mermen-and-dolphins-1506.jpg!Large.jpg', 'hygeia-detail-of-medicine-1907': 'https://uploads5.wikiart.org/images/gustav-klimt/hygeia-detail-of-medicine-1907.jpg!Large.jpg', 'summer-evening': 'https://uploads8.wikiart.org/images/edward-hopper/summer-evening.jpg!Large.jpg', 'the-triumph-of-death': 'https://uploads7.wikiart.org/images/pieter-bruegel-the-elder/the-triumph-of-death.jpg!Large.jpg'}\n"
     ]
    }
   ],
   "source": [
    "image_urls = get_images()\n",
    "print(image_urls)"
   ]
  },
  {
   "cell_type": "markdown",
   "metadata": {},
   "source": [
    "### Comparing Image from their URLS "
   ]
  },
  {
   "cell_type": "markdown",
   "metadata": {},
   "source": [
    "*function to calculate total similarity between images given the urls*"
   ]
  },
  {
   "cell_type": "code",
   "execution_count": 21,
   "metadata": {},
   "outputs": [],
   "source": [
    "def compare_images_total_similarity(images):\n",
    "\n",
    "    print('images: ', json.dumps(image_urls, indent=4))\n",
    "\n",
    "    image_description_labels = {}\n",
    "\n",
    "    for image_name, image_url in image_urls.items():\n",
    "        description = image_to_text(image_url)\n",
    "        attributes = description_to_all_attributes(description, predefined_labels_list)\n",
    "        image_description_labels[image_name] = attributes\n",
    "\n",
    "    comparisons = []\n",
    "    for image1, image2 in combinations(image_description_labels.keys(), 2):\n",
    "        difference = calculate_total_similarity(image_description_labels[image1], image_description_labels[image2], \"bert\")\n",
    "        comparisons.append((f\"{image1} vs {image2}\", difference))\n",
    "\n",
    "    return comparisons"
   ]
  },
  {
   "cell_type": "markdown",
   "metadata": {},
   "source": [
    "*testing the comparisons result of the above function*"
   ]
  },
  {
   "cell_type": "code",
   "execution_count": 64,
   "metadata": {},
   "outputs": [
    {
     "name": "stdout",
     "output_type": "stream",
     "text": [
      "images:  {\n",
      "    \"light-of-iris\": \"https://uploads1.wikiart.org/images/georgia-o-keeffe/light-of-iris.jpg!Large.jpg\",\n",
      "    \"the-bather-1879\": \"https://uploads4.wikiart.org/images/william-adolphe-bouguereau/the-bather-1879.jpg!Large.jpg\",\n",
      "    \"house-of-parliament-sun\": \"https://uploads7.wikiart.org/images/claude-monet/house-of-parliament-sun.jpg!Large.jpg\",\n",
      "    \"emerald\": \"https://uploads2.wikiart.org/images/alphonse-mucha/emerald.jpg!Large.jpg\",\n",
      "    \"the-disintegration-of-the-persistence-of-memory\": \"https://uploads5.wikiart.org/images/salvador-dali/the-disintegration-of-the-persistence-of-memory.jpg!Large.jpg\",\n",
      "    \"girl-in-front-of-mirror-1932\": \"https://uploads4.wikiart.org/images/pablo-picasso/girl-in-front-of-mirror-1932.jpg!Large.jpg\",\n",
      "    \"galatea-detail-of-mermen-and-dolphins-1506\": \"https://uploads3.wikiart.org/images/raphael/galatea-detail-of-mermen-and-dolphins-1506.jpg!Large.jpg\",\n",
      "    \"hygeia-detail-of-medicine-1907\": \"https://uploads5.wikiart.org/images/gustav-klimt/hygeia-detail-of-medicine-1907.jpg!Large.jpg\",\n",
      "    \"summer-evening\": \"https://uploads8.wikiart.org/images/edward-hopper/summer-evening.jpg!Large.jpg\",\n",
      "    \"the-triumph-of-death\": \"https://uploads7.wikiart.org/images/pieter-bruegel-the-elder/the-triumph-of-death.jpg!Large.jpg\"\n",
      "}\n",
      "[('light-of-iris vs the-bather-1879', 73.77305420685259), ('light-of-iris vs house-of-parliament-sun', 105.04209118589634), ('light-of-iris vs emerald', 81.4376242680697), ('light-of-iris vs the-disintegration-of-the-persistence-of-memory', 79.83945222987559), ('light-of-iris vs girl-in-front-of-mirror-1932', 101.3704868002971), ('light-of-iris vs galatea-detail-of-mermen-and-dolphins-1506', 108.87752155187951), ('light-of-iris vs hygeia-detail-of-medicine-1907', 86.49232136686655), ('light-of-iris vs summer-evening', 111.3559309418354), ('light-of-iris vs the-triumph-of-death', 108.82223462490998), ('the-bather-1879 vs house-of-parliament-sun', 103.40320013989712), ('the-bather-1879 vs emerald', 47.637255639868386), ('the-bather-1879 vs the-disintegration-of-the-persistence-of-memory', 107.49546265318082), ('the-bather-1879 vs girl-in-front-of-mirror-1932', 115.69291616954432), ('the-bather-1879 vs galatea-detail-of-mermen-and-dolphins-1506', 109.53951131185386), ('the-bather-1879 vs hygeia-detail-of-medicine-1907', 91.80243764705402), ('the-bather-1879 vs summer-evening', 73.14196061983442), ('the-bather-1879 vs the-triumph-of-death', 110.8547661755325), ('house-of-parliament-sun vs emerald', 101.86091231324114), ('house-of-parliament-sun vs the-disintegration-of-the-persistence-of-memory', 116.75800031405043), ('house-of-parliament-sun vs girl-in-front-of-mirror-1932', 111.027294722943), ('house-of-parliament-sun vs galatea-detail-of-mermen-and-dolphins-1506', 132.4355906494159), ('house-of-parliament-sun vs hygeia-detail-of-medicine-1907', 109.02821379034552), ('house-of-parliament-sun vs summer-evening', 95.34945473973714), ('house-of-parliament-sun vs the-triumph-of-death', 118.91197630347934), ('emerald vs the-disintegration-of-the-persistence-of-memory', 102.81537331337758), ('emerald vs girl-in-front-of-mirror-1932', 107.60702169555994), ('emerald vs galatea-detail-of-mermen-and-dolphins-1506', 109.21811553210541), ('emerald vs hygeia-detail-of-medicine-1907', 87.29764171366875), ('emerald vs summer-evening', 76.41603238394002), ('emerald vs the-triumph-of-death', 112.6947380234537), ('the-disintegration-of-the-persistence-of-memory vs girl-in-front-of-mirror-1932', 87.6919366323804), ('the-disintegration-of-the-persistence-of-memory vs galatea-detail-of-mermen-and-dolphins-1506', 115.36300262839983), ('the-disintegration-of-the-persistence-of-memory vs hygeia-detail-of-medicine-1907', 91.33329345209921), ('the-disintegration-of-the-persistence-of-memory vs summer-evening', 122.8803122620545), ('the-disintegration-of-the-persistence-of-memory vs the-triumph-of-death', 89.01508824654056), ('girl-in-front-of-mirror-1932 vs galatea-detail-of-mermen-and-dolphins-1506', 117.1887123842688), ('girl-in-front-of-mirror-1932 vs hygeia-detail-of-medicine-1907', 72.23246269027237), ('girl-in-front-of-mirror-1932 vs summer-evening', 113.04846630835831), ('girl-in-front-of-mirror-1932 vs the-triumph-of-death', 79.92015165723296), ('galatea-detail-of-mermen-and-dolphins-1506 vs hygeia-detail-of-medicine-1907', 100.78436739578605), ('galatea-detail-of-mermen-and-dolphins-1506 vs summer-evening', 133.29093818386204), ('galatea-detail-of-mermen-and-dolphins-1506 vs the-triumph-of-death', 110.74801059988194), ('hygeia-detail-of-medicine-1907 vs summer-evening', 113.54204202591123), ('hygeia-detail-of-medicine-1907 vs the-triumph-of-death', 80.23747293260719), ('summer-evening vs the-triumph-of-death', 124.9927075799458)]\n"
     ]
    }
   ],
   "source": [
    "comparisons = compare_images_total_similarity(image_urls)\n",
    "print(comparisons)"
   ]
  },
  {
   "cell_type": "code",
   "execution_count": 87,
   "metadata": {},
   "outputs": [
    {
     "name": "stdout",
     "output_type": "stream",
     "text": [
      "45\n",
      "[\n",
      "    [\n",
      "        \"1 vs 2\",\n",
      "        73.77305420685259\n",
      "    ],\n",
      "    [\n",
      "        \"1 vs 3\",\n",
      "        105.04209118589634\n",
      "    ],\n",
      "    [\n",
      "        \"1 vs 4\",\n",
      "        81.4376242680697\n",
      "    ],\n",
      "    [\n",
      "        \"1 vs 5\",\n",
      "        79.83945222987559\n",
      "    ],\n",
      "    [\n",
      "        \"1 vs 6\",\n",
      "        101.3704868002971\n",
      "    ],\n",
      "    [\n",
      "        \"1 vs 7\",\n",
      "        108.87752155187951\n",
      "    ],\n",
      "    [\n",
      "        \"1 vs 8\",\n",
      "        86.49232136686655\n",
      "    ],\n",
      "    [\n",
      "        \"1 vs 9\",\n",
      "        111.3559309418354\n",
      "    ],\n",
      "    [\n",
      "        \"1 vs 10\",\n",
      "        108.82223462490998\n",
      "    ],\n",
      "    [\n",
      "        \"2 vs 3\",\n",
      "        103.40320013989712\n",
      "    ],\n",
      "    [\n",
      "        \"2 vs 4\",\n",
      "        47.637255639868386\n",
      "    ],\n",
      "    [\n",
      "        \"2 vs 5\",\n",
      "        107.49546265318082\n",
      "    ],\n",
      "    [\n",
      "        \"2 vs 6\",\n",
      "        115.69291616954432\n",
      "    ],\n",
      "    [\n",
      "        \"2 vs 7\",\n",
      "        109.53951131185386\n",
      "    ],\n",
      "    [\n",
      "        \"2 vs 8\",\n",
      "        91.80243764705402\n",
      "    ],\n",
      "    [\n",
      "        \"2 vs 9\",\n",
      "        73.14196061983442\n",
      "    ],\n",
      "    [\n",
      "        \"2 vs 10\",\n",
      "        110.8547661755325\n",
      "    ],\n",
      "    [\n",
      "        \"3 vs 4\",\n",
      "        101.86091231324114\n",
      "    ],\n",
      "    [\n",
      "        \"3 vs 5\",\n",
      "        116.75800031405043\n",
      "    ],\n",
      "    [\n",
      "        \"3 vs 6\",\n",
      "        111.027294722943\n",
      "    ],\n",
      "    [\n",
      "        \"3 vs 7\",\n",
      "        132.4355906494159\n",
      "    ],\n",
      "    [\n",
      "        \"3 vs 8\",\n",
      "        109.02821379034552\n",
      "    ],\n",
      "    [\n",
      "        \"3 vs 9\",\n",
      "        95.34945473973714\n",
      "    ],\n",
      "    [\n",
      "        \"3 vs 10\",\n",
      "        118.91197630347934\n",
      "    ],\n",
      "    [\n",
      "        \"4 vs 5\",\n",
      "        102.81537331337758\n",
      "    ],\n",
      "    [\n",
      "        \"4 vs 6\",\n",
      "        107.60702169555994\n",
      "    ],\n",
      "    [\n",
      "        \"4 vs 7\",\n",
      "        109.21811553210541\n",
      "    ],\n",
      "    [\n",
      "        \"4 vs 8\",\n",
      "        87.29764171366875\n",
      "    ],\n",
      "    [\n",
      "        \"4 vs 9\",\n",
      "        76.41603238394002\n",
      "    ],\n",
      "    [\n",
      "        \"4 vs 10\",\n",
      "        112.6947380234537\n",
      "    ],\n",
      "    [\n",
      "        \"5 vs 6\",\n",
      "        87.6919366323804\n",
      "    ],\n",
      "    [\n",
      "        \"5 vs 7\",\n",
      "        115.36300262839983\n",
      "    ],\n",
      "    [\n",
      "        \"5 vs 8\",\n",
      "        91.33329345209921\n",
      "    ],\n",
      "    [\n",
      "        \"5 vs 9\",\n",
      "        122.8803122620545\n",
      "    ],\n",
      "    [\n",
      "        \"5 vs 10\",\n",
      "        89.01508824654056\n",
      "    ],\n",
      "    [\n",
      "        \"6 vs 7\",\n",
      "        117.1887123842688\n",
      "    ],\n",
      "    [\n",
      "        \"6 vs 8\",\n",
      "        72.23246269027237\n",
      "    ],\n",
      "    [\n",
      "        \"6 vs 9\",\n",
      "        113.04846630835831\n",
      "    ],\n",
      "    [\n",
      "        \"6 vs 10\",\n",
      "        79.92015165723296\n",
      "    ],\n",
      "    [\n",
      "        \"7 vs 8\",\n",
      "        100.78436739578605\n",
      "    ],\n",
      "    [\n",
      "        \"7 vs 9\",\n",
      "        133.29093818386204\n",
      "    ],\n",
      "    [\n",
      "        \"7 vs 10\",\n",
      "        110.74801059988194\n",
      "    ],\n",
      "    [\n",
      "        \"8 vs 9\",\n",
      "        113.54204202591123\n",
      "    ],\n",
      "    [\n",
      "        \"8 vs 10\",\n",
      "        80.23747293260719\n",
      "    ],\n",
      "    [\n",
      "        \"9 vs 10\",\n",
      "        124.9927075799458\n",
      "    ]\n",
      "]\n"
     ]
    }
   ],
   "source": [
    "new_comparisons = []\n",
    "\n",
    "for comparison in comparisons:\n",
    "    # seperate the first image name and the second image name\n",
    "    image1, image2 = comparison[0].split(' vs ')\n",
    "    # create a new key with the two image names based on their indices in the image_urls dictionary\n",
    "    new_key = f\"{list(image_urls.keys()).index(image1) + 1} vs {list(image_urls.keys()).index(image2) + 1}\"\n",
    "    new_comparisons.append((new_key, comparison[1]))\n",
    "\n",
    "print(len(new_comparisons))\n",
    "print(json.dumps(new_comparisons, indent=4))"
   ]
  },
  {
   "cell_type": "markdown",
   "metadata": {},
   "source": [
    "### Implementing K-Means Clustering on our Comparisons to Visualize Them"
   ]
  },
  {
   "cell_type": "code",
   "execution_count": 22,
   "metadata": {},
   "outputs": [],
   "source": [
    "from sklearn.linear_model import LinearRegression"
   ]
  },
  {
   "cell_type": "code",
   "execution_count": 23,
   "metadata": {},
   "outputs": [],
   "source": [
    "def visualize_comparisons(comparisons):\n",
    "    # Extract the image names and differences from the comparisons\n",
    "    image_pairs = [comparison[0] for comparison in comparisons]\n",
    "    differences = [comparison[1] for comparison in comparisons]\n",
    "\n",
    "    # Reshape differences for KMeans clustering\n",
    "    differences_array = [[diff] for diff in differences]\n",
    "\n",
    "    # Perform KMeans clustering\n",
    "    kmeans = KMeans(n_clusters=2)\n",
    "    kmeans.fit(differences_array)\n",
    "    centroids = kmeans.cluster_centers_\n",
    "    labels = kmeans.labels_\n",
    "\n",
    "    # Plot the differences\n",
    "    plt.figure(figsize=(10, 6))\n",
    "    plt.scatter(range(len(differences)), differences, c=labels, cmap='viridis', alpha=0.5)\n",
    "    plt.scatter(range(len(centroids)), centroids, marker='x', color='red')\n",
    "\n",
    "    # Draw horizontal lines passing through each centroid\n",
    "    for centroid in centroids:\n",
    "        plt.axhline(y=centroid, color='gray', linestyle='--')\n",
    "\n",
    "    # Annotate points with image comparison labels\n",
    "    for i, (pair, diff) in enumerate(zip(image_pairs, differences)):\n",
    "        plt.annotate(pair, (i, diff), textcoords=\"offset points\", xytext=(0, -10), ha='center', fontsize=6)  # Adjust fontsize here\n",
    "\n",
    "    plt.title('Image Comparisons - Same Artist - Year Based')\n",
    "    plt.xlabel('Comparison Index')\n",
    "    plt.ylabel('Difference')\n",
    "    plt.xticks(rotation=90)  # Rotate x-axis labels for better readability\n",
    "    plt.show()\n",
    "\n",
    "    print(\"Centroids:\", centroids)\n"
   ]
  },
  {
   "cell_type": "code",
   "execution_count": 101,
   "metadata": {},
   "outputs": [
    {
     "data": {
      "image/png": "[encoded data removed]",
      "text/plain": [
       "<Figure size 1000x600 with 1 Axes>"
      ]
     },
     "metadata": {},
     "output_type": "display_data"
    },
    {
     "name": "stdout",
     "output_type": "stream",
     "text": [
      "Centroids: [[101.11705684]]\n"
     ]
    }
   ],
   "source": [
    "visualize_comparisons(new_comparisons)"
   ]
  },
  {
   "cell_type": "markdown",
   "metadata": {},
   "source": [
    "*The above graph quantifies the similarity amongst all the images in our dataset. The line passing through the centroid represents the average similarity between any two arbitrary images in our dataset. Images below this threshold show more similarity while Images above this threshold show higher similarity*"
   ]
  },
  {
   "cell_type": "markdown",
   "metadata": {},
   "source": [
    "*function to determine comparison for a specific label*"
   ]
  },
  {
   "cell_type": "code",
   "execution_count": 32,
   "metadata": {},
   "outputs": [
    {
     "name": "stdout",
     "output_type": "stream",
     "text": [
      "{'meditative-rose': 'https://uploads0.wikiart.org/images/salvador-dali/meditative-rose.jpg!Large.jpg', 'the-great-wave-off-kanagawa': 'https://uploads6.wikiart.org/00129/images/katsushika-hokusai/the-great-wave-off-kanagawa.jpg!Large.jpg', 'girl-in-a-blanket-1953': 'https://uploads6.wikiart.org/images/lucian-freud/girl-in-a-blanket-1953.jpg!Large.jpg', 'self-portrait-with-hands-on-chest-1910': 'https://uploads4.wikiart.org/images/egon-schiele/self-portrait-with-hands-on-chest-1910.jpg!Large.jpg', 'bird-fish': 'https://uploads0.wikiart.org/images/m-c-escher/bird-fish.jpg!Large.jpg', 'breton-woman-and-goose-by-the-water-1888': 'https://uploads6.wikiart.org/images/paul-gauguin/breton-woman-and-goose-by-the-water-1888.jpg!Large.jpg'}\n"
     ]
    }
   ],
   "source": [
    "image_urls_2 = get_images()\n",
    "print(image_urls_2)"
   ]
  },
  {
   "cell_type": "code",
   "execution_count": 24,
   "metadata": {},
   "outputs": [],
   "source": [
    "def compare_images_label_similarity(images, label):\n",
    "\n",
    "    print('images: ', json.dumps(image_urls_2, indent=4))\n",
    "\n",
    "    image_description_labels = {}\n",
    "    i = 0\n",
    "\n",
    "    for image_name, image_url in image_urls_2.items():\n",
    "        description = image_to_text(image_url)\n",
    "        attributes = description_to_all_attributes(description, predefined_labels_list)\n",
    "        image_description_labels[image_name] = attributes\n",
    "        i += 1\n",
    "        print(i)\n",
    "\n",
    "    comparisons = []\n",
    "    for image1, image2 in combinations(image_description_labels.keys(), 2):\n",
    "        difference = calculate_label_dissimilarity(image_description_labels[image1], image_description_labels[image2], label, \"bert\")\n",
    "        comparisons.append((f\"{image1} vs {image2}\", difference))\n",
    "\n",
    "    return comparisons"
   ]
  },
  {
   "cell_type": "code",
   "execution_count": 124,
   "metadata": {},
   "outputs": [
    {
     "name": "stdout",
     "output_type": "stream",
     "text": [
      "images:  {\n",
      "    \"portrait-of-ginevra-benci\": \"https://uploads5.wikiart.org/images/leonardo-da-vinci/portrait-of-ginevra-benci.jpg!Large.jpg\",\n",
      "    \"the-barefoot-girl-1895\": \"https://uploads7.wikiart.org/images/pablo-picasso/the-barefoot-girl-1895.jpg!Large.jpg\",\n",
      "    \"branches-with-almond-blossom-1890(1)\": \"https://uploads6.wikiart.org/images/vincent-van-gogh/branches-with-almond-blossom-1890(1).jpg!Large.jpg\",\n",
      "    \"poison-oasis\": \"https://uploads4.wikiart.org/images/jean-michel-basquiat/poison-oasis.jpg!Large.jpg\",\n",
      "    \"the-scream-1893(2)\": \"https://uploads2.wikiart.org/images/edvard-munch/the-scream-1893(2).jpg!Large.jpg\",\n",
      "    \"girl-on-the-ball-1905\": \"https://uploads6.wikiart.org/images/pablo-picasso/girl-on-the-ball-1905.jpg!Large.jpg\"\n",
      "}\n",
      "{\n",
      "    \"Color Palette\": [\"Muted\", \"Earthy\", \"Pastel\", \"Monochromatic\", \"Vibrant\", \"Bold\", \"Neon\"],\n",
      "    \"Subject Matter\": [\"Portrait\", \"Abstract\", \"Nature\", \"Landscape\", \"Still life\", \"Urban\", \"Architecture\"],\n",
      "    \"Mood/Emotion\": [\"Serene\", \"Mysterious\", \"Peaceful\", \"Melancholic\", \"Dramatic\", \"Joyful\", \"Energetic\"],\n",
      "    \"Style/Aesthetic\": [\"Realism\", \"Romanticism\", \"Surrealism\", \"Impressionism\", \"Expressionism\", \"Minimalism\", \"Cubism\"],\n",
      "    \"Setting/Location\": [\"Countryside\", \"Forest\", \"Cityscape\", \"Mountains\", \"Urban\", \"Beach\", \"Rural\"],\n",
      "    \"Time Period\": [\"Renaissance\", \"Medieval\", \"Modern\", \"Contemporary\", \"Victorian\", \"Ancient\", \"Futuristic\"],\n",
      "    \"Cultural/Symbolic Representation\": [\"Religious\", \"Historical\", \"Mythological\", \"Political\", \"Folklore\", \"Pop culture\", \"Indigenous\"]\n",
      "}\n",
      "1\n",
      "{\n",
      "    \"Color Palette\": [\"Earthy\", \"Muted\", \"Pastel\", \"Monochromatic\", \"Vibrant\", \"Bold\", \"Neon\"],\n",
      "    \"Subject Matter\": [\"Portrait\", \"Still life\", \"Abstract\", \"Nature\", \"Landscape\", \"Urban\", \"Architecture\"],\n",
      "    \"Mood/Emotion\": [\"Melancholic\", \"Serene\", \"Mysterious\", \"Peaceful\", \"Dramatic\", \"Joyful\", \"Energetic\"],\n",
      "    \"Style/Aesthetic\": [\"Realism\", \"Impressionism\", \"Romanticism\", \"Expressionism\", \"Minimalism\", \"Surrealism\", \"Cubism\"],\n",
      "    \"Setting/Location\": [\"Urban\", \"Countryside\", \"Cityscape\", \"Rural\", \"Forest\", \"Mountains\", \"Beach\"],\n",
      "    \"Time Period\": [\"Modern\", \"Contemporary\", \"Victorian\", \"Renaissance\", \"Medieval\", \"Ancient\", \"Futuristic\"],\n",
      "    \"Cultural/Symbolic Representation\": [\"Historical\", \"Political\", \"Folklore\", \"Religious\", \"Mythological\", \"Indigenous\", \"Pop culture\"]\n",
      "}\n",
      "2\n",
      "{\n",
      "    \"Color Palette\": [\"Vibrant\", \"Pastel\", \"Muted\", \"Bold\", \"Monochromatic\", \"Earthy\", \"Neon\"],\n",
      "    \"Subject Matter\": [\"Nature\", \"Still life\", \"Abstract\", \"Landscape\", \"Portrait\", \"Urban\", \"Architecture\"],\n",
      "    \"Mood/Emotion\": [\"Serene\", \"Peaceful\", \"Joyful\", \"Dramatic\", \"Energetic\", \"Melancholic\", \"Mysterious\"],\n",
      "    \"Style/Aesthetic\": [\"Impressionism\", \"Realism\", \"Romanticism\", \"Expressionism\", \"Surrealism\", \"Minimalism\", \"Cubism\"],\n",
      "    \"Setting/Location\": [\"Countryside\", \"Forest\", \"Rural\", \"Mountains\", \"Cityscape\", \"Urban\", \"Beach\"],\n",
      "    \"Time Period\": [\"Modern\", \"Contemporary\", \"Renaissance\", \"Victorian\", \"Medieval\", \"Ancient\", \"Futuristic\"],\n",
      "    \"Cultural/Symbolic Representation\": [\"Historical\", \"Folklore\", \"Religious\", \"Indigenous\", \"Political\", \"Pop culture\", \"Mythological\"]\n",
      "}\n",
      "3\n",
      "{\n",
      "    \"Color Palette\": [\"Bold\", \"Vibrant\", \"Muted\", \"Monochromatic\", \"Neon\", \"Pastel\", \"Earthy\"],\n",
      "    \"Subject Matter\": [\"Abstract\", \"Portrait\", \"Urban\", \"Still life\", \"Architecture\", \"Nature\", \"Landscape\"],\n",
      "    \"Mood/Emotion\": [\"Dramatic\", \"Mysterious\", \"Energetic\", \"Melancholic\", \"Peaceful\", \"Serene\", \"Joyful\"],\n",
      "    \"Style/Aesthetic\": [\"Expressionism\", \"Surrealism\", \"Realism\", \"Impressionism\", \"Cubism\", \"Minimalism\", \"Romanticism\"],\n",
      "    \"Setting/Location\": [\"Urban\", \"Cityscape\", \"Countryside\", \"Beach\", \"Forest\", \"Mountains\", \"Rural\"],\n",
      "    \"Time Period\": [\"Contemporary\", \"Modern\", \"Victorian\", \"Renaissance\", \"Medieval\", \"Ancient\", \"Futuristic\"],\n",
      "    \"Cultural/Symbolic Representation\": [\"Political\", \"Historical\", \"Mythological\", \"Religious\", \"Pop culture\", \"Indigenous\", \"Folklore\"]\n",
      "}\n",
      "4\n",
      "{\n",
      "    \"Color Palette\": [\"Vibrant\", \"Bold\", \"Muted\", \"Monochromatic\", \"Earthy\", \"Pastel\", \"Neon\"],\n",
      "    \"Subject Matter\": [\"Abstract\", \"Portrait\", \"Landscape\", \"Nature\", \"Still life\", \"Urban\", \"Architecture\"],\n",
      "    \"Mood/Emotion\": [\"Dramatic\", \"Mysterious\", \"Melancholic\", \"Energetic\", \"Serene\", \"Peaceful\", \"Joyful\"],\n",
      "    \"Style/Aesthetic\": [\"Expressionism\", \"Surrealism\", \"Romanticism\", \"Realism\", \"Impressionism\", \"Cubism\", \"Minimalism\"],\n",
      "    \"Setting/Location\": [\"Countryside\", \"Cityscape\", \"Forest\", \"Beach\", \"Mountains\", \"Urban\", \"Rural\"],\n",
      "    \"Time Period\": [\"Modern\", \"Contemporary\", \"Victorian\", \"Renaissance\", \"Medieval\", \"Ancient\", \"Futuristic\"],\n",
      "    \"Cultural/Symbolic Representation\": [\"Historical\", \"Mythological\", \"Folklore\", \"Religious\", \"Political\", \"Pop culture\", \"Indigenous\"]\n",
      "}\n",
      "5\n",
      "{\n",
      "    \"Color Palette\": [\"Muted\", \"Pastel\", \"Earthy\", \"Vibrant\", \"Monochromatic\", \"Bold\", \"Neon\"],\n",
      "    \"Subject Matter\": [\"Portrait\", \"Abstract\", \"Still life\", \"Nature\", \"Landscape\", \"Architecture\", \"Urban\"],\n",
      "    \"Mood/Emotion\": [\"Melancholic\", \"Serene\", \"Mysterious\", \"Peaceful\", \"Dramatic\", \"Joyful\", \"Energetic\"],\n",
      "    \"Style/Aesthetic\": [\"Romanticism\", \"Cubism\", \"Realism\", \"Expressionism\", \"Minimalism\", \"Impressionism\", \"Surrealism\"],\n",
      "    \"Setting/Location\": [\"Countryside\", \"Cityscape\", \"Forest\", \"Beach\", \"Mountains\", \"Rural\", \"Urban\"],\n",
      "    \"Time Period\": [\"Modern\", \"Victorian\", \"Contemporary\", \"Renaissance\", \"Medieval\", \"Ancient\", \"Futuristic\"],\n",
      "    \"Cultural/Symbolic Representation\": [\"Folklore\", \"Historical\", \"Mythological\", \"Indigenous\", \"Religious\", \"Political\", \"Pop culture\"]\n",
      "}\n",
      "6\n",
      "[('portrait-of-ginevra-benci vs the-barefoot-girl-1895', 5.039948288106981), ('portrait-of-ginevra-benci vs branches-with-almond-blossom-1890(1)', 16.33697201343942), ('portrait-of-ginevra-benci vs poison-oasis', 22.4025930417305), ('portrait-of-ginevra-benci vs the-scream-1893(2)', 18.52097760749216), ('portrait-of-ginevra-benci vs girl-on-the-ball-1905', 6.681499338991745), ('the-barefoot-girl-1895 vs branches-with-almond-blossom-1890(1)', 16.164678486940403), ('the-barefoot-girl-1895 vs poison-oasis', 22.472820653270475), ('the-barefoot-girl-1895 vs the-scream-1893(2)', 18.450749995952187), ('the-barefoot-girl-1895 vs girl-on-the-ball-1905', 8.456697018248079), ('branches-with-almond-blossom-1890(1) vs poison-oasis', 14.2463500053261), ('branches-with-almond-blossom-1890(1) vs the-scream-1893(2)', 10.602776468663833), ('branches-with-almond-blossom-1890(1) vs girl-on-the-ball-1905', 12.752317372890118), ('poison-oasis vs the-scream-1893(2)', 8.656505277335334), ('poison-oasis vs girl-on-the-ball-1905', 22.008557435147786), ('the-scream-1893(2) vs girl-on-the-ball-1905', 18.30610272612793)]\n"
     ]
    }
   ],
   "source": [
    "label_comparison = compare_images_label_similarity(image_urls_2, \"Color Palette\")\n",
    "print(label_comparison)"
   ]
  },
  {
   "cell_type": "code",
   "execution_count": 128,
   "metadata": {},
   "outputs": [
    {
     "name": "stdout",
     "output_type": "stream",
     "text": [
      "15\n",
      "[\n",
      "    [\n",
      "        \"1 vs 2\",\n",
      "        5.039948288106981\n",
      "    ],\n",
      "    [\n",
      "        \"1 vs 3\",\n",
      "        16.33697201343942\n",
      "    ],\n",
      "    [\n",
      "        \"1 vs 4\",\n",
      "        22.4025930417305\n",
      "    ],\n",
      "    [\n",
      "        \"1 vs 5\",\n",
      "        18.52097760749216\n",
      "    ],\n",
      "    [\n",
      "        \"1 vs 6\",\n",
      "        6.681499338991745\n",
      "    ],\n",
      "    [\n",
      "        \"2 vs 3\",\n",
      "        16.164678486940403\n",
      "    ],\n",
      "    [\n",
      "        \"2 vs 4\",\n",
      "        22.472820653270475\n",
      "    ],\n",
      "    [\n",
      "        \"2 vs 5\",\n",
      "        18.450749995952187\n",
      "    ],\n",
      "    [\n",
      "        \"2 vs 6\",\n",
      "        8.456697018248079\n",
      "    ],\n",
      "    [\n",
      "        \"3 vs 4\",\n",
      "        14.2463500053261\n",
      "    ],\n",
      "    [\n",
      "        \"3 vs 5\",\n",
      "        10.602776468663833\n",
      "    ],\n",
      "    [\n",
      "        \"3 vs 6\",\n",
      "        12.752317372890118\n",
      "    ],\n",
      "    [\n",
      "        \"4 vs 5\",\n",
      "        8.656505277335334\n",
      "    ],\n",
      "    [\n",
      "        \"4 vs 6\",\n",
      "        22.008557435147786\n",
      "    ],\n",
      "    [\n",
      "        \"5 vs 6\",\n",
      "        18.30610272612793\n",
      "    ]\n",
      "]\n"
     ]
    }
   ],
   "source": [
    "new_label_comparisons = []\n",
    "\n",
    "for comparison in label_comparison:\n",
    "    # seperate the first image name and the second image name\n",
    "    image1, image2 = comparison[0].split(' vs ')\n",
    "    # create a new key with the two image names based on their indices in the image_urls dictionary\n",
    "    new_key = f\"{list(image_urls_2.keys()).index(image1) + 1} vs {list(image_urls_2.keys()).index(image2) + 1}\"\n",
    "    new_label_comparisons.append((new_key, comparison[1]))\n",
    "\n",
    "print(len(new_label_comparisons))\n",
    "print(json.dumps(new_label_comparisons, indent=4))"
   ]
  },
  {
   "cell_type": "code",
   "execution_count": 129,
   "metadata": {},
   "outputs": [
    {
     "data": {
      "image/png": "[encoded data removed]",
      "text/plain": [
       "<Figure size 1000x600 with 1 Axes>"
      ]
     },
     "metadata": {},
     "output_type": "display_data"
    },
    {
     "name": "stdout",
     "output_type": "stream",
     "text": [
      "Centroids: [[14.73996972]]\n"
     ]
    }
   ],
   "source": [
    "visualize_comparisons(new_label_comparisons)"
   ]
  },
  {
   "cell_type": "markdown",
   "metadata": {},
   "source": [
    "### Jean Michel Busquait Testing with Neo-Expression"
   ]
  },
  {
   "cell_type": "markdown",
   "metadata": {},
   "source": [
    "*Method to pull a specific image URL from the API*"
   ]
  },
  {
   "cell_type": "code",
   "execution_count": 25,
   "metadata": {},
   "outputs": [],
   "source": [
    "def get_image_by_name(image_name):\n",
    "    # Define the base URL for the WikiArt API\n",
    "    base_url = \"https://www.wikiart.org/en/App/Painting/MostViewedPaintings\"\n",
    "\n",
    "    # Define the parameters for the API request\n",
    "    params = {\n",
    "        \"randomSeed\": int(time.time()),\n",
    "        \"json\": 2,\n",
    "        \"inPublicDomain\": True,\n",
    "    }\n",
    "\n",
    "    # Send a GET request to the WikiArt API\n",
    "    response = requests.get(base_url, params=params)\n",
    "\n",
    "    # Check that the request was successful\n",
    "    if response.status_code == 200:\n",
    "        # Parse the JSON response\n",
    "        data = response.json()\n",
    "\n",
    "        # Find the image with the specified name\n",
    "        for painting in data:\n",
    "            if painting[\"title\"] == image_name:\n",
    "                return painting[\"image\"]\n",
    "\n",
    "        # If image not found, return None\n",
    "        print(f\"Image '{image_name}' not found.\")\n",
    "        return None\n",
    "    else:\n",
    "        print(f\"Failed to get data from WikiArt API: {response.status_code}\")\n",
    "        return None"
   ]
  },
  {
   "cell_type": "code",
   "execution_count": 35,
   "metadata": {},
   "outputs": [
    {
     "name": "stdout",
     "output_type": "stream",
     "text": [
      "URL for 'Philistines': https://uploads3.wikiart.org/images/jean-michel-basquiat/philistines.jpg!Large.jpg\n",
      "URL for 'Skull': https://uploads5.wikiart.org/images/jean-michel-basquiat/head.jpg!Large.jpg\n"
     ]
    }
   ],
   "source": [
    "image_name_1 = \"Philistines\"  # Replace this with the desired image name\n",
    "image_url_JMB1 = get_image_by_name(image_name_1)\n",
    "if image_url_JMB1:\n",
    "    print(f\"URL for '{image_name_1}': {image_url_JMB1}\")\n",
    "\n",
    "image_name_2 = \"Skull\"  # Replace this with the desired image name\n",
    "image_url_JMB2 = get_image_by_name(image_name_2)\n",
    "if image_url_JMB2:\n",
    "    print(f\"URL for '{image_name_2}': {image_url_JMB2}\")"
   ]
  },
  {
   "cell_type": "code",
   "execution_count": 37,
   "metadata": {},
   "outputs": [
    {
     "name": "stdout",
     "output_type": "stream",
     "text": [
      "{'meditative-rose': 'https://uploads0.wikiart.org/images/salvador-dali/meditative-rose.jpg!Large.jpg', 'the-great-wave-off-kanagawa': 'https://uploads6.wikiart.org/00129/images/katsushika-hokusai/the-great-wave-off-kanagawa.jpg!Large.jpg', 'girl-in-a-blanket-1953': 'https://uploads6.wikiart.org/images/lucian-freud/girl-in-a-blanket-1953.jpg!Large.jpg', 'self-portrait-with-hands-on-chest-1910': 'https://uploads4.wikiart.org/images/egon-schiele/self-portrait-with-hands-on-chest-1910.jpg!Large.jpg', 'bird-fish': 'https://uploads0.wikiart.org/images/m-c-escher/bird-fish.jpg!Large.jpg', 'breton-woman-and-goose-by-the-water-1888': 'https://uploads6.wikiart.org/images/paul-gauguin/breton-woman-and-goose-by-the-water-1888.jpg!Large.jpg', 'Philistines': 'https://uploads3.wikiart.org/images/jean-michel-basquiat/philistines.jpg!Large.jpg', 'Skull': 'https://uploads5.wikiart.org/images/jean-michel-basquiat/head.jpg!Large.jpg'}\n"
     ]
    }
   ],
   "source": [
    "image_urls_2[image_name_1] = image_url_JMB1\n",
    "image_urls_2[image_name_2] = image_url_JMB2\n",
    "print(image_urls_2)"
   ]
  },
  {
   "cell_type": "code",
   "execution_count": 39,
   "metadata": {},
   "outputs": [
    {
     "name": "stdout",
     "output_type": "stream",
     "text": [
      "images:  {\n",
      "    \"meditative-rose\": \"https://uploads0.wikiart.org/images/salvador-dali/meditative-rose.jpg!Large.jpg\",\n",
      "    \"the-great-wave-off-kanagawa\": \"https://uploads6.wikiart.org/00129/images/katsushika-hokusai/the-great-wave-off-kanagawa.jpg!Large.jpg\",\n",
      "    \"girl-in-a-blanket-1953\": \"https://uploads6.wikiart.org/images/lucian-freud/girl-in-a-blanket-1953.jpg!Large.jpg\",\n",
      "    \"self-portrait-with-hands-on-chest-1910\": \"https://uploads4.wikiart.org/images/egon-schiele/self-portrait-with-hands-on-chest-1910.jpg!Large.jpg\",\n",
      "    \"bird-fish\": \"https://uploads0.wikiart.org/images/m-c-escher/bird-fish.jpg!Large.jpg\",\n",
      "    \"breton-woman-and-goose-by-the-water-1888\": \"https://uploads6.wikiart.org/images/paul-gauguin/breton-woman-and-goose-by-the-water-1888.jpg!Large.jpg\",\n",
      "    \"Philistines\": \"https://uploads3.wikiart.org/images/jean-michel-basquiat/philistines.jpg!Large.jpg\",\n",
      "    \"Skull\": \"https://uploads5.wikiart.org/images/jean-michel-basquiat/head.jpg!Large.jpg\"\n",
      "}\n",
      "{\n",
      "    \"Color Palette\": [\"Vibrant\", \"Pastel\", \"Muted\", \"Earthy\", \"Bold\", \"Monochromatic\", \"Neon\"],\n",
      "    \"Subject Matter\": [\"Abstract\", \"Nature\", \"Landscape\", \"Still life\", \"Portrait\", \"Urban\", \"Architecture\"],\n",
      "    \"Mood/Emotion\": [\"Serene\", \"Peaceful\", \"Mysterious\", \"Dramatic\", \"Melancholic\", \"Joyful\", \"Energetic\"],\n",
      "    \"Style/Aesthetic\": [\"Surrealism\", \"Realism\", \"Minimalism\", \"Impressionism\", \"Expressionism\", \"Romanticism\", \"Cubism\"],\n",
      "    \"Setting/Location\": [\"Countryside\", \"Forest\", \"Mountains\", \"Beach\", \"Cityscape\", \"Urban\", \"Rural\"],\n",
      "    \"Time Period\": [\"Contemporary\", \"Modern\", \"Futuristic\", \"Renaissance\", \"Medieval\", \"Victorian\", \"Ancient\"],\n",
      "    \"Cultural/Symbolic Representation\": [\"Mythological\", \"Historical\", \"Religious\", \"Indigenous\", \"Folklore\", \"Political\", \"Pop culture\"]\n",
      "}\n",
      "1\n",
      "{\n",
      "    \"Color Palette\": [\"Vibrant\", \"Bold\", \"Monochromatic\", \"Muted\", \"Pastel\", \"Earthy\", \"Neon\"],\n",
      "    \"Subject Matter\": [\"Nature\", \"Portrait\", \"Abstract\", \"Landscape\", \"Still life\", \"Urban\", \"Architecture\"],\n",
      "    \"Mood/Emotion\": [\"Dramatic\", \"Mysterious\", \"Energetic\", \"Serene\", \"Melancholic\", \"Joyful\", \"Peaceful\"],\n",
      "    \"Style/Aesthetic\": [\"Realism\", \"Expressionism\", \"Surrealism\", \"Impressionism\", \"Minimalism\", \"Romanticism\", \"Cubism\"],\n",
      "    \"Setting/Location\": [\"Beach\", \"Mountains\", \"Rural\", \"Forest\", \"Countryside\", \"Cityscape\", \"Urban\"],\n",
      "    \"Time Period\": [\"Modern\", \"Contemporary\", \"Ancient\", \"Renaissance\", \"Medieval\", \"Futuristic\", \"Victorian\"],\n",
      "    \"Cultural/Symbolic Representation\": [\"Historical\", \"Mythological\", \"Religious\", \"Folklore\", \"Indigenous\", \"Pop culture\", \"Political\"]\n",
      "}\n",
      "2\n",
      "{\n",
      "    \"Color Palette\": [\"Earthy\", \"Muted\", \"Bold\", \"Monochromatic\", \"Vibrant\", \"Pastel\", \"Neon\"],\n",
      "    \"Subject Matter\": [\"Portrait\", \"Still life\", \"Abstract\", \"Nature\", \"Urban\", \"Landscape\", \"Architecture\"],\n",
      "    \"Mood/Emotion\": [\"Melancholic\", \"Serene\", \"Mysterious\", \"Peaceful\", \"Dramatic\", \"Energetic\", \"Joyful\"],\n",
      "    \"Style/Aesthetic\": [\"Realism\", \"Expressionism\", \"Minimalism\", \"Romanticism\", \"Impressionism\", \"Surrealism\", \"Cubism\"],\n",
      "    \"Setting/Location\": [\"Urban\", \"Rural\", \"Countryside\", \"Cityscape\", \"Forest\", \"Mountains\", \"Beach\"],\n",
      "    \"Time Period\": [\"Modern\", \"Contemporary\", \"Victorian\", \"Renaissance\", \"Medieval\", \"Ancient\", \"Futuristic\"],\n",
      "    \"Cultural/Symbolic Representation\": [\"Historical\", \"Folklore\", \"Religious\", \"Political\", \"Mythological\", \"Pop culture\", \"Indigenous\"]\n",
      "}\n",
      "3\n",
      "{\n",
      "    \"Color Palette\": [\"Muted\", \"Earthy\", \"Bold\", \"Vibrant\", \"Monochromatic\", \"Pastel\", \"Neon\"],\n",
      "    \"Subject Matter\": [\"Portrait\", \"Abstract\", \"Still life\", \"Nature\", \"Landscape\", \"Urban\", \"Architecture\"],\n",
      "    \"Mood/Emotion\": [\"Melancholic\", \"Mysterious\", \"Dramatic\", \"Serene\", \"Energetic\", \"Peaceful\", \"Joyful\"],\n",
      "    \"Style/Aesthetic\": [\"Expressionism\", \"Realism\", \"Surrealism\", \"Impressionism\", \"Minimalism\", \"Cubism\", \"Romanticism\"],\n",
      "    \"Setting/Location\": [\"Urban\", \"Cityscape\", \"Countryside\", \"Forest\", \"Beach\", \"Mountains\", \"Rural\"],\n",
      "    \"Time Period\": [\"Modern\", \"Contemporary\", \"Victorian\", \"Renaissance\", \"Medieval\", \"Ancient\", \"Futuristic\"],\n",
      "    \"Cultural/Symbolic Representation\": [\"Historical\", \"Mythological\", \"Religious\", \"Political\", \"Indigenous\", \"Pop culture\", \"Folklore\"]\n",
      "}\n",
      "4\n",
      "{\n",
      "    \"Color Palette\": [\"Monochromatic\", \"Muted\", \"Bold\", \"Vibrant\", \"Pastel\", \"Neon\", \"Earthy\"],\n",
      "    \"Subject Matter\": [\"Abstract\", \"Nature\", \"Still life\", \"Portrait\", \"Landscape\", \"Urban\", \"Architecture\"],\n",
      "    \"Mood/Emotion\": [\"Mysterious\", \"Serene\", \"Peaceful\", \"Dramatic\", \"Energetic\", \"Joyful\", \"Melancholic\"],\n",
      "    \"Style/Aesthetic\": [\"Surrealism\", \"Minimalism\", \"Expressionism\", \"Realism\", \"Cubism\", \"Impressionism\", \"Romanticism\"],\n",
      "    \"Setting/Location\": [\"Urban\", \"Forest\", \"Cityscape\", \"Mountains\", \"Countryside\", \"Beach\", \"Rural\"],\n",
      "    \"Time Period\": [\"Modern\", \"Contemporary\", \"Futuristic\", \"Renaissance\", \"Medieval\", \"Victorian\", \"Ancient\"],\n",
      "    \"Cultural/Symbolic Representation\": [\"Mythological\", \"Historical\", \"Pop culture\", \"Religious\", \"Political\", \"Indigenous\", \"Folklore\"]\n",
      "}\n",
      "5\n",
      "{\n",
      "    \"Color Palette\": [\"Pastel\", \"Muted\", \"Earthy\", \"Vibrant\", \"Bold\", \"Neon\", \"Monochromatic\"],\n",
      "    \"Subject Matter\": [\"Portrait\", \"Nature\", \"Landscape\", \"Still life\", \"Rural\", \"Abstract\", \"Urban\"],\n",
      "    \"Mood/Emotion\": [\"Serene\", \"Peaceful\", \"Mysterious\", \"Melancholic\", \"Joyful\", \"Energetic\", \"Dramatic\"],\n",
      "    \"Style/Aesthetic\": [\"Realism\", \"Impressionism\", \"Romanticism\", \"Minimalism\", \"Expressionism\", \"Surrealism\", \"Cubism\"],\n",
      "    \"Setting/Location\": [\"Countryside\", \"Rural\", \"Forest\", \"Beach\", \"Mountains\", \"Cityscape\", \"Urban\"],\n",
      "    \"Time Period\": [\"Modern\", \"Contemporary\", \"Renaissance\", \"Victorian\", \"Medieval\", \"Ancient\", \"Futuristic\"],\n",
      "    \"Cultural/Symbolic Representation\": [\"Historical\", \"Folklore\", \"Religious\", \"Political\", \"Mythological\", \"Indigenous\", \"Pop culture\"]\n",
      "}\n",
      "6\n",
      "{\n",
      "    \"Color Palette\": [\"Bold\", \"Vibrant\", \"Muted\", \"Monochromatic\", \"Earthy\", \"Pastel\", \"Neon\"],\n",
      "    \"Subject Matter\": [\"Portrait\", \"Abstract\", \"Still life\", \"Urban\", \"Nature\", \"Landscape\", \"Architecture\"],\n",
      "    \"Mood/Emotion\": [\"Energetic\", \"Dramatic\", \"Mysterious\", \"Peaceful\", \"Melancholic\", \"Serene\", \"Joyful\"],\n",
      "    \"Style/Aesthetic\": [\"Expressionism\", \"Surrealism\", \"Minimalism\", \"Cubism\", \"Realism\", \"Impressionism\", \"Romanticism\"],\n",
      "    \"Setting/Location\": [\"Urban\", \"Cityscape\", \"Rural\", \"Countryside\", \"Forest\", \"Beach\", \"Mountains\"],\n",
      "    \"Time Period\": [\"Contemporary\", \"Modern\", \"Medieval\", \"Ancient\", \"Renaissance\", \"Futuristic\", \"Victorian\"],\n",
      "    \"Cultural/Symbolic Representation\": [\"Political\", \"Historical\", \"Mythological\", \"Pop culture\", \"Religious\", \"Indigenous\", \"Folklore\"]\n",
      "}\n",
      "7\n",
      "{\n",
      "    \"Color Palette\": [\"Vibrant\", \"Bold\", \"Neon\", \"Muted\", \"Earthy\", \"Monochromatic\", \"Pastel\"],\n",
      "    \"Subject Matter\": [\"Portrait\", \"Abstract\", \"Urban\", \"Still life\", \"Nature\", \"Landscape\", \"Architecture\"],\n",
      "    \"Mood/Emotion\": [\"Energetic\", \"Dramatic\", \"Mysterious\", \"Peaceful\", \"Melancholic\", \"Joyful\", \"Serene\"],\n",
      "    \"Style/Aesthetic\": [\"Expressionism\", \"Surrealism\", \"Realism\", \"Cubism\", \"Minimalism\", \"Impressionism\", \"Romanticism\"],\n",
      "    \"Setting/Location\": [\"Urban\", \"Cityscape\", \"Rural\", \"Countryside\", \"Forest\", \"Beach\", \"Mountains\"],\n",
      "    \"Time Period\": [\"Contemporary\", \"Modern\", \"Futuristic\", \"Ancient\", \"Renaissance\", \"Medieval\", \"Victorian\"],\n",
      "    \"Cultural/Symbolic Representation\": [\"Political\", \"Historical\", \"Indigenous\", \"Pop culture\", \"Religious\", \"Mythological\", \"Folklore\"]\n",
      "}\n",
      "8\n",
      "[('meditative-rose vs the-great-wave-off-kanagawa', 11.050965303961156), ('meditative-rose vs girl-in-a-blanket-1953', 14.970008667361771), ('meditative-rose vs self-portrait-with-hands-on-chest-1910', 13.169933924386175), ('meditative-rose vs bird-fish', 12.871526923717884), ('meditative-rose vs breton-woman-and-goose-by-the-water-1888', 14.809177295989997), ('meditative-rose vs Philistines', 16.933551528654043), ('meditative-rose vs Skull', 16.853444527902028), ('the-great-wave-off-kanagawa vs girl-in-a-blanket-1953', 11.2085586760024), ('the-great-wave-off-kanagawa vs self-portrait-with-hands-on-chest-1910', 7.0929174974164475), ('the-great-wave-off-kanagawa vs bird-fish', 16.750188144081076), ('the-great-wave-off-kanagawa vs breton-woman-and-goose-by-the-water-1888', 15.140971263767984), ('the-great-wave-off-kanagawa vs Philistines', 16.908691148413265), ('the-great-wave-off-kanagawa vs Skull', 12.933551528654041), ('girl-in-a-blanket-1953 vs self-portrait-with-hands-on-chest-1910', 14.899705187691826), ('girl-in-a-blanket-1953 vs bird-fish', 18.863977838623995), ('girl-in-a-blanket-1953 vs breton-woman-and-goose-by-the-water-1888', 11.147566440447676), ('girl-in-a-blanket-1953 vs Philistines', 18.884296973160858), ('girl-in-a-blanket-1953 vs Skull', 18.85181631536484), ('self-portrait-with-hands-on-chest-1910 vs bird-fish', 14.873225852724634), ('self-portrait-with-hands-on-chest-1910 vs breton-woman-and-goose-by-the-water-1888', 18.81265499324704), ('self-portrait-with-hands-on-chest-1910 vs Philistines', 13.012771225331958), ('self-portrait-with-hands-on-chest-1910 vs Skull', 9.037631605572734), ('bird-fish vs breton-woman-and-goose-by-the-water-1888', 24.80789328508187), ('bird-fish vs Philistines', 8.903917892446529), ('bird-fish vs Skull', 10.96314871632159), ('breton-woman-and-goose-by-the-water-1888 vs Philistines', 26.909964461981385), ('breton-woman-and-goose-by-the-water-1888 vs Skull', 24.90747275661732), ('Philistines vs Skull', 7.184646135738903)]\n"
     ]
    }
   ],
   "source": [
    "label_comparison = compare_images_label_similarity(image_urls_2, \"Style/Aesthetic\")\n",
    "print(label_comparison)"
   ]
  },
  {
   "cell_type": "code",
   "execution_count": 40,
   "metadata": {},
   "outputs": [
    {
     "name": "stdout",
     "output_type": "stream",
     "text": [
      "28\n",
      "[\n",
      "    [\n",
      "        \"1 vs 2\",\n",
      "        11.050965303961156\n",
      "    ],\n",
      "    [\n",
      "        \"1 vs 3\",\n",
      "        14.970008667361771\n",
      "    ],\n",
      "    [\n",
      "        \"1 vs 4\",\n",
      "        13.169933924386175\n",
      "    ],\n",
      "    [\n",
      "        \"1 vs 5\",\n",
      "        12.871526923717884\n",
      "    ],\n",
      "    [\n",
      "        \"1 vs 6\",\n",
      "        14.809177295989997\n",
      "    ],\n",
      "    [\n",
      "        \"1 vs 7\",\n",
      "        16.933551528654043\n",
      "    ],\n",
      "    [\n",
      "        \"1 vs 8\",\n",
      "        16.853444527902028\n",
      "    ],\n",
      "    [\n",
      "        \"2 vs 3\",\n",
      "        11.2085586760024\n",
      "    ],\n",
      "    [\n",
      "        \"2 vs 4\",\n",
      "        7.0929174974164475\n",
      "    ],\n",
      "    [\n",
      "        \"2 vs 5\",\n",
      "        16.750188144081076\n",
      "    ],\n",
      "    [\n",
      "        \"2 vs 6\",\n",
      "        15.140971263767984\n",
      "    ],\n",
      "    [\n",
      "        \"2 vs 7\",\n",
      "        16.908691148413265\n",
      "    ],\n",
      "    [\n",
      "        \"2 vs 8\",\n",
      "        12.933551528654041\n",
      "    ],\n",
      "    [\n",
      "        \"3 vs 4\",\n",
      "        14.899705187691826\n",
      "    ],\n",
      "    [\n",
      "        \"3 vs 5\",\n",
      "        18.863977838623995\n",
      "    ],\n",
      "    [\n",
      "        \"3 vs 6\",\n",
      "        11.147566440447676\n",
      "    ],\n",
      "    [\n",
      "        \"3 vs 7\",\n",
      "        18.884296973160858\n",
      "    ],\n",
      "    [\n",
      "        \"3 vs 8\",\n",
      "        18.85181631536484\n",
      "    ],\n",
      "    [\n",
      "        \"4 vs 5\",\n",
      "        14.873225852724634\n",
      "    ],\n",
      "    [\n",
      "        \"4 vs 6\",\n",
      "        18.81265499324704\n",
      "    ],\n",
      "    [\n",
      "        \"4 vs 7\",\n",
      "        13.012771225331958\n",
      "    ],\n",
      "    [\n",
      "        \"4 vs 8\",\n",
      "        9.037631605572734\n",
      "    ],\n",
      "    [\n",
      "        \"5 vs 6\",\n",
      "        24.80789328508187\n",
      "    ],\n",
      "    [\n",
      "        \"5 vs 7\",\n",
      "        8.903917892446529\n",
      "    ],\n",
      "    [\n",
      "        \"5 vs 8\",\n",
      "        10.96314871632159\n",
      "    ],\n",
      "    [\n",
      "        \"6 vs 7\",\n",
      "        26.909964461981385\n",
      "    ],\n",
      "    [\n",
      "        \"6 vs 8\",\n",
      "        24.90747275661732\n",
      "    ],\n",
      "    [\n",
      "        \"7 vs 8\",\n",
      "        7.184646135738903\n",
      "    ]\n",
      "]\n"
     ]
    }
   ],
   "source": [
    "new_label_comparisons = []\n",
    "\n",
    "for comparison in label_comparison:\n",
    "    # seperate the first image name and the second image name\n",
    "    image1, image2 = comparison[0].split(' vs ')\n",
    "    # create a new key with the two image names based on their indices in the image_urls dictionary\n",
    "    new_key = f\"{list(image_urls_2.keys()).index(image1) + 1} vs {list(image_urls_2.keys()).index(image2) + 1}\"\n",
    "    new_label_comparisons.append((new_key, comparison[1]))\n",
    "\n",
    "print(len(new_label_comparisons))\n",
    "print(json.dumps(new_label_comparisons, indent=4))"
   ]
  },
  {
   "cell_type": "code",
   "execution_count": 43,
   "metadata": {},
   "outputs": [
    {
     "data": {
      "image/png": "[encoded data removed]",
      "text/plain": [
       "<Figure size 1000x600 with 1 Axes>"
      ]
     },
     "metadata": {},
     "output_type": "display_data"
    },
    {
     "name": "stdout",
     "output_type": "stream",
     "text": [
      "Centroids: [[15.09836343]]\n"
     ]
    }
   ],
   "source": [
    "visualize_comparisons(new_label_comparisons)"
   ]
  },
  {
   "cell_type": "markdown",
   "metadata": {},
   "source": [
    "### Comparing Images for the same artist across years"
   ]
  },
  {
   "cell_type": "markdown",
   "metadata": {},
   "source": [
    "#### Function to pull images from a specific artist"
   ]
  },
  {
   "cell_type": "code",
   "execution_count": 26,
   "metadata": {},
   "outputs": [],
   "source": [
    "def get_images_from_most_viewed(artist_name):\n",
    "    base_url = \"https://www.wikiart.org/en/App/Painting/MostViewedPaintings\"\n",
    "\n",
    "    # Define the parameters for the API request\n",
    "    params = {\n",
    "        \"json\": 2,\n",
    "    }\n",
    "\n",
    "    # Send a GET request to the WikiArt API\n",
    "    response = requests.get(base_url, params=params)\n",
    "\n",
    "    # Check that the request was successful\n",
    "    if response.status_code == 200:\n",
    "        # Parse the JSON response\n",
    "        data = response.json()\n",
    "\n",
    "        # Filter paintings by the specified artist\n",
    "        artist_paintings = [painting for painting in data if artist_name.lower() in painting[\"artistName\"].lower()]\n",
    "\n",
    "        # URLs and years\n",
    "        image_info = {}\n",
    "\n",
    "        # Extract image URLs and years of paintings by the specified artist from the most viewed list\n",
    "        for painting in artist_paintings:\n",
    "            if is_url_valid(painting[\"image\"]):\n",
    "                image_info[painting[\"title\"]] = {\"url\": painting[\"image\"], \"year\": painting[\"completitionYear\"]}\n",
    "\n",
    "        return image_info\n",
    "\n",
    "    else:\n",
    "        print(f\"Failed to get data from WikiArt API: {response.status_code}\")\n",
    "        return None"
   ]
  },
  {
   "cell_type": "code",
   "execution_count": 37,
   "metadata": {},
   "outputs": [
    {
     "name": "stdout",
     "output_type": "stream",
     "text": [
      "Found 11 images by Salvador Dali:\n",
      "The Persistence of Memory: {'url': 'https://uploads1.wikiart.org/00475/images/salvador-dali/w1siziisijm4njq3mcjdlfsiccisimnvbnzlcnqilcitcxvhbgl0esa5mcatcmvzaxplidiwmdb4mjawmfx1mdazzsjdxq.jpg!Large.jpg', 'year': 1931}\n",
      "Ballerina in a Death's Head: {'url': 'https://uploads3.wikiart.org/images/salvador-dali/ballerina-in-a-death-s-head.jpg!Large.jpg', 'year': 1939}\n",
      "The Disintegration of the Persistence of Memory: {'url': 'https://uploads5.wikiart.org/images/salvador-dali/the-disintegration-of-the-persistence-of-memory.jpg!Large.jpg', 'year': 1954}\n",
      "The Great Masturbator: {'url': 'https://uploads3.wikiart.org/00475/images/salvador-dali/salvador-dali-the-great-masturbator-1929-obelisk-art-history.jpg!Large.jpg', 'year': 1929}\n",
      "Women forming a skull: {'url': 'https://uploads6.wikiart.org/images/salvador-dali/women-forming-a-skull.jpg!Large.jpg', 'year': 1951}\n",
      "Meditative Rose: {'url': 'https://uploads0.wikiart.org/images/salvador-dali/meditative-rose.jpg!Large.jpg', 'year': 1958}\n",
      "Landscape: {'url': 'https://uploads5.wikiart.org/00162/images/salvador-dali/3salvador-dali-peyzazh-bliz-figerasa.jpg!Large.jpg', 'year': 1914}\n",
      "The Discovery of America by Christopher Columbus: {'url': 'https://uploads2.wikiart.org/images/salvador-dali/the-discovery-of-america-by-christopher-columbus-1959.jpg!Large.jpg', 'year': 1959}\n",
      "Fiesta in Figueres: {'url': 'https://uploads8.wikiart.org/images/salvador-dali/fiesta-in-figueres-1916.jpg!Large.jpg', 'year': 1916}\n",
      "The Enigma of My Desire or My Mother, My Mother, My Mother: {'url': 'https://uploads1.wikiart.org/images/salvador-dali/the-enigma-of-my-desire-or-my-mother-my-mother-my-mother-1929.jpg!Large.jpg', 'year': 1929}\n",
      "Ascension: {'url': 'https://uploads3.wikiart.org/images/salvador-dali/ascension.jpg!Large.jpg', 'year': 1958}\n"
     ]
    }
   ],
   "source": [
    "artist_name = \"Salvador Dali\"\n",
    "artist_images = get_images_from_most_viewed(artist_name)\n",
    "if artist_images:\n",
    "    print(f\"Found {len(artist_images)} images by {artist_name}:\")\n",
    "    for name, url in artist_images.items():\n",
    "        print(f\"{name}: {url}\")"
   ]
  },
  {
   "cell_type": "code",
   "execution_count": 27,
   "metadata": {},
   "outputs": [],
   "source": [
    "def compare_images_total_similarity_years(images):\n",
    "\n",
    "    print('images: ', json.dumps(images, indent=4))\n",
    "\n",
    "    image_description_labels = {}\n",
    "    i = 0\n",
    "\n",
    "    for image_name, image_info in images.items():\n",
    "        description = image_to_text(image_info['url'])\n",
    "        attributes = description_to_all_attributes(description, predefined_labels_list)\n",
    "        image_description_labels[image_name] = attributes\n",
    "        i += 1\n",
    "        print(i)\n",
    "\n",
    "    comparisons = []\n",
    "    for image1, image2 in combinations(image_description_labels.keys(), 2):\n",
    "        difference  = calculate_total_similarity(image_description_labels[image1], image_description_labels[image2], \"bert\")\n",
    "        comparisons.append((f\"{image1} vs {image2}\", difference))\n",
    "\n",
    "    return image_description_labels, comparisons"
   ]
  },
  {
   "cell_type": "code",
   "execution_count": 28,
   "metadata": {},
   "outputs": [],
   "source": [
    "def compare_images_label_similarity_years(images, label):\n",
    "\n",
    "    print('images: ', json.dumps(images, indent=4))\n",
    "\n",
    "    image_description_labels = {}\n",
    "    i = 0\n",
    "\n",
    "    for image_name, image_info in images.items():\n",
    "        description = image_to_text(image_info['url'])\n",
    "        attributes = description_to_all_attributes(description, predefined_labels_list)\n",
    "        image_description_labels[image_name] = attributes\n",
    "        i += 1\n",
    "        print(i)\n",
    "\n",
    "    comparisons = []\n",
    "    for image1, image2 in combinations(image_description_labels.keys(), 2):\n",
    "        difference = calculate_label_dissimilarity(image_description_labels[image1], image_description_labels[image2], label, \"bert\")\n",
    "        comparisons.append((f\"{image1} vs {image2}\", difference))\n",
    "\n",
    "    return comparisons"
   ]
  },
  {
   "cell_type": "code",
   "execution_count": 42,
   "metadata": {},
   "outputs": [
    {
     "name": "stdout",
     "output_type": "stream",
     "text": [
      "images:  {\n",
      "    \"The Persistence of Memory\": {\n",
      "        \"url\": \"https://uploads1.wikiart.org/00475/images/salvador-dali/w1siziisijm4njq3mcjdlfsiccisimnvbnzlcnqilcitcxvhbgl0esa5mcatcmvzaxplidiwmdb4mjawmfx1mdazzsjdxq.jpg!Large.jpg\",\n",
      "        \"year\": 1931\n",
      "    },\n",
      "    \"Ballerina in a Death's Head\": {\n",
      "        \"url\": \"https://uploads3.wikiart.org/images/salvador-dali/ballerina-in-a-death-s-head.jpg!Large.jpg\",\n",
      "        \"year\": 1939\n",
      "    },\n",
      "    \"The Disintegration of the Persistence of Memory\": {\n",
      "        \"url\": \"https://uploads5.wikiart.org/images/salvador-dali/the-disintegration-of-the-persistence-of-memory.jpg!Large.jpg\",\n",
      "        \"year\": 1954\n",
      "    },\n",
      "    \"The Great Masturbator\": {\n",
      "        \"url\": \"https://uploads3.wikiart.org/00475/images/salvador-dali/salvador-dali-the-great-masturbator-1929-obelisk-art-history.jpg!Large.jpg\",\n",
      "        \"year\": 1929\n",
      "    },\n",
      "    \"Women forming a skull\": {\n",
      "        \"url\": \"https://uploads6.wikiart.org/images/salvador-dali/women-forming-a-skull.jpg!Large.jpg\",\n",
      "        \"year\": 1951\n",
      "    },\n",
      "    \"Meditative Rose\": {\n",
      "        \"url\": \"https://uploads0.wikiart.org/images/salvador-dali/meditative-rose.jpg!Large.jpg\",\n",
      "        \"year\": 1958\n",
      "    },\n",
      "    \"Landscape\": {\n",
      "        \"url\": \"https://uploads5.wikiart.org/00162/images/salvador-dali/3salvador-dali-peyzazh-bliz-figerasa.jpg!Large.jpg\",\n",
      "        \"year\": 1914\n",
      "    },\n",
      "    \"The Discovery of America by Christopher Columbus\": {\n",
      "        \"url\": \"https://uploads2.wikiart.org/images/salvador-dali/the-discovery-of-america-by-christopher-columbus-1959.jpg!Large.jpg\",\n",
      "        \"year\": 1959\n",
      "    },\n",
      "    \"Fiesta in Figueres\": {\n",
      "        \"url\": \"https://uploads8.wikiart.org/images/salvador-dali/fiesta-in-figueres-1916.jpg!Large.jpg\",\n",
      "        \"year\": 1916\n",
      "    },\n",
      "    \"The Enigma of My Desire or My Mother, My Mother, My Mother\": {\n",
      "        \"url\": \"https://uploads1.wikiart.org/images/salvador-dali/the-enigma-of-my-desire-or-my-mother-my-mother-my-mother-1929.jpg!Large.jpg\",\n",
      "        \"year\": 1929\n",
      "    },\n",
      "    \"Ascension\": {\n",
      "        \"url\": \"https://uploads3.wikiart.org/images/salvador-dali/ascension.jpg!Large.jpg\",\n",
      "        \"year\": 1958\n",
      "    }\n",
      "}\n",
      "{\n",
      "    \"Color Palette\": [\"Muted\", \"Earthy\", \"Pastel\", \"Vibrant\", \"Monochromatic\", \"Bold\", \"Neon\"],\n",
      "    \"Subject Matter\": [\"Abstract\", \"Still life\", \"Nature\", \"Landscape\", \"Urban\", \"Portrait\", \"Architecture\"],\n",
      "    \"Mood/Emotion\": [\"Mysterious\", \"Melancholic\", \"Serene\", \"Dramatic\", \"Energetic\", \"Peaceful\", \"Joyful\"],\n",
      "    \"Style/Aesthetic\": [\"Surrealism\", \"Expressionism\", \"Minimalism\", \"Realism\", \"Impressionism\", \"Romanticism\", \"Cubism\"],\n",
      "    \"Setting/Location\": [\"Countryside\", \"Forest\", \"Beach\", \"Mountains\", \"Cityscape\", \"Rural\", \"Urban\"],\n",
      "    \"Time Period\": [\"Modern\", \"Contemporary\", \"Futuristic\", \"Ancient\", \"Medieval\", \"Renaissance\", \"Victorian\"],\n",
      "    \"Cultural/Symbolic Representation\": [\"Mythological\", \"Historical\", \"Religious\", \"Political\", \"Indigenous\", \"Pop culture\", \"Folklore\"]\n",
      "}\n",
      "1\n",
      "{\n",
      "    \"Color Palette\": [\"Muted\", \"Monochromatic\", \"Pastel\", \"Bold\", \"Vibrant\", \"Earthy\", \"Neon\"],\n",
      "    \"Subject Matter\": [\"Portrait\", \"Still life\", \"Abstract\", \"Nature\", \"Landscape\", \"Urban\", \"Architecture\"],\n",
      "    \"Mood/Emotion\": [\"Mysterious\", \"Dramatic\", \"Serene\", \"Melancholic\", \"Peaceful\", \"Energetic\", \"Joyful\"],\n",
      "    \"Style/Aesthetic\": [\"Surrealism\", \"Realism\", \"Impressionism\", \"Expressionism\", \"Minimalism\", \"Cubism\", \"Romanticism\"],\n",
      "    \"Setting/Location\": [\"Cityscape\", \"Urban\", \"Countryside\", \"Forest\", \"Beach\", \"Mountains\", \"Rural\"],\n",
      "    \"Time Period\": [\"Modern\", \"Contemporary\", \"Victorian\", \"Renaissance\", \"Medieval\", \"Ancient\", \"Futuristic\"],\n",
      "    \"Cultural/Symbolic Representation\": [\"Historical\", \"Religious\", \"Mythological\", \"Political\", \"Indigenous\", \"Pop culture\", \"Folklore\"]\n",
      "}\n",
      "2\n",
      "{\n",
      "    \"Color Palette\": [\"Muted\", \"Earthy\", \"Pastel\", \"Vibrant\", \"Monochromatic\", \"Bold\", \"Neon\"],\n",
      "    \"Subject Matter\": [\"Abstract\", \"Nature\", \"Landscape\", \"Still life\", \"Portrait\", \"Urban\", \"Architecture\"],\n",
      "    \"Mood/Emotion\": [\"Mysterious\", \"Dramatic\", \"Serene\", \"Melancholic\", \"Energetic\", \"Peaceful\", \"Joyful\"],\n",
      "    \"Style/Aesthetic\": [\"Surrealism\", \"Expressionism\", \"Minimalism\", \"Realism\", \"Impressionism\", \"Cubism\", \"Romanticism\"],\n",
      "    \"Setting/Location\": [\"Beach\", \"Countryside\", \"Mountains\", \"Forest\", \"Cityscape\", \"Urban\", \"Rural\"],\n",
      "    \"Time Period\": [\"Modern\", \"Contemporary\", \"Medieval\", \"Renaissance\", \"Ancient\", \"Futuristic\", \"Victorian\"],\n",
      "    \"Cultural/Symbolic Representation\": [\"Mythological\", \"Historical\", \"Religious\", \"Political\", \"Indigenous\", \"Pop culture\", \"Folklore\"]\n",
      "}\n",
      "3\n",
      "{\n",
      "    \"Color Palette\": [\"Muted\", \"Vibrant\", \"Earthy\", \"Neon\", \"Monochromatic\", \"Pastel\", \"Bold\"],\n",
      "    \"Subject Matter\": [\"Abstract\", \"Portrait\", \"Nature\", \"Landscape\", \"Still life\", \"Urban\", \"Architecture\"],\n",
      "    \"Mood/Emotion\": [\"Mysterious\", \"Dramatic\", \"Melancholic\", \"Serene\", \"Energetic\", \"Peaceful\", \"Joyful\"],\n",
      "    \"Style/Aesthetic\": [\"Surrealism\", \"Expressionism\", \"Realism\", \"Impressionism\", \"Cubism\", \"Minimalism\", \"Romanticism\"],\n",
      "    \"Setting/Location\": [\"Beach\", \"Countryside\", \"Forest\", \"Mountains\", \"Cityscape\", \"Urban\", \"Rural\"],\n",
      "    \"Time Period\": [\"Modern\", \"Contemporary\", \"Renaissance\", \"Medieval\", \"Ancient\", \"Futuristic\", \"Victorian\"],\n",
      "    \"Cultural/Symbolic Representation\": [\"Mythological\", \"Religious\", \"Historical\", \"Political\", \"Indigenous\", \"Pop culture\", \"Folklore\"]\n",
      "}\n",
      "4\n",
      "{\n",
      "    \"Color Palette\": [\"Earthy\", \"Muted\", \"Pastel\", \"Vibrant\", \"Bold\", \"Monochromatic\", \"Neon\"],\n",
      "    \"Subject Matter\": [\"Portrait\", \"Abstract\", \"Still life\", \"Nature\", \"Landscape\", \"Urban\", \"Architecture\"],\n",
      "    \"Mood/Emotion\": [\"Mysterious\", \"Serene\", \"Dramatic\", \"Melancholic\", \"Peaceful\", \"Energetic\", \"Joyful\"],\n",
      "    \"Style/Aesthetic\": [\"Surrealism\", \"Realism\", \"Expressionism\", \"Romanticism\", \"Impressionism\", \"Minimalism\", \"Cubism\"],\n",
      "    \"Setting/Location\": [\"Beach\", \"Countryside\", \"Urban\", \"Forest\", \"Cityscape\", \"Mountains\", \"Rural\"],\n",
      "    \"Time Period\": [\"Modern\", \"Contemporary\", \"Victorian\", \"Renaissance\", \"Medieval\", \"Futuristic\", \"Ancient\"],\n",
      "    \"Cultural/Symbolic Representation\": [\"Mythological\", \"Historical\", \"Religious\", \"Political\", \"Folklore\", \"Indigenous\", \"Pop culture\"]\n",
      "}\n",
      "5\n",
      "{\n",
      "    \"Color Palette\": [\"Vibrant\", \"Monochromatic\", \"Pastel\", \"Muted\", \"Bold\", \"Earthy\", \"Neon\"],\n",
      "    \"Subject Matter\": [\"Abstract\", \"Nature\", \"Still life\", \"Landscape\", \"Portrait\", \"Urban\", \"Architecture\"],\n",
      "    \"Mood/Emotion\": [\"Serene\", \"Peaceful\", \"Mysterious\", \"Dramatic\", \"Joyful\", \"Energetic\", \"Melancholic\"],\n",
      "    \"Style/Aesthetic\": [\"Surrealism\", \"Minimalism\", \"Realism\", \"Impressionism\", \"Expressionism\", \"Romanticism\", \"Cubism\"],\n",
      "    \"Setting/Location\": [\"Sky\", \"Urban\", \"Countryside\", \"Forest\", \"Mountains\", \"Beach\", \"Rural\"],\n",
      "    \"Time Period\": [\"Modern\", \"Contemporary\", \"Renaissance\", \"Victorian\", \"Medieval\", \"Ancient\", \"Futuristic\"],\n",
      "    \"Cultural/Symbolic Representation\": [\"Mythological\", \"Religious\", \"Historical\", \"Folklore\", \"Indigenous\", \"Political\", \"Pop culture\"]\n",
      "}\n",
      "6\n",
      "{\n",
      "    \"Color Palette\": [\"Earthy\", \"Muted\", \"Vibrant\", \"Bold\", \"Pastel\", \"Monochromatic\", \"Neon\"],\n",
      "    \"Subject Matter\": [\"Landscape\", \"Nature\", \"Still life\", \"Abstract\", \"Portrait\", \"Urban\", \"Architecture\"],\n",
      "    \"Mood/Emotion\": [\"Serene\", \"Peaceful\", \"Mysterious\", \"Melancholic\", \"Joyful\", \"Energetic\", \"Dramatic\"],\n",
      "    \"Style/Aesthetic\": [\"Realism\", \"Impressionism\", \"Surrealism\", \"Romanticism\", \"Expressionism\", \"Minimalism\", \"Cubism\"],\n",
      "    \"Setting/Location\": [\"Countryside\", \"Rural\", \"Mountains\", \"Forest\", \"Beach\", \"Cityscape\", \"Urban\"],\n",
      "    \"Time Period\": [\"Modern\", \"Contemporary\", \"Victorian\", \"Renaissance\", \"Medieval\", \"Ancient\", \"Futuristic\"],\n",
      "    \"Cultural/Symbolic Representation\": [\"Historical\", \"Mythological\", \"Religious\", \"Folklore\", \"Indigenous\", \"Political\", \"Pop culture\"]\n",
      "}\n",
      "7\n",
      "{\"Color Palette\": [\"Bold\", \"Vibrant\", \"Monochromatic\", \"Earthy\", \"Muted\", \"Pastel\", \"Neon\"],\n",
      "\"Subject Matter\": [\"Portrait\", \"Abstract\", \"Historical\", \"Nature\", \"Still life\", \"Urban\", \"Landscape\"],\n",
      "\"Mood/Emotion\": [\"Dramatic\", \"Mysterious\", \"Serene\", \"Peaceful\", \"Energetic\", \"Melancholic\", \"Joyful\"],\n",
      "\"Style/Aesthetic\": [\"Surrealism\", \"Realism\", \"Romanticism\", \"Expressionism\", \"Impressionism\", \"Minimalism\", \"Cubism\"],\n",
      "\"Setting/Location\": [\"Beach\", \"Forest\", \"Mountains\", \"Countryside\", \"Cityscape\", \"Urban\", \"Rural\"],\n",
      "\"Time Period\": [\"Contemporary\", \"Modern\", \"Renaissance\", \"Medieval\", \"Ancient\", \"Futuristic\", \"Victorian\"],\n",
      "\"Cultural/Symbolic Representation\": [\"Religious\", \"Historical\", \"Mythological\", \"Political\", \"Indigenous\", \"Pop culture\", \"Folklore\"]}\n",
      "8\n",
      "{\n",
      "    \"Color Palette\": [\"Vibrant\", \"Earthy\", \"Muted\", \"Bold\", \"Neon\", \"Pastel\", \"Monochromatic\"],\n",
      "    \"Subject Matter\": [\"Landscape\", \"Portrait\", \"Still life\", \"Urban\", \"Architecture\", \"Nature\", \"Abstract\"],\n",
      "    \"Mood/Emotion\": [\"Joyful\", \"Energetic\", \"Peaceful\", \"Serene\", \"Dramatic\", \"Mysterious\", \"Melancholic\"],\n",
      "    \"Style/Aesthetic\": [\"Realism\", \"Impressionism\", \"Expressionism\", \"Romanticism\", \"Surrealism\", \"Cubism\", \"Minimalism\"],\n",
      "    \"Setting/Location\": [\"Rural\", \"Urban\", \"Countryside\", \"Cityscape\", \"Mountains\", \"Forest\", \"Beach\"],\n",
      "    \"Time Period\": [\"Modern\", \"Contemporary\", \"Medieval\", \"Renaissance\", \"Ancient\", \"Victorian\", \"Futuristic\"],\n",
      "    \"Cultural/Symbolic Representation\": [\"Historical\", \"Indigenous\", \"Folklore\", \"Religious\", \"Mythological\", \"Political\", \"Pop culture\"]\n",
      "}\n",
      "9\n",
      "{\n",
      "    \"Color Palette\": [\"Muted\", \"Earthy\", \"Bold\", \"Monochromatic\", \"Vibrant\", \"Pastel\", \"Neon\"],\n",
      "    \"Subject Matter\": [\"Abstract\", \"Architecture\", \"Portrait\", \"Still life\", \"Nature\", \"Landscape\", \"Urban\"],\n",
      "    \"Mood/Emotion\": [\"Mysterious\", \"Dramatic\", \"Melancholic\", \"Serene\", \"Energetic\", \"Joyful\", \"Peaceful\"],\n",
      "    \"Style/Aesthetic\": [\"Surrealism\", \"Expressionism\", \"Romanticism\", \"Realism\", \"Minimalism\", \"Cubism\", \"Impressionism\"],\n",
      "    \"Setting/Location\": [\"Rural\", \"Mountains\", \"Countryside\", \"Forest\", \"Beach\", \"Cityscape\", \"Urban\"],\n",
      "    \"Time Period\": [\"Modern\", \"Contemporary\", \"Victorian\", \"Renaissance\", \"Medieval\", \"Ancient\", \"Futuristic\"],\n",
      "    \"Cultural/Symbolic Representation\": [\"Mythological\", \"Historical\", \"Religious\", \"Political\", \"Indigenous\", \"Pop culture\", \"Folklore\"]\n",
      "}\n",
      "10\n",
      "{\n",
      "    \"Color Palette\": [\"Muted\", \"Pastel\", \"Bold\", \"Monochromatic\", \"Vibrant\", \"Earthy\", \"Neon\"],\n",
      "    \"Subject Matter\": [\"Religious\", \"Portrait\", \"Abstract\", \"Nature\", \"Still life\", \"Landscape\", \"Urban\"],\n",
      "    \"Mood/Emotion\": [\"Dramatic\", \"Mysterious\", \"Serene\", \"Energetic\", \"Peaceful\", \"Melancholic\", \"Joyful\"],\n",
      "    \"Style/Aesthetic\": [\"Surrealism\", \"Expressionism\", \"Realism\", \"Romanticism\", \"Minimalism\", \"Impressionism\", \"Cubism\"],\n",
      "    \"Setting/Location\": [\"Urban\", \"Mountains\", \"Forest\", \"Cityscape\", \"Countryside\", \"Beach\", \"Rural\"],\n",
      "    \"Time Period\": [\"Modern\", \"Contemporary\", \"Medieval\", \"Renaissance\", \"Futuristic\", \"Ancient\", \"Victorian\"],\n",
      "    \"Cultural/Symbolic Representation\": [\"Religious\", \"Historical\", \"Mythological\", \"Political\", \"Indigenous\", \"Pop culture\", \"Folklore\"]\n",
      "}\n",
      "11\n"
     ]
    }
   ],
   "source": [
    "dali_comparisons = compare_images_label_similarity_years(artist_images, \"Style/Aesthetic\")"
   ]
  },
  {
   "cell_type": "code",
   "execution_count": 58,
   "metadata": {},
   "outputs": [
    {
     "name": "stdout",
     "output_type": "stream",
     "text": [
      "images:  {\n",
      "    \"The Persistence of Memory\": {\n",
      "        \"url\": \"https://uploads1.wikiart.org/00475/images/salvador-dali/w1siziisijm4njq3mcjdlfsiccisimnvbnzlcnqilcitcxvhbgl0esa5mcatcmvzaxplidiwmdb4mjawmfx1mdazzsjdxq.jpg!Large.jpg\",\n",
      "        \"year\": 1931\n",
      "    },\n",
      "    \"Ballerina in a Death's Head\": {\n",
      "        \"url\": \"https://uploads3.wikiart.org/images/salvador-dali/ballerina-in-a-death-s-head.jpg!Large.jpg\",\n",
      "        \"year\": 1939\n",
      "    },\n",
      "    \"The Disintegration of the Persistence of Memory\": {\n",
      "        \"url\": \"https://uploads5.wikiart.org/images/salvador-dali/the-disintegration-of-the-persistence-of-memory.jpg!Large.jpg\",\n",
      "        \"year\": 1954\n",
      "    },\n",
      "    \"The Great Masturbator\": {\n",
      "        \"url\": \"https://uploads3.wikiart.org/00475/images/salvador-dali/salvador-dali-the-great-masturbator-1929-obelisk-art-history.jpg!Large.jpg\",\n",
      "        \"year\": 1929\n",
      "    },\n",
      "    \"Women forming a skull\": {\n",
      "        \"url\": \"https://uploads6.wikiart.org/images/salvador-dali/women-forming-a-skull.jpg!Large.jpg\",\n",
      "        \"year\": 1951\n",
      "    },\n",
      "    \"Meditative Rose\": {\n",
      "        \"url\": \"https://uploads0.wikiart.org/images/salvador-dali/meditative-rose.jpg!Large.jpg\",\n",
      "        \"year\": 1958\n",
      "    },\n",
      "    \"Landscape\": {\n",
      "        \"url\": \"https://uploads5.wikiart.org/00162/images/salvador-dali/3salvador-dali-peyzazh-bliz-figerasa.jpg!Large.jpg\",\n",
      "        \"year\": 1914\n",
      "    },\n",
      "    \"The Discovery of America by Christopher Columbus\": {\n",
      "        \"url\": \"https://uploads2.wikiart.org/images/salvador-dali/the-discovery-of-america-by-christopher-columbus-1959.jpg!Large.jpg\",\n",
      "        \"year\": 1959\n",
      "    },\n",
      "    \"Fiesta in Figueres\": {\n",
      "        \"url\": \"https://uploads8.wikiart.org/images/salvador-dali/fiesta-in-figueres-1916.jpg!Large.jpg\",\n",
      "        \"year\": 1916\n",
      "    },\n",
      "    \"The Enigma of My Desire or My Mother, My Mother, My Mother\": {\n",
      "        \"url\": \"https://uploads1.wikiart.org/images/salvador-dali/the-enigma-of-my-desire-or-my-mother-my-mother-my-mother-1929.jpg!Large.jpg\",\n",
      "        \"year\": 1929\n",
      "    },\n",
      "    \"Ascension\": {\n",
      "        \"url\": \"https://uploads3.wikiart.org/images/salvador-dali/ascension.jpg!Large.jpg\",\n",
      "        \"year\": 1958\n",
      "    }\n",
      "}\n",
      "{\n",
      "    \"Color Palette\": [\"Muted\", \"Monochromatic\", \"Melancholic\", \"Somber\", \"Vibrant\", \"Bold\", \"Neon\"],\n",
      "    \"Subject Matter\": [\"Surrealism\", \"Abstract\", \"Landscape\", \"Nature\", \"Still life\", \"Portrait\", \"Urban\"],\n",
      "    \"Mood/Emotion\": [\"Mysterious\", \"Melancholic\", \"Serene\", \"Dramatic\", \"Energetic\", \"Peaceful\", \"Joyful\"],\n",
      "    \"Style/Aesthetic\": [\"Surrealism\", \"Realism\", \"Minimalism\", \"Expressionism\", \"Impressionism\", \"Cubism\", \"Romanticism\"],\n",
      "    \"Setting/Location\": [\"Countryside\", \"Beach\", \"Forest\", \"Mountains\", \"Cityscape\", \"Urban\", \"Rural\"],\n",
      "    \"Time Period\": [\"Contemporary\", \"Modern\", \"Medieval\", \"Renaissance\", \"Ancient\", \"Futuristic\", \"Victorian\"],\n",
      "    \"Cultural/Symbolic Representation\": [\"Mythological\", \"Historical\", \"Religious\", \"Political\", \"Indigenous\", \"Pop culture\", \"Folklore\"]\n",
      "}\n",
      "1\n",
      "{\n",
      "    \"Color Palette\": [\"Muted\", \"Monochromatic\", \"Bold\", \"Vibrant\", \"Pastel\", \"Earthy\", \"Neon\"],\n",
      "    \"Subject Matter\": [\"Portrait\", \"Abstract\", \"Still life\", \"Nature\", \"Landscape\", \"Urban\", \"Architecture\"],\n",
      "    \"Mood/Emotion\": [\"Mysterious\", \"Dramatic\", \"Serene\", \"Melancholic\", \"Energetic\", \"Peaceful\", \"Joyful\"],\n",
      "    \"Style/Aesthetic\": [\"Surrealism\", \"Realism\", \"Expressionism\", \"Romanticism\", \"Impressionism\", \"Minimalism\", \"Cubism\"],\n",
      "    \"Setting/Location\": [\"Urban\", \"Cityscape\", \"Countryside\", \"Beach\", \"Forest\", \"Mountains\", \"Rural\"],\n",
      "    \"Time Period\": [\"Modern\", \"Contemporary\", \"Victorian\", \"Medieval\", \"Renaissance\", \"Futuristic\", \"Ancient\"],\n",
      "    \"Cultural/Symbolic Representation\": [\"Mythological\", \"Historical\", \"Religious\", \"Political\", \"Folklore\", \"Indigenous\", \"Pop culture\"]\n",
      "}\n",
      "2\n",
      "{\n",
      "    \"Color Palette\": [\"Muted\", \"Pastel\", \"Earthy\", \"Vibrant\", \"Monochromatic\", \"Bold\", \"Neon\"],\n",
      "    \"Subject Matter\": [\"Abstract\", \"Portrait\", \"Nature\", \"Landscape\", \"Still life\", \"Urban\", \"Architecture\"],\n",
      "    \"Mood/Emotion\": [\"Mysterious\", \"Serene\", \"Dramatic\", \"Melancholic\", \"Peaceful\", \"Energetic\", \"Joyful\"],\n",
      "    \"Style/Aesthetic\": [\"Surrealism\", \"Realism\", \"Impressionism\", \"Minimalism\", \"Expressionism\", \"Cubism\", \"Romanticism\"],\n",
      "    \"Setting/Location\": [\"Beach\", \"Forest\", \"Countryside\", \"Cityscape\", \"Mountains\", \"Urban\", \"Rural\"],\n",
      "    \"Time Period\": [\"Modern\", \"Contemporary\", \"Renaissance\", \"Futuristic\", \"Medieval\", \"Ancient\", \"Victorian\"],\n",
      "    \"Cultural/Symbolic Representation\": [\"Mythological\", \"Historical\", \"Religious\", \"Political\", \"Indigenous\", \"Pop culture\", \"Folklore\"]\n",
      "}\n",
      "3\n",
      "{\n",
      "    \"Color Palette\": [\"Earthy\", \"Muted\", \"Pastel\", \"Vibrant\", \"Bold\", \"Neon\", \"Monochromatic\"],\n",
      "    \"Subject Matter\": [\"Abstract\", \"Portrait\", \"Nature\", \"Landscape\", \"Still life\", \"Urban\", \"Architecture\"],\n",
      "    \"Mood/Emotion\": [\"Mysterious\", \"Melancholic\", \"Dramatic\", \"Peaceful\", \"Serene\", \"Energetic\", \"Joyful\"],\n",
      "    \"Style/Aesthetic\": [\"Surrealism\", \"Expressionism\", \"Realism\", \"Impressionism\", \"Minimalism\", \"Cubism\", \"Romanticism\"],\n",
      "    \"Setting/Location\": [\"Countryside\", \"Forest\", \"Cityscape\", \"Mountains\", \"Beach\", \"Urban\", \"Rural\"],\n",
      "    \"Time Period\": [\"Modern\", \"Contemporary\", \"Renaissance\", \"Medieval\", \"Futuristic\", \"Ancient\", \"Victorian\"],\n",
      "    \"Cultural/Symbolic Representation\": [\"Mythological\", \"Historical\", \"Political\", \"Religious\", \"Indigenous\", \"Pop culture\", \"Folklore\"]\n",
      "}\n",
      "4\n",
      "{\n",
      "    \"Color Palette\": [\"Pastel\", \"Muted\", \"Vibrant\", \"Earthy\", \"Bold\", \"Monochromatic\", \"Neon\"],\n",
      "    \"Subject Matter\": [\"Portrait\", \"Abstract\", \"Still life\", \"Nature\", \"Landscape\", \"Urban\", \"Architecture\"],\n",
      "    \"Mood/Emotion\": [\"Mysterious\", \"Serene\", \"Dramatic\", \"Peaceful\", \"Melancholic\", \"Joyful\", \"Energetic\"],\n",
      "    \"Style/Aesthetic\": [\"Surrealism\", \"Realism\", \"Romanticism\", \"Impressionism\", \"Expressionism\", \"Minimalism\", \"Cubism\"],\n",
      "    \"Setting/Location\": [\"Countryside\", \"Forest\", \"Beach\", \"Mountains\", \"Cityscape\", \"Rural\", \"Urban\"],\n",
      "    \"Time Period\": [\"Modern\", \"Contemporary\", \"Renaissance\", \"Medieval\", \"Victorian\", \"Ancient\", \"Futuristic\"],\n",
      "    \"Cultural/Symbolic Representation\": [\"Mythological\", \"Historical\", \"Religious\", \"Folklore\", \"Political\", \"Indigenous\", \"Pop culture\"]\n",
      "}\n",
      "5\n",
      "{\n",
      "    \"Color Palette\": [\"Vibrant\", \"Bold\", \"Muted\", \"Pastel\", \"Monochromatic\", \"Neon\", \"Earthy\"],\n",
      "    \"Subject Matter\": [\"Still life\", \"Abstract\", \"Nature\", \"Portrait\", \"Landscape\", \"Urban\", \"Architecture\"],\n",
      "    \"Mood/Emotion\": [\"Serene\", \"Mysterious\", \"Peaceful\", \"Dramatic\", \"Melancholic\", \"Joyful\", \"Energetic\"],\n",
      "    \"Style/Aesthetic\": [\"Surrealism\", \"Realism\", \"Romanticism\", \"Impressionism\", \"Expressionism\", \"Minimalism\", \"Cubism\"],\n",
      "    \"Setting/Location\": [\"Sky\", \"Countryside\", \"Forest\", \"Mountains\", \"Cityscape\", \"Beach\", \"Rural\"],\n",
      "    \"Time Period\": [\"Contemporary\", \"Modern\", \"Victorian\", \"Renaissance\", \"Medieval\", \"Futuristic\", \"Ancient\"],\n",
      "    \"Cultural/Symbolic Representation\": [\"Mythological\", \"Historical\", \"Religious\", \"Folklore\", \"Indigenous\", \"Pop culture\", \"Political\"]\n",
      "}\n",
      "6\n",
      "{\n",
      "    \"Color Palette\": [\"Muted\", \"Earthy\", \"Pastel\", \"Bold\", \"Vibrant\", \"Monochromatic\", \"Neon\"],\n",
      "    \"Subject Matter\": [\"Landscape\", \"Nature\", \"Abstract\", \"Portrait\", \"Still life\", \"Urban\", \"Architecture\"],\n",
      "    \"Mood/Emotion\": [\"Serene\", \"Mysterious\", \"Peaceful\", \"Dramatic\", \"Melancholic\", \"Joyful\", \"Energetic\"],\n",
      "    \"Style/Aesthetic\": [\"Surrealism\", \"Impressionism\", \"Realism\", \"Expressionism\", \"Minimalism\", \"Romanticism\", \"Cubism\"],\n",
      "    \"Setting/Location\": [\"Countryside\", \"Forest\", \"Mountains\", \"Rural\", \"Beach\", \"Cityscape\", \"Urban\"],\n",
      "    \"Time Period\": [\"Modern\", \"Contemporary\", \"Renaissance\", \"Victorian\", \"Medieval\", \"Ancient\", \"Futuristic\"],\n",
      "    \"Cultural/Symbolic Representation\": [\"Historical\", \"Political\", \"Indigenous\", \"Folklore\", \"Religious\", \"Mythological\", \"Pop culture\"]\n",
      "}\n",
      "7\n",
      "{\n",
      "    \"Color Palette\": [\"Bold\", \"Vibrant\", \"Pastel\", \"Muted\", \"Neon\", \"Monochromatic\", \"Earthy\"],\n",
      "    \"Subject Matter\": [\"Portrait\", \"Abstract\", \"Historical\", \"Nature\", \"Landscape\", \"Still life\", \"Urban\"],\n",
      "    \"Mood/Emotion\": [\"Dramatic\", \"Mysterious\", \"Serene\", \"Peaceful\", \"Energetic\", \"Joyful\", \"Melancholic\"],\n",
      "    \"Style/Aesthetic\": [\"Surrealism\", \"Romanticism\", \"Realism\", \"Expressionism\", \"Impressionism\", \"Minimalism\", \"Cubism\"],\n",
      "    \"Setting/Location\": [\"Beach\", \"Mountains\", \"Urban\", \"Countryside\", \"Cityscape\", \"Forest\", \"Rural\"],\n",
      "    \"Time Period\": [\"Renaissance\", \"Contemporary\", \"Modern\", \"Medieval\", \"Ancient\", \"Futuristic\", \"Victorian\"],\n",
      "    \"Cultural/Symbolic Representation\": [\"Historical\", \"Religious\", \"Mythological\", \"Political\", \"Folklore\", \"Indigenous\", \"Pop culture\"]\n",
      "}\n",
      "8\n",
      "{\n",
      "    \"Color Palette\": [\"Vibrant\", \"Bold\", \"Earthy\", \"Muted\", \"Pastel\", \"Neon\", \"Monochromatic\"],\n",
      "    \"Subject Matter\": [\"Portrait\", \"Landscape\", \"Still life\", \"Urban\", \"Nature\", \"Abstract\", \"Architecture\"],\n",
      "    \"Mood/Emotion\": [\"Joyful\", \"Energetic\", \"Serene\", \"Peaceful\", \"Dramatic\", \"Mysterious\", \"Melancholic\"],\n",
      "    \"Style/Aesthetic\": [\"Realism\", \"Romanticism\", \"Impressionism\", \"Expressionism\", \"Cubism\", \"Minimalism\", \"Surrealism\"],\n",
      "    \"Setting/Location\": [\"Rural\", \"Urban\", \"Cityscape\", \"Countryside\", \"Mountains\", \"Beach\", \"Forest\"],\n",
      "    \"Time Period\": [\"Contemporary\", \"Modern\", \"Renaissance\", \"Medieval\", \"Victorian\", \"Futuristic\", \"Ancient\"],\n",
      "    \"Cultural/Symbolic Representation\": [\"Folklore\", \"Historical\", \"Religious\", \"Indigenous\", \"Political\", \"Mythological\", \"Pop culture\"]\n",
      "}\n",
      "9\n",
      "{\n",
      "    \"Color Palette\": [\"Muted\", \"Earthy\", \"Vibrant\", \"Monochromatic\", \"Pastel\", \"Bold\", \"Neon\"],\n",
      "    \"Subject Matter\": [\"Abstract\", \"Nature\", \"Portrait\", \"Landscape\", \"Still life\", \"Urban\", \"Architecture\"],\n",
      "    \"Mood/Emotion\": [\"Mysterious\", \"Dramatic\", \"Melancholic\", \"Serene\", \"Energetic\", \"Peaceful\", \"Joyful\"],\n",
      "    \"Style/Aesthetic\": [\"Surrealism\", \"Expressionism\", \"Minimalism\", \"Realism\", \"Romanticism\", \"Impressionism\", \"Cubism\"],\n",
      "    \"Setting/Location\": [\"Urban\", \"Rural\", \"Countryside\", \"Mountains\", \"Forest\", \"Beach\", \"Cityscape\"],\n",
      "    \"Time Period\": [\"Modern\", \"Contemporary\", \"Medieval\", \"Ancient\", \"Renaissance\", \"Victorian\", \"Futuristic\"],\n",
      "    \"Cultural/Symbolic Representation\": [\"Mythological\", \"Historical\", \"Religious\", \"Political\", \"Pop culture\", \"Indigenous\", \"Folklore\"]\n",
      "}\n",
      "10\n",
      "{\n",
      "    \"Color Palette\": [\"Muted\", \"Pastel\", \"Vibrant\", \"Monochromatic\", \"Bold\", \"Earthy\", \"Neon\"],\n",
      "    \"Subject Matter\": [\"Abstract\", \"Portrait\", \"Still life\", \"Landscape\", \"Nature\", \"Urban\", \"Architecture\"],\n",
      "    \"Mood/Emotion\": [\"Mysterious\", \"Serene\", \"Dramatic\", \"Energetic\", \"Peaceful\", \"Melancholic\", \"Joyful\"],\n",
      "    \"Style/Aesthetic\": [\"Surrealism\", \"Expressionism\", \"Realism\", \"Impressionism\", \"Romanticism\", \"Minimalism\", \"Cubism\"],\n",
      "    \"Setting/Location\": [\"Urban\", \"Mountains\", \"Cityscape\", \"Countryside\", \"Beach\", \"Forest\", \"Rural\"],\n",
      "    \"Time Period\": [\"Modern\", \"Contemporary\", \"Renaissance\", \"Medieval\", \"Futuristic\", \"Ancient\", \"Victorian\"],\n",
      "    \"Cultural/Symbolic Representation\": [\"Religious\", \"Mythological\", \"Historical\", \"Political\", \"Pop culture\", \"Indigenous\", \"Folklore\"]\n",
      "}\n",
      "11\n",
      "[(\"The Persistence of Memory vs Ballerina in a Death's Head\", 78.20215788646527), ('The Persistence of Memory vs The Disintegration of the Persistence of Memory', 66.53017363787774), ('The Persistence of Memory vs The Great Masturbator', 70.82339583419684), ('The Persistence of Memory vs Women forming a skull', 83.75574885118672), ('The Persistence of Memory vs Meditative Rose', 84.35006192494944), ('The Persistence of Memory vs Landscape', 97.20703751178452), ('The Persistence of Memory vs The Discovery of America by Christopher Columbus', 90.09900712015103), ('The Persistence of Memory vs Fiesta in Figueres', 134.79621107411097), ('The Persistence of Memory vs The Enigma of My Desire or My Mother, My Mother, My Mother', 77.9287422272738), ('The Persistence of Memory vs Ascension', 85.44603155550706), (\"Ballerina in a Death's Head vs The Disintegration of the Persistence of Memory\", 80.58923384995383), (\"Ballerina in a Death's Head vs The Great Masturbator\", 85.20352671486567), (\"Ballerina in a Death's Head vs Women forming a skull\", 72.38279727096929), (\"Ballerina in a Death's Head vs Meditative Rose\", 81.54677192708043), (\"Ballerina in a Death's Head vs Landscape\", 105.01524375423098), (\"Ballerina in a Death's Head vs The Discovery of America by Christopher Columbus\", 81.90612740628737), (\"Ballerina in a Death's Head vs Fiesta in Figueres\", 113.79823613837898), (\"Ballerina in a Death's Head vs The Enigma of My Desire or My Mother, My Mother, My Mother\", 74.548692299013), (\"Ballerina in a Death's Head vs Ascension\", 66.18765781578584), ('The Disintegration of the Persistence of Memory vs The Great Masturbator', 52.961206304642566), ('The Disintegration of the Persistence of Memory vs Women forming a skull', 63.46090473016052), ('The Disintegration of the Persistence of Memory vs Meditative Rose', 86.28290359731582), ('The Disintegration of the Persistence of Memory vs Landscape', 83.07421594546008), ('The Disintegration of the Persistence of Memory vs The Discovery of America by Christopher Columbus', 89.29052931162633), ('The Disintegration of the Persistence of Memory vs Fiesta in Figueres', 131.0508544841971), ('The Disintegration of the Persistence of Memory vs The Enigma of My Desire or My Mother, My Mother, My Mother', 80.33141294100525), ('The Disintegration of the Persistence of Memory vs Ascension', 70.12459788413044), ('The Great Masturbator vs Women forming a skull', 69.8718413215982), ('The Great Masturbator vs Meditative Rose', 87.6729098329631), ('The Great Masturbator vs Landscape', 79.46581303118492), ('The Great Masturbator vs The Discovery of America by Christopher Columbus', 93.79338250119919), ('The Great Masturbator vs Fiesta in Figueres', 129.28496796578332), ('The Great Masturbator vs The Enigma of My Desire or My Mother, My Mother, My Mother', 77.38868424377205), ('The Great Masturbator vs Ascension', 72.54696103927503), ('Women forming a skull vs Meditative Rose', 60.969040321115926), ('Women forming a skull vs Landscape', 74.47230004574573), ('Women forming a skull vs The Discovery of America by Christopher Columbus', 80.0554978896872), ('Women forming a skull vs Fiesta in Figueres', 113.22934007307329), ('Women forming a skull vs The Enigma of My Desire or My Mother, My Mother, My Mother', 91.388694094377), ('Women forming a skull vs Ascension', 75.94011731282608), ('Meditative Rose vs Landscape', 80.37999045127457), ('Meditative Rose vs The Discovery of America by Christopher Columbus', 87.26607707081007), ('Meditative Rose vs Fiesta in Figueres', 113.1471920751259), ('Meditative Rose vs The Enigma of My Desire or My Mother, My Mother, My Mother', 108.83847838437205), ('Meditative Rose vs Ascension', 92.87942972604887), ('Landscape vs The Discovery of America by Christopher Columbus', 104.2341129361642), ('Landscape vs Fiesta in Figueres', 120.77298254153762), ('Landscape vs The Enigma of My Desire or My Mother, My Mother, My Mother', 99.48859197858116), ('Landscape vs Ascension', 103.3058266473271), ('The Discovery of America by Christopher Columbus vs Fiesta in Figueres', 107.80191516878234), ('The Discovery of America by Christopher Columbus vs The Enigma of My Desire or My Mother, My Mother, My Mother', 99.09622041902115), ('The Discovery of America by Christopher Columbus vs Ascension', 75.89663310838971), ('Fiesta in Figueres vs The Enigma of My Desire or My Mother, My Mother, My Mother', 130.96464554989925), ('Fiesta in Figueres vs Ascension', 117.25461529161176), ('The Enigma of My Desire or My Mother, My Mother, My Mother vs Ascension', 74.40220736076361)]\n"
     ]
    }
   ],
   "source": [
    "dali_image_descriptions, total_dali_comparisons = compare_images_total_similarity_years(artist_images)\n",
    "print(total_dali_comparisons)"
   ]
  },
  {
   "cell_type": "code",
   "execution_count": 44,
   "metadata": {},
   "outputs": [
    {
     "name": "stdout",
     "output_type": "stream",
     "text": [
      "[(\"The Persistence of Memory vs Ballerina in a Death's Head\", 12.886061377431837), ('The Persistence of Memory vs The Disintegration of the Persistence of Memory', 5.358883402553079), ('The Persistence of Memory vs The Great Masturbator', 10.90864569446277), ('The Persistence of Memory vs Women forming a skull', 11.031465993669975), ('The Persistence of Memory vs Meditative Rose', 8.982107112804687), ('The Persistence of Memory vs Landscape', 18.806866152170933), ('The Persistence of Memory vs The Discovery of America by Christopher Columbus', 13.03395769903404), ('The Persistence of Memory vs Fiesta in Figueres', 20.810903314014265), ('The Persistence of Memory vs The Enigma of My Desire or My Mother, My Mother, My Mother', 11.191518865554547), ('The Persistence of Memory vs Ascension', 8.996697539847618), (\"Ballerina in a Death's Head vs The Disintegration of the Persistence of Memory\", 11.027177939505457), (\"Ballerina in a Death's Head vs The Great Masturbator\", 8.928682994677324), (\"Ballerina in a Death's Head vs Women forming a skull\", 11.116810287191202), (\"Ballerina in a Death's Head vs Meditative Rose\", 10.840990550731068), (\"Ballerina in a Death's Head vs Landscape\", 12.772298183414343), (\"Ballerina in a Death's Head vs The Discovery of America by Christopher Columbus\", 11.197150413098981), (\"Ballerina in a Death's Head vs Fiesta in Figueres\", 14.768261021571009), (\"Ballerina in a Death's Head vs The Enigma of My Desire or My Mother, My Mother, My Mother\", 15.109838757372236), (\"Ballerina in a Death's Head vs Ascension\", 12.967118641461166), ('The Disintegration of the Persistence of Memory vs The Great Masturbator', 9.012476596287904), ('The Disintegration of the Persistence of Memory vs Women forming a skull', 12.994180333421493), ('The Disintegration of the Persistence of Memory vs Meditative Rose', 10.840990550731068), ('The Disintegration of the Persistence of Memory vs Landscape', 20.769580491922447), ('The Disintegration of the Persistence of Memory vs The Discovery of America by Christopher Columbus', 14.996672038785555), ('The Disintegration of the Persistence of Memory vs Fiesta in Figueres', 20.84818897426275), ('The Disintegration of the Persistence of Memory vs The Enigma of My Desire or My Mother, My Mother, My Mother', 11.234436073347464), ('The Disintegration of the Persistence of Memory vs Ascension', 10.953780332054702), ('The Great Masturbator vs Women forming a skull', 11.066921549579318), ('The Great Masturbator vs Meditative Rose', 13.21988762563287), ('The Great Masturbator vs Landscape', 16.843607408392984), ('The Great Masturbator vs The Discovery of America by Christopher Columbus', 13.00572377206109), ('The Great Masturbator vs Fiesta in Figueres', 16.830875625556935), ('The Great Masturbator vs The Enigma of My Desire or My Mother, My Mother, My Mother', 12.89564707876426), ('The Great Masturbator vs Ascension', 11.19715041309898), ('Women forming a skull vs Meditative Rose', 12.971025684466058), ('Women forming a skull vs Landscape', 10.928844092631422), ('Women forming a skull vs The Discovery of America by Christopher Columbus', 5.3674815744163045), ('Women forming a skull vs Fiesta in Figueres', 12.897763138993092), ('Women forming a skull vs The Enigma of My Desire or My Mother, My Mother, My Mother', 10.916007820422209), ('Women forming a skull vs Ascension', 7.027177939505457), ('Meditative Rose vs Landscape', 14.840980869923548), ('Meditative Rose vs The Discovery of America by Christopher Columbus', 12.90982790694783), ('Meditative Rose vs Fiesta in Figueres', 20.79781448703707), ('Meditative Rose vs The Enigma of My Desire or My Mother, My Mother, My Mother', 16.875434912097855), ('Meditative Rose vs Ascension', 13.264978584756005), ('Landscape vs The Discovery of America by Christopher Columbus', 10.870205759243621), ('Landscape vs Fiesta in Figueres', 9.227218102184052), ('Landscape vs The Enigma of My Desire or My Mother, My Mother, My Mother', 18.8283542955739), ('Landscape vs Ascension', 14.871525080472548), ('The Discovery of America by Christopher Columbus vs Fiesta in Figueres', 14.765244748782699), ('The Discovery of America by Christopher Columbus vs The Enigma of My Desire or My Mother, My Mother, My Mother', 11.029383862243051), ('The Discovery of America by Christopher Columbus vs Ascension', 8.913801897684614), ('Fiesta in Figueres vs The Enigma of My Desire or My Mother, My Mother, My Mother', 18.813395659162943), ('Fiesta in Figueres vs Ascension', 16.92897762372138), ('The Enigma of My Desire or My Mother, My Mother, My Mother vs Ascension', 7.070887210428729)]\n"
     ]
    }
   ],
   "source": [
    "print(dali_comparisons)"
   ]
  },
  {
   "cell_type": "code",
   "execution_count": 45,
   "metadata": {},
   "outputs": [
    {
     "name": "stdout",
     "output_type": "stream",
     "text": [
      "55\n",
      "[\n",
      "    [\n",
      "        \"1931 vs 1939\",\n",
      "        12.886061377431837\n",
      "    ],\n",
      "    [\n",
      "        \"1931 vs 1954\",\n",
      "        5.358883402553079\n",
      "    ],\n",
      "    [\n",
      "        \"1931 vs 1929\",\n",
      "        10.90864569446277\n",
      "    ],\n",
      "    [\n",
      "        \"1931 vs 1951\",\n",
      "        11.031465993669975\n",
      "    ],\n",
      "    [\n",
      "        \"1931 vs 1958\",\n",
      "        8.982107112804687\n",
      "    ],\n",
      "    [\n",
      "        \"1931 vs 1914\",\n",
      "        18.806866152170933\n",
      "    ],\n",
      "    [\n",
      "        \"1931 vs 1959\",\n",
      "        13.03395769903404\n",
      "    ],\n",
      "    [\n",
      "        \"1931 vs 1916\",\n",
      "        20.810903314014265\n",
      "    ],\n",
      "    [\n",
      "        \"1931 vs 1929\",\n",
      "        11.191518865554547\n",
      "    ],\n",
      "    [\n",
      "        \"1931 vs 1958\",\n",
      "        8.996697539847618\n",
      "    ],\n",
      "    [\n",
      "        \"1939 vs 1954\",\n",
      "        11.027177939505457\n",
      "    ],\n",
      "    [\n",
      "        \"1939 vs 1929\",\n",
      "        8.928682994677324\n",
      "    ],\n",
      "    [\n",
      "        \"1939 vs 1951\",\n",
      "        11.116810287191202\n",
      "    ],\n",
      "    [\n",
      "        \"1939 vs 1958\",\n",
      "        10.840990550731068\n",
      "    ],\n",
      "    [\n",
      "        \"1939 vs 1914\",\n",
      "        12.772298183414343\n",
      "    ],\n",
      "    [\n",
      "        \"1939 vs 1959\",\n",
      "        11.197150413098981\n",
      "    ],\n",
      "    [\n",
      "        \"1939 vs 1916\",\n",
      "        14.768261021571009\n",
      "    ],\n",
      "    [\n",
      "        \"1939 vs 1929\",\n",
      "        15.109838757372236\n",
      "    ],\n",
      "    [\n",
      "        \"1939 vs 1958\",\n",
      "        12.967118641461166\n",
      "    ],\n",
      "    [\n",
      "        \"1954 vs 1929\",\n",
      "        9.012476596287904\n",
      "    ],\n",
      "    [\n",
      "        \"1954 vs 1951\",\n",
      "        12.994180333421493\n",
      "    ],\n",
      "    [\n",
      "        \"1954 vs 1958\",\n",
      "        10.840990550731068\n",
      "    ],\n",
      "    [\n",
      "        \"1954 vs 1914\",\n",
      "        20.769580491922447\n",
      "    ],\n",
      "    [\n",
      "        \"1954 vs 1959\",\n",
      "        14.996672038785555\n",
      "    ],\n",
      "    [\n",
      "        \"1954 vs 1916\",\n",
      "        20.84818897426275\n",
      "    ],\n",
      "    [\n",
      "        \"1954 vs 1929\",\n",
      "        11.234436073347464\n",
      "    ],\n",
      "    [\n",
      "        \"1954 vs 1958\",\n",
      "        10.953780332054702\n",
      "    ],\n",
      "    [\n",
      "        \"1929 vs 1951\",\n",
      "        11.066921549579318\n",
      "    ],\n",
      "    [\n",
      "        \"1929 vs 1958\",\n",
      "        13.21988762563287\n",
      "    ],\n",
      "    [\n",
      "        \"1929 vs 1914\",\n",
      "        16.843607408392984\n",
      "    ],\n",
      "    [\n",
      "        \"1929 vs 1959\",\n",
      "        13.00572377206109\n",
      "    ],\n",
      "    [\n",
      "        \"1929 vs 1916\",\n",
      "        16.830875625556935\n",
      "    ],\n",
      "    [\n",
      "        \"1929 vs 1929\",\n",
      "        12.89564707876426\n",
      "    ],\n",
      "    [\n",
      "        \"1929 vs 1958\",\n",
      "        11.19715041309898\n",
      "    ],\n",
      "    [\n",
      "        \"1951 vs 1958\",\n",
      "        12.971025684466058\n",
      "    ],\n",
      "    [\n",
      "        \"1951 vs 1914\",\n",
      "        10.928844092631422\n",
      "    ],\n",
      "    [\n",
      "        \"1951 vs 1959\",\n",
      "        5.3674815744163045\n",
      "    ],\n",
      "    [\n",
      "        \"1951 vs 1916\",\n",
      "        12.897763138993092\n",
      "    ],\n",
      "    [\n",
      "        \"1951 vs 1929\",\n",
      "        10.916007820422209\n",
      "    ],\n",
      "    [\n",
      "        \"1951 vs 1958\",\n",
      "        7.027177939505457\n",
      "    ],\n",
      "    [\n",
      "        \"1958 vs 1914\",\n",
      "        14.840980869923548\n",
      "    ],\n",
      "    [\n",
      "        \"1958 vs 1959\",\n",
      "        12.90982790694783\n",
      "    ],\n",
      "    [\n",
      "        \"1958 vs 1916\",\n",
      "        20.79781448703707\n",
      "    ],\n",
      "    [\n",
      "        \"1958 vs 1929\",\n",
      "        16.875434912097855\n",
      "    ],\n",
      "    [\n",
      "        \"1958 vs 1958\",\n",
      "        13.264978584756005\n",
      "    ],\n",
      "    [\n",
      "        \"1914 vs 1959\",\n",
      "        10.870205759243621\n",
      "    ],\n",
      "    [\n",
      "        \"1914 vs 1916\",\n",
      "        9.227218102184052\n",
      "    ],\n",
      "    [\n",
      "        \"1914 vs 1929\",\n",
      "        18.8283542955739\n",
      "    ],\n",
      "    [\n",
      "        \"1914 vs 1958\",\n",
      "        14.871525080472548\n",
      "    ],\n",
      "    [\n",
      "        \"1959 vs 1916\",\n",
      "        14.765244748782699\n",
      "    ],\n",
      "    [\n",
      "        \"1959 vs 1929\",\n",
      "        11.029383862243051\n",
      "    ],\n",
      "    [\n",
      "        \"1959 vs 1958\",\n",
      "        8.913801897684614\n",
      "    ],\n",
      "    [\n",
      "        \"1916 vs 1929\",\n",
      "        18.813395659162943\n",
      "    ],\n",
      "    [\n",
      "        \"1916 vs 1958\",\n",
      "        16.92897762372138\n",
      "    ],\n",
      "    [\n",
      "        \"1929 vs 1958\",\n",
      "        7.070887210428729\n",
      "    ]\n",
      "]\n"
     ]
    }
   ],
   "source": [
    "new_label_comparisons = []\n",
    "\n",
    "for comparison in dali_comparisons:\n",
    "    # Separate the first image name and the second image name\n",
    "    image1, image2 = comparison[0].split(' vs ')\n",
    "    \n",
    "    # Extract the years corresponding to the images\n",
    "    year1 = artist_images[image1]['year']\n",
    "    year2 = artist_images[image2]['year']\n",
    "    \n",
    "    # Create a new key with the years instead of image names\n",
    "    new_key = f\"{year1} vs {year2}\"\n",
    "    new_label_comparisons.append((new_key, comparison[1]))\n",
    "\n",
    "print(len(new_label_comparisons))\n",
    "print(json.dumps(new_label_comparisons, indent=4))"
   ]
  },
  {
   "cell_type": "code",
   "execution_count": 59,
   "metadata": {},
   "outputs": [
    {
     "name": "stdout",
     "output_type": "stream",
     "text": [
      "55\n",
      "[\n",
      "    [\n",
      "        \"1931 vs 1939\",\n",
      "        78.20215788646527\n",
      "    ],\n",
      "    [\n",
      "        \"1931 vs 1954\",\n",
      "        66.53017363787774\n",
      "    ],\n",
      "    [\n",
      "        \"1931 vs 1929\",\n",
      "        70.82339583419684\n",
      "    ],\n",
      "    [\n",
      "        \"1931 vs 1951\",\n",
      "        83.75574885118672\n",
      "    ],\n",
      "    [\n",
      "        \"1931 vs 1958\",\n",
      "        84.35006192494944\n",
      "    ],\n",
      "    [\n",
      "        \"1931 vs 1914\",\n",
      "        97.20703751178452\n",
      "    ],\n",
      "    [\n",
      "        \"1931 vs 1959\",\n",
      "        90.09900712015103\n",
      "    ],\n",
      "    [\n",
      "        \"1931 vs 1916\",\n",
      "        134.79621107411097\n",
      "    ],\n",
      "    [\n",
      "        \"1931 vs 1929\",\n",
      "        77.9287422272738\n",
      "    ],\n",
      "    [\n",
      "        \"1931 vs 1958\",\n",
      "        85.44603155550706\n",
      "    ],\n",
      "    [\n",
      "        \"1939 vs 1954\",\n",
      "        80.58923384995383\n",
      "    ],\n",
      "    [\n",
      "        \"1939 vs 1929\",\n",
      "        85.20352671486567\n",
      "    ],\n",
      "    [\n",
      "        \"1939 vs 1951\",\n",
      "        72.38279727096929\n",
      "    ],\n",
      "    [\n",
      "        \"1939 vs 1958\",\n",
      "        81.54677192708043\n",
      "    ],\n",
      "    [\n",
      "        \"1939 vs 1914\",\n",
      "        105.01524375423098\n",
      "    ],\n",
      "    [\n",
      "        \"1939 vs 1959\",\n",
      "        81.90612740628737\n",
      "    ],\n",
      "    [\n",
      "        \"1939 vs 1916\",\n",
      "        113.79823613837898\n",
      "    ],\n",
      "    [\n",
      "        \"1939 vs 1929\",\n",
      "        74.548692299013\n",
      "    ],\n",
      "    [\n",
      "        \"1939 vs 1958\",\n",
      "        66.18765781578584\n",
      "    ],\n",
      "    [\n",
      "        \"1954 vs 1929\",\n",
      "        52.961206304642566\n",
      "    ],\n",
      "    [\n",
      "        \"1954 vs 1951\",\n",
      "        63.46090473016052\n",
      "    ],\n",
      "    [\n",
      "        \"1954 vs 1958\",\n",
      "        86.28290359731582\n",
      "    ],\n",
      "    [\n",
      "        \"1954 vs 1914\",\n",
      "        83.07421594546008\n",
      "    ],\n",
      "    [\n",
      "        \"1954 vs 1959\",\n",
      "        89.29052931162633\n",
      "    ],\n",
      "    [\n",
      "        \"1954 vs 1916\",\n",
      "        131.0508544841971\n",
      "    ],\n",
      "    [\n",
      "        \"1954 vs 1929\",\n",
      "        80.33141294100525\n",
      "    ],\n",
      "    [\n",
      "        \"1954 vs 1958\",\n",
      "        70.12459788413044\n",
      "    ],\n",
      "    [\n",
      "        \"1929 vs 1951\",\n",
      "        69.8718413215982\n",
      "    ],\n",
      "    [\n",
      "        \"1929 vs 1958\",\n",
      "        87.6729098329631\n",
      "    ],\n",
      "    [\n",
      "        \"1929 vs 1914\",\n",
      "        79.46581303118492\n",
      "    ],\n",
      "    [\n",
      "        \"1929 vs 1959\",\n",
      "        93.79338250119919\n",
      "    ],\n",
      "    [\n",
      "        \"1929 vs 1916\",\n",
      "        129.28496796578332\n",
      "    ],\n",
      "    [\n",
      "        \"1929 vs 1929\",\n",
      "        77.38868424377205\n",
      "    ],\n",
      "    [\n",
      "        \"1929 vs 1958\",\n",
      "        72.54696103927503\n",
      "    ],\n",
      "    [\n",
      "        \"1951 vs 1958\",\n",
      "        60.969040321115926\n",
      "    ],\n",
      "    [\n",
      "        \"1951 vs 1914\",\n",
      "        74.47230004574573\n",
      "    ],\n",
      "    [\n",
      "        \"1951 vs 1959\",\n",
      "        80.0554978896872\n",
      "    ],\n",
      "    [\n",
      "        \"1951 vs 1916\",\n",
      "        113.22934007307329\n",
      "    ],\n",
      "    [\n",
      "        \"1951 vs 1929\",\n",
      "        91.388694094377\n",
      "    ],\n",
      "    [\n",
      "        \"1951 vs 1958\",\n",
      "        75.94011731282608\n",
      "    ],\n",
      "    [\n",
      "        \"1958 vs 1914\",\n",
      "        80.37999045127457\n",
      "    ],\n",
      "    [\n",
      "        \"1958 vs 1959\",\n",
      "        87.26607707081007\n",
      "    ],\n",
      "    [\n",
      "        \"1958 vs 1916\",\n",
      "        113.1471920751259\n",
      "    ],\n",
      "    [\n",
      "        \"1958 vs 1929\",\n",
      "        108.83847838437205\n",
      "    ],\n",
      "    [\n",
      "        \"1958 vs 1958\",\n",
      "        92.87942972604887\n",
      "    ],\n",
      "    [\n",
      "        \"1914 vs 1959\",\n",
      "        104.2341129361642\n",
      "    ],\n",
      "    [\n",
      "        \"1914 vs 1916\",\n",
      "        120.77298254153762\n",
      "    ],\n",
      "    [\n",
      "        \"1914 vs 1929\",\n",
      "        99.48859197858116\n",
      "    ],\n",
      "    [\n",
      "        \"1914 vs 1958\",\n",
      "        103.3058266473271\n",
      "    ],\n",
      "    [\n",
      "        \"1959 vs 1916\",\n",
      "        107.80191516878234\n",
      "    ],\n",
      "    [\n",
      "        \"1959 vs 1929\",\n",
      "        99.09622041902115\n",
      "    ],\n",
      "    [\n",
      "        \"1959 vs 1958\",\n",
      "        75.89663310838971\n",
      "    ],\n",
      "    [\n",
      "        \"1916 vs 1929\",\n",
      "        130.96464554989925\n",
      "    ],\n",
      "    [\n",
      "        \"1916 vs 1958\",\n",
      "        117.25461529161176\n",
      "    ],\n",
      "    [\n",
      "        \"1929 vs 1958\",\n",
      "        74.40220736076361\n",
      "    ]\n",
      "]\n"
     ]
    }
   ],
   "source": [
    "new_label_comparisons_2 = []\n",
    "\n",
    "for comparison in total_dali_comparisons:\n",
    "    # Separate the first image name and the second image name\n",
    "    image1, image2 = comparison[0].split(' vs ')\n",
    "    \n",
    "    # Extract the years corresponding to the images\n",
    "    year1 = artist_images[image1]['year']\n",
    "    year2 = artist_images[image2]['year']\n",
    "    \n",
    "    # Create a new key with the years instead of image names\n",
    "    new_key = f\"{year1} vs {year2}\"\n",
    "    new_label_comparisons_2.append((new_key, comparison[1]))\n",
    "\n",
    "print(len(new_label_comparisons_2))\n",
    "print(json.dumps(new_label_comparisons_2, indent=4))"
   ]
  },
  {
   "cell_type": "code",
   "execution_count": 26,
   "metadata": {},
   "outputs": [
    {
     "ename": "NameError",
     "evalue": "name 'new_label_comparisons' is not defined",
     "output_type": "error",
     "traceback": [
      "\u001b[0;31m---------------------------------------------------------------------------\u001b[0m",
      "\u001b[0;31mNameError\u001b[0m                                 Traceback (most recent call last)",
      "Cell \u001b[0;32mIn[26], line 9\u001b[0m\n\u001b[1;32m      6\u001b[0m     \u001b[38;5;28;01mreturn\u001b[39;00m year_difference\n\u001b[1;32m      8\u001b[0m \u001b[38;5;66;03m# Sort the comparisons based on the difference between the years of the images\u001b[39;00m\n\u001b[0;32m----> 9\u001b[0m sorted_label_comparisons \u001b[38;5;241m=\u001b[39m \u001b[38;5;28msorted\u001b[39m(\u001b[43mnew_label_comparisons\u001b[49m, key\u001b[38;5;241m=\u001b[39msort_by_year_difference)\n\u001b[1;32m     11\u001b[0m \u001b[38;5;66;03m# Print the sorted comparisons\u001b[39;00m\n\u001b[1;32m     12\u001b[0m \u001b[38;5;28mprint\u001b[39m(json\u001b[38;5;241m.\u001b[39mdumps(sorted_label_comparisons, indent\u001b[38;5;241m=\u001b[39m\u001b[38;5;241m4\u001b[39m))\n",
      "\u001b[0;31mNameError\u001b[0m: name 'new_label_comparisons' is not defined"
     ]
    }
   ],
   "source": [
    "def sort_by_year_difference(item):\n",
    "    # Extract the years from the comparison key\n",
    "    year1, year2 = map(int, item[0].split(' vs '))\n",
    "    # Calculate the absolute difference between the years\n",
    "    year_difference = abs(year1 - year2)\n",
    "    return year_difference\n",
    "\n",
    "# Sort the comparisons based on the difference between the years of the images\n",
    "sorted_label_comparisons = sorted(new_label_comparisons, key=sort_by_year_difference)\n",
    "\n",
    "# Print the sorted comparisons\n",
    "print(json.dumps(sorted_label_comparisons, indent=4))"
   ]
  },
  {
   "cell_type": "code",
   "execution_count": 60,
   "metadata": {},
   "outputs": [
    {
     "name": "stdout",
     "output_type": "stream",
     "text": [
      "[\n",
      "    [\n",
      "        \"1929 vs 1929\",\n",
      "        77.38868424377205\n",
      "    ],\n",
      "    [\n",
      "        \"1958 vs 1958\",\n",
      "        92.87942972604887\n",
      "    ],\n",
      "    [\n",
      "        \"1958 vs 1959\",\n",
      "        87.26607707081007\n",
      "    ],\n",
      "    [\n",
      "        \"1959 vs 1958\",\n",
      "        75.89663310838971\n",
      "    ],\n",
      "    [\n",
      "        \"1931 vs 1929\",\n",
      "        70.82339583419684\n",
      "    ],\n",
      "    [\n",
      "        \"1931 vs 1929\",\n",
      "        77.9287422272738\n",
      "    ],\n",
      "    [\n",
      "        \"1914 vs 1916\",\n",
      "        120.77298254153762\n",
      "    ],\n",
      "    [\n",
      "        \"1954 vs 1951\",\n",
      "        63.46090473016052\n",
      "    ],\n",
      "    [\n",
      "        \"1954 vs 1958\",\n",
      "        86.28290359731582\n",
      "    ],\n",
      "    [\n",
      "        \"1954 vs 1958\",\n",
      "        70.12459788413044\n",
      "    ],\n",
      "    [\n",
      "        \"1954 vs 1959\",\n",
      "        89.29052931162633\n",
      "    ],\n",
      "    [\n",
      "        \"1951 vs 1958\",\n",
      "        60.969040321115926\n",
      "    ],\n",
      "    [\n",
      "        \"1951 vs 1958\",\n",
      "        75.94011731282608\n",
      "    ],\n",
      "    [\n",
      "        \"1931 vs 1939\",\n",
      "        78.20215788646527\n",
      "    ],\n",
      "    [\n",
      "        \"1951 vs 1959\",\n",
      "        80.0554978896872\n",
      "    ],\n",
      "    [\n",
      "        \"1939 vs 1929\",\n",
      "        85.20352671486567\n",
      "    ],\n",
      "    [\n",
      "        \"1939 vs 1929\",\n",
      "        74.548692299013\n",
      "    ],\n",
      "    [\n",
      "        \"1939 vs 1951\",\n",
      "        72.38279727096929\n",
      "    ],\n",
      "    [\n",
      "        \"1929 vs 1916\",\n",
      "        129.28496796578332\n",
      "    ],\n",
      "    [\n",
      "        \"1916 vs 1929\",\n",
      "        130.96464554989925\n",
      "    ],\n",
      "    [\n",
      "        \"1931 vs 1916\",\n",
      "        134.79621107411097\n",
      "    ],\n",
      "    [\n",
      "        \"1939 vs 1954\",\n",
      "        80.58923384995383\n",
      "    ],\n",
      "    [\n",
      "        \"1929 vs 1914\",\n",
      "        79.46581303118492\n",
      "    ],\n",
      "    [\n",
      "        \"1914 vs 1929\",\n",
      "        99.48859197858116\n",
      "    ],\n",
      "    [\n",
      "        \"1931 vs 1914\",\n",
      "        97.20703751178452\n",
      "    ],\n",
      "    [\n",
      "        \"1939 vs 1958\",\n",
      "        81.54677192708043\n",
      "    ],\n",
      "    [\n",
      "        \"1939 vs 1958\",\n",
      "        66.18765781578584\n",
      "    ],\n",
      "    [\n",
      "        \"1931 vs 1951\",\n",
      "        83.75574885118672\n",
      "    ],\n",
      "    [\n",
      "        \"1939 vs 1959\",\n",
      "        81.90612740628737\n",
      "    ],\n",
      "    [\n",
      "        \"1929 vs 1951\",\n",
      "        69.8718413215982\n",
      "    ],\n",
      "    [\n",
      "        \"1951 vs 1929\",\n",
      "        91.388694094377\n",
      "    ],\n",
      "    [\n",
      "        \"1931 vs 1954\",\n",
      "        66.53017363787774\n",
      "    ],\n",
      "    [\n",
      "        \"1939 vs 1916\",\n",
      "        113.79823613837898\n",
      "    ],\n",
      "    [\n",
      "        \"1939 vs 1914\",\n",
      "        105.01524375423098\n",
      "    ],\n",
      "    [\n",
      "        \"1954 vs 1929\",\n",
      "        52.961206304642566\n",
      "    ],\n",
      "    [\n",
      "        \"1954 vs 1929\",\n",
      "        80.33141294100525\n",
      "    ],\n",
      "    [\n",
      "        \"1931 vs 1958\",\n",
      "        84.35006192494944\n",
      "    ],\n",
      "    [\n",
      "        \"1931 vs 1958\",\n",
      "        85.44603155550706\n",
      "    ],\n",
      "    [\n",
      "        \"1931 vs 1959\",\n",
      "        90.09900712015103\n",
      "    ],\n",
      "    [\n",
      "        \"1929 vs 1958\",\n",
      "        87.6729098329631\n",
      "    ],\n",
      "    [\n",
      "        \"1929 vs 1958\",\n",
      "        72.54696103927503\n",
      "    ],\n",
      "    [\n",
      "        \"1958 vs 1929\",\n",
      "        108.83847838437205\n",
      "    ],\n",
      "    [\n",
      "        \"1929 vs 1958\",\n",
      "        74.40220736076361\n",
      "    ],\n",
      "    [\n",
      "        \"1929 vs 1959\",\n",
      "        93.79338250119919\n",
      "    ],\n",
      "    [\n",
      "        \"1959 vs 1929\",\n",
      "        99.09622041902115\n",
      "    ],\n",
      "    [\n",
      "        \"1951 vs 1916\",\n",
      "        113.22934007307329\n",
      "    ],\n",
      "    [\n",
      "        \"1951 vs 1914\",\n",
      "        74.47230004574573\n",
      "    ],\n",
      "    [\n",
      "        \"1954 vs 1916\",\n",
      "        131.0508544841971\n",
      "    ],\n",
      "    [\n",
      "        \"1954 vs 1914\",\n",
      "        83.07421594546008\n",
      "    ],\n",
      "    [\n",
      "        \"1958 vs 1916\",\n",
      "        113.1471920751259\n",
      "    ],\n",
      "    [\n",
      "        \"1916 vs 1958\",\n",
      "        117.25461529161176\n",
      "    ],\n",
      "    [\n",
      "        \"1959 vs 1916\",\n",
      "        107.80191516878234\n",
      "    ],\n",
      "    [\n",
      "        \"1958 vs 1914\",\n",
      "        80.37999045127457\n",
      "    ],\n",
      "    [\n",
      "        \"1914 vs 1958\",\n",
      "        103.3058266473271\n",
      "    ],\n",
      "    [\n",
      "        \"1914 vs 1959\",\n",
      "        104.2341129361642\n",
      "    ]\n",
      "]\n"
     ]
    }
   ],
   "source": [
    "total_sorted_label_comparisons = sorted(new_label_comparisons_2, key=sort_by_year_difference)\n",
    "print(json.dumps(total_sorted_label_comparisons, indent=4))"
   ]
  },
  {
   "cell_type": "code",
   "execution_count": 47,
   "metadata": {},
   "outputs": [
    {
     "data": {
      "image/png": "[encoded data removed]",
      "text/plain": [
       "<Figure size 1000x600 with 1 Axes>"
      ]
     },
     "metadata": {},
     "output_type": "display_data"
    },
    {
     "name": "stdout",
     "output_type": "stream",
     "text": [
      "Centroids: [[12.86476156]]\n"
     ]
    }
   ],
   "source": [
    "visualize_comparisons(sorted_label_comparisons)"
   ]
  },
  {
   "cell_type": "code",
   "execution_count": 91,
   "metadata": {},
   "outputs": [],
   "source": [
    "def visualize_comparisons_modified(comparisons):\n",
    "    # Extract the image names and differences from the comparisons\n",
    "    image_pairs = [comparison[0] for comparison in comparisons]\n",
    "    differences = [comparison[1] for comparison in comparisons]\n",
    "\n",
    "    # Reshape differences for KMeans clustering\n",
    "    differences_array = [[diff] for diff in differences]\n",
    "\n",
    "    # Perform KMeans clustering\n",
    "    kmeans = KMeans(n_clusters=1)\n",
    "    kmeans.fit(differences_array)\n",
    "    centroids = kmeans.cluster_centers_\n",
    "    labels = kmeans.labels_\n",
    "\n",
    "    min_year_diff = 0\n",
    "    max_year_diff = 48\n",
    "\n",
    "    # Plot the differences\n",
    "    plt.figure(figsize=(10, 6))\n",
    "    plt.scatter(range(len(differences)), differences, c=labels, cmap='viridis', alpha=0.5)\n",
    "    plt.scatter(range(len(centroids)), centroids, marker='x', color='red')\n",
    "\n",
    "    # Draw horizontal lines passing through each centroid\n",
    "    for centroid in centroids:\n",
    "        plt.axhline(y=centroid, color='gray', linestyle='--')\n",
    "\n",
    "    # Annotate points with image comparison labels\n",
    "    for i, (pair, diff) in enumerate(zip(image_pairs, differences)):\n",
    "        plt.annotate(pair, (i, diff), textcoords=\"offset points\", xytext=(0, -10), ha='center', fontsize=6)  # Adjust fontsize here\n",
    "\n",
    "    # Calculate and plot the best fit line\n",
    "    x = range(len(differences))\n",
    "    x = np.array(x).reshape(-1, 1)\n",
    "    model = LinearRegression()\n",
    "    model.fit(x, differences)\n",
    "    y_pred = model.predict(x)\n",
    "    plt.plot(x, y_pred, color='blue')\n",
    "\n",
    "    plt.title('Image Comparisons - Picasso Portfolio - Year Based')\n",
    "    plt.xlabel('Comparison Index')\n",
    "    plt.ylabel('Dissimilarity')\n",
    "    plt.xticks(rotation=90)  # Rotate x-axis labels for better readability\n",
    "    plt.show()\n",
    "\n",
    "    # Calculate correlation between the line and the data\n",
    "    correlation = np.corrcoef(differences, y_pred.reshape(-1))[0, 1]\n",
    "    print(\"Correlation between the line and the data:\", correlation)\n",
    "\n",
    "    # Calculate the slope of the line\n",
    "    slope = model.coef_[0]\n",
    "    print(\"Slope of the line:\", slope)\n",
    "\n",
    "    print(\"Centroids:\", centroids)\n"
   ]
  },
  {
   "cell_type": "code",
   "execution_count": 87,
   "metadata": {},
   "outputs": [],
   "source": [
    "def visualize_comparisons_artists(comparisons):\n",
    "    # Extract the image names and differences from the comparisons\n",
    "    image_pairs = [comparison[0] for comparison in comparisons]\n",
    "    differences = [comparison[1] for comparison in comparisons]\n",
    "\n",
    "    # Extract the absolute year differences\n",
    "    year_diffs = []\n",
    "\n",
    "    for i in range(len(comparisons)):\n",
    "\n",
    "        # extracting year 1 and year 2 from comparisons index 1\n",
    "        image_diff_tuple = comparisons[i]\n",
    "        image_names = image_diff_tuple[0]\n",
    "        image_years = image_names.split(\" vs \")\n",
    "        year1 = int(image_years[0])\n",
    "        year2 = int(image_years[1])\n",
    "        year_diffs.append(abs(year1 - year2))\n",
    "\n",
    "    # Plot the differences against similarity\n",
    "    plt.figure(figsize=(10, 6))\n",
    "    plt.scatter(year_diffs, differences, alpha=0.5)\n",
    "\n",
    "    # Calculate and plot the best fit line\n",
    "    x = np.array(year_diffs).reshape(-1, 1)\n",
    "    y = np.array(differences)\n",
    "    model = np.polyfit(year_diffs, differences, 1)\n",
    "    y_pred = np.polyval(model, year_diffs)\n",
    "    plt.plot(year_diffs, y_pred, color='red')\n",
    "\n",
    "    plt.title('Image Similarity vs. Absolute Year Difference')\n",
    "    plt.xlabel('Absolute Year Difference')\n",
    "    plt.ylabel('Similarity')\n",
    "    plt.xticks(rotation=90)  # Rotate x-axis labels for better readability\n",
    "    plt.grid(True)\n",
    "    plt.show()\n",
    "\n",
    "    correlation = np.corrcoef(differences, y_pred.reshape(-1))[0, 1]\n",
    "    print(\"Correlation between the line and the data:\", correlation)\n",
    "\n",
    "    # Calculate the slope of the line\n",
    "    slope = model[0]\n",
    "    print(\"Slope of the line:\", slope)"
   ]
  },
  {
   "cell_type": "code",
   "execution_count": 68,
   "metadata": {},
   "outputs": [
    {
     "data": {
      "image/png": "[encoded data removed]",
      "text/plain": [
       "<Figure size 1000x600 with 1 Axes>"
      ]
     },
     "metadata": {},
     "output_type": "display_data"
    },
    {
     "name": "stdout",
     "output_type": "stream",
     "text": [
      "Centroids: [[89.24912633]]\n"
     ]
    }
   ],
   "source": [
    "visualize_comparisons_modified(total_sorted_label_comparisons)"
   ]
  },
  {
   "cell_type": "markdown",
   "metadata": {},
   "source": [
    "#### Above graph shows that the difference in similiarty between works by the same artist increases as the difference in the years in whcih they were painted. This makes sense since artist's for example are more likely to paint similar images in their 20s or 50s rather than paint 2 similar images - one in their 20s and the other in their 50s. \n",
    "\n",
    "#### This serves as a domain-specific verification that our similarity function is able to qunatify these intersectional motifs within art in a consistent manner."
   ]
  },
  {
   "cell_type": "markdown",
   "metadata": {},
   "source": [
    "# Final Version of Code"
   ]
  },
  {
   "cell_type": "markdown",
   "metadata": {},
   "source": [
    "### Final Version of Getting Valid Attributes from Images with Trouble Shooting"
   ]
  },
  {
   "cell_type": "markdown",
   "metadata": {},
   "source": [
    "#### function to validate attributes - replace new ones with predefined ones"
   ]
  },
  {
   "cell_type": "code",
   "execution_count": 30,
   "metadata": {},
   "outputs": [],
   "source": [
    "def final_validate_attributes(attributes_dict, predefined_list):\n",
    "    for key, values in attributes_dict.items():\n",
    "        # Filter out invalid values\n",
    "        valid_values = [value for value in values if value in predefined_list[key]]\n",
    "        \n",
    "        # If there are missing values, append predefined values at the end\n",
    "        if len(valid_values) < len(values):\n",
    "            # Get the predefined values that are not in valid_values\n",
    "            missing_values = [value for value in predefined_list[key] if value not in valid_values]\n",
    "            \n",
    "            # Append the missing values at the end of valid_values\n",
    "            valid_values.extend(missing_values[:len(values)-len(valid_values)])\n",
    "        \n",
    "        # Replace the original values with the valid values\n",
    "        attributes_dict[key] = valid_values\n",
    "\n",
    "    return attributes_dict\n"
   ]
  },
  {
   "cell_type": "markdown",
   "metadata": {},
   "source": [
    "#### function to validate the formatting of attribute contents before loading into JSON"
   ]
  },
  {
   "cell_type": "code",
   "execution_count": 31,
   "metadata": {},
   "outputs": [],
   "source": [
    "def final_validate_attributes_content(attribute_content):\n",
    "    if '```json' in attribute_content:\n",
    "        attribute_content = attribute_content.replace('```json', '')\n",
    "        attribute_content = attribute_content.replace('```', '')\n",
    "    \n",
    "    # Find the first occurrence of '{' and the last occurrence of '}'\n",
    "    start_index = attribute_content.find('{')\n",
    "    end_index = attribute_content.rfind('}')\n",
    "\n",
    "    # If '{' and '}' are found, slice the string to include only the content within these brackets\n",
    "    if start_index != 0 and end_index != len(attribute_content) - 1:\n",
    "        attribute_content = attribute_content[start_index:end_index+1]\n",
    "\n",
    "    try:\n",
    "        json.loads(attribute_content)\n",
    "    except json.JSONDecodeError:\n",
    "        return '{}'\n",
    "    \n",
    "    return attribute_content"
   ]
  },
  {
   "cell_type": "markdown",
   "metadata": {},
   "source": [
    "#### Final function to get pre-defined attributes from description of images"
   ]
  },
  {
   "cell_type": "code",
   "execution_count": 32,
   "metadata": {},
   "outputs": [],
   "source": [
    "def final_description_to_all_attributes(description):\n",
    "\n",
    "    predefined_list = {\n",
    "        'Color Palette': ['Vibrant', 'Monochromatic', 'Pastel', 'Earthy', 'Neon', 'Muted', 'Bold'],\n",
    "        'Subject Matter': ['Landscape', 'Portrait', 'Still life', 'Abstract', 'Urban', 'Nature', 'Architecture'],\n",
    "        'Mood/Emotion': ['Serene', 'Energetic', 'Melancholic', 'Joyful', 'Mysterious', 'Peaceful', 'Dramatic'],\n",
    "        'Style/Aesthetic': ['Realism', 'Impressionism', 'Surrealism', 'Minimalism', 'Expressionism', 'Cubism', 'Romanticism'],\n",
    "        'Setting/Location': ['Cityscape', 'Countryside', 'Beach', 'Forest', 'Mountains', 'Urban', 'Rural'],\n",
    "        'Time Period': ['Contemporary', 'Renaissance', 'Medieval', 'Modern', 'Ancient', 'Futuristic', 'Victorian'],\n",
    "        'Cultural/Symbolic Representation': ['Religious', 'Political', 'Mythological', 'Historical', 'Indigenous', 'Pop culture', 'Folklore']\n",
    "    }\n",
    "\n",
    "\n",
    "    response = client.chat.completions.create(\n",
    "        model = \"gpt-4-turbo\",\n",
    "        messages=[\n",
    "            {\n",
    "                \"role\": \"system\",\n",
    "                \"content\": f\"\"\"\n",
    "                You are a machine learning model trained to extract specific attributes from a detailed \n",
    "                description of an image. Your task is to identify and select the most appropriate label from \n",
    "                the following pre-defined set of attributes for each of the seven categories given below, and\n",
    "                represent them as key-value pairs in a Python dictionary: \n",
    "\n",
    "                1. Color Palette: Select exactly 7 labels without repetition from only the following options, \n",
    "                ordered from the most closely associated to the least associated with the image: \n",
    "                {predefined_list['Color Palette']}. \n",
    "\n",
    "                2. Subject Matter: Select exactly 7 labels without repetition from only the following options, \n",
    "                ordered from the most closely associated to the least associated with the image: \n",
    "                {predefined_list['Subject Matter']}. \n",
    "\n",
    "                3. Mood/Emotion: Select exactly 7 labels without repetition from only the following options, \n",
    "                ordered from the most closely associated to the least associated with the image: \n",
    "                {predefined_list['Mood/Emotion']}. \n",
    "\n",
    "                4. Style/Aesthetic: Select exactly 7 labels without repetition from ONLY the following options, \n",
    "                ordered from the most closely associated to the least associated with the image: \n",
    "                {predefined_list['Style/Aesthetic']}. \n",
    "\n",
    "                5. Setting/Location: Select exactly 7 labels without repetition from only the following options, \n",
    "                ordered from the most closely associated to the least associated with the image: \n",
    "                {predefined_list['Setting/Location']}. \n",
    "\n",
    "                6. Time Period: Select exactly 7 labels without repetition from only the following options, \n",
    "                ordered from the most closely associated to the least associated with the image: \n",
    "                {predefined_list['Time Period']}.\n",
    "\n",
    "                7. Cultural/Symbolic Representation: Select Exactly 7 labels without repetition from only the \n",
    "                following options, ordered from the most closely associated to the least associated with the image: \n",
    "                {predefined_list['Cultural/Symbolic Representation']}\n",
    "\n",
    "                Please provide your output in the following format:  \n",
    "                {{'Color Palette': ['most associated label', ..., 'least associated label'],  \n",
    "                'Subject Matter': ['most associated label', ..., 'least associated label'],  \n",
    "                'Mood/Emotion': ['most associated label', ..., 'least associated label'], \n",
    "                'Style/Aesthetic': ['most associated label', ..., 'least associated label'],  \n",
    "                'Setting/Location': ['most associated label', ..., 'least associated label'],  \n",
    "                'Time Period': ['most associated label', ..., 'least associated label'],  \n",
    "                'Cultural/Symbolic Representation': ['most associated label', ..., 'least associated label']}}. \n",
    "\n",
    "                If an attribute is not obvious, infer from the context of the description an attribute, \n",
    "                don't use 'none' or 'not specified' as an attribute. Remember, you MUST ONLY select attribute values from the provided\n",
    "                list of options. DO NOT assign any attribute that is not present in the pre-defined attributes. I repeat - no label in the result should be outside the predefined \n",
    "                set of labels for each attribute. Format the output in double quotations so it can be \n",
    "                converted into an object with json. The description is as follows:\"\"\" + description\n",
    "            }\n",
    "        ],\n",
    "        max_tokens=500,\n",
    "    )\n",
    "    \n",
    "    attributes_content = response.choices[0].message.content\n",
    "    attributes_content = final_validate_attributes_content(attributes_content)\n",
    "\n",
    "    try:\n",
    "        attributes_dict = json.loads(attributes_content)\n",
    "    except json.JSONDecodeError:\n",
    "        attributes_dict = '{}'\n",
    "    \n",
    "    attributes_dict = final_validate_attributes(attributes_dict, predefined_list)\n",
    "\n",
    "    return attributes_dict"
   ]
  },
  {
   "cell_type": "code",
   "execution_count": 33,
   "metadata": {},
   "outputs": [],
   "source": [
    "def final_get_image_description_labels(images):\n",
    "    image_description_labels = {}\n",
    "    i = 0\n",
    "    for image_name, image_info in images.items():\n",
    "        description = image_to_text(image_info['url'])\n",
    "        attributes = final_description_to_all_attributes(description)\n",
    "        image_description_labels[image_name] = attributes\n",
    "        i = i + 1\n",
    "        print(\"Image Processed: \", i)\n",
    "    return image_description_labels\n",
    "\n",
    "def final_calculate_total_image_comparisons(image_description_labels, model):\n",
    "    comparisons = []\n",
    "    highest_similarity_pair = None\n",
    "    lowest_similarity_pair = None\n",
    "    highest_similarity = float('-inf')\n",
    "    lowest_similarity = float('inf')\n",
    "    \n",
    "    for image1, image2 in combinations(image_description_labels.keys(), 2):\n",
    "        difference = calculate_total_similarity(image_description_labels[image1], image_description_labels[image2], model)\n",
    "        comparisons.append((f\"{image1} vs {image2}\", difference))\n",
    "        \n",
    "        # Update highest and lowest similarity pair\n",
    "        if difference > highest_similarity:\n",
    "            highest_similarity = difference\n",
    "            highest_similarity_pair = (image1, image2)\n",
    "        if difference < lowest_similarity:\n",
    "            lowest_similarity = difference\n",
    "            lowest_similarity_pair = (image1, image2)\n",
    "    \n",
    "    return comparisons, highest_similarity_pair, lowest_similarity_pair\n",
    "\n",
    "def final_calculate_label_comparisons(image_description_labels, label, model):\n",
    "    comparisons = []\n",
    "    highest_similarity_pair = None\n",
    "    lowest_similarity_pair = None\n",
    "    highest_similarity = float('-inf')\n",
    "    lowest_similarity = float('inf')\n",
    "    \n",
    "    for image1, image2 in combinations(image_description_labels.keys(), 2):\n",
    "        difference = calculate_label_dissimilarity(image_description_labels[image1], image_description_labels[image2], label, model)\n",
    "        comparisons.append((f\"{image1} vs {image2}\", difference))\n",
    "        \n",
    "        # Update highest and lowest similarity pair\n",
    "        if difference > highest_similarity:\n",
    "            highest_similarity = difference\n",
    "            highest_similarity_pair = (image1, image2)\n",
    "        if difference < lowest_similarity:\n",
    "            lowest_similarity = difference\n",
    "            lowest_similarity_pair = (image1, image2)\n",
    "    \n",
    "    return comparisons, highest_similarity_pair, lowest_similarity_pair\n"
   ]
  },
  {
   "cell_type": "markdown",
   "metadata": {},
   "source": [
    "# Demonstration Code"
   ]
  },
  {
   "cell_type": "markdown",
   "metadata": {},
   "source": [
    "## Start: Comparing Images from the Same Artist Across Years"
   ]
  },
  {
   "cell_type": "code",
   "execution_count": 34,
   "metadata": {},
   "outputs": [
    {
     "name": "stdout",
     "output_type": "stream",
     "text": [
      "Found 19 images by Pablo Picasso:\n",
      "Self-Portrait: {'url': 'https://uploads3.wikiart.org/images/pablo-picasso/self-portrait-1896.jpg!Large.jpg', 'year': 1896}\n",
      "Portrait of woman in d`hermine pass (Olga): {'url': 'https://uploads0.wikiart.org/images/pablo-picasso/untitled-1937-8.jpg!Large.jpg', 'year': 1923}\n",
      "Science and Charity: {'url': 'https://uploads0.wikiart.org/images/pablo-picasso/science-and-charity-1897.jpg!Large.jpg', 'year': 1897}\n",
      "Child with dove: {'url': 'https://uploads5.wikiart.org/images/pablo-picasso/child-with-dove-1901.jpg!Large.jpg', 'year': 1901}\n",
      "The picador: {'url': 'https://uploads1.wikiart.org/images/pablo-picasso/the-picador-1890.jpg!Large.jpg', 'year': 1890}\n",
      "First Communion: {'url': 'https://uploads5.wikiart.org/00451/images/pablo-picasso/1900first-communion.jpg!Large.jpg', 'year': 1896}\n",
      "Plaster male torso: {'url': 'https://uploads8.wikiart.org/images/pablo-picasso/plaster-male-torso-1893.jpg!Large.jpg', 'year': 1893}\n",
      "Academical study: {'url': 'https://uploads1.wikiart.org/images/pablo-picasso/academical-study.jpg!Large.jpg', 'year': 1895}\n",
      "Girl on the ball: {'url': 'https://uploads6.wikiart.org/images/pablo-picasso/girl-on-the-ball-1905.jpg!Large.jpg', 'year': 1905}\n",
      "The barefoot girl: {'url': 'https://uploads7.wikiart.org/images/pablo-picasso/the-barefoot-girl-1895.jpg!Large.jpg', 'year': 1895}\n",
      "The girls of Avignon: {'url': 'https://uploads2.wikiart.org/00492/images/pablo-picasso/les-demoiselles-d-avignon-1907.jpg!Large.jpg', 'year': 1907}\n",
      "Portrait of Dora Maar: {'url': 'https://uploads4.wikiart.org/images/pablo-picasso/portrait-of-dora-maar-1937-1.jpg!Large.jpg', 'year': 1937}\n",
      "Portrait of aunt Pepa: {'url': 'https://uploads2.wikiart.org/images/pablo-picasso/portrait-of-aunt-pepa-1896.jpg!Large.jpg', 'year': 1896}\n",
      "A rooster: {'url': 'https://uploads1.wikiart.org/images/pablo-picasso/a-rooster-1938-1.jpg!Large.jpg', 'year': 1938}\n",
      "Portrait of Ambroise Vollard: {'url': 'https://uploads0.wikiart.org/images/pablo-picasso/portrait-of-ambroise-vollard-1910.jpg!Large.jpg', 'year': 1910}\n",
      "Bust of young man: {'url': 'https://uploads2.wikiart.org/images/pablo-picasso/bust-of-young-man.jpg!Large.jpg', 'year': 1895}\n",
      "Mother and Child: {'url': 'https://uploads6.wikiart.org/images/pablo-picasso/mother-and-child-1905.jpg!Large.jpg', 'year': 1905}\n",
      "The old fisherman: {'url': 'https://uploads7.wikiart.org/images/pablo-picasso/the-old-fisherman-1895.jpg!Large.jpg', 'year': 1895}\n",
      "Girl in Front of Mirror: {'url': 'https://uploads4.wikiart.org/images/pablo-picasso/girl-in-front-of-mirror-1932.jpg!Large.jpg', 'year': 1932}\n"
     ]
    }
   ],
   "source": [
    "# Putting Artist that whose images are to be compared\n",
    "artist_name = \"Pablo Picasso\"\n",
    "picasso_images = get_images_from_most_viewed(artist_name)\n",
    "\n",
    "if picasso_images:\n",
    "    print(f\"Found {len(picasso_images)} images by {artist_name}:\")\n",
    "    for name, url in picasso_images.items():\n",
    "        print(f\"{name}: {url}\")"
   ]
  },
  {
   "cell_type": "code",
   "execution_count": 35,
   "metadata": {},
   "outputs": [
    {
     "name": "stdout",
     "output_type": "stream",
     "text": [
      "Image Processed:  1\n",
      "Image Processed:  2\n",
      "Image Processed:  3\n",
      "Image Processed:  4\n",
      "Image Processed:  5\n",
      "Image Processed:  6\n",
      "Image Processed:  7\n",
      "Image Processed:  8\n",
      "Image Processed:  9\n",
      "Image Processed:  10\n",
      "Image Processed:  11\n",
      "Image Processed:  12\n",
      "Image Processed:  13\n",
      "Image Processed:  14\n",
      "Image Processed:  15\n",
      "Image Processed:  16\n",
      "Image Processed:  17\n",
      "Image Processed:  18\n",
      "Image Processed:  19\n"
     ]
    }
   ],
   "source": [
    "# getting differences between all images in the artist's portfolio across all attributes\n",
    "picasso_image_descriptions = final_get_image_description_labels(picasso_images)"
   ]
  },
  {
   "cell_type": "code",
   "execution_count": 36,
   "metadata": {},
   "outputs": [
    {
     "name": "stdout",
     "output_type": "stream",
     "text": [
      "[('Self-Portrait vs Portrait of woman in d`hermine pass (Olga)', 111.28688525836843), ('Self-Portrait vs Science and Charity', 70.84528054211094), ('Self-Portrait vs Child with dove', 66.64677628350458), ('Self-Portrait vs The picador', 93.52534552232976), ('Self-Portrait vs First Communion', 66.6786773817012), ('Self-Portrait vs Plaster male torso', 78.46712746887825), ('Self-Portrait vs Academical study', 51.13965768404702), ('Self-Portrait vs Girl on the ball', 76.2048194364931), ('Self-Portrait vs The barefoot girl', 70.26907601339816), ('Self-Portrait vs The girls of Avignon', 98.45421853808551), ('Self-Portrait vs Portrait of Dora Maar', 110.91556492982987), ('Self-Portrait vs Portrait of aunt Pepa', 72.3931265738972), ('Self-Portrait vs A rooster', 109.78941546125635), ('Self-Portrait vs Portrait of Ambroise Vollard', 95.48873452138838), ('Self-Portrait vs Bust of young man', 88.39408136455715), ('Self-Portrait vs Mother and Child', 76.6609622377357), ('Self-Portrait vs The old fisherman', 76.37534548411608), ('Self-Portrait vs Girl in Front of Mirror', 115.51273384342998), ('Portrait of woman in d`hermine pass (Olga) vs Science and Charity', 112.86537107974195), ('Portrait of woman in d`hermine pass (Olga) vs Child with dove', 116.60542068160781), ('Portrait of woman in d`hermine pass (Olga) vs The picador', 84.98299281793689), ('Portrait of woman in d`hermine pass (Olga) vs First Communion', 112.75059442483752), ('Portrait of woman in d`hermine pass (Olga) vs Plaster male torso', 95.6257356463031), ('Portrait of woman in d`hermine pass (Olga) vs Academical study', 108.79521542573274), ('Portrait of woman in d`hermine pass (Olga) vs Girl on the ball', 137.3406083056187), ('Portrait of woman in d`hermine pass (Olga) vs The barefoot girl', 130.68488014618822), ('Portrait of woman in d`hermine pass (Olga) vs The girls of Avignon', 80.2908379598102), ('Portrait of woman in d`hermine pass (Olga) vs Portrait of Dora Maar', 73.4580288240817), ('Portrait of woman in d`hermine pass (Olga) vs Portrait of aunt Pepa', 130.65658342748694), ('Portrait of woman in d`hermine pass (Olga) vs A rooster', 95.81916117413175), ('Portrait of woman in d`hermine pass (Olga) vs Portrait of Ambroise Vollard', 73.95567306784396), ('Portrait of woman in d`hermine pass (Olga) vs Bust of young man', 76.2764252838886), ('Portrait of woman in d`hermine pass (Olga) vs Mother and Child', 105.53242439946494), ('Portrait of woman in d`hermine pass (Olga) vs The old fisherman', 128.66410415643668), ('Portrait of woman in d`hermine pass (Olga) vs Girl in Front of Mirror', 65.21467332632251), ('Science and Charity vs Child with dove', 80.78264231212431), ('Science and Charity vs The picador', 93.78869180734917), ('Science and Charity vs First Communion', 75.65429964407136), ('Science and Charity vs Plaster male torso', 83.01869765354849), ('Science and Charity vs Academical study', 62.64813418212633), ('Science and Charity vs Girl on the ball', 77.80165669211452), ('Science and Charity vs The barefoot girl', 63.97908395887435), ('Science and Charity vs The girls of Avignon', 111.33246201806915), ('Science and Charity vs Portrait of Dora Maar', 113.64328681445707), ('Science and Charity vs Portrait of aunt Pepa', 63.9465464901875), ('Science and Charity vs A rooster', 111.3202244524173), ('Science and Charity vs Portrait of Ambroise Vollard', 105.26503057640322), ('Science and Charity vs Bust of young man', 88.71649706667948), ('Science and Charity vs Mother and Child', 81.89318694373938), ('Science and Charity vs The old fisherman', 66.93860069414573), ('Science and Charity vs Girl in Front of Mirror', 127.08762251079554), ('Child with dove vs The picador', 114.00786273477846), ('Child with dove vs First Communion', 78.58509482302995), ('Child with dove vs Plaster male torso', 78.2175283046829), ('Child with dove vs Academical study', 74.66951916781441), ('Child with dove vs Girl on the ball', 76.51833310846877), ('Child with dove vs The barefoot girl', 78.22342690399331), ('Child with dove vs The girls of Avignon', 111.11871993102197), ('Child with dove vs Portrait of Dora Maar', 121.2154339350017), ('Child with dove vs Portrait of aunt Pepa', 80.97333737704668), ('Child with dove vs A rooster', 117.6130426968153), ('Child with dove vs Portrait of Ambroise Vollard', 104.90037336204328), ('Child with dove vs Bust of young man', 92.55094841924202), ('Child with dove vs Mother and Child', 75.81313538346276), ('Child with dove vs The old fisherman', 87.85323848684959), ('Child with dove vs Girl in Front of Mirror', 121.10544729441598), ('The picador vs First Communion', 94.3718120212002), ('The picador vs Plaster male torso', 91.86104541405167), ('The picador vs Academical study', 84.61951886313449), ('The picador vs Girl on the ball', 115.8597619193817), ('The picador vs The barefoot girl', 107.47341779482883), ('The picador vs The girls of Avignon', 89.38480191659224), ('The picador vs Portrait of Dora Maar', 81.6148526921003), ('The picador vs Portrait of aunt Pepa', 107.70833497758576), ('The picador vs A rooster', 95.53461091340955), ('The picador vs Portrait of Ambroise Vollard', 97.3933238294629), ('The picador vs Bust of young man', 76.24515163320743), ('The picador vs Mother and Child', 93.72636449665386), ('The picador vs The old fisherman', 109.21389129695835), ('The picador vs Girl in Front of Mirror', 92.97900141661046), ('First Communion vs Plaster male torso', 87.63981649811996), ('First Communion vs Academical study', 58.924404637948584), ('First Communion vs Girl on the ball', 82.04270599030026), ('First Communion vs The barefoot girl', 82.29966352260843), ('First Communion vs The girls of Avignon', 107.44884863253918), ('First Communion vs Portrait of Dora Maar', 110.99684412142824), ('First Communion vs Portrait of aunt Pepa', 80.96407898752543), ('First Communion vs A rooster', 113.68918500164246), ('First Communion vs Portrait of Ambroise Vollard', 103.00564904938338), ('First Communion vs Bust of young man', 103.03284935930073), ('First Communion vs Mother and Child', 80.24846552398178), ('First Communion vs The old fisherman', 88.03856206924097), ('First Communion vs Girl in Front of Mirror', 122.39629573843939), ('Plaster male torso vs Academical study', 79.89090123276135), ('Plaster male torso vs Girl on the ball', 99.57454803886218), ('Plaster male torso vs The barefoot girl', 97.92529636428252), ('Plaster male torso vs The girls of Avignon', 67.66743114534006), ('Plaster male torso vs Portrait of Dora Maar', 91.4888389417619), ('Plaster male torso vs Portrait of aunt Pepa', 99.89787383677726), ('Plaster male torso vs A rooster', 115.13586062932686), ('Plaster male torso vs Portrait of Ambroise Vollard', 94.29746494423739), ('Plaster male torso vs Bust of young man', 71.42851262068838), ('Plaster male torso vs Mother and Child', 61.62861845132407), ('Plaster male torso vs The old fisherman', 100.15053207997738), ('Plaster male torso vs Girl in Front of Mirror', 103.60108675202719), ('Academical study vs Girl on the ball', 78.23758624473584), ('Academical study vs The barefoot girl', 72.40103596815952), ('Academical study vs The girls of Avignon', 105.3488911868137), ('Academical study vs Portrait of Dora Maar', 109.56182533421259), ('Academical study vs Portrait of aunt Pepa', 76.64338510386308), ('Academical study vs A rooster', 107.94176396265907), ('Academical study vs Portrait of Ambroise Vollard', 93.60810247225639), ('Academical study vs Bust of young man', 91.8323261994066), ('Academical study vs Mother and Child', 76.08718713537183), ('Academical study vs The old fisherman', 78.46132043508743), ('Academical study vs Girl in Front of Mirror', 123.11496491786295), ('Girl on the ball vs The barefoot girl', 64.68385382609044), ('Girl on the ball vs The girls of Avignon', 122.06387878632296), ('Girl on the ball vs Portrait of Dora Maar', 124.86261805914137), ('Girl on the ball vs Portrait of aunt Pepa', 61.20685345015224), ('Girl on the ball vs A rooster', 105.7488777922459), ('Girl on the ball vs Portrait of Ambroise Vollard', 119.07357991074996), ('Girl on the ball vs Bust of young man', 115.4824275943958), ('Girl on the ball vs Mother and Child', 81.99217858932832), ('Girl on the ball vs The old fisherman', 68.6834464011678), ('Girl on the ball vs Girl in Front of Mirror', 133.2143046719414), ('The barefoot girl vs The girls of Avignon', 121.31442722702374), ('The barefoot girl vs Portrait of Dora Maar', 121.30572042404026), ('The barefoot girl vs Portrait of aunt Pepa', 44.683792111657446), ('The barefoot girl vs A rooster', 103.7620415910357), ('The barefoot girl vs Portrait of Ambroise Vollard', 109.02094934581977), ('The barefoot girl vs Bust of young man', 99.8479007360967), ('The barefoot girl vs Mother and Child', 76.49559098006958), ('The barefoot girl vs The old fisherman', 53.89844111053024), ('The barefoot girl vs Girl in Front of Mirror', 134.73818001828062), ('The girls of Avignon vs Portrait of Dora Maar', 79.25297469599082), ('The girls of Avignon vs Portrait of aunt Pepa', 110.14836872056995), ('The girls of Avignon vs A rooster', 101.44363371249557), ('The girls of Avignon vs Portrait of Ambroise Vollard', 88.16308838299307), ('The girls of Avignon vs Bust of young man', 65.16613502058671), ('The girls of Avignon vs Mother and Child', 88.55365511910047), ('The girls of Avignon vs The old fisherman', 109.71991409564794), ('The girls of Avignon vs Girl in Front of Mirror', 78.3741969663555), ('Portrait of Dora Maar vs Portrait of aunt Pepa', 118.86240711739225), ('Portrait of Dora Maar vs A rooster', 95.26582886475444), ('Portrait of Dora Maar vs Portrait of Ambroise Vollard', 61.390821741003116), ('Portrait of Dora Maar vs Bust of young man', 68.42110044463453), ('Portrait of Dora Maar vs Mother and Child', 103.10774789974266), ('Portrait of Dora Maar vs The old fisherman', 117.51781367639867), ('Portrait of Dora Maar vs Girl in Front of Mirror', 65.13863711181774), ('Portrait of aunt Pepa vs A rooster', 101.54328114848721), ('Portrait of aunt Pepa vs Portrait of Ambroise Vollard', 108.75994520999976), ('Portrait of aunt Pepa vs Bust of young man', 92.14947315379207), ('Portrait of aunt Pepa vs Mother and Child', 74.40620801015817), ('Portrait of aunt Pepa vs The old fisherman', 45.8552675751325), ('Portrait of aunt Pepa vs Girl in Front of Mirror', 126.62019599335925), ('A rooster vs Portrait of Ambroise Vollard', 94.9087345232587), ('A rooster vs Bust of young man', 97.84523110927535), ('A rooster vs Mother and Child', 120.8706622486499), ('A rooster vs The old fisherman', 105.89676446467662), ('A rooster vs Girl in Front of Mirror', 95.23229380267826), ('Portrait of Ambroise Vollard vs Bust of young man', 80.40388607548635), ('Portrait of Ambroise Vollard vs Mother and Child', 96.34574389819711), ('Portrait of Ambroise Vollard vs The old fisherman', 105.39457093578936), ('Portrait of Ambroise Vollard vs Girl in Front of Mirror', 78.7892259730841), ('Bust of young man vs Mother and Child', 82.74634813607145), ('Bust of young man vs The old fisherman', 93.78796158309908), ('Bust of young man vs Girl in Front of Mirror', 74.48466869204671), ('Mother and Child vs The old fisherman', 81.75499098631532), ('Mother and Child vs Girl in Front of Mirror', 115.4087624879171), ('The old fisherman vs Girl in Front of Mirror', 125.01195719509269)]\n",
      "[('Self-Portrait vs Portrait of woman in d`hermine pass (Olga)', 22.82686179757414), ('Self-Portrait vs Science and Charity', 7.334989525476801), ('Self-Portrait vs Child with dove', 13.162880489754532), ('Self-Portrait vs The picador', 15.008513839250742), ('Self-Portrait vs First Communion', 9.245595127043963), ('Self-Portrait vs Plaster male torso', 17.178830354174654), ('Self-Portrait vs Academical study', 7.334989525476801), ('Self-Portrait vs Girl on the ball', 10.963518928890082), ('Self-Portrait vs The barefoot girl', 11.161933417721713), ('Self-Portrait vs The girls of Avignon', 20.939925662105573), ('Self-Portrait vs Portrait of Dora Maar', 26.755879271181165), ('Self-Portrait vs Portrait of aunt Pepa', 11.233950455536927), ('Self-Portrait vs A rooster', 22.855431905992592), ('Self-Portrait vs Portrait of Ambroise Vollard', 26.755879271181165), ('Self-Portrait vs Bust of young man', 22.855431905992592), ('Self-Portrait vs Mother and Child', 15.162831377169288), ('Self-Portrait vs The old fisherman', 11.161933417721713), ('Self-Portrait vs Girl in Front of Mirror', 20.816501186761958), ('Portrait of woman in d`hermine pass (Olga) vs Science and Charity', 22.911355553687116), ('Portrait of woman in d`hermine pass (Olga) vs Child with dove', 20.784975865340257), ('Portrait of woman in d`hermine pass (Olga) vs The picador', 16.832640613328866), ('Portrait of woman in d`hermine pass (Olga) vs First Communion', 22.814786111084064), ('Portrait of woman in d`hermine pass (Olga) vs Plaster male torso', 20.82512270237001), ('Portrait of woman in d`hermine pass (Olga) vs Academical study', 22.911355553687116), ('Portrait of woman in d`hermine pass (Olga) vs Girl on the ball', 26.78821065516539), ('Portrait of woman in d`hermine pass (Olga) vs The barefoot girl', 22.694027375555095), ('Portrait of woman in d`hermine pass (Olga) vs The girls of Avignon', 9.095185329784194), ('Portrait of woman in d`hermine pass (Olga) vs Portrait of Dora Maar', 7.010270673550311), ('Portrait of woman in d`hermine pass (Olga) vs Portrait of aunt Pepa', 22.73263250615502), ('Portrait of woman in d`hermine pass (Olga) vs A rooster', 5.360749221063428), ('Portrait of woman in d`hermine pass (Olga) vs Portrait of Ambroise Vollard', 7.010270673550311), ('Portrait of woman in d`hermine pass (Olga) vs Bust of young man', 5.360749221063428), ('Portrait of woman in d`hermine pass (Olga) vs Mother and Child', 22.856826109132392), ('Portrait of woman in d`hermine pass (Olga) vs The old fisherman', 22.835082671396066), ('Portrait of woman in d`hermine pass (Olga) vs Girl in Front of Mirror', 6.8426749708903), ('Science and Charity vs Child with dove', 15.20952456989805), ('Science and Charity vs The picador', 14.900419321985677), ('Science and Charity vs First Communion', 5.360749221063428), ('Science and Charity vs Plaster male torso', 17.154400094809663), ('Science and Charity vs Academical study', 3.4999999646266984), ('Science and Charity vs Girl on the ball', 8.950850887891871), ('Science and Charity vs The barefoot girl', 9.167642401583414), ('Science and Charity vs The girls of Avignon', 22.821639602048236), ('Science and Charity vs Portrait of Dora Maar', 26.732123594076825), ('Science and Charity vs Portrait of aunt Pepa', 9.239659439398629), ('Science and Charity vs A rooster', 22.939925662105573), ('Science and Charity vs Portrait of Ambroise Vollard', 26.732123594076825), ('Science and Charity vs Bust of young man', 22.939925662105573), ('Science and Charity vs Mother and Child', 13.156788658513076), ('Science and Charity vs The old fisherman', 9.167642401583414), ('Science and Charity vs Girl in Front of Mirror', 22.71854065245317), ('Child with dove vs The picador', 20.89865496029595), ('Child with dove vs First Communion', 15.222277283571414), ('Child with dove vs Plaster male torso', 11.1281491121878), ('Child with dove vs Academical study', 15.20952456989805), ('Child with dove vs Girl on the ball', 14.856923465248652), ('Child with dove vs The barefoot girl', 15.217742639673286), ('Child with dove vs The girls of Avignon', 20.778749411483098), ('Child with dove vs Portrait of Dora Maar', 22.790023086959547), ('Child with dove vs Portrait of aunt Pepa', 13.341937941791116), ('Child with dove vs A rooster', 20.79803163214847), ('Child with dove vs Portrait of Ambroise Vollard', 22.790023086959547), ('Child with dove vs Bust of young man', 20.79803163214847), ('Child with dove vs Mother and Child', 17.13508182180651), ('Child with dove vs The old fisherman', 13.285405620967172), ('Child with dove vs Girl in Front of Mirror', 20.835976445440348), ('The picador vs First Communion', 14.871849213567222), ('The picador vs Plaster male torso', 20.868184619665957), ('The picador vs Academical study', 14.900419321985677), ('The picador vs Girl on the ball', 19.113070847388844), ('The picador vs The barefoot girl', 12.905404466733545), ('The picador vs The girls of Avignon', 13.036260145047908), ('The picador vs Portrait of Dora Maar', 20.716386897369294), ('The picador vs Portrait of aunt Pepa', 12.986152839454615), ('The picador vs A rooster', 14.966010634254145), ('The picador vs Portrait of Ambroise Vollard', 20.716386897369294), ('The picador vs Bust of young man', 14.966010634254145), ('The picador vs Mother and Child', 13.069023620340168), ('The picador vs The old fisherman', 14.864239892003198), ('The picador vs Girl in Front of Mirror', 16.81826390354462), ('First Communion vs Plaster male torso', 17.076276694395624), ('First Communion vs Academical study', 5.360749221063428), ('First Communion vs Girl on the ball', 9.0119782310411), ('First Communion vs The barefoot girl', 11.208965223675232), ('First Communion vs The girls of Avignon', 22.753640267863634), ('First Communion vs Portrait of Dora Maar', 26.787370214588062), ('First Communion vs Portrait of aunt Pepa', 11.252412153071994), ('First Communion vs A rooster', 22.843356219502517), ('First Communion vs Portrait of Ambroise Vollard', 26.787370214588062), ('First Communion vs Bust of young man', 22.843356219502517), ('First Communion vs Mother and Child', 15.128218550094623), ('First Communion vs The old fisherman', 11.180395115256777), ('First Communion vs Girl in Front of Mirror', 22.815110095056227), ('Plaster male torso vs Academical study', 17.154400094809663), ('Plaster male torso vs Girl on the ball', 16.887154218240894), ('Plaster male torso vs The barefoot girl', 17.181101371018322), ('Plaster male torso vs The girls of Avignon', 18.905231855318682), ('Plaster male torso vs Portrait of Dora Maar', 18.93285386349634), ('Plaster male torso vs Portrait of aunt Pepa', 19.122393599723697), ('Plaster male torso vs A rooster', 20.809608360759768), ('Plaster male torso vs Portrait of Ambroise Vollard', 18.93285386349634), ('Plaster male torso vs Bust of young man', 20.809608360759768), ('Plaster male torso vs Mother and Child', 17.105010349661352), ('Plaster male torso vs The old fisherman', 19.137878316714968), ('Plaster male torso vs Girl in Front of Mirror', 22.778174308673886), ('Academical study vs Girl on the ball', 8.950850887891871), ('Academical study vs The barefoot girl', 9.167642401583414), ('Academical study vs The girls of Avignon', 22.821639602048236), ('Academical study vs Portrait of Dora Maar', 26.732123594076825), ('Academical study vs Portrait of aunt Pepa', 9.239659439398629), ('Academical study vs A rooster', 22.939925662105573), ('Academical study vs Portrait of Ambroise Vollard', 26.732123594076825), ('Academical study vs Bust of young man', 22.939925662105573), ('Academical study vs Mother and Child', 13.156788658513076), ('Academical study vs The old fisherman', 9.167642401583414), ('Academical study vs Girl in Front of Mirror', 22.71854065245317), ('Girl on the ball vs The barefoot girl', 10.96597846284677), ('Girl on the ball vs The girls of Avignon', 26.91904948522862), ('Girl on the ball vs Portrait of Dora Maar', 26.909640478009223), ('Girl on the ball vs Portrait of aunt Pepa', 11.031465993669975), ('Girl on the ball vs A rooster', 26.884780097768445), ('Girl on the ball vs Portrait of Ambroise Vollard', 26.909640478009223), ('Girl on the ball vs Bust of young man', 26.884780097768445), ('Girl on the ball vs Mother and Child', 12.907272390692604), ('Girl on the ball vs The old fisherman', 10.859646047736609), ('Girl on the ball vs Girl in Front of Mirror', 26.791354417951883), ('The barefoot girl vs The girls of Avignon', 20.79564731284585), ('The barefoot girl vs Portrait of Dora Maar', 24.785532056858138), ('The barefoot girl vs Portrait of aunt Pepa', 5.375804662508867), ('The barefoot girl vs A rooster', 20.76790743237769), ('The barefoot girl vs Portrait of Ambroise Vollard', 24.785532056858138), ('The barefoot girl vs Bust of young man', 20.76790743237769), ('The barefoot girl vs Mother and Child', 7.234436073347465), ('The barefoot girl vs The old fisherman', 7.295464536601089), ('The barefoot girl vs Girl in Front of Mirror', 22.87410211678541), ('The girls of Avignon vs Portrait of Dora Maar', 10.922934327107555), ('The girls of Avignon vs Portrait of aunt Pepa', 20.86282255186423), ('The girls of Avignon vs A rooster', 7.234436073347464), ('The girls of Avignon vs Portrait of Ambroise Vollard', 10.922934327107555), ('The girls of Avignon vs Bust of young man', 7.234436073347464), ('The girls of Avignon vs Mother and Child', 20.88020580192658), ('The girls of Avignon vs The old fisherman', 22.760372386623185), ('The girls of Avignon vs Girl in Front of Mirror', 8.889927454080365), ('Portrait of Dora Maar vs Portrait of aunt Pepa', 24.779002549866128), ('Portrait of Dora Maar vs A rooster', 8.87101992998704), ('Portrait of Dora Maar vs Portrait of Ambroise Vollard', 3.4999999646266984), ('Portrait of Dora Maar vs Bust of young man', 8.87101992998704), ('Portrait of Dora Maar vs Mother and Child', 22.728820690654906), ('Portrait of Dora Maar vs The old fisherman', 24.881452715107173), ('Portrait of Dora Maar vs Girl in Front of Mirror', 9.234436073347464), ('Portrait of aunt Pepa vs A rooster', 20.835082671396066), ('Portrait of aunt Pepa vs Portrait of Ambroise Vollard', 24.779002549866128), ('Portrait of aunt Pepa vs Bust of young man', 20.835082671396066), ('Portrait of aunt Pepa vs Mother and Child', 7.293143844642089), ('Portrait of aunt Pepa vs The old fisherman', 5.347642800903704), ('Portrait of aunt Pepa vs Girl in Front of Mirror', 22.80208507897019), ('A rooster vs Portrait of Ambroise Vollard', 8.87101992998704), ('A rooster vs Bust of young man', 3.4999999646266984), ('A rooster vs Mother and Child', 20.91795345228162), ('A rooster vs The old fisherman', 22.73263250615502), ('A rooster vs Girl in Front of Mirror', 8.70342422732703), ('Portrait of Ambroise Vollard vs Bust of young man', 8.87101992998704), ('Portrait of Ambroise Vollard vs Mother and Child', 22.728820690654906), ('Portrait of Ambroise Vollard vs The old fisherman', 24.881452715107173), ('Portrait of Ambroise Vollard vs Girl in Front of Mirror', 9.234436073347464), ('Bust of young man vs Mother and Child', 20.91795345228162), ('Bust of young man vs The old fisherman', 22.73263250615502), ('Bust of young man vs Girl in Front of Mirror', 8.70342422732703), ('Mother and Child vs The old fisherman', 9.264980283896465), ('Mother and Child vs Girl in Front of Mirror', 24.75190321975897), ('The old fisherman vs Girl in Front of Mirror', 22.90453524421124)]\n",
      "('Portrait of woman in d`hermine pass (Olga)', 'Girl on the ball')\n",
      "('The barefoot girl', 'Portrait of aunt Pepa')\n",
      "('Girl on the ball', 'The girls of Avignon')\n",
      "('Science and Charity', 'Academical study')\n"
     ]
    }
   ],
   "source": [
    "total_picasso_comparisons, highest_sim_picasso_total, lowest_sim_picasso_total = final_calculate_total_image_comparisons(picasso_image_descriptions, \"bert\")\n",
    "style_picasso_comparisons, highest_sim_picasso_style, lowest_sim_picasso_style = final_calculate_label_comparisons(picasso_image_descriptions, \"Style/Aesthetic\", \"bert\")\n",
    "\n",
    "print(total_picasso_comparisons)\n",
    "print(style_picasso_comparisons)\n",
    "print(highest_sim_picasso_total)\n",
    "print(lowest_sim_picasso_total)\n",
    "print(highest_sim_picasso_style)\n",
    "print(lowest_sim_picasso_style)"
   ]
  },
  {
   "cell_type": "markdown",
   "metadata": {},
   "source": [
    "#### function to convert formatting of images to year1 vs year2"
   ]
  },
  {
   "cell_type": "code",
   "execution_count": 37,
   "metadata": {},
   "outputs": [],
   "source": [
    "def label_change_year(comparisons, artist_images):\n",
    "\n",
    "    year_comparisons = []\n",
    "\n",
    "    for comparison in comparisons:\n",
    "        # Separate the first image name and the second image name\n",
    "        image1, image2 = comparison[0].split(' vs ')\n",
    "        \n",
    "        # Extract the years corresponding to the images\n",
    "        year1 = artist_images[image1]['year']\n",
    "        year2 = artist_images[image2]['year']\n",
    "        \n",
    "        # Create a new key with the years instead of image names\n",
    "        new_key = f\"{year1} vs {year2}\"\n",
    "        year_comparisons.append((new_key, comparison[1]))\n",
    "\n",
    "    return year_comparisons"
   ]
  },
  {
   "cell_type": "markdown",
   "metadata": {},
   "source": [
    "#### function to order year based comparions object based on the difference in year"
   ]
  },
  {
   "cell_type": "code",
   "execution_count": 38,
   "metadata": {},
   "outputs": [],
   "source": [
    "def final_sort_comparisons_by_year_difference(comparisons):\n",
    "\n",
    "    def year_difference(item):\n",
    "        year1, year2 = map(int, item[0].split(' vs '))\n",
    "        return abs(year1 - year2)\n",
    "    \n",
    "    return sorted(comparisons, key=year_difference)"
   ]
  },
  {
   "cell_type": "markdown",
   "metadata": {},
   "source": [
    "#### running it all"
   ]
  },
  {
   "cell_type": "code",
   "execution_count": 113,
   "metadata": {},
   "outputs": [],
   "source": [
    "year_sorted_picasso_comparisons_total = final_sort_comparisons_by_year_difference(label_change_year(total_picasso_comparisons, picasso_images))\n",
    "# print(json.dumps(year_sorted_picasso_comparisons_total, indent=4))"
   ]
  },
  {
   "cell_type": "markdown",
   "metadata": {},
   "source": [
    "## *VISUALIZATION"
   ]
  },
  {
   "cell_type": "code",
   "execution_count": 114,
   "metadata": {},
   "outputs": [
    {
     "data": {
      "image/png": "[encoded data removed]",
      "text/plain": [
       "<Figure size 1000x600 with 1 Axes>"
      ]
     },
     "metadata": {},
     "output_type": "display_data"
    },
    {
     "name": "stdout",
     "output_type": "stream",
     "text": [
      "Correlation between the line and the data: 0.5315776454317004\n",
      "Slope of the line: 0.7275259711653045\n"
     ]
    }
   ],
   "source": [
    "#visualize_comparisons_modified(year_sorted_picasso_comparisons_total)\n",
    "visualize_comparisons_artists(year_sorted_picasso_comparisons_total)"
   ]
  },
  {
   "cell_type": "code",
   "execution_count": null,
   "metadata": {},
   "outputs": [],
   "source": [
    "year_sorted_picasso_comparisons_style = final_sort_comparisons_by_year_difference(label_change_year(style_picasso_comparisons, picasso_images))\n",
    "visualize_comparisons_artists(year_sorted_picasso_comparisons_style)"
   ]
  },
  {
   "cell_type": "markdown",
   "metadata": {},
   "source": [
    "### Conclusion - The observed positive correlation between the dissimilarity in images and the magnitude of the difference between the years in which two images were painted highlights the effectiveness of our similarity metric in accurately quantifying commonalities between images - since this supports our hypothesis that \"the difference between two images increases as the difference in years between images by the same artist increases\"."
   ]
  },
  {
   "cell_type": "markdown",
   "metadata": {},
   "source": [
    "## END : Comparing Images between Same artists."
   ]
  },
  {
   "cell_type": "markdown",
   "metadata": {},
   "source": [
    "#### "
   ]
  },
  {
   "cell_type": "markdown",
   "metadata": {},
   "source": [
    "## START: Comparing Images between Different Artists"
   ]
  },
  {
   "cell_type": "code",
   "execution_count": 95,
   "metadata": {},
   "outputs": [
    {
     "name": "stdout",
     "output_type": "stream",
     "text": [
      "Found 12 images by Raphael and Frida Kahlo:\n",
      "The School of Athens: {'url': 'https://uploads6.wikiart.org/00475/images/raphael/1-xvkpn0qm3eiqpzivkggfea.jpg!Large.jpg', 'year': 1511, 'artist': 'Raphael'}\n",
      "Madonna and Child: {'url': 'https://uploads5.wikiart.org/images/raphael/madonna-and-child.jpg!Large.jpg', 'year': 1503, 'artist': 'Raphael'}\n",
      "The Triumph of Galatea: {'url': 'https://uploads3.wikiart.org/images/raphael/galatea-detail-of-mermen-and-dolphins-1506.jpg!Large.jpg', 'year': 1512, 'artist': 'Raphael'}\n",
      "Putti, detail from The Sistine Madonna: {'url': 'https://uploads3.wikiart.org/images/raphael/putti-detail-from-the-sistine-madonna-1513.jpg!Large.jpg', 'year': 1513, 'artist': 'Raphael'}\n",
      "The Two Fridas: {'url': 'https://uploads5.wikiart.org/images/magdalena-carmen-frieda-kahlo-y-calderón-de-rivera/the-two-fridas-1939.jpg!Large.jpg', 'year': 1939, 'artist': 'Frida Kahlo'}\n",
      "The Wounded Deer: {'url': 'https://uploads7.wikiart.org/images/magdalena-carmen-frieda-kahlo-y-calderón-de-rivera/the-wounded-deer-1946.jpg!Large.jpg', 'year': 1946, 'artist': 'Frida Kahlo'}\n",
      "What the Water Gave Me: {'url': 'https://uploads4.wikiart.org/images/magdalena-carmen-frieda-kahlo-y-calderón-de-rivera/what-the-water-gave-me-1938.jpg!Large.jpg', 'year': 1938, 'artist': 'Frida Kahlo'}\n",
      "Self Portrait - Time Flies: {'url': 'https://uploads6.wikiart.org/images/magdalena-carmen-frieda-kahlo-y-calderón-de-rivera/self-portrait-time-flies-1929.jpg!Large.jpg', 'year': 1929, 'artist': 'Frida Kahlo'}\n",
      "The Dream (The Bed): {'url': 'https://uploads8.wikiart.org/images/magdalena-carmen-frieda-kahlo-y-calderón-de-rivera/the-dream-the-bed-1940.jpg!Large.jpg', 'year': 1940, 'artist': 'Frida Kahlo'}\n",
      "Frieda and Diego Rivera: {'url': 'https://uploads5.wikiart.org/images/magdalena-carmen-frieda-kahlo-y-calderón-de-rivera/frieda-and-diego-rivera-1931.jpg!Large.jpg', 'year': 1931, 'artist': 'Frida Kahlo'}\n",
      "Moses: {'url': 'https://uploads5.wikiart.org/images/magdalena-carmen-frieda-kahlo-y-calderón-de-rivera/moses-1945.jpg!Large.jpg', 'year': 1945, 'artist': 'Frida Kahlo'}\n",
      "Roots: {'url': 'https://uploads5.wikiart.org/images/magdalena-carmen-frieda-kahlo-y-calderón-de-rivera/roots-1943.jpg!Large.jpg', 'year': 1943, 'artist': 'Frida Kahlo'}\n"
     ]
    }
   ],
   "source": [
    "artist1 = \"Raphael\"\n",
    "artist2 = \"Frida Kahlo\"\n",
    "\n",
    "artist1_images = get_images_from_most_viewed(artist1)\n",
    "artist2_images = get_images_from_most_viewed(artist2)\n",
    "\n",
    "# concat artist 1  images with artist 2 images\n",
    "# add an attribute to each image which is the artist name\n",
    "\n",
    "for image_name, image_info in artist1_images.items():\n",
    "    image_info['artist'] = artist1\n",
    "\n",
    "for image_name, image_info in artist2_images.items():\n",
    "    image_info['artist'] = artist2\n",
    "\n",
    "# combine the images from both artists\n",
    "both_artist_images = {**artist1_images, **artist2_images}\n",
    "\n",
    "# print all images\n",
    "\n",
    "if both_artist_images:\n",
    "    print(f\"Found {len(both_artist_images)} images by {artist1} and {artist2}:\")\n",
    "    for name, url in both_artist_images.items():\n",
    "        print(f\"{name}: {url}\")"
   ]
  },
  {
   "cell_type": "code",
   "execution_count": 96,
   "metadata": {},
   "outputs": [
    {
     "name": "stdout",
     "output_type": "stream",
     "text": [
      "Image Processed:  1\n",
      "Image Processed:  2\n",
      "Image Processed:  3\n",
      "Image Processed:  4\n",
      "Image Processed:  5\n",
      "Image Processed:  6\n",
      "Image Processed:  7\n",
      "Image Processed:  8\n",
      "Image Processed:  9\n",
      "Image Processed:  10\n",
      "Image Processed:  11\n",
      "Image Processed:  12\n"
     ]
    }
   ],
   "source": [
    "# get description fo all images\n",
    "both_artist_image_descriptions = final_get_image_description_labels(both_artist_images)"
   ]
  },
  {
   "cell_type": "code",
   "execution_count": 98,
   "metadata": {},
   "outputs": [],
   "source": [
    "def label_change_artist(comparisons, artist_images):\n",
    "\n",
    "    artist_comparisons = []\n",
    "\n",
    "    for comparison in comparisons:\n",
    "        # Separate the first image name and the second image name\n",
    "        image1, image2 = comparison[0].split(' vs ')\n",
    "        \n",
    "        # Extract the artist names corresponding to the images\n",
    "        artist1 = artist_images[image1]['artist']\n",
    "        artist2 = artist_images[image2]['artist']\n",
    "        \n",
    "        # Create a new key with the artist names instead of image names\n",
    "        new_key = f\"{artist1} vs {artist2}\"\n",
    "        artist_comparisons.append((new_key, comparison[1]))\n",
    "\n",
    "    return artist_comparisons"
   ]
  },
  {
   "cell_type": "code",
   "execution_count": 110,
   "metadata": {},
   "outputs": [],
   "source": [
    "def visualize_comparisons_two_artists(comparisons):\n",
    "    # Extract the image names and differences from the comparisons\n",
    "    image_pairs = [comparison[0] for comparison in comparisons]\n",
    "    differences = [comparison[1] for comparison in comparisons]\n",
    "\n",
    "    # Determine whether each comparison is between images of the same artist or different artists\n",
    "    same_artist = []\n",
    "    for comparison in comparisons:\n",
    "        image1, image2 = comparison[0].split(' vs ')\n",
    "        same_artist.append(image1 == image2)\n",
    "\n",
    "    # Plot the differences\n",
    "    plt.figure(figsize=(10, 6))\n",
    "    colors = ['blue' if same else 'green' for same in same_artist]\n",
    "    plt.scatter(range(len(differences)), differences, c=colors, alpha=0.5)\n",
    "\n",
    "    # Calculate average values for blue and red dots\n",
    "    blue_differences = [diff for same, diff in zip(same_artist, differences) if same]\n",
    "    red_differences = [diff for same, diff in zip(same_artist, differences) if not same]\n",
    "    avg_blue = np.mean(blue_differences)\n",
    "    avg_red = np.mean(red_differences)\n",
    "\n",
    "    # Find the index of the maximum and minimum differences\n",
    "    max_diff_index = np.argmax(differences)\n",
    "    min_diff_index = np.argmin(differences)\n",
    "\n",
    "    # Annotate points with image comparison labels\n",
    "    #for i, (pair, diff) in enumerate(zip(image_pairs, differences)):\n",
    "    #    plt.annotate(pair, (i, diff), textcoords=\"offset points\", xytext=(0, -10), ha='center', fontsize=6)\n",
    "\n",
    "    # Plot horizontal lines for average values\n",
    "    plt.axhline(y=avg_blue, color='blue', linestyle='--', label=f'Avg Blue (Same Artist): {avg_blue:.2f}')\n",
    "    plt.axhline(y=avg_red, color='green', linestyle='--', label=f'Avg Green (Different Artist): {avg_red:.2f}')\n",
    "\n",
    "    # Highlight the points with the lowest and highest similarity scores\n",
    "    #plt.scatter(min_diff_index, differences[min_diff_index], color='green', marker='o', label='Lowest Similarity Score')\n",
    "    #plt.scatter(max_diff_index, differences[max_diff_index], color='orange', marker='o', label='Highest Similarity Score')\n",
    "\n",
    "    plt.legend()\n",
    "\n",
    "    plt.title('Image Comparisons - Same Artist (Blue) vs Different Artists (Green)')\n",
    "    plt.xlabel('Comparison Index - Index of Image Pair being compared') \n",
    "    plt.ylabel('Difference')\n",
    "    plt.xticks(rotation=90)\n",
    "    plt.show()\n",
    "\n",
    "    print(f\"Average value for blue dots (Same Artist): {avg_blue}\")\n",
    "    print(f\"Average value for red dots (Different Artists): {avg_red}\")"
   ]
  },
  {
   "cell_type": "markdown",
   "metadata": {},
   "source": [
    "### *VISUALIZATION"
   ]
  },
  {
   "cell_type": "code",
   "execution_count": 122,
   "metadata": {},
   "outputs": [
    {
     "name": "stdout",
     "output_type": "stream",
     "text": [
      "Most Dissimilar: ('Madonna and Child', 'The Two Fridas')\n",
      "Most Similar: ('The Two Fridas', 'Frieda and Diego Rivera')\n"
     ]
    },
    {
     "data": {
      "image/png": "[encoded data removed]",
      "text/plain": [
       "<Figure size 1000x600 with 1 Axes>"
      ]
     },
     "metadata": {},
     "output_type": "display_data"
    },
    {
     "name": "stdout",
     "output_type": "stream",
     "text": [
      "Average value for blue dots (Same Artist): 82.24496245916002\n",
      "Average value for red dots (Different Artists): 102.59346167459006\n"
     ]
    }
   ],
   "source": [
    "two_artist_total_comparisons, highest_sim_two_artist_total, lowest_sim_two_artist_total = final_calculate_total_image_comparisons(both_artist_image_descriptions, \"bert\")\n",
    "\n",
    "print(\"Most Dissimilar:\", highest_sim_two_artist_total)\n",
    "print(\"Most Similar:\", lowest_sim_two_artist_total)\n",
    "\n",
    "visualize_comparisons_two_artists(label_change_artist(two_artist_total_comparisons, both_artist_images))"
   ]
  },
  {
   "cell_type": "code",
   "execution_count": 124,
   "metadata": {},
   "outputs": [
    {
     "name": "stdout",
     "output_type": "stream",
     "text": [
      "Most Dissimilar: ('Putti, detail from The Sistine Madonna', 'The Two Fridas')\n",
      "Most Similar: ('What the Water Gave Me', 'The Dream (The Bed)')\n"
     ]
    },
    {
     "data": {
      "image/png": "[encoded data removed]",
      "text/plain": [
       "<Figure size 1000x600 with 1 Axes>"
      ]
     },
     "metadata": {},
     "output_type": "display_data"
    },
    {
     "name": "stdout",
     "output_type": "stream",
     "text": [
      "Average value for blue dots (Same Artist): 8.96533093866863\n",
      "Average value for red dots (Different Artists): 13.117973977013117\n"
     ]
    }
   ],
   "source": [
    "two_artist_label_comparisons, highest_sim_two_artist_label, lowest_sim_two_artist_label = final_calculate_label_comparisons(both_artist_image_descriptions, \"Style/Aesthetic\", \"bert\")\n",
    "\n",
    "print(\"Most Dissimilar:\", highest_sim_two_artist_label)\n",
    "print(\"Most Similar:\", lowest_sim_two_artist_label)\n",
    "\n",
    "visualize_comparisons_two_artists(label_change_artist(two_artist_label_comparisons, both_artist_images))"
   ]
  },
  {
   "cell_type": "markdown",
   "metadata": {},
   "source": [
    "### Conclusion - Above Graph provides more domain-specific evidence supporting the efficacy of our model in quantifying images using our similarity function. It underscores the utility of our embeddings in generating tangible results."
   ]
  },
  {
   "cell_type": "markdown",
   "metadata": {},
   "source": [
    "## END: Comparing Images between Different Artists"
   ]
  },
  {
   "cell_type": "markdown",
   "metadata": {},
   "source": [
    "####"
   ]
  },
  {
   "cell_type": "markdown",
   "metadata": {},
   "source": [
    "## START: Comparing Images within a Diverse Subset of Art"
   ]
  },
  {
   "cell_type": "code",
   "execution_count": 64,
   "metadata": {},
   "outputs": [],
   "source": [
    "def get_diverse_images(n):\n",
    "    \n",
    "    base_url = \"https://www.wikiart.org/en/App/Painting/MostViewedPaintings\"\n",
    "\n",
    "    # Define the parameters for the API request\n",
    "    params = {\n",
    "        \"json\": 2,\n",
    "    }\n",
    "\n",
    "    # Send a GET request to the WikiArt API\n",
    "    response = requests.get(base_url, params=params)\n",
    "\n",
    "    # Check that the request was successful\n",
    "    if response.status_code == 200:\n",
    "        # Parse the JSON response\n",
    "        data = response.json()\n",
    "\n",
    "        # Shuffle the list of paintings and select the first n paintings\n",
    "        random.shuffle(data)\n",
    "        selected_paintings = data[:n]\n",
    "\n",
    "        # URLs and years\n",
    "        image_info = {}\n",
    "\n",
    "        # Extract image URLs and years of selected paintings\n",
    "        for painting in selected_paintings:\n",
    "            if is_url_valid(painting[\"image\"]):\n",
    "                image_info[painting[\"title\"]] = {\"url\": painting[\"image\"], \"year\": painting[\"completitionYear\"]}\n",
    "\n",
    "        return image_info\n",
    "\n",
    "    else:\n",
    "        print(f\"Failed to get data from WikiArt API: {response.status_code}\")\n",
    "        return None"
   ]
  },
  {
   "cell_type": "code",
   "execution_count": 90,
   "metadata": {},
   "outputs": [
    {
     "name": "stdout",
     "output_type": "stream",
     "text": [
      "Found 10 diverse images:\n",
      "Metamorphosis III: {'url': 'https://uploads6.wikiart.org/images/m-c-escher/metamorphosis-iii-1968-1.jpg!Large.jpg', 'year': 1968}\n",
      "History of the Black People: {'url': 'https://uploads1.wikiart.org/images/jean-michel-basquiat/history-of-the-black-people.jpg!Large.jpg', 'year': 1983}\n",
      "The old fisherman: {'url': 'https://uploads7.wikiart.org/images/pablo-picasso/the-old-fisherman-1895.jpg!Large.jpg', 'year': 1895}\n",
      "Woman Grinding Maize: {'url': 'https://uploads0.wikiart.org/images/diego-rivera/woman-grinding-maize-1924.jpg!Large.jpg', 'year': 1924}\n",
      "Spirit Of Spring: {'url': 'https://uploads7.wikiart.org/images/alphonse-mucha/spirit-of-spring-1894.jpg!Large.jpg', 'year': 1894}\n",
      "Nestlé`s Food for Infants: {'url': 'https://uploads7.wikiart.org/images/alphonse-mucha/nestlé-s-food-for-infants-1897.jpg!Large.jpg', 'year': 1897}\n",
      "Lorenzaccio: {'url': 'https://uploads2.wikiart.org/images/alphonse-mucha/lorenzaccio-1896.jpg!Large.jpg', 'year': 1896}\n",
      "Ascension: {'url': 'https://uploads3.wikiart.org/images/salvador-dali/ascension.jpg!Large.jpg', 'year': 1958}\n",
      "Irises: {'url': 'https://uploads0.wikiart.org/00213/images/vincent-van-gogh/antique-3840759.jpg!Large.jpg', 'year': 1889}\n",
      "Man's Head, Self Portrait: {'url': 'https://uploads4.wikiart.org/images/lucian-freud/man-s-head-self-portrait-1963.jpg!Large.jpg', 'year': 1963}\n"
     ]
    }
   ],
   "source": [
    "# fetching and printing the diverse set of images\n",
    "\n",
    "diverse_images = get_diverse_images(10)\n",
    "\n",
    "if diverse_images:\n",
    "    print(f\"Found {len(diverse_images)} diverse images:\")\n",
    "    for name, url in diverse_images.items():\n",
    "        print(f\"{name}: {url}\")"
   ]
  },
  {
   "cell_type": "code",
   "execution_count": 100,
   "metadata": {},
   "outputs": [
    {
     "name": "stdout",
     "output_type": "stream",
     "text": [
      "{'Metamorphosis III': {'url': 'https://uploads6.wikiart.org/images/m-c-escher/metamorphosis-iii-1968-1.jpg!Large.jpg', 'year': 1968}, 'History of the Black People': {'url': 'https://uploads1.wikiart.org/images/jean-michel-basquiat/history-of-the-black-people.jpg!Large.jpg', 'year': 1983}, 'The old fisherman': {'url': 'https://uploads7.wikiart.org/images/pablo-picasso/the-old-fisherman-1895.jpg!Large.jpg', 'year': 1895}, 'Woman Grinding Maize': {'url': 'https://uploads0.wikiart.org/images/diego-rivera/woman-grinding-maize-1924.jpg!Large.jpg', 'year': 1924}, 'Spirit Of Spring': {'url': 'https://uploads7.wikiart.org/images/alphonse-mucha/spirit-of-spring-1894.jpg!Large.jpg', 'year': 1894}, 'Nestlé`s Food for Infants': {'url': 'https://uploads7.wikiart.org/images/alphonse-mucha/nestlé-s-food-for-infants-1897.jpg!Large.jpg', 'year': 1897}, 'Lorenzaccio': {'url': 'https://uploads2.wikiart.org/images/alphonse-mucha/lorenzaccio-1896.jpg!Large.jpg', 'year': 1896}, 'Ascension': {'url': 'https://uploads3.wikiart.org/images/salvador-dali/ascension.jpg!Large.jpg', 'year': 1958}, 'Irises': {'url': 'https://uploads0.wikiart.org/00213/images/vincent-van-gogh/antique-3840759.jpg!Large.jpg', 'year': 1889}, \"Man's Head, Self Portrait\": {'url': 'https://uploads4.wikiart.org/images/lucian-freud/man-s-head-self-portrait-1963.jpg!Large.jpg', 'year': 1963}}\n"
     ]
    }
   ],
   "source": [
    "print(diverse_images)"
   ]
  },
  {
   "cell_type": "code",
   "execution_count": 91,
   "metadata": {},
   "outputs": [
    {
     "name": "stdout",
     "output_type": "stream",
     "text": [
      "Image Processed:  1\n",
      "Image Processed:  2\n",
      "Image Processed:  3\n",
      "Image Processed:  4\n",
      "Image Processed:  5\n",
      "Image Processed:  6\n",
      "Image Processed:  7\n",
      "Image Processed:  8\n",
      "Image Processed:  9\n",
      "Image Processed:  10\n"
     ]
    }
   ],
   "source": [
    "diverse_images_descriptions = final_get_image_description_labels(diverse_images)"
   ]
  },
  {
   "cell_type": "code",
   "execution_count": 92,
   "metadata": {},
   "outputs": [],
   "source": [
    "def label_change_index(comparisons, images):\n",
    "\n",
    "    index_comparisons = []\n",
    "\n",
    "    for comparison in comparisons:\n",
    "        # Separate the first image name and the second image name\n",
    "        image1, image2 = comparison[0].split(' vs ')\n",
    "        \n",
    "        # Extract the indices corresponding to the images\n",
    "        index1 = list(images.keys()).index(image1) + 1\n",
    "        index2 = list(images.keys()).index(image2) + 1\n",
    "        \n",
    "        # Create a new key with the indices instead of image names\n",
    "        new_key = f\"{index1} vs {index2}\"\n",
    "        index_comparisons.append((new_key, comparison[1]))\n",
    "\n",
    "    return index_comparisons"
   ]
  },
  {
   "cell_type": "markdown",
   "metadata": {},
   "source": [
    "### *USER INTERACTION"
   ]
  },
  {
   "cell_type": "code",
   "execution_count": 99,
   "metadata": {},
   "outputs": [
    {
     "name": "stdout",
     "output_type": "stream",
     "text": [
      "Most dissimilar images: ('History of the Black People', 'Spirit Of Spring')\n",
      "Most similar images: ('The old fisherman', 'Irises')\n"
     ]
    }
   ],
   "source": [
    "# Default : Total Comparison using BERT\n",
    "\n",
    "diverse_images_comparisons, highest_sim_diverse, lowest_sim_diverse = final_calculate_total_image_comparisons(diverse_images_descriptions, \"bert\")\n",
    "\n",
    "# USER MODIFICATION\n",
    "\n",
    "# Try out different attributes to compare images.\n",
    "# Try out different similarity metrics to compare images.\n",
    "\n",
    "# Uncomment line below to run custom comparison.\n",
    "\n",
    "#diverse_images_comparisons, highest_sim_diverse, lowest_sim_diverse = final_calculate_label_comparisons(diverse_images_descriptions, \"Color Palette\", \"bert\")\n",
    "\n",
    "print(\"Most dissimilar images:\", highest_sim_diverse)\n",
    "print(\"Most similar images:\", lowest_sim_diverse)"
   ]
  },
  {
   "cell_type": "markdown",
   "metadata": {},
   "source": [
    "### * OPTIONAL VISUALIZATION"
   ]
  },
  {
   "cell_type": "code",
   "execution_count": 115,
   "metadata": {},
   "outputs": [],
   "source": [
    "def visualize_comparisons_diverse(comparisons):\n",
    "    # Extract the image names and differences from the comparisons\n",
    "    image_pairs = [comparison[0] for comparison in comparisons]\n",
    "    differences = [comparison[1] for comparison in comparisons]\n",
    "\n",
    "    # Find the index of the maximum and minimum differences\n",
    "    max_diff_index = np.argmax(differences)\n",
    "    min_diff_index = np.argmin(differences)\n",
    "\n",
    "    # Plot the differences\n",
    "    plt.figure(figsize=(10, 6))\n",
    "    plt.scatter(range(len(differences)), differences, c='blue', alpha=0.5)\n",
    "\n",
    "    # Annotate points with image comparison labels\n",
    "    for i, (pair, diff) in enumerate(zip(image_pairs, differences)):\n",
    "        plt.annotate(pair, (i, diff), textcoords=\"offset points\", xytext=(0, -10), ha='center', fontsize=6)\n",
    "\n",
    "    # Plot vertical lines for maximum and minimum differences\n",
    "    plt.axvline(x=max_diff_index, color='red', linestyle='--', label=f'Highest Difference')\n",
    "    plt.axvline(x=min_diff_index, color='green', linestyle='--', label=f'Lowest Difference')\n",
    "\n",
    "    plt.legend()\n",
    "\n",
    "    plt.title('Image Comparisons - Highest and Lowest Similarity Scores')\n",
    "    plt.xlabel('Comparison Index')\n",
    "    plt.ylabel('Difference')\n",
    "    plt.xticks(rotation=90)\n",
    "    plt.show()"
   ]
  },
  {
   "cell_type": "code",
   "execution_count": 106,
   "metadata": {},
   "outputs": [
    {
     "data": {
      "image/png": "[encoded data removed]",
      "text/plain": [
       "<Figure size 1000x600 with 1 Axes>"
      ]
     },
     "metadata": {},
     "output_type": "display_data"
    }
   ],
   "source": [
    "visualize_comparisons_diverse(label_change_index(diverse_images_comparisons, diverse_images))"
   ]
  }
 ],
 "metadata": {
  "kernelspec": {
   "display_name": "Python 3",
   "language": "python",
   "name": "python3"
  },
  "language_info": {
   "codemirror_mode": {
    "name": "ipython",
    "version": 3
   },
   "file_extension": ".py",
   "mimetype": "text/x-python",
   "name": "python",
   "nbconvert_exporter": "python",
   "pygments_lexer": "ipython3",
   "version": "3.12.2"
  }
 },
 "nbformat": 4,
 "nbformat_minor": 2
}
